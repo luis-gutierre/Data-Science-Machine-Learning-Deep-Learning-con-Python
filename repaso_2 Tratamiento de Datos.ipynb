{
 "cells": [
  {
   "cell_type": "markdown",
   "id": "e6009e0b",
   "metadata": {},
   "source": [
    "* [1. Importando librerias](#section1)\n",
    " * [1.1 valores nulos](#section11)\n",
    " * [1.2 nombre de las columnas](#section12)\n",
    " * [1.3 Eliminacion de variables que tienen valores nulos](#section13)\n",
    " * [1.4 Eliminacion de filas que tienen valores nulos](#section14)\n",
    " * [1.5 Visualizar los valores nulos en un grafico](#section15)\n",
    " * [1.6 Tipo de variables](#section16)\n",
    "* [2. Imputacion](#section2)\n",
    " * [2.1 Imputacion df](#section21)\n",
    "  * [2.1.1 Imputacion Forward Fill : series de tiempo](#section211)\n",
    "   * [2.1.1.1 Lo convertimos en un DataFrame](#section2111)\n",
    "   * [2.1.1.2 Agregamos una columna](#section2112)\n",
    "   * [2.1.1.3 Eliminamos una columna](#section2113)\n",
    "   * [2.1.1.4 Unimos dos DataFrame](#section2114)\n",
    "   * [2.1.1.5 Mi DataFrame Final : 'df5'](#section2115)\n",
    "  * [2.1.2 Imputacion Backward Fill : Si la BD esta agrupada por rango de edades](#section212)\n",
    "   * [2.1.2.1 Agregamos una columna](#section2121)\n",
    "   * [2.1.2.2 Mi DataFrame Final : 'df6'](#section2122)\n",
    "  * [2.1.3 Imputacion Media](#section213)\n",
    "   * [2.1.3.1  Agregamos una columna](#section2131)\n",
    "  * [2.1.4 Imputacion Mediana](#section214)\n",
    "   * [2.1.4.1 Agregamos una columna](#section2141)\n",
    "  * [2.1.5 Imputacion Moda](#section215)\n",
    "   * [2.1.5.1 Agregamos una columna](#section2151)\n",
    "  * [2.1.6 Simple Imputer- media](#section216)\n",
    "  * [2.1.7 Simple Imputer- mediana](#section217)\n",
    "  * [2.1.8 Simple Imputer- moda](#section218)\n",
    "* [3. Outliers](#section3)\n",
    " * [3.1 Identifcando valores outliers: Univariado](#section31)\n",
    "  * [3.1.1 Rango Intercuartil](#section311)\n",
    "  * [3.1.2 Puntuacion Z ](#section312)\n",
    " * [3.2 Identificacion de valores outliers :Multivariado](#section32)\n",
    "* [4 cargando DataFrame](#section4)\n",
    " * [4.1 Crear factores categoricos](#section41)\n",
    " * [4.2 Metodos para llevar todos a un Mismo Rango](#section42)\n",
    "   * [4.2.1 Normalizacion Z-Score](#section421)\n",
    "   * [4.2.2 Normalizacion Min-Max](#section422)\n",
    "   * [4.2.3 Escalamiento Decimal](#section423)\n",
    "   * [4.2.4 Normalizacion softmax](#section424)\n",
    "   * [4.2.5 Visualizacion](#section425)\n",
    "* [5 Variables Categoricas y Transfomaciones](#section5)\n",
    " * [5.1 Factores de igual frecuencias](#section51)\n",
    "   * [5.1.1 Variable predictora \"DM\"  lo rankeamos en 10 partes](#section511)\n",
    "   * [5.1.2 Se puede observar que  la varaible predictora \"DM\" toma los valores de [0,9]](#section512)\n",
    "   * [5.1.3 Agrupamos la variable predictora \"DM\"](#section513)\n",
    "     * [5.1.3.1 Conteo de la variable predictora \"DM\"](#section5131)\n",
    " * [5.2 Factores de igual amplietud de intervalos](#section52)\n",
    "   * [5.2.1 Agrupamos la variable predictora \"DM\"](#section521)\n",
    "   * [5.2.2 Conteo de la variable predictora \"DM\"](#section522)\n",
    "    * [5.2.2.1 Conteo de la variable predictora \"DM\"](#section5221)\n",
    "* [6 Transformacion de Variables](#section6)\n",
    "  * [6.1 transformacion \"logaritmica\"](#section61)\n",
    "  * [6.2 transformacion \"exponencial\"](#section62)\n",
    "  * [6.3 transformacion \"box cox\"](#section63)\n",
    "  * [6.4 transformacion \"Yeo-Johnson\"](#section64)\n",
    "* [7 Variables dummy](#section7)"
   ]
  },
  {
   "cell_type": "markdown",
   "id": "b07a6cf4",
   "metadata": {},
   "source": [
    "<a id=\"section1\"></a>\n",
    "## <font color=\"#004D7F\">1. Importando librerias</font>"
   ]
  },
  {
   "cell_type": "code",
   "execution_count": 1,
   "id": "32378ffd",
   "metadata": {},
   "outputs": [],
   "source": [
    "import pandas as pd\n",
    "import numpy as np\n",
    "df=pd.read_csv('Datos_unalm/titanic3.csv')"
   ]
  },
  {
   "cell_type": "code",
   "execution_count": 2,
   "id": "39102365",
   "metadata": {},
   "outputs": [
    {
     "data": {
      "text/html": [
       "<div>\n",
       "<style scoped>\n",
       "    .dataframe tbody tr th:only-of-type {\n",
       "        vertical-align: middle;\n",
       "    }\n",
       "\n",
       "    .dataframe tbody tr th {\n",
       "        vertical-align: top;\n",
       "    }\n",
       "\n",
       "    .dataframe thead th {\n",
       "        text-align: right;\n",
       "    }\n",
       "</style>\n",
       "<table border=\"1\" class=\"dataframe\">\n",
       "  <thead>\n",
       "    <tr style=\"text-align: right;\">\n",
       "      <th></th>\n",
       "      <th>pclass</th>\n",
       "      <th>survived</th>\n",
       "      <th>name</th>\n",
       "      <th>sex</th>\n",
       "      <th>age</th>\n",
       "      <th>sibsp</th>\n",
       "      <th>parch</th>\n",
       "      <th>ticket</th>\n",
       "      <th>fare</th>\n",
       "      <th>cabin</th>\n",
       "      <th>embarked</th>\n",
       "      <th>boat</th>\n",
       "      <th>body</th>\n",
       "      <th>home.dest</th>\n",
       "    </tr>\n",
       "  </thead>\n",
       "  <tbody>\n",
       "    <tr>\n",
       "      <th>0</th>\n",
       "      <td>1</td>\n",
       "      <td>1</td>\n",
       "      <td>Allen, Miss. Elisabeth Walton</td>\n",
       "      <td>female</td>\n",
       "      <td>29.0000</td>\n",
       "      <td>0</td>\n",
       "      <td>0</td>\n",
       "      <td>24160</td>\n",
       "      <td>211.3375</td>\n",
       "      <td>B5</td>\n",
       "      <td>S</td>\n",
       "      <td>2</td>\n",
       "      <td>NaN</td>\n",
       "      <td>St Louis, MO</td>\n",
       "    </tr>\n",
       "    <tr>\n",
       "      <th>1</th>\n",
       "      <td>1</td>\n",
       "      <td>1</td>\n",
       "      <td>Allison, Master. Hudson Trevor</td>\n",
       "      <td>male</td>\n",
       "      <td>0.9167</td>\n",
       "      <td>1</td>\n",
       "      <td>2</td>\n",
       "      <td>113781</td>\n",
       "      <td>151.5500</td>\n",
       "      <td>C22 C26</td>\n",
       "      <td>S</td>\n",
       "      <td>11</td>\n",
       "      <td>NaN</td>\n",
       "      <td>Montreal, PQ / Chesterville, ON</td>\n",
       "    </tr>\n",
       "    <tr>\n",
       "      <th>2</th>\n",
       "      <td>1</td>\n",
       "      <td>0</td>\n",
       "      <td>Allison, Miss. Helen Loraine</td>\n",
       "      <td>female</td>\n",
       "      <td>2.0000</td>\n",
       "      <td>1</td>\n",
       "      <td>2</td>\n",
       "      <td>113781</td>\n",
       "      <td>151.5500</td>\n",
       "      <td>C22 C26</td>\n",
       "      <td>S</td>\n",
       "      <td>NaN</td>\n",
       "      <td>NaN</td>\n",
       "      <td>Montreal, PQ / Chesterville, ON</td>\n",
       "    </tr>\n",
       "    <tr>\n",
       "      <th>3</th>\n",
       "      <td>1</td>\n",
       "      <td>0</td>\n",
       "      <td>Allison, Mr. Hudson Joshua Creighton</td>\n",
       "      <td>male</td>\n",
       "      <td>30.0000</td>\n",
       "      <td>1</td>\n",
       "      <td>2</td>\n",
       "      <td>113781</td>\n",
       "      <td>151.5500</td>\n",
       "      <td>C22 C26</td>\n",
       "      <td>S</td>\n",
       "      <td>NaN</td>\n",
       "      <td>135.0</td>\n",
       "      <td>Montreal, PQ / Chesterville, ON</td>\n",
       "    </tr>\n",
       "  </tbody>\n",
       "</table>\n",
       "</div>"
      ],
      "text/plain": [
       "   pclass  survived                                  name     sex      age  \\\n",
       "0       1         1         Allen, Miss. Elisabeth Walton  female  29.0000   \n",
       "1       1         1        Allison, Master. Hudson Trevor    male   0.9167   \n",
       "2       1         0          Allison, Miss. Helen Loraine  female   2.0000   \n",
       "3       1         0  Allison, Mr. Hudson Joshua Creighton    male  30.0000   \n",
       "\n",
       "   sibsp  parch  ticket      fare    cabin embarked boat   body  \\\n",
       "0      0      0   24160  211.3375       B5        S    2    NaN   \n",
       "1      1      2  113781  151.5500  C22 C26        S   11    NaN   \n",
       "2      1      2  113781  151.5500  C22 C26        S  NaN    NaN   \n",
       "3      1      2  113781  151.5500  C22 C26        S  NaN  135.0   \n",
       "\n",
       "                         home.dest  \n",
       "0                     St Louis, MO  \n",
       "1  Montreal, PQ / Chesterville, ON  \n",
       "2  Montreal, PQ / Chesterville, ON  \n",
       "3  Montreal, PQ / Chesterville, ON  "
      ]
     },
     "execution_count": 2,
     "metadata": {},
     "output_type": "execute_result"
    }
   ],
   "source": [
    "df.head(4)"
   ]
  },
  {
   "cell_type": "markdown",
   "id": "66676bb0",
   "metadata": {},
   "source": [
    "<a id=\"section11\"></a>\n",
    "## <font color=\"#004D7F\">1.1 valores nulos</font>"
   ]
  },
  {
   "cell_type": "code",
   "execution_count": 3,
   "id": "5398436c",
   "metadata": {},
   "outputs": [
    {
     "data": {
      "text/plain": [
       "pclass          0\n",
       "survived        0\n",
       "name            0\n",
       "sex             0\n",
       "age           263\n",
       "sibsp           0\n",
       "parch           0\n",
       "ticket          0\n",
       "fare            1\n",
       "cabin        1014\n",
       "embarked        2\n",
       "boat          823\n",
       "body         1188\n",
       "home.dest     564\n",
       "dtype: int64"
      ]
     },
     "execution_count": 3,
     "metadata": {},
     "output_type": "execute_result"
    }
   ],
   "source": [
    "df.isnull().sum()"
   ]
  },
  {
   "cell_type": "markdown",
   "id": "7a8cac76",
   "metadata": {},
   "source": [
    "<a id=\"section12\"></a>\n",
    "## <font color=\"#004D7F\">1.2 nombre de las columnas</font>"
   ]
  },
  {
   "cell_type": "code",
   "execution_count": 4,
   "id": "da139b40",
   "metadata": {},
   "outputs": [
    {
     "data": {
      "text/plain": [
       "Index(['pclass', 'survived', 'name', 'sex', 'age', 'sibsp', 'parch', 'ticket',\n",
       "       'fare', 'cabin', 'embarked', 'boat', 'body', 'home.dest'],\n",
       "      dtype='object')"
      ]
     },
     "execution_count": 4,
     "metadata": {},
     "output_type": "execute_result"
    }
   ],
   "source": [
    "df.columns"
   ]
  },
  {
   "cell_type": "markdown",
   "id": "954dd147",
   "metadata": {},
   "source": [
    "<a id=\"section13\"></a>\n",
    "## <font color=\"#004D7F\">1.3 Eliminacion de variables que tienen valores nulos</font>"
   ]
  },
  {
   "cell_type": "code",
   "execution_count": 5,
   "id": "6bfc239a",
   "metadata": {},
   "outputs": [],
   "source": [
    "df1=df.dropna(axis=1)"
   ]
  },
  {
   "cell_type": "code",
   "execution_count": 6,
   "id": "00729030",
   "metadata": {},
   "outputs": [
    {
     "data": {
      "text/plain": [
       "pclass      0\n",
       "survived    0\n",
       "name        0\n",
       "sex         0\n",
       "sibsp       0\n",
       "parch       0\n",
       "ticket      0\n",
       "dtype: int64"
      ]
     },
     "execution_count": 6,
     "metadata": {},
     "output_type": "execute_result"
    }
   ],
   "source": [
    "df1.isnull().sum()"
   ]
  },
  {
   "cell_type": "code",
   "execution_count": 7,
   "id": "782a9b0c",
   "metadata": {},
   "outputs": [
    {
     "data": {
      "text/plain": [
       "(1309, 7)"
      ]
     },
     "execution_count": 7,
     "metadata": {},
     "output_type": "execute_result"
    }
   ],
   "source": [
    "df1.shape"
   ]
  },
  {
   "cell_type": "markdown",
   "id": "d7e51c3b",
   "metadata": {},
   "source": [
    "<a id=\"section14\"></a>\n",
    "## <font color=\"#004D7F\">1.4 Eliminacion de filas que tienen valores nulos</font>"
   ]
  },
  {
   "cell_type": "code",
   "execution_count": 8,
   "id": "da9e9ff7",
   "metadata": {},
   "outputs": [],
   "source": [
    "df2=df1.dropna(axis=0)"
   ]
  },
  {
   "cell_type": "code",
   "execution_count": 9,
   "id": "5d14a97c",
   "metadata": {},
   "outputs": [
    {
     "data": {
      "text/plain": [
       "pclass      0\n",
       "survived    0\n",
       "name        0\n",
       "sex         0\n",
       "sibsp       0\n",
       "parch       0\n",
       "ticket      0\n",
       "dtype: int64"
      ]
     },
     "execution_count": 9,
     "metadata": {},
     "output_type": "execute_result"
    }
   ],
   "source": [
    "df2.isnull().sum()"
   ]
  },
  {
   "cell_type": "code",
   "execution_count": 10,
   "id": "3f9dd2eb",
   "metadata": {},
   "outputs": [
    {
     "data": {
      "text/plain": [
       "(1309, 7)"
      ]
     },
     "execution_count": 10,
     "metadata": {},
     "output_type": "execute_result"
    }
   ],
   "source": [
    "df2.shape"
   ]
  },
  {
   "cell_type": "markdown",
   "id": "69226df4",
   "metadata": {},
   "source": [
    "<a id=\"section15\"></a>\n",
    "## <font color=\"#004D7F\">1.5 Visualizar los valores nulos en un grafico</font>"
   ]
  },
  {
   "cell_type": "code",
   "execution_count": 11,
   "id": "c8e317a9",
   "metadata": {},
   "outputs": [],
   "source": [
    "import missingno as msno"
   ]
  },
  {
   "cell_type": "code",
   "execution_count": 12,
   "id": "4e4dcbb7",
   "metadata": {},
   "outputs": [
    {
     "data": {
      "text/plain": [
       "<AxesSubplot:>"
      ]
     },
     "execution_count": 12,
     "metadata": {},
     "output_type": "execute_result"
    },
    {
     "data": {
      "image/png": "[encoded data removed]",
      "text/plain": [
       "<Figure size 1800x720 with 2 Axes>"
      ]
     },
     "metadata": {
      "needs_background": "light"
     },
     "output_type": "display_data"
    }
   ],
   "source": [
    "msno.matrix(df2)"
   ]
  },
  {
   "cell_type": "code",
   "execution_count": 13,
   "id": "960f62af",
   "metadata": {},
   "outputs": [
    {
     "data": {
      "text/plain": [
       "<AxesSubplot:>"
      ]
     },
     "execution_count": 13,
     "metadata": {},
     "output_type": "execute_result"
    },
    {
     "data": {
      "image/png": "[encoded data removed]",
      "text/plain": [
       "<Figure size 1800x720 with 3 Axes>"
      ]
     },
     "metadata": {
      "needs_background": "light"
     },
     "output_type": "display_data"
    }
   ],
   "source": [
    "msno.bar(df2)"
   ]
  },
  {
   "cell_type": "markdown",
   "id": "f29c472b",
   "metadata": {},
   "source": [
    "### Comentario:\n",
    "#### Se puede observar que no hay valores nulos"
   ]
  },
  {
   "cell_type": "markdown",
   "id": "634773a9",
   "metadata": {},
   "source": [
    "<a id=\"section16\"></a>\n",
    "## <font color=\"#004D7F\">1.6 Tipo de variables</font>"
   ]
  },
  {
   "cell_type": "code",
   "execution_count": 14,
   "id": "b3dfe3b7",
   "metadata": {},
   "outputs": [
    {
     "name": "stdout",
     "output_type": "stream",
     "text": [
      "<class 'pandas.core.frame.DataFrame'>\n",
      "Int64Index: 1309 entries, 0 to 1308\n",
      "Data columns (total 7 columns):\n",
      " #   Column    Non-Null Count  Dtype \n",
      "---  ------    --------------  ----- \n",
      " 0   pclass    1309 non-null   int64 \n",
      " 1   survived  1309 non-null   int64 \n",
      " 2   name      1309 non-null   object\n",
      " 3   sex       1309 non-null   object\n",
      " 4   sibsp     1309 non-null   int64 \n",
      " 5   parch     1309 non-null   int64 \n",
      " 6   ticket    1309 non-null   object\n",
      "dtypes: int64(4), object(3)\n",
      "memory usage: 81.8+ KB\n"
     ]
    }
   ],
   "source": [
    "df2.info()"
   ]
  },
  {
   "cell_type": "code",
   "execution_count": 15,
   "id": "33483d0b",
   "metadata": {},
   "outputs": [
    {
     "data": {
      "text/plain": [
       "pclass       int64\n",
       "survived     int64\n",
       "name        object\n",
       "sex         object\n",
       "sibsp        int64\n",
       "parch        int64\n",
       "ticket      object\n",
       "dtype: object"
      ]
     },
     "execution_count": 15,
     "metadata": {},
     "output_type": "execute_result"
    }
   ],
   "source": [
    "df2.dtypes"
   ]
  },
  {
   "cell_type": "code",
   "execution_count": 16,
   "id": "4763e59c",
   "metadata": {},
   "outputs": [
    {
     "name": "stderr",
     "output_type": "stream",
     "text": [
      "C:\\ProgramData\\Anaconda3\\lib\\site-packages\\seaborn\\matrix.py:305: UserWarning: Attempting to set identical left == right == 0 results in singular transformations; automatically expanding.\n",
      "  ax.set(xlim=(0, self.data.shape[1]), ylim=(0, self.data.shape[0]))\n",
      "C:\\ProgramData\\Anaconda3\\lib\\site-packages\\seaborn\\matrix.py:305: UserWarning: Attempting to set identical bottom == top == 0 results in singular transformations; automatically expanding.\n",
      "  ax.set(xlim=(0, self.data.shape[1]), ylim=(0, self.data.shape[0]))\n"
     ]
    },
    {
     "data": {
      "text/plain": [
       "<AxesSubplot:>"
      ]
     },
     "execution_count": 16,
     "metadata": {},
     "output_type": "execute_result"
    },
    {
     "data": {
      "image/png": "[encoded data removed]",
      "text/plain": [
       "<Figure size 1440x864 with 2 Axes>"
      ]
     },
     "metadata": {
      "needs_background": "light"
     },
     "output_type": "display_data"
    }
   ],
   "source": [
    "msno.heatmap(df2)"
   ]
  },
  {
   "cell_type": "markdown",
   "id": "94d7e327",
   "metadata": {},
   "source": [
    "### Comentario:\n",
    "#### Se puede observar que entre las variables no hay correlacion"
   ]
  },
  {
   "cell_type": "code",
   "execution_count": 17,
   "id": "07a92eaf",
   "metadata": {},
   "outputs": [
    {
     "data": {
      "text/plain": [
       "<AxesSubplot:>"
      ]
     },
     "execution_count": 17,
     "metadata": {},
     "output_type": "execute_result"
    },
    {
     "data": {
      "image/png": "[encoded data removed]",
      "text/plain": [
       "<Figure size 1440x864 with 2 Axes>"
      ]
     },
     "metadata": {
      "needs_background": "light"
     },
     "output_type": "display_data"
    }
   ],
   "source": [
    "msno.heatmap(df)"
   ]
  },
  {
   "cell_type": "markdown",
   "id": "4714e2d9",
   "metadata": {},
   "source": [
    "### Comentario:\n",
    "#### Se puede observar que entre las variables  hay correlacion(esta data era el inicio)"
   ]
  },
  {
   "cell_type": "markdown",
   "id": "e66483e6",
   "metadata": {},
   "source": [
    "<a id=\"section2\"></a>\n",
    "## <font color=\"#004D7F\">2. Imputacion</font>"
   ]
  },
  {
   "cell_type": "code",
   "execution_count": 18,
   "id": "a0d62a37",
   "metadata": {},
   "outputs": [
    {
     "data": {
      "text/plain": [
       "Index(['pclass', 'survived', 'name', 'sex', 'sibsp', 'parch', 'ticket'], dtype='object')"
      ]
     },
     "execution_count": 18,
     "metadata": {},
     "output_type": "execute_result"
    }
   ],
   "source": [
    "df2.columns"
   ]
  },
  {
   "cell_type": "code",
   "execution_count": 19,
   "id": "a9757e66",
   "metadata": {},
   "outputs": [
    {
     "data": {
      "text/plain": [
       "pclass      0\n",
       "survived    0\n",
       "name        0\n",
       "sex         0\n",
       "sibsp       0\n",
       "parch       0\n",
       "ticket      0\n",
       "dtype: int64"
      ]
     },
     "execution_count": 19,
     "metadata": {},
     "output_type": "execute_result"
    }
   ],
   "source": [
    "df2.isnull().sum()"
   ]
  },
  {
   "cell_type": "markdown",
   "id": "05cd6b1d",
   "metadata": {},
   "source": [
    "<a id=\"section21\"></a>\n",
    "## <font color=\"#004D7F\">2.1 Imputacion df</font>"
   ]
  },
  {
   "cell_type": "code",
   "execution_count": 20,
   "id": "339b44e2",
   "metadata": {},
   "outputs": [
    {
     "data": {
      "text/plain": [
       "pclass          0\n",
       "survived        0\n",
       "name            0\n",
       "sex             0\n",
       "age           263\n",
       "sibsp           0\n",
       "parch           0\n",
       "ticket          0\n",
       "fare            1\n",
       "cabin        1014\n",
       "embarked        2\n",
       "boat          823\n",
       "body         1188\n",
       "home.dest     564\n",
       "dtype: int64"
      ]
     },
     "execution_count": 20,
     "metadata": {},
     "output_type": "execute_result"
    }
   ],
   "source": [
    "df.isnull().sum()"
   ]
  },
  {
   "cell_type": "markdown",
   "id": "8b17223d",
   "metadata": {},
   "source": [
    "<a id=\"section211\"></a>\n",
    "## <font color=\"#004D7F\">2.1.1 Imputacion Forward Fill : series de tiempo</font>"
   ]
  },
  {
   "cell_type": "code",
   "execution_count": 21,
   "id": "e231695c",
   "metadata": {},
   "outputs": [],
   "source": [
    "df3=df"
   ]
  },
  {
   "cell_type": "code",
   "execution_count": 22,
   "id": "947911c5",
   "metadata": {},
   "outputs": [
    {
     "data": {
      "text/html": [
       "<div>\n",
       "<style scoped>\n",
       "    .dataframe tbody tr th:only-of-type {\n",
       "        vertical-align: middle;\n",
       "    }\n",
       "\n",
       "    .dataframe tbody tr th {\n",
       "        vertical-align: top;\n",
       "    }\n",
       "\n",
       "    .dataframe thead th {\n",
       "        text-align: right;\n",
       "    }\n",
       "</style>\n",
       "<table border=\"1\" class=\"dataframe\">\n",
       "  <thead>\n",
       "    <tr style=\"text-align: right;\">\n",
       "      <th></th>\n",
       "      <th>pclass</th>\n",
       "      <th>survived</th>\n",
       "      <th>name</th>\n",
       "      <th>sex</th>\n",
       "      <th>age</th>\n",
       "      <th>sibsp</th>\n",
       "      <th>parch</th>\n",
       "      <th>ticket</th>\n",
       "      <th>fare</th>\n",
       "      <th>cabin</th>\n",
       "      <th>embarked</th>\n",
       "      <th>boat</th>\n",
       "      <th>body</th>\n",
       "      <th>home.dest</th>\n",
       "    </tr>\n",
       "  </thead>\n",
       "  <tbody>\n",
       "    <tr>\n",
       "      <th>0</th>\n",
       "      <td>1</td>\n",
       "      <td>1</td>\n",
       "      <td>Allen, Miss. Elisabeth Walton</td>\n",
       "      <td>female</td>\n",
       "      <td>29.0000</td>\n",
       "      <td>0</td>\n",
       "      <td>0</td>\n",
       "      <td>24160</td>\n",
       "      <td>211.3375</td>\n",
       "      <td>B5</td>\n",
       "      <td>S</td>\n",
       "      <td>2</td>\n",
       "      <td>NaN</td>\n",
       "      <td>St Louis, MO</td>\n",
       "    </tr>\n",
       "    <tr>\n",
       "      <th>1</th>\n",
       "      <td>1</td>\n",
       "      <td>1</td>\n",
       "      <td>Allison, Master. Hudson Trevor</td>\n",
       "      <td>male</td>\n",
       "      <td>0.9167</td>\n",
       "      <td>1</td>\n",
       "      <td>2</td>\n",
       "      <td>113781</td>\n",
       "      <td>151.5500</td>\n",
       "      <td>C22 C26</td>\n",
       "      <td>S</td>\n",
       "      <td>11</td>\n",
       "      <td>NaN</td>\n",
       "      <td>Montreal, PQ / Chesterville, ON</td>\n",
       "    </tr>\n",
       "    <tr>\n",
       "      <th>2</th>\n",
       "      <td>1</td>\n",
       "      <td>0</td>\n",
       "      <td>Allison, Miss. Helen Loraine</td>\n",
       "      <td>female</td>\n",
       "      <td>2.0000</td>\n",
       "      <td>1</td>\n",
       "      <td>2</td>\n",
       "      <td>113781</td>\n",
       "      <td>151.5500</td>\n",
       "      <td>C22 C26</td>\n",
       "      <td>S</td>\n",
       "      <td>NaN</td>\n",
       "      <td>NaN</td>\n",
       "      <td>Montreal, PQ / Chesterville, ON</td>\n",
       "    </tr>\n",
       "    <tr>\n",
       "      <th>3</th>\n",
       "      <td>1</td>\n",
       "      <td>0</td>\n",
       "      <td>Allison, Mr. Hudson Joshua Creighton</td>\n",
       "      <td>male</td>\n",
       "      <td>30.0000</td>\n",
       "      <td>1</td>\n",
       "      <td>2</td>\n",
       "      <td>113781</td>\n",
       "      <td>151.5500</td>\n",
       "      <td>C22 C26</td>\n",
       "      <td>S</td>\n",
       "      <td>NaN</td>\n",
       "      <td>135.0</td>\n",
       "      <td>Montreal, PQ / Chesterville, ON</td>\n",
       "    </tr>\n",
       "  </tbody>\n",
       "</table>\n",
       "</div>"
      ],
      "text/plain": [
       "   pclass  survived                                  name     sex      age  \\\n",
       "0       1         1         Allen, Miss. Elisabeth Walton  female  29.0000   \n",
       "1       1         1        Allison, Master. Hudson Trevor    male   0.9167   \n",
       "2       1         0          Allison, Miss. Helen Loraine  female   2.0000   \n",
       "3       1         0  Allison, Mr. Hudson Joshua Creighton    male  30.0000   \n",
       "\n",
       "   sibsp  parch  ticket      fare    cabin embarked boat   body  \\\n",
       "0      0      0   24160  211.3375       B5        S    2    NaN   \n",
       "1      1      2  113781  151.5500  C22 C26        S   11    NaN   \n",
       "2      1      2  113781  151.5500  C22 C26        S  NaN    NaN   \n",
       "3      1      2  113781  151.5500  C22 C26        S  NaN  135.0   \n",
       "\n",
       "                         home.dest  \n",
       "0                     St Louis, MO  \n",
       "1  Montreal, PQ / Chesterville, ON  \n",
       "2  Montreal, PQ / Chesterville, ON  \n",
       "3  Montreal, PQ / Chesterville, ON  "
      ]
     },
     "execution_count": 22,
     "metadata": {},
     "output_type": "execute_result"
    }
   ],
   "source": [
    "df3.head(4)"
   ]
  },
  {
   "cell_type": "code",
   "execution_count": 23,
   "id": "219a81da",
   "metadata": {},
   "outputs": [
    {
     "data": {
      "text/plain": [
       "Index(['pclass', 'survived', 'name', 'sex', 'age', 'sibsp', 'parch', 'ticket',\n",
       "       'fare', 'cabin', 'embarked', 'boat', 'body', 'home.dest'],\n",
       "      dtype='object')"
      ]
     },
     "execution_count": 23,
     "metadata": {},
     "output_type": "execute_result"
    }
   ],
   "source": [
    "df3.columns"
   ]
  },
  {
   "cell_type": "markdown",
   "id": "f6ea844d",
   "metadata": {},
   "source": [
    "#### ¿Cuantos valores hay?"
   ]
  },
  {
   "cell_type": "code",
   "execution_count": 24,
   "id": "88a9d0b2",
   "metadata": {},
   "outputs": [
    {
     "data": {
      "text/plain": [
       "263"
      ]
     },
     "execution_count": 24,
     "metadata": {},
     "output_type": "execute_result"
    }
   ],
   "source": [
    "df3.age.isnull().sum()"
   ]
  },
  {
   "cell_type": "markdown",
   "id": "60b1d672",
   "metadata": {},
   "source": [
    "#### imputacion forward Fill :Series de tiempo"
   ]
  },
  {
   "cell_type": "code",
   "execution_count": 25,
   "id": "deebd337",
   "metadata": {},
   "outputs": [
    {
     "data": {
      "text/plain": [
       "0       29.0000\n",
       "1        0.9167\n",
       "2        2.0000\n",
       "3       30.0000\n",
       "4       25.0000\n",
       "         ...   \n",
       "1304    14.5000\n",
       "1305    14.5000\n",
       "1306    26.5000\n",
       "1307    27.0000\n",
       "1308    29.0000\n",
       "Name: age, Length: 1309, dtype: float64"
      ]
     },
     "execution_count": 25,
     "metadata": {},
     "output_type": "execute_result"
    }
   ],
   "source": [
    "df4=df3['age'].fillna(method='ffill')\n",
    "df4"
   ]
  },
  {
   "cell_type": "markdown",
   "id": "ffa7e9fd",
   "metadata": {},
   "source": [
    "<a id=\"section2111\"></a>\n",
    "## <font color=\"#004D7F\">2.1.1.1 Lo convertimos en un DataFrame </font>\n"
   ]
  },
  {
   "cell_type": "code",
   "execution_count": 26,
   "id": "e0751417",
   "metadata": {},
   "outputs": [],
   "source": [
    "df4=pd.DataFrame(df4)"
   ]
  },
  {
   "cell_type": "code",
   "execution_count": 27,
   "id": "24a3b593",
   "metadata": {},
   "outputs": [
    {
     "data": {
      "text/html": [
       "<div>\n",
       "<style scoped>\n",
       "    .dataframe tbody tr th:only-of-type {\n",
       "        vertical-align: middle;\n",
       "    }\n",
       "\n",
       "    .dataframe tbody tr th {\n",
       "        vertical-align: top;\n",
       "    }\n",
       "\n",
       "    .dataframe thead th {\n",
       "        text-align: right;\n",
       "    }\n",
       "</style>\n",
       "<table border=\"1\" class=\"dataframe\">\n",
       "  <thead>\n",
       "    <tr style=\"text-align: right;\">\n",
       "      <th></th>\n",
       "      <th>age</th>\n",
       "    </tr>\n",
       "  </thead>\n",
       "  <tbody>\n",
       "    <tr>\n",
       "      <th>0</th>\n",
       "      <td>29.0000</td>\n",
       "    </tr>\n",
       "    <tr>\n",
       "      <th>1</th>\n",
       "      <td>0.9167</td>\n",
       "    </tr>\n",
       "    <tr>\n",
       "      <th>2</th>\n",
       "      <td>2.0000</td>\n",
       "    </tr>\n",
       "    <tr>\n",
       "      <th>3</th>\n",
       "      <td>30.0000</td>\n",
       "    </tr>\n",
       "    <tr>\n",
       "      <th>4</th>\n",
       "      <td>25.0000</td>\n",
       "    </tr>\n",
       "  </tbody>\n",
       "</table>\n",
       "</div>"
      ],
      "text/plain": [
       "       age\n",
       "0  29.0000\n",
       "1   0.9167\n",
       "2   2.0000\n",
       "3  30.0000\n",
       "4  25.0000"
      ]
     },
     "execution_count": 27,
     "metadata": {},
     "output_type": "execute_result"
    }
   ],
   "source": [
    "\n",
    "df4.head(5)"
   ]
  },
  {
   "cell_type": "markdown",
   "id": "ed8f1987",
   "metadata": {},
   "source": [
    "<a id=\"section2112\"></a>\n",
    "## <font color=\"#004D7F\">2.1.1.2 Agregamos una columna </font>\n"
   ]
  },
  {
   "cell_type": "code",
   "execution_count": 28,
   "id": "6b894bf8",
   "metadata": {},
   "outputs": [],
   "source": [
    "df4['age1']=df4['age']"
   ]
  },
  {
   "cell_type": "code",
   "execution_count": 29,
   "id": "197a36c9",
   "metadata": {},
   "outputs": [
    {
     "data": {
      "text/html": [
       "<div>\n",
       "<style scoped>\n",
       "    .dataframe tbody tr th:only-of-type {\n",
       "        vertical-align: middle;\n",
       "    }\n",
       "\n",
       "    .dataframe tbody tr th {\n",
       "        vertical-align: top;\n",
       "    }\n",
       "\n",
       "    .dataframe thead th {\n",
       "        text-align: right;\n",
       "    }\n",
       "</style>\n",
       "<table border=\"1\" class=\"dataframe\">\n",
       "  <thead>\n",
       "    <tr style=\"text-align: right;\">\n",
       "      <th></th>\n",
       "      <th>age</th>\n",
       "      <th>age1</th>\n",
       "    </tr>\n",
       "  </thead>\n",
       "  <tbody>\n",
       "    <tr>\n",
       "      <th>0</th>\n",
       "      <td>29.0000</td>\n",
       "      <td>29.0000</td>\n",
       "    </tr>\n",
       "    <tr>\n",
       "      <th>1</th>\n",
       "      <td>0.9167</td>\n",
       "      <td>0.9167</td>\n",
       "    </tr>\n",
       "    <tr>\n",
       "      <th>2</th>\n",
       "      <td>2.0000</td>\n",
       "      <td>2.0000</td>\n",
       "    </tr>\n",
       "    <tr>\n",
       "      <th>3</th>\n",
       "      <td>30.0000</td>\n",
       "      <td>30.0000</td>\n",
       "    </tr>\n",
       "    <tr>\n",
       "      <th>4</th>\n",
       "      <td>25.0000</td>\n",
       "      <td>25.0000</td>\n",
       "    </tr>\n",
       "  </tbody>\n",
       "</table>\n",
       "</div>"
      ],
      "text/plain": [
       "       age     age1\n",
       "0  29.0000  29.0000\n",
       "1   0.9167   0.9167\n",
       "2   2.0000   2.0000\n",
       "3  30.0000  30.0000\n",
       "4  25.0000  25.0000"
      ]
     },
     "execution_count": 29,
     "metadata": {},
     "output_type": "execute_result"
    }
   ],
   "source": [
    "df4.head(5)"
   ]
  },
  {
   "cell_type": "markdown",
   "id": "d64c9b69",
   "metadata": {},
   "source": [
    "<a id=\"section2113\"></a>\n",
    "## <font color=\"#004D7F\">2.1.1.3 Eliminamos una columna </font>"
   ]
  },
  {
   "cell_type": "code",
   "execution_count": 30,
   "id": "52e2d15d",
   "metadata": {},
   "outputs": [],
   "source": [
    "df4=df4.drop(['age'],axis=1)"
   ]
  },
  {
   "cell_type": "code",
   "execution_count": 31,
   "id": "5496a411",
   "metadata": {},
   "outputs": [
    {
     "data": {
      "text/html": [
       "<div>\n",
       "<style scoped>\n",
       "    .dataframe tbody tr th:only-of-type {\n",
       "        vertical-align: middle;\n",
       "    }\n",
       "\n",
       "    .dataframe tbody tr th {\n",
       "        vertical-align: top;\n",
       "    }\n",
       "\n",
       "    .dataframe thead th {\n",
       "        text-align: right;\n",
       "    }\n",
       "</style>\n",
       "<table border=\"1\" class=\"dataframe\">\n",
       "  <thead>\n",
       "    <tr style=\"text-align: right;\">\n",
       "      <th></th>\n",
       "      <th>age1</th>\n",
       "    </tr>\n",
       "  </thead>\n",
       "  <tbody>\n",
       "    <tr>\n",
       "      <th>0</th>\n",
       "      <td>29.0000</td>\n",
       "    </tr>\n",
       "    <tr>\n",
       "      <th>1</th>\n",
       "      <td>0.9167</td>\n",
       "    </tr>\n",
       "    <tr>\n",
       "      <th>2</th>\n",
       "      <td>2.0000</td>\n",
       "    </tr>\n",
       "    <tr>\n",
       "      <th>3</th>\n",
       "      <td>30.0000</td>\n",
       "    </tr>\n",
       "    <tr>\n",
       "      <th>4</th>\n",
       "      <td>25.0000</td>\n",
       "    </tr>\n",
       "  </tbody>\n",
       "</table>\n",
       "</div>"
      ],
      "text/plain": [
       "      age1\n",
       "0  29.0000\n",
       "1   0.9167\n",
       "2   2.0000\n",
       "3  30.0000\n",
       "4  25.0000"
      ]
     },
     "execution_count": 31,
     "metadata": {},
     "output_type": "execute_result"
    }
   ],
   "source": [
    "df4.head(5)"
   ]
  },
  {
   "cell_type": "markdown",
   "id": "64e91e76",
   "metadata": {},
   "source": [
    "<a id=\"section2114\"></a>\n",
    "## <font color=\"#004D7F\">2.1.1.4 Unimos dos DataFrame </font>"
   ]
  },
  {
   "cell_type": "code",
   "execution_count": 32,
   "id": "43b6b863",
   "metadata": {},
   "outputs": [],
   "source": [
    "df5=pd.concat([df3,df4],axis=1)"
   ]
  },
  {
   "cell_type": "code",
   "execution_count": 33,
   "id": "da5bd79d",
   "metadata": {},
   "outputs": [
    {
     "data": {
      "text/html": [
       "<div>\n",
       "<style scoped>\n",
       "    .dataframe tbody tr th:only-of-type {\n",
       "        vertical-align: middle;\n",
       "    }\n",
       "\n",
       "    .dataframe tbody tr th {\n",
       "        vertical-align: top;\n",
       "    }\n",
       "\n",
       "    .dataframe thead th {\n",
       "        text-align: right;\n",
       "    }\n",
       "</style>\n",
       "<table border=\"1\" class=\"dataframe\">\n",
       "  <thead>\n",
       "    <tr style=\"text-align: right;\">\n",
       "      <th></th>\n",
       "      <th>pclass</th>\n",
       "      <th>survived</th>\n",
       "      <th>name</th>\n",
       "      <th>sex</th>\n",
       "      <th>age</th>\n",
       "      <th>sibsp</th>\n",
       "      <th>parch</th>\n",
       "      <th>ticket</th>\n",
       "      <th>fare</th>\n",
       "      <th>cabin</th>\n",
       "      <th>embarked</th>\n",
       "      <th>boat</th>\n",
       "      <th>body</th>\n",
       "      <th>home.dest</th>\n",
       "      <th>age1</th>\n",
       "    </tr>\n",
       "  </thead>\n",
       "  <tbody>\n",
       "    <tr>\n",
       "      <th>0</th>\n",
       "      <td>1</td>\n",
       "      <td>1</td>\n",
       "      <td>Allen, Miss. Elisabeth Walton</td>\n",
       "      <td>female</td>\n",
       "      <td>29.0000</td>\n",
       "      <td>0</td>\n",
       "      <td>0</td>\n",
       "      <td>24160</td>\n",
       "      <td>211.3375</td>\n",
       "      <td>B5</td>\n",
       "      <td>S</td>\n",
       "      <td>2</td>\n",
       "      <td>NaN</td>\n",
       "      <td>St Louis, MO</td>\n",
       "      <td>29.0000</td>\n",
       "    </tr>\n",
       "    <tr>\n",
       "      <th>1</th>\n",
       "      <td>1</td>\n",
       "      <td>1</td>\n",
       "      <td>Allison, Master. Hudson Trevor</td>\n",
       "      <td>male</td>\n",
       "      <td>0.9167</td>\n",
       "      <td>1</td>\n",
       "      <td>2</td>\n",
       "      <td>113781</td>\n",
       "      <td>151.5500</td>\n",
       "      <td>C22 C26</td>\n",
       "      <td>S</td>\n",
       "      <td>11</td>\n",
       "      <td>NaN</td>\n",
       "      <td>Montreal, PQ / Chesterville, ON</td>\n",
       "      <td>0.9167</td>\n",
       "    </tr>\n",
       "    <tr>\n",
       "      <th>2</th>\n",
       "      <td>1</td>\n",
       "      <td>0</td>\n",
       "      <td>Allison, Miss. Helen Loraine</td>\n",
       "      <td>female</td>\n",
       "      <td>2.0000</td>\n",
       "      <td>1</td>\n",
       "      <td>2</td>\n",
       "      <td>113781</td>\n",
       "      <td>151.5500</td>\n",
       "      <td>C22 C26</td>\n",
       "      <td>S</td>\n",
       "      <td>NaN</td>\n",
       "      <td>NaN</td>\n",
       "      <td>Montreal, PQ / Chesterville, ON</td>\n",
       "      <td>2.0000</td>\n",
       "    </tr>\n",
       "    <tr>\n",
       "      <th>3</th>\n",
       "      <td>1</td>\n",
       "      <td>0</td>\n",
       "      <td>Allison, Mr. Hudson Joshua Creighton</td>\n",
       "      <td>male</td>\n",
       "      <td>30.0000</td>\n",
       "      <td>1</td>\n",
       "      <td>2</td>\n",
       "      <td>113781</td>\n",
       "      <td>151.5500</td>\n",
       "      <td>C22 C26</td>\n",
       "      <td>S</td>\n",
       "      <td>NaN</td>\n",
       "      <td>135.0</td>\n",
       "      <td>Montreal, PQ / Chesterville, ON</td>\n",
       "      <td>30.0000</td>\n",
       "    </tr>\n",
       "    <tr>\n",
       "      <th>4</th>\n",
       "      <td>1</td>\n",
       "      <td>0</td>\n",
       "      <td>Allison, Mrs. Hudson J C (Bessie Waldo Daniels)</td>\n",
       "      <td>female</td>\n",
       "      <td>25.0000</td>\n",
       "      <td>1</td>\n",
       "      <td>2</td>\n",
       "      <td>113781</td>\n",
       "      <td>151.5500</td>\n",
       "      <td>C22 C26</td>\n",
       "      <td>S</td>\n",
       "      <td>NaN</td>\n",
       "      <td>NaN</td>\n",
       "      <td>Montreal, PQ / Chesterville, ON</td>\n",
       "      <td>25.0000</td>\n",
       "    </tr>\n",
       "    <tr>\n",
       "      <th>...</th>\n",
       "      <td>...</td>\n",
       "      <td>...</td>\n",
       "      <td>...</td>\n",
       "      <td>...</td>\n",
       "      <td>...</td>\n",
       "      <td>...</td>\n",
       "      <td>...</td>\n",
       "      <td>...</td>\n",
       "      <td>...</td>\n",
       "      <td>...</td>\n",
       "      <td>...</td>\n",
       "      <td>...</td>\n",
       "      <td>...</td>\n",
       "      <td>...</td>\n",
       "      <td>...</td>\n",
       "    </tr>\n",
       "    <tr>\n",
       "      <th>1304</th>\n",
       "      <td>3</td>\n",
       "      <td>0</td>\n",
       "      <td>Zabour, Miss. Hileni</td>\n",
       "      <td>female</td>\n",
       "      <td>14.5000</td>\n",
       "      <td>1</td>\n",
       "      <td>0</td>\n",
       "      <td>2665</td>\n",
       "      <td>14.4542</td>\n",
       "      <td>NaN</td>\n",
       "      <td>C</td>\n",
       "      <td>NaN</td>\n",
       "      <td>328.0</td>\n",
       "      <td>NaN</td>\n",
       "      <td>14.5000</td>\n",
       "    </tr>\n",
       "    <tr>\n",
       "      <th>1305</th>\n",
       "      <td>3</td>\n",
       "      <td>0</td>\n",
       "      <td>Zabour, Miss. Thamine</td>\n",
       "      <td>female</td>\n",
       "      <td>NaN</td>\n",
       "      <td>1</td>\n",
       "      <td>0</td>\n",
       "      <td>2665</td>\n",
       "      <td>14.4542</td>\n",
       "      <td>NaN</td>\n",
       "      <td>C</td>\n",
       "      <td>NaN</td>\n",
       "      <td>NaN</td>\n",
       "      <td>NaN</td>\n",
       "      <td>14.5000</td>\n",
       "    </tr>\n",
       "    <tr>\n",
       "      <th>1306</th>\n",
       "      <td>3</td>\n",
       "      <td>0</td>\n",
       "      <td>Zakarian, Mr. Mapriededer</td>\n",
       "      <td>male</td>\n",
       "      <td>26.5000</td>\n",
       "      <td>0</td>\n",
       "      <td>0</td>\n",
       "      <td>2656</td>\n",
       "      <td>7.2250</td>\n",
       "      <td>NaN</td>\n",
       "      <td>C</td>\n",
       "      <td>NaN</td>\n",
       "      <td>304.0</td>\n",
       "      <td>NaN</td>\n",
       "      <td>26.5000</td>\n",
       "    </tr>\n",
       "    <tr>\n",
       "      <th>1307</th>\n",
       "      <td>3</td>\n",
       "      <td>0</td>\n",
       "      <td>Zakarian, Mr. Ortin</td>\n",
       "      <td>male</td>\n",
       "      <td>27.0000</td>\n",
       "      <td>0</td>\n",
       "      <td>0</td>\n",
       "      <td>2670</td>\n",
       "      <td>7.2250</td>\n",
       "      <td>NaN</td>\n",
       "      <td>C</td>\n",
       "      <td>NaN</td>\n",
       "      <td>NaN</td>\n",
       "      <td>NaN</td>\n",
       "      <td>27.0000</td>\n",
       "    </tr>\n",
       "    <tr>\n",
       "      <th>1308</th>\n",
       "      <td>3</td>\n",
       "      <td>0</td>\n",
       "      <td>Zimmerman, Mr. Leo</td>\n",
       "      <td>male</td>\n",
       "      <td>29.0000</td>\n",
       "      <td>0</td>\n",
       "      <td>0</td>\n",
       "      <td>315082</td>\n",
       "      <td>7.8750</td>\n",
       "      <td>NaN</td>\n",
       "      <td>S</td>\n",
       "      <td>NaN</td>\n",
       "      <td>NaN</td>\n",
       "      <td>NaN</td>\n",
       "      <td>29.0000</td>\n",
       "    </tr>\n",
       "  </tbody>\n",
       "</table>\n",
       "<p>1309 rows × 15 columns</p>\n",
       "</div>"
      ],
      "text/plain": [
       "      pclass  survived                                             name  \\\n",
       "0          1         1                    Allen, Miss. Elisabeth Walton   \n",
       "1          1         1                   Allison, Master. Hudson Trevor   \n",
       "2          1         0                     Allison, Miss. Helen Loraine   \n",
       "3          1         0             Allison, Mr. Hudson Joshua Creighton   \n",
       "4          1         0  Allison, Mrs. Hudson J C (Bessie Waldo Daniels)   \n",
       "...      ...       ...                                              ...   \n",
       "1304       3         0                             Zabour, Miss. Hileni   \n",
       "1305       3         0                            Zabour, Miss. Thamine   \n",
       "1306       3         0                        Zakarian, Mr. Mapriededer   \n",
       "1307       3         0                              Zakarian, Mr. Ortin   \n",
       "1308       3         0                               Zimmerman, Mr. Leo   \n",
       "\n",
       "         sex      age  sibsp  parch  ticket      fare    cabin embarked boat  \\\n",
       "0     female  29.0000      0      0   24160  211.3375       B5        S    2   \n",
       "1       male   0.9167      1      2  113781  151.5500  C22 C26        S   11   \n",
       "2     female   2.0000      1      2  113781  151.5500  C22 C26        S  NaN   \n",
       "3       male  30.0000      1      2  113781  151.5500  C22 C26        S  NaN   \n",
       "4     female  25.0000      1      2  113781  151.5500  C22 C26        S  NaN   \n",
       "...      ...      ...    ...    ...     ...       ...      ...      ...  ...   \n",
       "1304  female  14.5000      1      0    2665   14.4542      NaN        C  NaN   \n",
       "1305  female      NaN      1      0    2665   14.4542      NaN        C  NaN   \n",
       "1306    male  26.5000      0      0    2656    7.2250      NaN        C  NaN   \n",
       "1307    male  27.0000      0      0    2670    7.2250      NaN        C  NaN   \n",
       "1308    male  29.0000      0      0  315082    7.8750      NaN        S  NaN   \n",
       "\n",
       "       body                        home.dest     age1  \n",
       "0       NaN                     St Louis, MO  29.0000  \n",
       "1       NaN  Montreal, PQ / Chesterville, ON   0.9167  \n",
       "2       NaN  Montreal, PQ / Chesterville, ON   2.0000  \n",
       "3     135.0  Montreal, PQ / Chesterville, ON  30.0000  \n",
       "4       NaN  Montreal, PQ / Chesterville, ON  25.0000  \n",
       "...     ...                              ...      ...  \n",
       "1304  328.0                              NaN  14.5000  \n",
       "1305    NaN                              NaN  14.5000  \n",
       "1306  304.0                              NaN  26.5000  \n",
       "1307    NaN                              NaN  27.0000  \n",
       "1308    NaN                              NaN  29.0000  \n",
       "\n",
       "[1309 rows x 15 columns]"
      ]
     },
     "execution_count": 33,
     "metadata": {},
     "output_type": "execute_result"
    }
   ],
   "source": [
    "df5"
   ]
  },
  {
   "cell_type": "markdown",
   "id": "d7fe6dd0",
   "metadata": {},
   "source": [
    "<a id=\"section2115\"></a>\n",
    "## <font color=\"#004D7F\">2.1.1.5 Mi DataFrame Final : 'df5' </font>"
   ]
  },
  {
   "cell_type": "code",
   "execution_count": 34,
   "id": "f6df40ee",
   "metadata": {},
   "outputs": [
    {
     "data": {
      "text/html": [
       "<div>\n",
       "<style scoped>\n",
       "    .dataframe tbody tr th:only-of-type {\n",
       "        vertical-align: middle;\n",
       "    }\n",
       "\n",
       "    .dataframe tbody tr th {\n",
       "        vertical-align: top;\n",
       "    }\n",
       "\n",
       "    .dataframe thead th {\n",
       "        text-align: right;\n",
       "    }\n",
       "</style>\n",
       "<table border=\"1\" class=\"dataframe\">\n",
       "  <thead>\n",
       "    <tr style=\"text-align: right;\">\n",
       "      <th></th>\n",
       "      <th>pclass</th>\n",
       "      <th>survived</th>\n",
       "      <th>name</th>\n",
       "      <th>sex</th>\n",
       "      <th>sibsp</th>\n",
       "      <th>parch</th>\n",
       "      <th>ticket</th>\n",
       "      <th>fare</th>\n",
       "      <th>cabin</th>\n",
       "      <th>embarked</th>\n",
       "      <th>boat</th>\n",
       "      <th>body</th>\n",
       "      <th>home.dest</th>\n",
       "      <th>age1</th>\n",
       "    </tr>\n",
       "  </thead>\n",
       "  <tbody>\n",
       "    <tr>\n",
       "      <th>0</th>\n",
       "      <td>1</td>\n",
       "      <td>1</td>\n",
       "      <td>Allen, Miss. Elisabeth Walton</td>\n",
       "      <td>female</td>\n",
       "      <td>0</td>\n",
       "      <td>0</td>\n",
       "      <td>24160</td>\n",
       "      <td>211.3375</td>\n",
       "      <td>B5</td>\n",
       "      <td>S</td>\n",
       "      <td>2</td>\n",
       "      <td>NaN</td>\n",
       "      <td>St Louis, MO</td>\n",
       "      <td>29.0000</td>\n",
       "    </tr>\n",
       "    <tr>\n",
       "      <th>1</th>\n",
       "      <td>1</td>\n",
       "      <td>1</td>\n",
       "      <td>Allison, Master. Hudson Trevor</td>\n",
       "      <td>male</td>\n",
       "      <td>1</td>\n",
       "      <td>2</td>\n",
       "      <td>113781</td>\n",
       "      <td>151.5500</td>\n",
       "      <td>C22 C26</td>\n",
       "      <td>S</td>\n",
       "      <td>11</td>\n",
       "      <td>NaN</td>\n",
       "      <td>Montreal, PQ / Chesterville, ON</td>\n",
       "      <td>0.9167</td>\n",
       "    </tr>\n",
       "    <tr>\n",
       "      <th>2</th>\n",
       "      <td>1</td>\n",
       "      <td>0</td>\n",
       "      <td>Allison, Miss. Helen Loraine</td>\n",
       "      <td>female</td>\n",
       "      <td>1</td>\n",
       "      <td>2</td>\n",
       "      <td>113781</td>\n",
       "      <td>151.5500</td>\n",
       "      <td>C22 C26</td>\n",
       "      <td>S</td>\n",
       "      <td>NaN</td>\n",
       "      <td>NaN</td>\n",
       "      <td>Montreal, PQ / Chesterville, ON</td>\n",
       "      <td>2.0000</td>\n",
       "    </tr>\n",
       "    <tr>\n",
       "      <th>3</th>\n",
       "      <td>1</td>\n",
       "      <td>0</td>\n",
       "      <td>Allison, Mr. Hudson Joshua Creighton</td>\n",
       "      <td>male</td>\n",
       "      <td>1</td>\n",
       "      <td>2</td>\n",
       "      <td>113781</td>\n",
       "      <td>151.5500</td>\n",
       "      <td>C22 C26</td>\n",
       "      <td>S</td>\n",
       "      <td>NaN</td>\n",
       "      <td>135.0</td>\n",
       "      <td>Montreal, PQ / Chesterville, ON</td>\n",
       "      <td>30.0000</td>\n",
       "    </tr>\n",
       "    <tr>\n",
       "      <th>4</th>\n",
       "      <td>1</td>\n",
       "      <td>0</td>\n",
       "      <td>Allison, Mrs. Hudson J C (Bessie Waldo Daniels)</td>\n",
       "      <td>female</td>\n",
       "      <td>1</td>\n",
       "      <td>2</td>\n",
       "      <td>113781</td>\n",
       "      <td>151.5500</td>\n",
       "      <td>C22 C26</td>\n",
       "      <td>S</td>\n",
       "      <td>NaN</td>\n",
       "      <td>NaN</td>\n",
       "      <td>Montreal, PQ / Chesterville, ON</td>\n",
       "      <td>25.0000</td>\n",
       "    </tr>\n",
       "    <tr>\n",
       "      <th>...</th>\n",
       "      <td>...</td>\n",
       "      <td>...</td>\n",
       "      <td>...</td>\n",
       "      <td>...</td>\n",
       "      <td>...</td>\n",
       "      <td>...</td>\n",
       "      <td>...</td>\n",
       "      <td>...</td>\n",
       "      <td>...</td>\n",
       "      <td>...</td>\n",
       "      <td>...</td>\n",
       "      <td>...</td>\n",
       "      <td>...</td>\n",
       "      <td>...</td>\n",
       "    </tr>\n",
       "    <tr>\n",
       "      <th>1304</th>\n",
       "      <td>3</td>\n",
       "      <td>0</td>\n",
       "      <td>Zabour, Miss. Hileni</td>\n",
       "      <td>female</td>\n",
       "      <td>1</td>\n",
       "      <td>0</td>\n",
       "      <td>2665</td>\n",
       "      <td>14.4542</td>\n",
       "      <td>NaN</td>\n",
       "      <td>C</td>\n",
       "      <td>NaN</td>\n",
       "      <td>328.0</td>\n",
       "      <td>NaN</td>\n",
       "      <td>14.5000</td>\n",
       "    </tr>\n",
       "    <tr>\n",
       "      <th>1305</th>\n",
       "      <td>3</td>\n",
       "      <td>0</td>\n",
       "      <td>Zabour, Miss. Thamine</td>\n",
       "      <td>female</td>\n",
       "      <td>1</td>\n",
       "      <td>0</td>\n",
       "      <td>2665</td>\n",
       "      <td>14.4542</td>\n",
       "      <td>NaN</td>\n",
       "      <td>C</td>\n",
       "      <td>NaN</td>\n",
       "      <td>NaN</td>\n",
       "      <td>NaN</td>\n",
       "      <td>14.5000</td>\n",
       "    </tr>\n",
       "    <tr>\n",
       "      <th>1306</th>\n",
       "      <td>3</td>\n",
       "      <td>0</td>\n",
       "      <td>Zakarian, Mr. Mapriededer</td>\n",
       "      <td>male</td>\n",
       "      <td>0</td>\n",
       "      <td>0</td>\n",
       "      <td>2656</td>\n",
       "      <td>7.2250</td>\n",
       "      <td>NaN</td>\n",
       "      <td>C</td>\n",
       "      <td>NaN</td>\n",
       "      <td>304.0</td>\n",
       "      <td>NaN</td>\n",
       "      <td>26.5000</td>\n",
       "    </tr>\n",
       "    <tr>\n",
       "      <th>1307</th>\n",
       "      <td>3</td>\n",
       "      <td>0</td>\n",
       "      <td>Zakarian, Mr. Ortin</td>\n",
       "      <td>male</td>\n",
       "      <td>0</td>\n",
       "      <td>0</td>\n",
       "      <td>2670</td>\n",
       "      <td>7.2250</td>\n",
       "      <td>NaN</td>\n",
       "      <td>C</td>\n",
       "      <td>NaN</td>\n",
       "      <td>NaN</td>\n",
       "      <td>NaN</td>\n",
       "      <td>27.0000</td>\n",
       "    </tr>\n",
       "    <tr>\n",
       "      <th>1308</th>\n",
       "      <td>3</td>\n",
       "      <td>0</td>\n",
       "      <td>Zimmerman, Mr. Leo</td>\n",
       "      <td>male</td>\n",
       "      <td>0</td>\n",
       "      <td>0</td>\n",
       "      <td>315082</td>\n",
       "      <td>7.8750</td>\n",
       "      <td>NaN</td>\n",
       "      <td>S</td>\n",
       "      <td>NaN</td>\n",
       "      <td>NaN</td>\n",
       "      <td>NaN</td>\n",
       "      <td>29.0000</td>\n",
       "    </tr>\n",
       "  </tbody>\n",
       "</table>\n",
       "<p>1309 rows × 14 columns</p>\n",
       "</div>"
      ],
      "text/plain": [
       "      pclass  survived                                             name  \\\n",
       "0          1         1                    Allen, Miss. Elisabeth Walton   \n",
       "1          1         1                   Allison, Master. Hudson Trevor   \n",
       "2          1         0                     Allison, Miss. Helen Loraine   \n",
       "3          1         0             Allison, Mr. Hudson Joshua Creighton   \n",
       "4          1         0  Allison, Mrs. Hudson J C (Bessie Waldo Daniels)   \n",
       "...      ...       ...                                              ...   \n",
       "1304       3         0                             Zabour, Miss. Hileni   \n",
       "1305       3         0                            Zabour, Miss. Thamine   \n",
       "1306       3         0                        Zakarian, Mr. Mapriededer   \n",
       "1307       3         0                              Zakarian, Mr. Ortin   \n",
       "1308       3         0                               Zimmerman, Mr. Leo   \n",
       "\n",
       "         sex  sibsp  parch  ticket      fare    cabin embarked boat   body  \\\n",
       "0     female      0      0   24160  211.3375       B5        S    2    NaN   \n",
       "1       male      1      2  113781  151.5500  C22 C26        S   11    NaN   \n",
       "2     female      1      2  113781  151.5500  C22 C26        S  NaN    NaN   \n",
       "3       male      1      2  113781  151.5500  C22 C26        S  NaN  135.0   \n",
       "4     female      1      2  113781  151.5500  C22 C26        S  NaN    NaN   \n",
       "...      ...    ...    ...     ...       ...      ...      ...  ...    ...   \n",
       "1304  female      1      0    2665   14.4542      NaN        C  NaN  328.0   \n",
       "1305  female      1      0    2665   14.4542      NaN        C  NaN    NaN   \n",
       "1306    male      0      0    2656    7.2250      NaN        C  NaN  304.0   \n",
       "1307    male      0      0    2670    7.2250      NaN        C  NaN    NaN   \n",
       "1308    male      0      0  315082    7.8750      NaN        S  NaN    NaN   \n",
       "\n",
       "                            home.dest     age1  \n",
       "0                        St Louis, MO  29.0000  \n",
       "1     Montreal, PQ / Chesterville, ON   0.9167  \n",
       "2     Montreal, PQ / Chesterville, ON   2.0000  \n",
       "3     Montreal, PQ / Chesterville, ON  30.0000  \n",
       "4     Montreal, PQ / Chesterville, ON  25.0000  \n",
       "...                               ...      ...  \n",
       "1304                              NaN  14.5000  \n",
       "1305                              NaN  14.5000  \n",
       "1306                              NaN  26.5000  \n",
       "1307                              NaN  27.0000  \n",
       "1308                              NaN  29.0000  \n",
       "\n",
       "[1309 rows x 14 columns]"
      ]
     },
     "execution_count": 34,
     "metadata": {},
     "output_type": "execute_result"
    }
   ],
   "source": [
    "df5=df5.drop(['age'],axis=1)\n",
    "df5"
   ]
  },
  {
   "cell_type": "markdown",
   "id": "9772700f",
   "metadata": {},
   "source": [
    "### Mi nuevo DataFrame  : 'df5' imputando po series de tiempo"
   ]
  },
  {
   "cell_type": "code",
   "execution_count": 35,
   "id": "805de092",
   "metadata": {},
   "outputs": [
    {
     "data": {
      "text/plain": [
       "<AxesSubplot:>"
      ]
     },
     "execution_count": 35,
     "metadata": {},
     "output_type": "execute_result"
    },
    {
     "data": {
      "image/png": "[encoded data removed]",
      "text/plain": [
       "<Figure size 432x288 with 1 Axes>"
      ]
     },
     "metadata": {
      "needs_background": "light"
     },
     "output_type": "display_data"
    }
   ],
   "source": [
    "df5.age1.hist()"
   ]
  },
  {
   "cell_type": "code",
   "execution_count": 36,
   "id": "96a8f224",
   "metadata": {},
   "outputs": [
    {
     "data": {
      "text/plain": [
       "<AxesSubplot:>"
      ]
     },
     "execution_count": 36,
     "metadata": {},
     "output_type": "execute_result"
    },
    {
     "data": {
      "image/png": "[encoded data removed]",
      "text/plain": [
       "<Figure size 432x288 with 1 Axes>"
      ]
     },
     "metadata": {
      "needs_background": "light"
     },
     "output_type": "display_data"
    }
   ],
   "source": [
    "df.age.hist()"
   ]
  },
  {
   "cell_type": "code",
   "execution_count": 37,
   "id": "901cfb8f",
   "metadata": {},
   "outputs": [
    {
     "data": {
      "text/plain": [
       "263"
      ]
     },
     "execution_count": 37,
     "metadata": {},
     "output_type": "execute_result"
    }
   ],
   "source": [
    "df.age.isnull().sum()"
   ]
  },
  {
   "cell_type": "code",
   "execution_count": 38,
   "id": "71c31787",
   "metadata": {},
   "outputs": [
    {
     "data": {
      "text/plain": [
       "0"
      ]
     },
     "execution_count": 38,
     "metadata": {},
     "output_type": "execute_result"
    }
   ],
   "source": [
    "df5.age1.isnull().sum()"
   ]
  },
  {
   "cell_type": "markdown",
   "id": "f109ff03",
   "metadata": {},
   "source": [
    "<a id=\"section212\"></a>\n",
    "## <font color=\"#004D7F\">2.1.2 Imputacion Backward Fill : Si la BD esta agrupada por rango de edades</font>"
   ]
  },
  {
   "cell_type": "code",
   "execution_count": 39,
   "id": "539b8fd4",
   "metadata": {},
   "outputs": [],
   "source": [
    "df6=df"
   ]
  },
  {
   "cell_type": "code",
   "execution_count": 40,
   "id": "97afae72",
   "metadata": {},
   "outputs": [
    {
     "data": {
      "text/plain": [
       "Index(['pclass', 'survived', 'name', 'sex', 'age', 'sibsp', 'parch', 'ticket',\n",
       "       'fare', 'cabin', 'embarked', 'boat', 'body', 'home.dest'],\n",
       "      dtype='object')"
      ]
     },
     "execution_count": 40,
     "metadata": {},
     "output_type": "execute_result"
    }
   ],
   "source": [
    "df6.columns"
   ]
  },
  {
   "cell_type": "markdown",
   "id": "fce37030",
   "metadata": {},
   "source": [
    "#### ¿Cuantos valores perdidos tiene 'age'?"
   ]
  },
  {
   "cell_type": "code",
   "execution_count": 41,
   "id": "b225d0ae",
   "metadata": {},
   "outputs": [
    {
     "data": {
      "text/plain": [
       "263"
      ]
     },
     "execution_count": 41,
     "metadata": {},
     "output_type": "execute_result"
    }
   ],
   "source": [
    "df6.age.isnull().sum()"
   ]
  },
  {
   "cell_type": "markdown",
   "id": "9ed3483a",
   "metadata": {},
   "source": [
    "#### Imputacion Backward Fill"
   ]
  },
  {
   "cell_type": "code",
   "execution_count": 42,
   "id": "b9e80aaa",
   "metadata": {},
   "outputs": [
    {
     "data": {
      "text/plain": [
       "0       29.0000\n",
       "1        0.9167\n",
       "2        2.0000\n",
       "3       30.0000\n",
       "4       25.0000\n",
       "         ...   \n",
       "1304    14.5000\n",
       "1305    26.5000\n",
       "1306    26.5000\n",
       "1307    27.0000\n",
       "1308    29.0000\n",
       "Name: age, Length: 1309, dtype: float64"
      ]
     },
     "execution_count": 42,
     "metadata": {},
     "output_type": "execute_result"
    }
   ],
   "source": [
    "df6['age'].fillna(method='bfill')"
   ]
  },
  {
   "cell_type": "code",
   "execution_count": 43,
   "id": "4a97b86f",
   "metadata": {},
   "outputs": [
    {
     "data": {
      "text/plain": [
       "pclass          0\n",
       "survived        0\n",
       "name            0\n",
       "sex             0\n",
       "age           263\n",
       "sibsp           0\n",
       "parch           0\n",
       "ticket          0\n",
       "fare            1\n",
       "cabin        1014\n",
       "embarked        2\n",
       "boat          823\n",
       "body         1188\n",
       "home.dest     564\n",
       "dtype: int64"
      ]
     },
     "execution_count": 43,
     "metadata": {},
     "output_type": "execute_result"
    }
   ],
   "source": [
    "df6.isnull().sum()"
   ]
  },
  {
   "cell_type": "markdown",
   "id": "84bf950e",
   "metadata": {},
   "source": [
    "<a id=\"section2121\"></a>\n",
    "## <font color=\"#004D7F\">2.1.2.1 Agregamos una columna </font>\n"
   ]
  },
  {
   "cell_type": "code",
   "execution_count": 44,
   "id": "26f83994",
   "metadata": {},
   "outputs": [],
   "source": [
    "df6['age_backward']=df6['age'].fillna(method='bfill')"
   ]
  },
  {
   "cell_type": "code",
   "execution_count": 45,
   "id": "0451cccc",
   "metadata": {},
   "outputs": [
    {
     "data": {
      "text/plain": [
       "pclass             0\n",
       "survived           0\n",
       "name               0\n",
       "sex                0\n",
       "age              263\n",
       "sibsp              0\n",
       "parch              0\n",
       "ticket             0\n",
       "fare               1\n",
       "cabin           1014\n",
       "embarked           2\n",
       "boat             823\n",
       "body            1188\n",
       "home.dest        564\n",
       "age_backward       0\n",
       "dtype: int64"
      ]
     },
     "execution_count": 45,
     "metadata": {},
     "output_type": "execute_result"
    }
   ],
   "source": [
    "df6.isnull().sum()"
   ]
  },
  {
   "cell_type": "code",
   "execution_count": 46,
   "id": "4709cc07",
   "metadata": {},
   "outputs": [],
   "source": [
    "df6=df6.drop(['age'],axis=1)"
   ]
  },
  {
   "cell_type": "code",
   "execution_count": 47,
   "id": "e5153e51",
   "metadata": {},
   "outputs": [
    {
     "data": {
      "text/plain": [
       "pclass             0\n",
       "survived           0\n",
       "name               0\n",
       "sex                0\n",
       "sibsp              0\n",
       "parch              0\n",
       "ticket             0\n",
       "fare               1\n",
       "cabin           1014\n",
       "embarked           2\n",
       "boat             823\n",
       "body            1188\n",
       "home.dest        564\n",
       "age_backward       0\n",
       "dtype: int64"
      ]
     },
     "execution_count": 47,
     "metadata": {},
     "output_type": "execute_result"
    }
   ],
   "source": [
    "df6.isnull().sum()"
   ]
  },
  {
   "cell_type": "markdown",
   "id": "6d476838",
   "metadata": {},
   "source": [
    "#### La variable 'age' ya no tiene valores perdidos"
   ]
  },
  {
   "cell_type": "code",
   "execution_count": 48,
   "id": "8272977b",
   "metadata": {},
   "outputs": [
    {
     "data": {
      "text/plain": [
       "0"
      ]
     },
     "execution_count": 48,
     "metadata": {},
     "output_type": "execute_result"
    }
   ],
   "source": [
    "df6.age_backward.isnull().sum()"
   ]
  },
  {
   "cell_type": "markdown",
   "id": "cdbac1b2",
   "metadata": {},
   "source": [
    "<a id=\"section2122\"></a>\n",
    "## <font color=\"#004D7F\">2.1.2.2 Mi DataFrame Final : 'df6'  </font>\n"
   ]
  },
  {
   "cell_type": "code",
   "execution_count": 49,
   "id": "e8d4bcff",
   "metadata": {},
   "outputs": [
    {
     "data": {
      "text/html": [
       "<div>\n",
       "<style scoped>\n",
       "    .dataframe tbody tr th:only-of-type {\n",
       "        vertical-align: middle;\n",
       "    }\n",
       "\n",
       "    .dataframe tbody tr th {\n",
       "        vertical-align: top;\n",
       "    }\n",
       "\n",
       "    .dataframe thead th {\n",
       "        text-align: right;\n",
       "    }\n",
       "</style>\n",
       "<table border=\"1\" class=\"dataframe\">\n",
       "  <thead>\n",
       "    <tr style=\"text-align: right;\">\n",
       "      <th></th>\n",
       "      <th>pclass</th>\n",
       "      <th>survived</th>\n",
       "      <th>name</th>\n",
       "      <th>sex</th>\n",
       "      <th>sibsp</th>\n",
       "      <th>parch</th>\n",
       "      <th>ticket</th>\n",
       "      <th>fare</th>\n",
       "      <th>cabin</th>\n",
       "      <th>embarked</th>\n",
       "      <th>boat</th>\n",
       "      <th>body</th>\n",
       "      <th>home.dest</th>\n",
       "      <th>age_backward</th>\n",
       "    </tr>\n",
       "  </thead>\n",
       "  <tbody>\n",
       "    <tr>\n",
       "      <th>0</th>\n",
       "      <td>1</td>\n",
       "      <td>1</td>\n",
       "      <td>Allen, Miss. Elisabeth Walton</td>\n",
       "      <td>female</td>\n",
       "      <td>0</td>\n",
       "      <td>0</td>\n",
       "      <td>24160</td>\n",
       "      <td>211.3375</td>\n",
       "      <td>B5</td>\n",
       "      <td>S</td>\n",
       "      <td>2</td>\n",
       "      <td>NaN</td>\n",
       "      <td>St Louis, MO</td>\n",
       "      <td>29.0000</td>\n",
       "    </tr>\n",
       "    <tr>\n",
       "      <th>1</th>\n",
       "      <td>1</td>\n",
       "      <td>1</td>\n",
       "      <td>Allison, Master. Hudson Trevor</td>\n",
       "      <td>male</td>\n",
       "      <td>1</td>\n",
       "      <td>2</td>\n",
       "      <td>113781</td>\n",
       "      <td>151.5500</td>\n",
       "      <td>C22 C26</td>\n",
       "      <td>S</td>\n",
       "      <td>11</td>\n",
       "      <td>NaN</td>\n",
       "      <td>Montreal, PQ / Chesterville, ON</td>\n",
       "      <td>0.9167</td>\n",
       "    </tr>\n",
       "    <tr>\n",
       "      <th>2</th>\n",
       "      <td>1</td>\n",
       "      <td>0</td>\n",
       "      <td>Allison, Miss. Helen Loraine</td>\n",
       "      <td>female</td>\n",
       "      <td>1</td>\n",
       "      <td>2</td>\n",
       "      <td>113781</td>\n",
       "      <td>151.5500</td>\n",
       "      <td>C22 C26</td>\n",
       "      <td>S</td>\n",
       "      <td>NaN</td>\n",
       "      <td>NaN</td>\n",
       "      <td>Montreal, PQ / Chesterville, ON</td>\n",
       "      <td>2.0000</td>\n",
       "    </tr>\n",
       "    <tr>\n",
       "      <th>3</th>\n",
       "      <td>1</td>\n",
       "      <td>0</td>\n",
       "      <td>Allison, Mr. Hudson Joshua Creighton</td>\n",
       "      <td>male</td>\n",
       "      <td>1</td>\n",
       "      <td>2</td>\n",
       "      <td>113781</td>\n",
       "      <td>151.5500</td>\n",
       "      <td>C22 C26</td>\n",
       "      <td>S</td>\n",
       "      <td>NaN</td>\n",
       "      <td>135.0</td>\n",
       "      <td>Montreal, PQ / Chesterville, ON</td>\n",
       "      <td>30.0000</td>\n",
       "    </tr>\n",
       "    <tr>\n",
       "      <th>4</th>\n",
       "      <td>1</td>\n",
       "      <td>0</td>\n",
       "      <td>Allison, Mrs. Hudson J C (Bessie Waldo Daniels)</td>\n",
       "      <td>female</td>\n",
       "      <td>1</td>\n",
       "      <td>2</td>\n",
       "      <td>113781</td>\n",
       "      <td>151.5500</td>\n",
       "      <td>C22 C26</td>\n",
       "      <td>S</td>\n",
       "      <td>NaN</td>\n",
       "      <td>NaN</td>\n",
       "      <td>Montreal, PQ / Chesterville, ON</td>\n",
       "      <td>25.0000</td>\n",
       "    </tr>\n",
       "    <tr>\n",
       "      <th>...</th>\n",
       "      <td>...</td>\n",
       "      <td>...</td>\n",
       "      <td>...</td>\n",
       "      <td>...</td>\n",
       "      <td>...</td>\n",
       "      <td>...</td>\n",
       "      <td>...</td>\n",
       "      <td>...</td>\n",
       "      <td>...</td>\n",
       "      <td>...</td>\n",
       "      <td>...</td>\n",
       "      <td>...</td>\n",
       "      <td>...</td>\n",
       "      <td>...</td>\n",
       "    </tr>\n",
       "    <tr>\n",
       "      <th>1304</th>\n",
       "      <td>3</td>\n",
       "      <td>0</td>\n",
       "      <td>Zabour, Miss. Hileni</td>\n",
       "      <td>female</td>\n",
       "      <td>1</td>\n",
       "      <td>0</td>\n",
       "      <td>2665</td>\n",
       "      <td>14.4542</td>\n",
       "      <td>NaN</td>\n",
       "      <td>C</td>\n",
       "      <td>NaN</td>\n",
       "      <td>328.0</td>\n",
       "      <td>NaN</td>\n",
       "      <td>14.5000</td>\n",
       "    </tr>\n",
       "    <tr>\n",
       "      <th>1305</th>\n",
       "      <td>3</td>\n",
       "      <td>0</td>\n",
       "      <td>Zabour, Miss. Thamine</td>\n",
       "      <td>female</td>\n",
       "      <td>1</td>\n",
       "      <td>0</td>\n",
       "      <td>2665</td>\n",
       "      <td>14.4542</td>\n",
       "      <td>NaN</td>\n",
       "      <td>C</td>\n",
       "      <td>NaN</td>\n",
       "      <td>NaN</td>\n",
       "      <td>NaN</td>\n",
       "      <td>26.5000</td>\n",
       "    </tr>\n",
       "    <tr>\n",
       "      <th>1306</th>\n",
       "      <td>3</td>\n",
       "      <td>0</td>\n",
       "      <td>Zakarian, Mr. Mapriededer</td>\n",
       "      <td>male</td>\n",
       "      <td>0</td>\n",
       "      <td>0</td>\n",
       "      <td>2656</td>\n",
       "      <td>7.2250</td>\n",
       "      <td>NaN</td>\n",
       "      <td>C</td>\n",
       "      <td>NaN</td>\n",
       "      <td>304.0</td>\n",
       "      <td>NaN</td>\n",
       "      <td>26.5000</td>\n",
       "    </tr>\n",
       "    <tr>\n",
       "      <th>1307</th>\n",
       "      <td>3</td>\n",
       "      <td>0</td>\n",
       "      <td>Zakarian, Mr. Ortin</td>\n",
       "      <td>male</td>\n",
       "      <td>0</td>\n",
       "      <td>0</td>\n",
       "      <td>2670</td>\n",
       "      <td>7.2250</td>\n",
       "      <td>NaN</td>\n",
       "      <td>C</td>\n",
       "      <td>NaN</td>\n",
       "      <td>NaN</td>\n",
       "      <td>NaN</td>\n",
       "      <td>27.0000</td>\n",
       "    </tr>\n",
       "    <tr>\n",
       "      <th>1308</th>\n",
       "      <td>3</td>\n",
       "      <td>0</td>\n",
       "      <td>Zimmerman, Mr. Leo</td>\n",
       "      <td>male</td>\n",
       "      <td>0</td>\n",
       "      <td>0</td>\n",
       "      <td>315082</td>\n",
       "      <td>7.8750</td>\n",
       "      <td>NaN</td>\n",
       "      <td>S</td>\n",
       "      <td>NaN</td>\n",
       "      <td>NaN</td>\n",
       "      <td>NaN</td>\n",
       "      <td>29.0000</td>\n",
       "    </tr>\n",
       "  </tbody>\n",
       "</table>\n",
       "<p>1309 rows × 14 columns</p>\n",
       "</div>"
      ],
      "text/plain": [
       "      pclass  survived                                             name  \\\n",
       "0          1         1                    Allen, Miss. Elisabeth Walton   \n",
       "1          1         1                   Allison, Master. Hudson Trevor   \n",
       "2          1         0                     Allison, Miss. Helen Loraine   \n",
       "3          1         0             Allison, Mr. Hudson Joshua Creighton   \n",
       "4          1         0  Allison, Mrs. Hudson J C (Bessie Waldo Daniels)   \n",
       "...      ...       ...                                              ...   \n",
       "1304       3         0                             Zabour, Miss. Hileni   \n",
       "1305       3         0                            Zabour, Miss. Thamine   \n",
       "1306       3         0                        Zakarian, Mr. Mapriededer   \n",
       "1307       3         0                              Zakarian, Mr. Ortin   \n",
       "1308       3         0                               Zimmerman, Mr. Leo   \n",
       "\n",
       "         sex  sibsp  parch  ticket      fare    cabin embarked boat   body  \\\n",
       "0     female      0      0   24160  211.3375       B5        S    2    NaN   \n",
       "1       male      1      2  113781  151.5500  C22 C26        S   11    NaN   \n",
       "2     female      1      2  113781  151.5500  C22 C26        S  NaN    NaN   \n",
       "3       male      1      2  113781  151.5500  C22 C26        S  NaN  135.0   \n",
       "4     female      1      2  113781  151.5500  C22 C26        S  NaN    NaN   \n",
       "...      ...    ...    ...     ...       ...      ...      ...  ...    ...   \n",
       "1304  female      1      0    2665   14.4542      NaN        C  NaN  328.0   \n",
       "1305  female      1      0    2665   14.4542      NaN        C  NaN    NaN   \n",
       "1306    male      0      0    2656    7.2250      NaN        C  NaN  304.0   \n",
       "1307    male      0      0    2670    7.2250      NaN        C  NaN    NaN   \n",
       "1308    male      0      0  315082    7.8750      NaN        S  NaN    NaN   \n",
       "\n",
       "                            home.dest  age_backward  \n",
       "0                        St Louis, MO       29.0000  \n",
       "1     Montreal, PQ / Chesterville, ON        0.9167  \n",
       "2     Montreal, PQ / Chesterville, ON        2.0000  \n",
       "3     Montreal, PQ / Chesterville, ON       30.0000  \n",
       "4     Montreal, PQ / Chesterville, ON       25.0000  \n",
       "...                               ...           ...  \n",
       "1304                              NaN       14.5000  \n",
       "1305                              NaN       26.5000  \n",
       "1306                              NaN       26.5000  \n",
       "1307                              NaN       27.0000  \n",
       "1308                              NaN       29.0000  \n",
       "\n",
       "[1309 rows x 14 columns]"
      ]
     },
     "execution_count": 49,
     "metadata": {},
     "output_type": "execute_result"
    }
   ],
   "source": [
    "df6"
   ]
  },
  {
   "cell_type": "code",
   "execution_count": 50,
   "id": "6f02ab68",
   "metadata": {},
   "outputs": [
    {
     "data": {
      "text/plain": [
       "<AxesSubplot:>"
      ]
     },
     "execution_count": 50,
     "metadata": {},
     "output_type": "execute_result"
    },
    {
     "data": {
      "image/png": "[encoded data removed]",
      "text/plain": [
       "<Figure size 432x288 with 1 Axes>"
      ]
     },
     "metadata": {
      "needs_background": "light"
     },
     "output_type": "display_data"
    }
   ],
   "source": [
    "df.age.hist()"
   ]
  },
  {
   "cell_type": "code",
   "execution_count": 51,
   "id": "72f439cc",
   "metadata": {},
   "outputs": [
    {
     "data": {
      "text/plain": [
       "263"
      ]
     },
     "execution_count": 51,
     "metadata": {},
     "output_type": "execute_result"
    }
   ],
   "source": [
    "df.age.isnull().sum()"
   ]
  },
  {
   "cell_type": "code",
   "execution_count": 52,
   "id": "8649a6ba",
   "metadata": {},
   "outputs": [
    {
     "data": {
      "text/plain": [
       "<AxesSubplot:>"
      ]
     },
     "execution_count": 52,
     "metadata": {},
     "output_type": "execute_result"
    },
    {
     "data": {
      "image/png": "[encoded data removed]",
      "text/plain": [
       "<Figure size 432x288 with 1 Axes>"
      ]
     },
     "metadata": {
      "needs_background": "light"
     },
     "output_type": "display_data"
    }
   ],
   "source": [
    "df6.age_backward.hist()"
   ]
  },
  {
   "cell_type": "code",
   "execution_count": 53,
   "id": "dfdd3359",
   "metadata": {},
   "outputs": [
    {
     "data": {
      "text/plain": [
       "0"
      ]
     },
     "execution_count": 53,
     "metadata": {},
     "output_type": "execute_result"
    }
   ],
   "source": [
    "df6.age_backward.isnull().sum()"
   ]
  },
  {
   "cell_type": "markdown",
   "id": "116fd408",
   "metadata": {},
   "source": [
    "<a id=\"section213\"></a>\n",
    "## <font color=\"#004D7F\">2.1.3 Imputacion Media</font>"
   ]
  },
  {
   "cell_type": "markdown",
   "id": "8ec2d38c",
   "metadata": {},
   "source": [
    " #### No usar cuando hay valores extremos"
   ]
  },
  {
   "cell_type": "code",
   "execution_count": 54,
   "id": "6b8d8ced",
   "metadata": {},
   "outputs": [],
   "source": [
    "df7=df"
   ]
  },
  {
   "cell_type": "code",
   "execution_count": 55,
   "id": "b48ebb94",
   "metadata": {},
   "outputs": [
    {
     "data": {
      "text/html": [
       "<div>\n",
       "<style scoped>\n",
       "    .dataframe tbody tr th:only-of-type {\n",
       "        vertical-align: middle;\n",
       "    }\n",
       "\n",
       "    .dataframe tbody tr th {\n",
       "        vertical-align: top;\n",
       "    }\n",
       "\n",
       "    .dataframe thead th {\n",
       "        text-align: right;\n",
       "    }\n",
       "</style>\n",
       "<table border=\"1\" class=\"dataframe\">\n",
       "  <thead>\n",
       "    <tr style=\"text-align: right;\">\n",
       "      <th></th>\n",
       "      <th>pclass</th>\n",
       "      <th>survived</th>\n",
       "      <th>name</th>\n",
       "      <th>sex</th>\n",
       "      <th>age</th>\n",
       "      <th>sibsp</th>\n",
       "      <th>parch</th>\n",
       "      <th>ticket</th>\n",
       "      <th>fare</th>\n",
       "      <th>cabin</th>\n",
       "      <th>embarked</th>\n",
       "      <th>boat</th>\n",
       "      <th>body</th>\n",
       "      <th>home.dest</th>\n",
       "      <th>age_backward</th>\n",
       "    </tr>\n",
       "  </thead>\n",
       "  <tbody>\n",
       "    <tr>\n",
       "      <th>0</th>\n",
       "      <td>1</td>\n",
       "      <td>1</td>\n",
       "      <td>Allen, Miss. Elisabeth Walton</td>\n",
       "      <td>female</td>\n",
       "      <td>29.0000</td>\n",
       "      <td>0</td>\n",
       "      <td>0</td>\n",
       "      <td>24160</td>\n",
       "      <td>211.3375</td>\n",
       "      <td>B5</td>\n",
       "      <td>S</td>\n",
       "      <td>2</td>\n",
       "      <td>NaN</td>\n",
       "      <td>St Louis, MO</td>\n",
       "      <td>29.0000</td>\n",
       "    </tr>\n",
       "    <tr>\n",
       "      <th>1</th>\n",
       "      <td>1</td>\n",
       "      <td>1</td>\n",
       "      <td>Allison, Master. Hudson Trevor</td>\n",
       "      <td>male</td>\n",
       "      <td>0.9167</td>\n",
       "      <td>1</td>\n",
       "      <td>2</td>\n",
       "      <td>113781</td>\n",
       "      <td>151.5500</td>\n",
       "      <td>C22 C26</td>\n",
       "      <td>S</td>\n",
       "      <td>11</td>\n",
       "      <td>NaN</td>\n",
       "      <td>Montreal, PQ / Chesterville, ON</td>\n",
       "      <td>0.9167</td>\n",
       "    </tr>\n",
       "  </tbody>\n",
       "</table>\n",
       "</div>"
      ],
      "text/plain": [
       "   pclass  survived                            name     sex      age  sibsp  \\\n",
       "0       1         1   Allen, Miss. Elisabeth Walton  female  29.0000      0   \n",
       "1       1         1  Allison, Master. Hudson Trevor    male   0.9167      1   \n",
       "\n",
       "   parch  ticket      fare    cabin embarked boat  body  \\\n",
       "0      0   24160  211.3375       B5        S    2   NaN   \n",
       "1      2  113781  151.5500  C22 C26        S   11   NaN   \n",
       "\n",
       "                         home.dest  age_backward  \n",
       "0                     St Louis, MO       29.0000  \n",
       "1  Montreal, PQ / Chesterville, ON        0.9167  "
      ]
     },
     "execution_count": 55,
     "metadata": {},
     "output_type": "execute_result"
    }
   ],
   "source": [
    "df7.head(2)"
   ]
  },
  {
   "cell_type": "markdown",
   "id": "1787d71f",
   "metadata": {},
   "source": [
    "#### La media  de la variable 'age 'es: "
   ]
  },
  {
   "cell_type": "code",
   "execution_count": 56,
   "id": "b7b1f547",
   "metadata": {},
   "outputs": [
    {
     "data": {
      "text/plain": [
       "29.8811345124283"
      ]
     },
     "execution_count": 56,
     "metadata": {},
     "output_type": "execute_result"
    }
   ],
   "source": [
    "df7.age.mean()"
   ]
  },
  {
   "cell_type": "markdown",
   "id": "af34f2f7",
   "metadata": {},
   "source": [
    "#### ¿Cuantos valores perdidos hay?"
   ]
  },
  {
   "cell_type": "code",
   "execution_count": 57,
   "id": "1f6c1eb7",
   "metadata": {},
   "outputs": [
    {
     "data": {
      "text/plain": [
       "263"
      ]
     },
     "execution_count": 57,
     "metadata": {},
     "output_type": "execute_result"
    }
   ],
   "source": [
    "df7.age.isnull().sum()"
   ]
  },
  {
   "cell_type": "markdown",
   "id": "ba02e915",
   "metadata": {},
   "source": [
    "<a id=\"section2131\"></a>\n",
    "## <font color=\"#004D7F\">2.1.3.1  Agregamos una columna</font>\n"
   ]
  },
  {
   "cell_type": "code",
   "execution_count": 58,
   "id": "56b78ccc",
   "metadata": {},
   "outputs": [],
   "source": [
    "df7['age_media']=df7['age'].fillna(df7['age'].mean())"
   ]
  },
  {
   "cell_type": "markdown",
   "id": "c5e60c6a",
   "metadata": {},
   "source": [
    "#### La media  de la variable 'age 'es: "
   ]
  },
  {
   "cell_type": "code",
   "execution_count": 59,
   "id": "467a8a5e",
   "metadata": {},
   "outputs": [
    {
     "data": {
      "text/plain": [
       "29.881134512428055"
      ]
     },
     "execution_count": 59,
     "metadata": {},
     "output_type": "execute_result"
    }
   ],
   "source": [
    "df7.age_media.mean()"
   ]
  },
  {
   "cell_type": "markdown",
   "id": "76720349",
   "metadata": {},
   "source": [
    "#### ¿Cuantos valores perdidos hay?"
   ]
  },
  {
   "cell_type": "code",
   "execution_count": 60,
   "id": "25fa5ec3",
   "metadata": {},
   "outputs": [
    {
     "data": {
      "text/plain": [
       "0"
      ]
     },
     "execution_count": 60,
     "metadata": {},
     "output_type": "execute_result"
    }
   ],
   "source": [
    "df7.age_media.isnull().sum()"
   ]
  },
  {
   "cell_type": "code",
   "execution_count": 61,
   "id": "fbf22a11",
   "metadata": {},
   "outputs": [
    {
     "data": {
      "text/plain": [
       "<AxesSubplot:>"
      ]
     },
     "execution_count": 61,
     "metadata": {},
     "output_type": "execute_result"
    },
    {
     "data": {
      "image/png": "[encoded data removed]",
      "text/plain": [
       "<Figure size 432x288 with 1 Axes>"
      ]
     },
     "metadata": {
      "needs_background": "light"
     },
     "output_type": "display_data"
    }
   ],
   "source": [
    "df7.age.hist()"
   ]
  },
  {
   "cell_type": "code",
   "execution_count": 62,
   "id": "f5083121",
   "metadata": {},
   "outputs": [
    {
     "data": {
      "text/plain": [
       "<AxesSubplot:>"
      ]
     },
     "execution_count": 62,
     "metadata": {},
     "output_type": "execute_result"
    },
    {
     "data": {
      "image/png": "[encoded data removed]",
      "text/plain": [
       "<Figure size 432x288 with 1 Axes>"
      ]
     },
     "metadata": {
      "needs_background": "light"
     },
     "output_type": "display_data"
    }
   ],
   "source": [
    "df7.age_media.hist()"
   ]
  },
  {
   "cell_type": "code",
   "execution_count": 63,
   "id": "d897b13c",
   "metadata": {},
   "outputs": [
    {
     "data": {
      "text/plain": [
       "count    1046.000000\n",
       "mean       29.881135\n",
       "std        14.413500\n",
       "min         0.166700\n",
       "25%        21.000000\n",
       "50%        28.000000\n",
       "75%        39.000000\n",
       "max        80.000000\n",
       "Name: age, dtype: float64"
      ]
     },
     "execution_count": 63,
     "metadata": {},
     "output_type": "execute_result"
    }
   ],
   "source": [
    "df7.age.describe()"
   ]
  },
  {
   "cell_type": "markdown",
   "id": "8ef18105",
   "metadata": {},
   "source": [
    "<a id=\"section214\"></a>\n",
    "## <font color=\"#004D7F\">2.1.4 Imputacion Mediana</font>\n"
   ]
  },
  {
   "cell_type": "markdown",
   "id": "0315282f",
   "metadata": {},
   "source": [
    "#### La mediana no es sensible a valores extremos     *****"
   ]
  },
  {
   "cell_type": "code",
   "execution_count": 64,
   "id": "8b6e3647",
   "metadata": {},
   "outputs": [],
   "source": [
    "df8=df"
   ]
  },
  {
   "cell_type": "code",
   "execution_count": 65,
   "id": "5b58ab32",
   "metadata": {},
   "outputs": [
    {
     "data": {
      "text/html": [
       "<div>\n",
       "<style scoped>\n",
       "    .dataframe tbody tr th:only-of-type {\n",
       "        vertical-align: middle;\n",
       "    }\n",
       "\n",
       "    .dataframe tbody tr th {\n",
       "        vertical-align: top;\n",
       "    }\n",
       "\n",
       "    .dataframe thead th {\n",
       "        text-align: right;\n",
       "    }\n",
       "</style>\n",
       "<table border=\"1\" class=\"dataframe\">\n",
       "  <thead>\n",
       "    <tr style=\"text-align: right;\">\n",
       "      <th></th>\n",
       "      <th>pclass</th>\n",
       "      <th>survived</th>\n",
       "      <th>name</th>\n",
       "      <th>sex</th>\n",
       "      <th>age</th>\n",
       "      <th>sibsp</th>\n",
       "      <th>parch</th>\n",
       "      <th>ticket</th>\n",
       "      <th>fare</th>\n",
       "      <th>cabin</th>\n",
       "      <th>embarked</th>\n",
       "      <th>boat</th>\n",
       "      <th>body</th>\n",
       "      <th>home.dest</th>\n",
       "      <th>age_backward</th>\n",
       "      <th>age_media</th>\n",
       "    </tr>\n",
       "  </thead>\n",
       "  <tbody>\n",
       "    <tr>\n",
       "      <th>0</th>\n",
       "      <td>1</td>\n",
       "      <td>1</td>\n",
       "      <td>Allen, Miss. Elisabeth Walton</td>\n",
       "      <td>female</td>\n",
       "      <td>29.0000</td>\n",
       "      <td>0</td>\n",
       "      <td>0</td>\n",
       "      <td>24160</td>\n",
       "      <td>211.3375</td>\n",
       "      <td>B5</td>\n",
       "      <td>S</td>\n",
       "      <td>2</td>\n",
       "      <td>NaN</td>\n",
       "      <td>St Louis, MO</td>\n",
       "      <td>29.0000</td>\n",
       "      <td>29.0000</td>\n",
       "    </tr>\n",
       "    <tr>\n",
       "      <th>1</th>\n",
       "      <td>1</td>\n",
       "      <td>1</td>\n",
       "      <td>Allison, Master. Hudson Trevor</td>\n",
       "      <td>male</td>\n",
       "      <td>0.9167</td>\n",
       "      <td>1</td>\n",
       "      <td>2</td>\n",
       "      <td>113781</td>\n",
       "      <td>151.5500</td>\n",
       "      <td>C22 C26</td>\n",
       "      <td>S</td>\n",
       "      <td>11</td>\n",
       "      <td>NaN</td>\n",
       "      <td>Montreal, PQ / Chesterville, ON</td>\n",
       "      <td>0.9167</td>\n",
       "      <td>0.9167</td>\n",
       "    </tr>\n",
       "    <tr>\n",
       "      <th>2</th>\n",
       "      <td>1</td>\n",
       "      <td>0</td>\n",
       "      <td>Allison, Miss. Helen Loraine</td>\n",
       "      <td>female</td>\n",
       "      <td>2.0000</td>\n",
       "      <td>1</td>\n",
       "      <td>2</td>\n",
       "      <td>113781</td>\n",
       "      <td>151.5500</td>\n",
       "      <td>C22 C26</td>\n",
       "      <td>S</td>\n",
       "      <td>NaN</td>\n",
       "      <td>NaN</td>\n",
       "      <td>Montreal, PQ / Chesterville, ON</td>\n",
       "      <td>2.0000</td>\n",
       "      <td>2.0000</td>\n",
       "    </tr>\n",
       "  </tbody>\n",
       "</table>\n",
       "</div>"
      ],
      "text/plain": [
       "   pclass  survived                            name     sex      age  sibsp  \\\n",
       "0       1         1   Allen, Miss. Elisabeth Walton  female  29.0000      0   \n",
       "1       1         1  Allison, Master. Hudson Trevor    male   0.9167      1   \n",
       "2       1         0    Allison, Miss. Helen Loraine  female   2.0000      1   \n",
       "\n",
       "   parch  ticket      fare    cabin embarked boat  body  \\\n",
       "0      0   24160  211.3375       B5        S    2   NaN   \n",
       "1      2  113781  151.5500  C22 C26        S   11   NaN   \n",
       "2      2  113781  151.5500  C22 C26        S  NaN   NaN   \n",
       "\n",
       "                         home.dest  age_backward  age_media  \n",
       "0                     St Louis, MO       29.0000    29.0000  \n",
       "1  Montreal, PQ / Chesterville, ON        0.9167     0.9167  \n",
       "2  Montreal, PQ / Chesterville, ON        2.0000     2.0000  "
      ]
     },
     "execution_count": 65,
     "metadata": {},
     "output_type": "execute_result"
    }
   ],
   "source": [
    "df8.head(3)"
   ]
  },
  {
   "cell_type": "markdown",
   "id": "6af987e6",
   "metadata": {},
   "source": [
    "#### ¿Cuantos valores perdidos hay?"
   ]
  },
  {
   "cell_type": "code",
   "execution_count": 66,
   "id": "da9d74c8",
   "metadata": {},
   "outputs": [
    {
     "data": {
      "text/plain": [
       "263"
      ]
     },
     "execution_count": 66,
     "metadata": {},
     "output_type": "execute_result"
    }
   ],
   "source": [
    "df8.age.isnull().sum()"
   ]
  },
  {
   "cell_type": "markdown",
   "id": "a03024b4",
   "metadata": {},
   "source": [
    "#### La mediana es :"
   ]
  },
  {
   "cell_type": "code",
   "execution_count": 67,
   "id": "b675ed83",
   "metadata": {},
   "outputs": [
    {
     "data": {
      "text/plain": [
       "28.0"
      ]
     },
     "execution_count": 67,
     "metadata": {},
     "output_type": "execute_result"
    }
   ],
   "source": [
    "df8.age.median()"
   ]
  },
  {
   "cell_type": "markdown",
   "id": "63c23454",
   "metadata": {},
   "source": [
    "<a id=\"section2141\"></a>\n",
    "## <font color=\"#004D7F\">2.1.4.1 Agregamos una columna</font>\n"
   ]
  },
  {
   "cell_type": "code",
   "execution_count": 68,
   "id": "b48d408c",
   "metadata": {},
   "outputs": [],
   "source": [
    "df8['age_mediana']=df8['age'].fillna(df8['age'].median())"
   ]
  },
  {
   "cell_type": "markdown",
   "id": "171ff8c6",
   "metadata": {},
   "source": [
    "#### ¿Cuantos valores perdidos hay?"
   ]
  },
  {
   "cell_type": "code",
   "execution_count": 69,
   "id": "aedb2744",
   "metadata": {},
   "outputs": [
    {
     "data": {
      "text/plain": [
       "0"
      ]
     },
     "execution_count": 69,
     "metadata": {},
     "output_type": "execute_result"
    }
   ],
   "source": [
    "df8.age_mediana.isnull().sum()"
   ]
  },
  {
   "cell_type": "markdown",
   "id": "de786498",
   "metadata": {},
   "source": [
    "#### La mediana es :"
   ]
  },
  {
   "cell_type": "code",
   "execution_count": 70,
   "id": "1bb156c2",
   "metadata": {},
   "outputs": [
    {
     "data": {
      "text/plain": [
       "28.0"
      ]
     },
     "execution_count": 70,
     "metadata": {},
     "output_type": "execute_result"
    }
   ],
   "source": [
    "df8.age_mediana.median()"
   ]
  },
  {
   "cell_type": "code",
   "execution_count": 71,
   "id": "08528dd0",
   "metadata": {},
   "outputs": [
    {
     "data": {
      "text/plain": [
       "<AxesSubplot:>"
      ]
     },
     "execution_count": 71,
     "metadata": {},
     "output_type": "execute_result"
    },
    {
     "data": {
      "image/png": "[encoded data removed]",
      "text/plain": [
       "<Figure size 432x288 with 1 Axes>"
      ]
     },
     "metadata": {
      "needs_background": "light"
     },
     "output_type": "display_data"
    }
   ],
   "source": [
    "df8.age.hist()"
   ]
  },
  {
   "cell_type": "code",
   "execution_count": 72,
   "id": "c49ecf76",
   "metadata": {},
   "outputs": [
    {
     "data": {
      "text/plain": [
       "<AxesSubplot:>"
      ]
     },
     "execution_count": 72,
     "metadata": {},
     "output_type": "execute_result"
    },
    {
     "data": {
      "image/png": "[encoded data removed]",
      "text/plain": [
       "<Figure size 432x288 with 1 Axes>"
      ]
     },
     "metadata": {
      "needs_background": "light"
     },
     "output_type": "display_data"
    }
   ],
   "source": [
    "df8.age_mediana.hist()"
   ]
  },
  {
   "cell_type": "markdown",
   "id": "5947c5c2",
   "metadata": {},
   "source": [
    "<a id=\"section215\"></a>\n",
    "## <font color=\"#004D7F\">2.1.5 Imputacion Moda</font>"
   ]
  },
  {
   "cell_type": "markdown",
   "id": "f8c8f985",
   "metadata": {},
   "source": [
    "#### No usar cuando hay desagregaciones(muy dispersa)"
   ]
  },
  {
   "cell_type": "code",
   "execution_count": 73,
   "id": "d2568189",
   "metadata": {},
   "outputs": [],
   "source": [
    "df9=df"
   ]
  },
  {
   "cell_type": "code",
   "execution_count": 74,
   "id": "9aca14c1",
   "metadata": {},
   "outputs": [
    {
     "data": {
      "text/html": [
       "<div>\n",
       "<style scoped>\n",
       "    .dataframe tbody tr th:only-of-type {\n",
       "        vertical-align: middle;\n",
       "    }\n",
       "\n",
       "    .dataframe tbody tr th {\n",
       "        vertical-align: top;\n",
       "    }\n",
       "\n",
       "    .dataframe thead th {\n",
       "        text-align: right;\n",
       "    }\n",
       "</style>\n",
       "<table border=\"1\" class=\"dataframe\">\n",
       "  <thead>\n",
       "    <tr style=\"text-align: right;\">\n",
       "      <th></th>\n",
       "      <th>pclass</th>\n",
       "      <th>survived</th>\n",
       "      <th>name</th>\n",
       "      <th>sex</th>\n",
       "      <th>age</th>\n",
       "      <th>sibsp</th>\n",
       "      <th>parch</th>\n",
       "      <th>ticket</th>\n",
       "      <th>fare</th>\n",
       "      <th>cabin</th>\n",
       "      <th>embarked</th>\n",
       "      <th>boat</th>\n",
       "      <th>body</th>\n",
       "      <th>home.dest</th>\n",
       "      <th>age_backward</th>\n",
       "      <th>age_media</th>\n",
       "      <th>age_mediana</th>\n",
       "    </tr>\n",
       "  </thead>\n",
       "  <tbody>\n",
       "    <tr>\n",
       "      <th>0</th>\n",
       "      <td>1</td>\n",
       "      <td>1</td>\n",
       "      <td>Allen, Miss. Elisabeth Walton</td>\n",
       "      <td>female</td>\n",
       "      <td>29.0000</td>\n",
       "      <td>0</td>\n",
       "      <td>0</td>\n",
       "      <td>24160</td>\n",
       "      <td>211.3375</td>\n",
       "      <td>B5</td>\n",
       "      <td>S</td>\n",
       "      <td>2</td>\n",
       "      <td>NaN</td>\n",
       "      <td>St Louis, MO</td>\n",
       "      <td>29.0000</td>\n",
       "      <td>29.0000</td>\n",
       "      <td>29.0000</td>\n",
       "    </tr>\n",
       "    <tr>\n",
       "      <th>1</th>\n",
       "      <td>1</td>\n",
       "      <td>1</td>\n",
       "      <td>Allison, Master. Hudson Trevor</td>\n",
       "      <td>male</td>\n",
       "      <td>0.9167</td>\n",
       "      <td>1</td>\n",
       "      <td>2</td>\n",
       "      <td>113781</td>\n",
       "      <td>151.5500</td>\n",
       "      <td>C22 C26</td>\n",
       "      <td>S</td>\n",
       "      <td>11</td>\n",
       "      <td>NaN</td>\n",
       "      <td>Montreal, PQ / Chesterville, ON</td>\n",
       "      <td>0.9167</td>\n",
       "      <td>0.9167</td>\n",
       "      <td>0.9167</td>\n",
       "    </tr>\n",
       "    <tr>\n",
       "      <th>2</th>\n",
       "      <td>1</td>\n",
       "      <td>0</td>\n",
       "      <td>Allison, Miss. Helen Loraine</td>\n",
       "      <td>female</td>\n",
       "      <td>2.0000</td>\n",
       "      <td>1</td>\n",
       "      <td>2</td>\n",
       "      <td>113781</td>\n",
       "      <td>151.5500</td>\n",
       "      <td>C22 C26</td>\n",
       "      <td>S</td>\n",
       "      <td>NaN</td>\n",
       "      <td>NaN</td>\n",
       "      <td>Montreal, PQ / Chesterville, ON</td>\n",
       "      <td>2.0000</td>\n",
       "      <td>2.0000</td>\n",
       "      <td>2.0000</td>\n",
       "    </tr>\n",
       "  </tbody>\n",
       "</table>\n",
       "</div>"
      ],
      "text/plain": [
       "   pclass  survived                            name     sex      age  sibsp  \\\n",
       "0       1         1   Allen, Miss. Elisabeth Walton  female  29.0000      0   \n",
       "1       1         1  Allison, Master. Hudson Trevor    male   0.9167      1   \n",
       "2       1         0    Allison, Miss. Helen Loraine  female   2.0000      1   \n",
       "\n",
       "   parch  ticket      fare    cabin embarked boat  body  \\\n",
       "0      0   24160  211.3375       B5        S    2   NaN   \n",
       "1      2  113781  151.5500  C22 C26        S   11   NaN   \n",
       "2      2  113781  151.5500  C22 C26        S  NaN   NaN   \n",
       "\n",
       "                         home.dest  age_backward  age_media  age_mediana  \n",
       "0                     St Louis, MO       29.0000    29.0000      29.0000  \n",
       "1  Montreal, PQ / Chesterville, ON        0.9167     0.9167       0.9167  \n",
       "2  Montreal, PQ / Chesterville, ON        2.0000     2.0000       2.0000  "
      ]
     },
     "execution_count": 74,
     "metadata": {},
     "output_type": "execute_result"
    }
   ],
   "source": [
    "df9.head(3)"
   ]
  },
  {
   "cell_type": "markdown",
   "id": "abe78963",
   "metadata": {},
   "source": [
    "#### ¿Cuantos valores perdidos hay?"
   ]
  },
  {
   "cell_type": "code",
   "execution_count": 75,
   "id": "efa5d7c7",
   "metadata": {},
   "outputs": [
    {
     "data": {
      "text/plain": [
       "263"
      ]
     },
     "execution_count": 75,
     "metadata": {},
     "output_type": "execute_result"
    }
   ],
   "source": [
    "df9.age.isnull().sum()"
   ]
  },
  {
   "cell_type": "markdown",
   "id": "1af74d94",
   "metadata": {},
   "source": [
    "#### La moda es :"
   ]
  },
  {
   "cell_type": "code",
   "execution_count": 76,
   "id": "015b80f0",
   "metadata": {},
   "outputs": [
    {
     "data": {
      "text/plain": [
       "0    24.0\n",
       "dtype: float64"
      ]
     },
     "execution_count": 76,
     "metadata": {},
     "output_type": "execute_result"
    }
   ],
   "source": [
    "df9.age.mode()"
   ]
  },
  {
   "cell_type": "markdown",
   "id": "905e6cd3",
   "metadata": {},
   "source": [
    "<a id=\"section2151\"></a>\n",
    "## <font color=\"#004D7F\">2.1.5.1 Agregamos una columna</font>"
   ]
  },
  {
   "cell_type": "code",
   "execution_count": 77,
   "id": "f89c318d",
   "metadata": {},
   "outputs": [],
   "source": [
    "df9['age_moda']=df9['age'].fillna(df9['age'].mode())"
   ]
  },
  {
   "cell_type": "markdown",
   "id": "997b9f5e",
   "metadata": {},
   "source": [
    "#### ¿Cuantos valores perdidos hay?"
   ]
  },
  {
   "cell_type": "code",
   "execution_count": 78,
   "id": "ebf28b5e",
   "metadata": {},
   "outputs": [
    {
     "data": {
      "text/plain": [
       "263"
      ]
     },
     "execution_count": 78,
     "metadata": {},
     "output_type": "execute_result"
    }
   ],
   "source": [
    "df9.age_moda.isnull().sum()"
   ]
  },
  {
   "cell_type": "markdown",
   "id": "594f6623",
   "metadata": {},
   "source": [
    "#### La moda es :"
   ]
  },
  {
   "cell_type": "markdown",
   "id": "55679196",
   "metadata": {},
   "source": [
    "<a id=\"section216\"></a>\n",
    "## <font color=\"#004D7F\">2.1.6 Simple Imputer- media</font>"
   ]
  },
  {
   "cell_type": "markdown",
   "id": "14ad5f7e",
   "metadata": {},
   "source": [
    "#### SimpleImputer"
   ]
  },
  {
   "cell_type": "code",
   "execution_count": 79,
   "id": "6573bd6b",
   "metadata": {},
   "outputs": [],
   "source": [
    "from sklearn.impute import SimpleImputer"
   ]
  },
  {
   "cell_type": "code",
   "execution_count": 80,
   "id": "3e959693",
   "metadata": {},
   "outputs": [],
   "source": [
    "df10=df"
   ]
  },
  {
   "cell_type": "markdown",
   "id": "7147b4b0",
   "metadata": {},
   "source": [
    "#### Paso 1 : imputador"
   ]
  },
  {
   "cell_type": "code",
   "execution_count": 81,
   "id": "58eafe5a",
   "metadata": {},
   "outputs": [],
   "source": [
    "imp=SimpleImputer(missing_values=np.nan,strategy='mean') #median ,most_frequent"
   ]
  },
  {
   "cell_type": "markdown",
   "id": "2e3f0c71",
   "metadata": {},
   "source": [
    "#### Paso 2 : ajustar"
   ]
  },
  {
   "cell_type": "code",
   "execution_count": 82,
   "id": "9ada8926",
   "metadata": {},
   "outputs": [
    {
     "data": {
      "text/plain": [
       "SimpleImputer()"
      ]
     },
     "execution_count": 82,
     "metadata": {},
     "output_type": "execute_result"
    }
   ],
   "source": [
    "imp.fit(df10[['age']])"
   ]
  },
  {
   "cell_type": "markdown",
   "id": "8af7563b",
   "metadata": {},
   "source": [
    "#### Paso 3: transformar"
   ]
  },
  {
   "cell_type": "code",
   "execution_count": 83,
   "id": "f3900522",
   "metadata": {},
   "outputs": [],
   "source": [
    "df10['age_sim_media']=imp.transform(df10[['age']])"
   ]
  },
  {
   "cell_type": "code",
   "execution_count": 84,
   "id": "46e2e330",
   "metadata": {},
   "outputs": [
    {
     "data": {
      "text/plain": [
       "0"
      ]
     },
     "execution_count": 84,
     "metadata": {},
     "output_type": "execute_result"
    }
   ],
   "source": [
    "df10.age_sim_media.isnull().sum()"
   ]
  },
  {
   "cell_type": "code",
   "execution_count": 85,
   "id": "8b943b31",
   "metadata": {},
   "outputs": [
    {
     "data": {
      "text/plain": [
       "263"
      ]
     },
     "execution_count": 85,
     "metadata": {},
     "output_type": "execute_result"
    }
   ],
   "source": [
    "df.age.isnull().sum()"
   ]
  },
  {
   "cell_type": "code",
   "execution_count": 86,
   "id": "7b9d8d1d",
   "metadata": {},
   "outputs": [
    {
     "data": {
      "text/plain": [
       "<AxesSubplot:>"
      ]
     },
     "execution_count": 86,
     "metadata": {},
     "output_type": "execute_result"
    },
    {
     "data": {
      "image/png": "[encoded data removed]",
      "text/plain": [
       "<Figure size 432x288 with 1 Axes>"
      ]
     },
     "metadata": {
      "needs_background": "light"
     },
     "output_type": "display_data"
    }
   ],
   "source": [
    "df10.age_sim_media.hist()"
   ]
  },
  {
   "cell_type": "code",
   "execution_count": 87,
   "id": "0f1b83b7",
   "metadata": {},
   "outputs": [
    {
     "data": {
      "text/plain": [
       "<AxesSubplot:>"
      ]
     },
     "execution_count": 87,
     "metadata": {},
     "output_type": "execute_result"
    },
    {
     "data": {
      "image/png": "[encoded data removed]",
      "text/plain": [
       "<Figure size 432x288 with 1 Axes>"
      ]
     },
     "metadata": {
      "needs_background": "light"
     },
     "output_type": "display_data"
    }
   ],
   "source": [
    "df.age.hist()"
   ]
  },
  {
   "cell_type": "code",
   "execution_count": 88,
   "id": "a87bff24",
   "metadata": {},
   "outputs": [
    {
     "data": {
      "text/html": [
       "<div>\n",
       "<style scoped>\n",
       "    .dataframe tbody tr th:only-of-type {\n",
       "        vertical-align: middle;\n",
       "    }\n",
       "\n",
       "    .dataframe tbody tr th {\n",
       "        vertical-align: top;\n",
       "    }\n",
       "\n",
       "    .dataframe thead th {\n",
       "        text-align: right;\n",
       "    }\n",
       "</style>\n",
       "<table border=\"1\" class=\"dataframe\">\n",
       "  <thead>\n",
       "    <tr style=\"text-align: right;\">\n",
       "      <th></th>\n",
       "      <th>pclass</th>\n",
       "      <th>survived</th>\n",
       "      <th>name</th>\n",
       "      <th>sex</th>\n",
       "      <th>age</th>\n",
       "      <th>sibsp</th>\n",
       "      <th>parch</th>\n",
       "      <th>ticket</th>\n",
       "      <th>fare</th>\n",
       "      <th>cabin</th>\n",
       "      <th>embarked</th>\n",
       "      <th>boat</th>\n",
       "      <th>body</th>\n",
       "      <th>home.dest</th>\n",
       "      <th>age_backward</th>\n",
       "      <th>age_media</th>\n",
       "      <th>age_mediana</th>\n",
       "      <th>age_moda</th>\n",
       "      <th>age_sim_media</th>\n",
       "    </tr>\n",
       "  </thead>\n",
       "  <tbody>\n",
       "    <tr>\n",
       "      <th>0</th>\n",
       "      <td>1</td>\n",
       "      <td>1</td>\n",
       "      <td>Allen, Miss. Elisabeth Walton</td>\n",
       "      <td>female</td>\n",
       "      <td>29.0000</td>\n",
       "      <td>0</td>\n",
       "      <td>0</td>\n",
       "      <td>24160</td>\n",
       "      <td>211.3375</td>\n",
       "      <td>B5</td>\n",
       "      <td>S</td>\n",
       "      <td>2</td>\n",
       "      <td>NaN</td>\n",
       "      <td>St Louis, MO</td>\n",
       "      <td>29.0000</td>\n",
       "      <td>29.0000</td>\n",
       "      <td>29.0000</td>\n",
       "      <td>29.0000</td>\n",
       "      <td>29.0000</td>\n",
       "    </tr>\n",
       "    <tr>\n",
       "      <th>1</th>\n",
       "      <td>1</td>\n",
       "      <td>1</td>\n",
       "      <td>Allison, Master. Hudson Trevor</td>\n",
       "      <td>male</td>\n",
       "      <td>0.9167</td>\n",
       "      <td>1</td>\n",
       "      <td>2</td>\n",
       "      <td>113781</td>\n",
       "      <td>151.5500</td>\n",
       "      <td>C22 C26</td>\n",
       "      <td>S</td>\n",
       "      <td>11</td>\n",
       "      <td>NaN</td>\n",
       "      <td>Montreal, PQ / Chesterville, ON</td>\n",
       "      <td>0.9167</td>\n",
       "      <td>0.9167</td>\n",
       "      <td>0.9167</td>\n",
       "      <td>0.9167</td>\n",
       "      <td>0.9167</td>\n",
       "    </tr>\n",
       "    <tr>\n",
       "      <th>2</th>\n",
       "      <td>1</td>\n",
       "      <td>0</td>\n",
       "      <td>Allison, Miss. Helen Loraine</td>\n",
       "      <td>female</td>\n",
       "      <td>2.0000</td>\n",
       "      <td>1</td>\n",
       "      <td>2</td>\n",
       "      <td>113781</td>\n",
       "      <td>151.5500</td>\n",
       "      <td>C22 C26</td>\n",
       "      <td>S</td>\n",
       "      <td>NaN</td>\n",
       "      <td>NaN</td>\n",
       "      <td>Montreal, PQ / Chesterville, ON</td>\n",
       "      <td>2.0000</td>\n",
       "      <td>2.0000</td>\n",
       "      <td>2.0000</td>\n",
       "      <td>2.0000</td>\n",
       "      <td>2.0000</td>\n",
       "    </tr>\n",
       "    <tr>\n",
       "      <th>3</th>\n",
       "      <td>1</td>\n",
       "      <td>0</td>\n",
       "      <td>Allison, Mr. Hudson Joshua Creighton</td>\n",
       "      <td>male</td>\n",
       "      <td>30.0000</td>\n",
       "      <td>1</td>\n",
       "      <td>2</td>\n",
       "      <td>113781</td>\n",
       "      <td>151.5500</td>\n",
       "      <td>C22 C26</td>\n",
       "      <td>S</td>\n",
       "      <td>NaN</td>\n",
       "      <td>135.0</td>\n",
       "      <td>Montreal, PQ / Chesterville, ON</td>\n",
       "      <td>30.0000</td>\n",
       "      <td>30.0000</td>\n",
       "      <td>30.0000</td>\n",
       "      <td>30.0000</td>\n",
       "      <td>30.0000</td>\n",
       "    </tr>\n",
       "    <tr>\n",
       "      <th>4</th>\n",
       "      <td>1</td>\n",
       "      <td>0</td>\n",
       "      <td>Allison, Mrs. Hudson J C (Bessie Waldo Daniels)</td>\n",
       "      <td>female</td>\n",
       "      <td>25.0000</td>\n",
       "      <td>1</td>\n",
       "      <td>2</td>\n",
       "      <td>113781</td>\n",
       "      <td>151.5500</td>\n",
       "      <td>C22 C26</td>\n",
       "      <td>S</td>\n",
       "      <td>NaN</td>\n",
       "      <td>NaN</td>\n",
       "      <td>Montreal, PQ / Chesterville, ON</td>\n",
       "      <td>25.0000</td>\n",
       "      <td>25.0000</td>\n",
       "      <td>25.0000</td>\n",
       "      <td>25.0000</td>\n",
       "      <td>25.0000</td>\n",
       "    </tr>\n",
       "  </tbody>\n",
       "</table>\n",
       "</div>"
      ],
      "text/plain": [
       "   pclass  survived                                             name     sex  \\\n",
       "0       1         1                    Allen, Miss. Elisabeth Walton  female   \n",
       "1       1         1                   Allison, Master. Hudson Trevor    male   \n",
       "2       1         0                     Allison, Miss. Helen Loraine  female   \n",
       "3       1         0             Allison, Mr. Hudson Joshua Creighton    male   \n",
       "4       1         0  Allison, Mrs. Hudson J C (Bessie Waldo Daniels)  female   \n",
       "\n",
       "       age  sibsp  parch  ticket      fare    cabin embarked boat   body  \\\n",
       "0  29.0000      0      0   24160  211.3375       B5        S    2    NaN   \n",
       "1   0.9167      1      2  113781  151.5500  C22 C26        S   11    NaN   \n",
       "2   2.0000      1      2  113781  151.5500  C22 C26        S  NaN    NaN   \n",
       "3  30.0000      1      2  113781  151.5500  C22 C26        S  NaN  135.0   \n",
       "4  25.0000      1      2  113781  151.5500  C22 C26        S  NaN    NaN   \n",
       "\n",
       "                         home.dest  age_backward  age_media  age_mediana  \\\n",
       "0                     St Louis, MO       29.0000    29.0000      29.0000   \n",
       "1  Montreal, PQ / Chesterville, ON        0.9167     0.9167       0.9167   \n",
       "2  Montreal, PQ / Chesterville, ON        2.0000     2.0000       2.0000   \n",
       "3  Montreal, PQ / Chesterville, ON       30.0000    30.0000      30.0000   \n",
       "4  Montreal, PQ / Chesterville, ON       25.0000    25.0000      25.0000   \n",
       "\n",
       "   age_moda  age_sim_media  \n",
       "0   29.0000        29.0000  \n",
       "1    0.9167         0.9167  \n",
       "2    2.0000         2.0000  \n",
       "3   30.0000        30.0000  \n",
       "4   25.0000        25.0000  "
      ]
     },
     "execution_count": 88,
     "metadata": {},
     "output_type": "execute_result"
    }
   ],
   "source": [
    "df10.head(5)"
   ]
  },
  {
   "cell_type": "markdown",
   "id": "1dad625e",
   "metadata": {},
   "source": [
    "<a id=\"section217\"></a>\n",
    "## <font color=\"#004D7F\">2.1.7 Simple Imputer- mediana</font>"
   ]
  },
  {
   "cell_type": "markdown",
   "id": "63513243",
   "metadata": {},
   "source": [
    "#### SimpleImputer"
   ]
  },
  {
   "cell_type": "code",
   "execution_count": 89,
   "id": "84d8ade2",
   "metadata": {},
   "outputs": [],
   "source": [
    "from sklearn.impute import SimpleImputer"
   ]
  },
  {
   "cell_type": "code",
   "execution_count": 90,
   "id": "442d6cb9",
   "metadata": {},
   "outputs": [],
   "source": [
    "df11=df"
   ]
  },
  {
   "cell_type": "markdown",
   "id": "e12ec713",
   "metadata": {},
   "source": [
    "#### Paso 1 : imputador"
   ]
  },
  {
   "cell_type": "code",
   "execution_count": 91,
   "id": "ad8b42a7",
   "metadata": {},
   "outputs": [],
   "source": [
    "imp=SimpleImputer(missing_values=np.nan,strategy='median') #most_frequent,mean"
   ]
  },
  {
   "cell_type": "markdown",
   "id": "5d942716",
   "metadata": {},
   "source": [
    "#### Paso 2 : ajustar"
   ]
  },
  {
   "cell_type": "code",
   "execution_count": 92,
   "id": "2182e4a3",
   "metadata": {},
   "outputs": [
    {
     "data": {
      "text/plain": [
       "SimpleImputer(strategy='median')"
      ]
     },
     "execution_count": 92,
     "metadata": {},
     "output_type": "execute_result"
    }
   ],
   "source": [
    "imp.fit(df11[['age']])"
   ]
  },
  {
   "cell_type": "markdown",
   "id": "49145a1d",
   "metadata": {},
   "source": [
    "#### Paso 3: transformar"
   ]
  },
  {
   "cell_type": "code",
   "execution_count": 93,
   "id": "f2edf248",
   "metadata": {},
   "outputs": [],
   "source": [
    "df11['age_sim_mediana']=imp.transform(df11[['age']])"
   ]
  },
  {
   "cell_type": "code",
   "execution_count": 94,
   "id": "d4b2b49d",
   "metadata": {},
   "outputs": [
    {
     "data": {
      "text/plain": [
       "0"
      ]
     },
     "execution_count": 94,
     "metadata": {},
     "output_type": "execute_result"
    }
   ],
   "source": [
    "df11.age_sim_mediana.isnull().sum()"
   ]
  },
  {
   "cell_type": "code",
   "execution_count": 95,
   "id": "13141c57",
   "metadata": {},
   "outputs": [
    {
     "data": {
      "text/plain": [
       "263"
      ]
     },
     "execution_count": 95,
     "metadata": {},
     "output_type": "execute_result"
    }
   ],
   "source": [
    "df11.age.isnull().sum()"
   ]
  },
  {
   "cell_type": "code",
   "execution_count": 96,
   "id": "e9dd5294",
   "metadata": {},
   "outputs": [
    {
     "data": {
      "text/plain": [
       "<AxesSubplot:>"
      ]
     },
     "execution_count": 96,
     "metadata": {},
     "output_type": "execute_result"
    },
    {
     "data": {
      "image/png": "[encoded data removed]",
      "text/plain": [
       "<Figure size 432x288 with 1 Axes>"
      ]
     },
     "metadata": {
      "needs_background": "light"
     },
     "output_type": "display_data"
    }
   ],
   "source": [
    "df11.age_sim_mediana.hist()"
   ]
  },
  {
   "cell_type": "code",
   "execution_count": 97,
   "id": "6559f661",
   "metadata": {},
   "outputs": [
    {
     "data": {
      "text/plain": [
       "<AxesSubplot:>"
      ]
     },
     "execution_count": 97,
     "metadata": {},
     "output_type": "execute_result"
    },
    {
     "data": {
      "image/png": "[encoded data removed]",
      "text/plain": [
       "<Figure size 432x288 with 1 Axes>"
      ]
     },
     "metadata": {
      "needs_background": "light"
     },
     "output_type": "display_data"
    }
   ],
   "source": [
    "df.age.hist()"
   ]
  },
  {
   "cell_type": "markdown",
   "id": "96024115",
   "metadata": {},
   "source": [
    "<a id=\"section218\"></a>\n",
    "## <font color=\"#004D7F\">2.1.8 Simple Imputer- moda</font>"
   ]
  },
  {
   "cell_type": "markdown",
   "id": "9329db5b",
   "metadata": {},
   "source": [
    "#### SimpleImputer"
   ]
  },
  {
   "cell_type": "code",
   "execution_count": 98,
   "id": "661cd739",
   "metadata": {},
   "outputs": [],
   "source": [
    "from sklearn.impute import SimpleImputer"
   ]
  },
  {
   "cell_type": "code",
   "execution_count": 99,
   "id": "4c7ae086",
   "metadata": {},
   "outputs": [],
   "source": [
    "df12=df"
   ]
  },
  {
   "cell_type": "markdown",
   "id": "88331248",
   "metadata": {},
   "source": [
    "#### Paso 1 : imputador"
   ]
  },
  {
   "cell_type": "code",
   "execution_count": 100,
   "id": "d97db59a",
   "metadata": {},
   "outputs": [],
   "source": [
    "imp=SimpleImputer(missing_values=np.nan,strategy='most_frequent') #most_frequent,mean,median"
   ]
  },
  {
   "cell_type": "markdown",
   "id": "73c6e9ad",
   "metadata": {},
   "source": [
    "#### Paso 2 : ajustar"
   ]
  },
  {
   "cell_type": "code",
   "execution_count": 101,
   "id": "45318621",
   "metadata": {},
   "outputs": [
    {
     "data": {
      "text/plain": [
       "SimpleImputer(strategy='most_frequent')"
      ]
     },
     "execution_count": 101,
     "metadata": {},
     "output_type": "execute_result"
    }
   ],
   "source": [
    "imp.fit(df12[['age']])"
   ]
  },
  {
   "cell_type": "markdown",
   "id": "37c469a1",
   "metadata": {},
   "source": [
    "#### Paso 3: transformar"
   ]
  },
  {
   "cell_type": "code",
   "execution_count": 102,
   "id": "f123ada6",
   "metadata": {},
   "outputs": [],
   "source": [
    "df12['age_sim_moda']=imp.transform(df12[['age']])"
   ]
  },
  {
   "cell_type": "code",
   "execution_count": 103,
   "id": "a09c6ba4",
   "metadata": {},
   "outputs": [
    {
     "data": {
      "text/plain": [
       "0"
      ]
     },
     "execution_count": 103,
     "metadata": {},
     "output_type": "execute_result"
    }
   ],
   "source": [
    "df12.age_sim_moda.isnull().sum()"
   ]
  },
  {
   "cell_type": "code",
   "execution_count": 104,
   "id": "42e01023",
   "metadata": {},
   "outputs": [
    {
     "data": {
      "text/plain": [
       "263"
      ]
     },
     "execution_count": 104,
     "metadata": {},
     "output_type": "execute_result"
    }
   ],
   "source": [
    "df.age.isnull().sum()"
   ]
  },
  {
   "cell_type": "code",
   "execution_count": 105,
   "id": "7dc2eeaa",
   "metadata": {},
   "outputs": [
    {
     "data": {
      "text/plain": [
       "<AxesSubplot:>"
      ]
     },
     "execution_count": 105,
     "metadata": {},
     "output_type": "execute_result"
    },
    {
     "data": {
      "image/png": "[encoded data removed]",
      "text/plain": [
       "<Figure size 432x288 with 1 Axes>"
      ]
     },
     "metadata": {
      "needs_background": "light"
     },
     "output_type": "display_data"
    }
   ],
   "source": [
    "df12.age_sim_moda.hist()"
   ]
  },
  {
   "cell_type": "code",
   "execution_count": 106,
   "id": "b85c94bf",
   "metadata": {},
   "outputs": [
    {
     "data": {
      "text/plain": [
       "<AxesSubplot:>"
      ]
     },
     "execution_count": 106,
     "metadata": {},
     "output_type": "execute_result"
    },
    {
     "data": {
      "image/png": "[encoded data removed]",
      "text/plain": [
       "<Figure size 432x288 with 1 Axes>"
      ]
     },
     "metadata": {
      "needs_background": "light"
     },
     "output_type": "display_data"
    }
   ],
   "source": [
    "df.age.hist()"
   ]
  },
  {
   "cell_type": "markdown",
   "id": "dabc2241",
   "metadata": {},
   "source": [
    "<a id=\"section3\"></a>\n",
    "## <font color=\"#004D7F\">3. Outliers</font>"
   ]
  },
  {
   "cell_type": "code",
   "execution_count": 107,
   "id": "a08a8c32",
   "metadata": {},
   "outputs": [
    {
     "data": {
      "text/plain": [
       "Index(['pclass', 'survived', 'name', 'sex', 'age', 'sibsp', 'parch', 'ticket',\n",
       "       'fare', 'cabin', 'embarked', 'boat', 'body', 'home.dest',\n",
       "       'age_backward', 'age_media', 'age_mediana', 'age_moda', 'age_sim_media',\n",
       "       'age_sim_mediana', 'age_sim_moda'],\n",
       "      dtype='object')"
      ]
     },
     "execution_count": 107,
     "metadata": {},
     "output_type": "execute_result"
    }
   ],
   "source": [
    "df.columns"
   ]
  },
  {
   "cell_type": "code",
   "execution_count": 108,
   "id": "d8ed7b5e",
   "metadata": {},
   "outputs": [
    {
     "data": {
      "text/plain": [
       "<AxesSubplot:>"
      ]
     },
     "execution_count": 108,
     "metadata": {},
     "output_type": "execute_result"
    },
    {
     "data": {
      "image/png": "[encoded data removed]",
      "text/plain": [
       "<Figure size 432x288 with 1 Axes>"
      ]
     },
     "metadata": {
      "needs_background": "light"
     },
     "output_type": "display_data"
    }
   ],
   "source": [
    "df.plot.box()"
   ]
  },
  {
   "cell_type": "code",
   "execution_count": 109,
   "id": "24d0e3db",
   "metadata": {},
   "outputs": [
    {
     "data": {
      "text/plain": [
       "Text(0.5, 1.0, 'Age')"
      ]
     },
     "execution_count": 109,
     "metadata": {},
     "output_type": "execute_result"
    },
    {
     "data": {
      "image/png": "[encoded data removed]",
      "text/plain": [
       "<Figure size 432x288 with 1 Axes>"
      ]
     },
     "metadata": {
      "needs_background": "light"
     },
     "output_type": "display_data"
    }
   ],
   "source": [
    "import matplotlib.pyplot as plt\n",
    "plt.boxplot(df[\"age\"])\n",
    "plt.ylabel(\"Outliers\")\n",
    "plt.title(\"Age\")"
   ]
  },
  {
   "cell_type": "markdown",
   "id": "031cf645",
   "metadata": {},
   "source": [
    "#### age_backward"
   ]
  },
  {
   "cell_type": "code",
   "execution_count": 110,
   "id": "a2cea959",
   "metadata": {},
   "outputs": [
    {
     "data": {
      "text/plain": [
       "Text(0.5, 1.0, 'age_backward')"
      ]
     },
     "execution_count": 110,
     "metadata": {},
     "output_type": "execute_result"
    },
    {
     "data": {
      "image/png": "[encoded data removed]",
      "text/plain": [
       "<Figure size 432x288 with 1 Axes>"
      ]
     },
     "metadata": {
      "needs_background": "light"
     },
     "output_type": "display_data"
    }
   ],
   "source": [
    "import matplotlib.pyplot as plt\n",
    "plt.boxplot(df[\"age_backward\"])\n",
    "plt.ylabel(\"Outliers\")\n",
    "plt.title(\"age_backward\")"
   ]
  },
  {
   "cell_type": "markdown",
   "id": "0058c4f3",
   "metadata": {},
   "source": [
    "#### age_media"
   ]
  },
  {
   "cell_type": "code",
   "execution_count": 111,
   "id": "cf3a4df5",
   "metadata": {},
   "outputs": [
    {
     "data": {
      "text/plain": [
       "Text(0.5, 1.0, 'age_media')"
      ]
     },
     "execution_count": 111,
     "metadata": {},
     "output_type": "execute_result"
    },
    {
     "data": {
      "image/png": "[encoded data removed]",
      "text/plain": [
       "<Figure size 432x288 with 1 Axes>"
      ]
     },
     "metadata": {
      "needs_background": "light"
     },
     "output_type": "display_data"
    }
   ],
   "source": [
    "import matplotlib.pyplot as plt\n",
    "plt.boxplot(df[\"age_media\"])\n",
    "plt.ylabel(\"Outliers\")\n",
    "plt.title(\"age_media\")"
   ]
  },
  {
   "cell_type": "markdown",
   "id": "5d3d8f78",
   "metadata": {},
   "source": [
    "<a id=\"section31\"></a>\n",
    "## <font color=\"#004D7F\">3.1 Identifcando valores outliers: Univariado</font>"
   ]
  },
  {
   "cell_type": "markdown",
   "id": "13394ab4",
   "metadata": {},
   "source": [
    "**1.Rango intercuartilico - RI** <br>\n",
    "**2.Puntuacion Z -puntZ**"
   ]
  },
  {
   "cell_type": "markdown",
   "id": "e3a0bfd1",
   "metadata": {},
   "source": [
    "<a id=\"section311\"></a>\n",
    "## <font color=\"#004D7F\">3.1.1 Rango Intercuartil</font>"
   ]
  },
  {
   "cell_type": "markdown",
   "id": "b115b73e",
   "metadata": {},
   "source": [
    "#### Valor outliers"
   ]
  },
  {
   "cell_type": "code",
   "execution_count": 112,
   "id": "8564354a",
   "metadata": {},
   "outputs": [],
   "source": [
    "df13=df"
   ]
  },
  {
   "cell_type": "markdown",
   "id": "811ea723",
   "metadata": {},
   "source": [
    "#### Trabajamos con 'age_backward' ya que es la que mas se parece a 'age'"
   ]
  },
  {
   "cell_type": "code",
   "execution_count": 113,
   "id": "367f08b3",
   "metadata": {},
   "outputs": [],
   "source": [
    "iqr=df13['age_backward'].quantile(0.75)-df13['age_backward'].quantile(0.25)"
   ]
  },
  {
   "cell_type": "code",
   "execution_count": 114,
   "id": "88acff01",
   "metadata": {},
   "outputs": [
    {
     "data": {
      "text/plain": [
       "<AxesSubplot:>"
      ]
     },
     "execution_count": 114,
     "metadata": {},
     "output_type": "execute_result"
    },
    {
     "data": {
      "image/png": "[encoded data removed]",
      "text/plain": [
       "<Figure size 432x288 with 1 Axes>"
      ]
     },
     "metadata": {
      "needs_background": "light"
     },
     "output_type": "display_data"
    }
   ],
   "source": [
    "df.age.hist()"
   ]
  },
  {
   "cell_type": "code",
   "execution_count": 115,
   "id": "b198310b",
   "metadata": {},
   "outputs": [
    {
     "data": {
      "text/plain": [
       "<AxesSubplot:>"
      ]
     },
     "execution_count": 115,
     "metadata": {},
     "output_type": "execute_result"
    },
    {
     "data": {
      "image/png": "[encoded data removed]",
      "text/plain": [
       "<Figure size 432x288 with 1 Axes>"
      ]
     },
     "metadata": {
      "needs_background": "light"
     },
     "output_type": "display_data"
    }
   ],
   "source": [
    "df13.age_backward.hist()"
   ]
  },
  {
   "cell_type": "code",
   "execution_count": 116,
   "id": "b37e04fc",
   "metadata": {},
   "outputs": [],
   "source": [
    "df13['age_outlier_RI']=(df13['age_backward']<np.percentile(df13['age_backward'],25)-1.5*iqr) | (df13['age_backward']>np.percentile(df13['age_backward'],75)-1.5*iqr)"
   ]
  },
  {
   "cell_type": "code",
   "execution_count": 117,
   "id": "35016aeb",
   "metadata": {},
   "outputs": [
    {
     "data": {
      "text/html": [
       "<div>\n",
       "<style scoped>\n",
       "    .dataframe tbody tr th:only-of-type {\n",
       "        vertical-align: middle;\n",
       "    }\n",
       "\n",
       "    .dataframe tbody tr th {\n",
       "        vertical-align: top;\n",
       "    }\n",
       "\n",
       "    .dataframe thead th {\n",
       "        text-align: right;\n",
       "    }\n",
       "</style>\n",
       "<table border=\"1\" class=\"dataframe\">\n",
       "  <thead>\n",
       "    <tr style=\"text-align: right;\">\n",
       "      <th></th>\n",
       "      <th>pclass</th>\n",
       "      <th>survived</th>\n",
       "      <th>name</th>\n",
       "      <th>sex</th>\n",
       "      <th>age</th>\n",
       "      <th>sibsp</th>\n",
       "      <th>parch</th>\n",
       "      <th>ticket</th>\n",
       "      <th>fare</th>\n",
       "      <th>cabin</th>\n",
       "      <th>...</th>\n",
       "      <th>body</th>\n",
       "      <th>home.dest</th>\n",
       "      <th>age_backward</th>\n",
       "      <th>age_media</th>\n",
       "      <th>age_mediana</th>\n",
       "      <th>age_moda</th>\n",
       "      <th>age_sim_media</th>\n",
       "      <th>age_sim_mediana</th>\n",
       "      <th>age_sim_moda</th>\n",
       "      <th>age_outlier_RI</th>\n",
       "    </tr>\n",
       "  </thead>\n",
       "  <tbody>\n",
       "    <tr>\n",
       "      <th>0</th>\n",
       "      <td>1</td>\n",
       "      <td>1</td>\n",
       "      <td>Allen, Miss. Elisabeth Walton</td>\n",
       "      <td>female</td>\n",
       "      <td>29.0</td>\n",
       "      <td>0</td>\n",
       "      <td>0</td>\n",
       "      <td>24160</td>\n",
       "      <td>211.3375</td>\n",
       "      <td>B5</td>\n",
       "      <td>...</td>\n",
       "      <td>NaN</td>\n",
       "      <td>St Louis, MO</td>\n",
       "      <td>29.0</td>\n",
       "      <td>29.000000</td>\n",
       "      <td>29.0</td>\n",
       "      <td>29.0</td>\n",
       "      <td>29.000000</td>\n",
       "      <td>29.0</td>\n",
       "      <td>29.0</td>\n",
       "      <td>True</td>\n",
       "    </tr>\n",
       "    <tr>\n",
       "      <th>3</th>\n",
       "      <td>1</td>\n",
       "      <td>0</td>\n",
       "      <td>Allison, Mr. Hudson Joshua Creighton</td>\n",
       "      <td>male</td>\n",
       "      <td>30.0</td>\n",
       "      <td>1</td>\n",
       "      <td>2</td>\n",
       "      <td>113781</td>\n",
       "      <td>151.5500</td>\n",
       "      <td>C22 C26</td>\n",
       "      <td>...</td>\n",
       "      <td>135.0</td>\n",
       "      <td>Montreal, PQ / Chesterville, ON</td>\n",
       "      <td>30.0</td>\n",
       "      <td>30.000000</td>\n",
       "      <td>30.0</td>\n",
       "      <td>30.0</td>\n",
       "      <td>30.000000</td>\n",
       "      <td>30.0</td>\n",
       "      <td>30.0</td>\n",
       "      <td>True</td>\n",
       "    </tr>\n",
       "    <tr>\n",
       "      <th>4</th>\n",
       "      <td>1</td>\n",
       "      <td>0</td>\n",
       "      <td>Allison, Mrs. Hudson J C (Bessie Waldo Daniels)</td>\n",
       "      <td>female</td>\n",
       "      <td>25.0</td>\n",
       "      <td>1</td>\n",
       "      <td>2</td>\n",
       "      <td>113781</td>\n",
       "      <td>151.5500</td>\n",
       "      <td>C22 C26</td>\n",
       "      <td>...</td>\n",
       "      <td>NaN</td>\n",
       "      <td>Montreal, PQ / Chesterville, ON</td>\n",
       "      <td>25.0</td>\n",
       "      <td>25.000000</td>\n",
       "      <td>25.0</td>\n",
       "      <td>25.0</td>\n",
       "      <td>25.000000</td>\n",
       "      <td>25.0</td>\n",
       "      <td>25.0</td>\n",
       "      <td>True</td>\n",
       "    </tr>\n",
       "    <tr>\n",
       "      <th>5</th>\n",
       "      <td>1</td>\n",
       "      <td>1</td>\n",
       "      <td>Anderson, Mr. Harry</td>\n",
       "      <td>male</td>\n",
       "      <td>48.0</td>\n",
       "      <td>0</td>\n",
       "      <td>0</td>\n",
       "      <td>19952</td>\n",
       "      <td>26.5500</td>\n",
       "      <td>E12</td>\n",
       "      <td>...</td>\n",
       "      <td>NaN</td>\n",
       "      <td>New York, NY</td>\n",
       "      <td>48.0</td>\n",
       "      <td>48.000000</td>\n",
       "      <td>48.0</td>\n",
       "      <td>48.0</td>\n",
       "      <td>48.000000</td>\n",
       "      <td>48.0</td>\n",
       "      <td>48.0</td>\n",
       "      <td>True</td>\n",
       "    </tr>\n",
       "    <tr>\n",
       "      <th>6</th>\n",
       "      <td>1</td>\n",
       "      <td>1</td>\n",
       "      <td>Andrews, Miss. Kornelia Theodosia</td>\n",
       "      <td>female</td>\n",
       "      <td>63.0</td>\n",
       "      <td>1</td>\n",
       "      <td>0</td>\n",
       "      <td>13502</td>\n",
       "      <td>77.9583</td>\n",
       "      <td>D7</td>\n",
       "      <td>...</td>\n",
       "      <td>NaN</td>\n",
       "      <td>Hudson, NY</td>\n",
       "      <td>63.0</td>\n",
       "      <td>63.000000</td>\n",
       "      <td>63.0</td>\n",
       "      <td>63.0</td>\n",
       "      <td>63.000000</td>\n",
       "      <td>63.0</td>\n",
       "      <td>63.0</td>\n",
       "      <td>True</td>\n",
       "    </tr>\n",
       "    <tr>\n",
       "      <th>...</th>\n",
       "      <td>...</td>\n",
       "      <td>...</td>\n",
       "      <td>...</td>\n",
       "      <td>...</td>\n",
       "      <td>...</td>\n",
       "      <td>...</td>\n",
       "      <td>...</td>\n",
       "      <td>...</td>\n",
       "      <td>...</td>\n",
       "      <td>...</td>\n",
       "      <td>...</td>\n",
       "      <td>...</td>\n",
       "      <td>...</td>\n",
       "      <td>...</td>\n",
       "      <td>...</td>\n",
       "      <td>...</td>\n",
       "      <td>...</td>\n",
       "      <td>...</td>\n",
       "      <td>...</td>\n",
       "      <td>...</td>\n",
       "      <td>...</td>\n",
       "    </tr>\n",
       "    <tr>\n",
       "      <th>1304</th>\n",
       "      <td>3</td>\n",
       "      <td>0</td>\n",
       "      <td>Zabour, Miss. Hileni</td>\n",
       "      <td>female</td>\n",
       "      <td>14.5</td>\n",
       "      <td>1</td>\n",
       "      <td>0</td>\n",
       "      <td>2665</td>\n",
       "      <td>14.4542</td>\n",
       "      <td>NaN</td>\n",
       "      <td>...</td>\n",
       "      <td>328.0</td>\n",
       "      <td>NaN</td>\n",
       "      <td>14.5</td>\n",
       "      <td>14.500000</td>\n",
       "      <td>14.5</td>\n",
       "      <td>14.5</td>\n",
       "      <td>14.500000</td>\n",
       "      <td>14.5</td>\n",
       "      <td>14.5</td>\n",
       "      <td>True</td>\n",
       "    </tr>\n",
       "    <tr>\n",
       "      <th>1305</th>\n",
       "      <td>3</td>\n",
       "      <td>0</td>\n",
       "      <td>Zabour, Miss. Thamine</td>\n",
       "      <td>female</td>\n",
       "      <td>NaN</td>\n",
       "      <td>1</td>\n",
       "      <td>0</td>\n",
       "      <td>2665</td>\n",
       "      <td>14.4542</td>\n",
       "      <td>NaN</td>\n",
       "      <td>...</td>\n",
       "      <td>NaN</td>\n",
       "      <td>NaN</td>\n",
       "      <td>26.5</td>\n",
       "      <td>29.881135</td>\n",
       "      <td>28.0</td>\n",
       "      <td>NaN</td>\n",
       "      <td>29.881135</td>\n",
       "      <td>28.0</td>\n",
       "      <td>24.0</td>\n",
       "      <td>True</td>\n",
       "    </tr>\n",
       "    <tr>\n",
       "      <th>1306</th>\n",
       "      <td>3</td>\n",
       "      <td>0</td>\n",
       "      <td>Zakarian, Mr. Mapriededer</td>\n",
       "      <td>male</td>\n",
       "      <td>26.5</td>\n",
       "      <td>0</td>\n",
       "      <td>0</td>\n",
       "      <td>2656</td>\n",
       "      <td>7.2250</td>\n",
       "      <td>NaN</td>\n",
       "      <td>...</td>\n",
       "      <td>304.0</td>\n",
       "      <td>NaN</td>\n",
       "      <td>26.5</td>\n",
       "      <td>26.500000</td>\n",
       "      <td>26.5</td>\n",
       "      <td>26.5</td>\n",
       "      <td>26.500000</td>\n",
       "      <td>26.5</td>\n",
       "      <td>26.5</td>\n",
       "      <td>True</td>\n",
       "    </tr>\n",
       "    <tr>\n",
       "      <th>1307</th>\n",
       "      <td>3</td>\n",
       "      <td>0</td>\n",
       "      <td>Zakarian, Mr. Ortin</td>\n",
       "      <td>male</td>\n",
       "      <td>27.0</td>\n",
       "      <td>0</td>\n",
       "      <td>0</td>\n",
       "      <td>2670</td>\n",
       "      <td>7.2250</td>\n",
       "      <td>NaN</td>\n",
       "      <td>...</td>\n",
       "      <td>NaN</td>\n",
       "      <td>NaN</td>\n",
       "      <td>27.0</td>\n",
       "      <td>27.000000</td>\n",
       "      <td>27.0</td>\n",
       "      <td>27.0</td>\n",
       "      <td>27.000000</td>\n",
       "      <td>27.0</td>\n",
       "      <td>27.0</td>\n",
       "      <td>True</td>\n",
       "    </tr>\n",
       "    <tr>\n",
       "      <th>1308</th>\n",
       "      <td>3</td>\n",
       "      <td>0</td>\n",
       "      <td>Zimmerman, Mr. Leo</td>\n",
       "      <td>male</td>\n",
       "      <td>29.0</td>\n",
       "      <td>0</td>\n",
       "      <td>0</td>\n",
       "      <td>315082</td>\n",
       "      <td>7.8750</td>\n",
       "      <td>NaN</td>\n",
       "      <td>...</td>\n",
       "      <td>NaN</td>\n",
       "      <td>NaN</td>\n",
       "      <td>29.0</td>\n",
       "      <td>29.000000</td>\n",
       "      <td>29.0</td>\n",
       "      <td>29.0</td>\n",
       "      <td>29.000000</td>\n",
       "      <td>29.0</td>\n",
       "      <td>29.0</td>\n",
       "      <td>True</td>\n",
       "    </tr>\n",
       "  </tbody>\n",
       "</table>\n",
       "<p>1189 rows × 22 columns</p>\n",
       "</div>"
      ],
      "text/plain": [
       "      pclass  survived                                             name  \\\n",
       "0          1         1                    Allen, Miss. Elisabeth Walton   \n",
       "3          1         0             Allison, Mr. Hudson Joshua Creighton   \n",
       "4          1         0  Allison, Mrs. Hudson J C (Bessie Waldo Daniels)   \n",
       "5          1         1                              Anderson, Mr. Harry   \n",
       "6          1         1                Andrews, Miss. Kornelia Theodosia   \n",
       "...      ...       ...                                              ...   \n",
       "1304       3         0                             Zabour, Miss. Hileni   \n",
       "1305       3         0                            Zabour, Miss. Thamine   \n",
       "1306       3         0                        Zakarian, Mr. Mapriededer   \n",
       "1307       3         0                              Zakarian, Mr. Ortin   \n",
       "1308       3         0                               Zimmerman, Mr. Leo   \n",
       "\n",
       "         sex   age  sibsp  parch  ticket      fare    cabin  ...   body  \\\n",
       "0     female  29.0      0      0   24160  211.3375       B5  ...    NaN   \n",
       "3       male  30.0      1      2  113781  151.5500  C22 C26  ...  135.0   \n",
       "4     female  25.0      1      2  113781  151.5500  C22 C26  ...    NaN   \n",
       "5       male  48.0      0      0   19952   26.5500      E12  ...    NaN   \n",
       "6     female  63.0      1      0   13502   77.9583       D7  ...    NaN   \n",
       "...      ...   ...    ...    ...     ...       ...      ...  ...    ...   \n",
       "1304  female  14.5      1      0    2665   14.4542      NaN  ...  328.0   \n",
       "1305  female   NaN      1      0    2665   14.4542      NaN  ...    NaN   \n",
       "1306    male  26.5      0      0    2656    7.2250      NaN  ...  304.0   \n",
       "1307    male  27.0      0      0    2670    7.2250      NaN  ...    NaN   \n",
       "1308    male  29.0      0      0  315082    7.8750      NaN  ...    NaN   \n",
       "\n",
       "                            home.dest  age_backward  age_media  age_mediana  \\\n",
       "0                        St Louis, MO          29.0  29.000000         29.0   \n",
       "3     Montreal, PQ / Chesterville, ON          30.0  30.000000         30.0   \n",
       "4     Montreal, PQ / Chesterville, ON          25.0  25.000000         25.0   \n",
       "5                        New York, NY          48.0  48.000000         48.0   \n",
       "6                          Hudson, NY          63.0  63.000000         63.0   \n",
       "...                               ...           ...        ...          ...   \n",
       "1304                              NaN          14.5  14.500000         14.5   \n",
       "1305                              NaN          26.5  29.881135         28.0   \n",
       "1306                              NaN          26.5  26.500000         26.5   \n",
       "1307                              NaN          27.0  27.000000         27.0   \n",
       "1308                              NaN          29.0  29.000000         29.0   \n",
       "\n",
       "      age_moda  age_sim_media  age_sim_mediana  age_sim_moda  age_outlier_RI  \n",
       "0         29.0      29.000000             29.0          29.0            True  \n",
       "3         30.0      30.000000             30.0          30.0            True  \n",
       "4         25.0      25.000000             25.0          25.0            True  \n",
       "5         48.0      48.000000             48.0          48.0            True  \n",
       "6         63.0      63.000000             63.0          63.0            True  \n",
       "...        ...            ...              ...           ...             ...  \n",
       "1304      14.5      14.500000             14.5          14.5            True  \n",
       "1305       NaN      29.881135             28.0          24.0            True  \n",
       "1306      26.5      26.500000             26.5          26.5            True  \n",
       "1307      27.0      27.000000             27.0          27.0            True  \n",
       "1308      29.0      29.000000             29.0          29.0            True  \n",
       "\n",
       "[1189 rows x 22 columns]"
      ]
     },
     "execution_count": 117,
     "metadata": {},
     "output_type": "execute_result"
    }
   ],
   "source": [
    "df13[df13['age_outlier_RI']==True]"
   ]
  },
  {
   "cell_type": "code",
   "execution_count": 118,
   "id": "d758f83c",
   "metadata": {},
   "outputs": [
    {
     "data": {
      "text/plain": [
       "(1309, 22)"
      ]
     },
     "execution_count": 118,
     "metadata": {},
     "output_type": "execute_result"
    }
   ],
   "source": [
    "df13.shape"
   ]
  },
  {
   "cell_type": "code",
   "execution_count": 119,
   "id": "690ff4f0",
   "metadata": {},
   "outputs": [
    {
     "data": {
      "text/plain": [
       "90.83269671504965"
      ]
     },
     "execution_count": 119,
     "metadata": {},
     "output_type": "execute_result"
    }
   ],
   "source": [
    "1189/df13.shape[0]*100"
   ]
  },
  {
   "cell_type": "markdown",
   "id": "ee6dbd05",
   "metadata": {},
   "source": [
    "### Comentario:\n",
    "#### En la columna de  'age_backward'  los outliers representan el 90 % aprox"
   ]
  },
  {
   "cell_type": "markdown",
   "id": "70092e84",
   "metadata": {},
   "source": [
    "<a id=\"section312\"></a>\n",
    "## <font color=\"#004D7F\">3.1.2 Puntuacion Z </font>"
   ]
  },
  {
   "cell_type": "markdown",
   "id": "c92d1427",
   "metadata": {},
   "source": [
    "#### Recomendable tenemos mayor cobertura"
   ]
  },
  {
   "cell_type": "code",
   "execution_count": 120,
   "id": "4a9ff1b5",
   "metadata": {},
   "outputs": [],
   "source": [
    "df14=df"
   ]
  },
  {
   "cell_type": "code",
   "execution_count": 121,
   "id": "41d6fa84",
   "metadata": {},
   "outputs": [],
   "source": [
    "from sklearn import preprocessing"
   ]
  },
  {
   "cell_type": "code",
   "execution_count": 122,
   "id": "f076114c",
   "metadata": {},
   "outputs": [
    {
     "data": {
      "text/plain": [
       "count    1309.000000\n",
       "mean       29.385536\n",
       "std        13.961495\n",
       "min         0.166700\n",
       "25%        21.000000\n",
       "50%        28.000000\n",
       "75%        37.000000\n",
       "max        80.000000\n",
       "Name: age_backward, dtype: float64"
      ]
     },
     "execution_count": 122,
     "metadata": {},
     "output_type": "execute_result"
    }
   ],
   "source": [
    "df14.age_backward.describe()"
   ]
  },
  {
   "cell_type": "markdown",
   "id": "4be26110",
   "metadata": {},
   "source": [
    "#### Le estoy quitando su media y le estoy dividiendo entre su desviacion estandar"
   ]
  },
  {
   "cell_type": "code",
   "execution_count": 123,
   "id": "28808238",
   "metadata": {},
   "outputs": [],
   "source": [
    "p1=preprocessing.scale(df14['age_backward'])"
   ]
  },
  {
   "cell_type": "code",
   "execution_count": 124,
   "id": "c24a8677",
   "metadata": {},
   "outputs": [
    {
     "data": {
      "text/html": [
       "<div>\n",
       "<style scoped>\n",
       "    .dataframe tbody tr th:only-of-type {\n",
       "        vertical-align: middle;\n",
       "    }\n",
       "\n",
       "    .dataframe tbody tr th {\n",
       "        vertical-align: top;\n",
       "    }\n",
       "\n",
       "    .dataframe thead th {\n",
       "        text-align: right;\n",
       "    }\n",
       "</style>\n",
       "<table border=\"1\" class=\"dataframe\">\n",
       "  <thead>\n",
       "    <tr style=\"text-align: right;\">\n",
       "      <th></th>\n",
       "      <th>pclass</th>\n",
       "      <th>survived</th>\n",
       "      <th>name</th>\n",
       "      <th>sex</th>\n",
       "      <th>age</th>\n",
       "      <th>sibsp</th>\n",
       "      <th>parch</th>\n",
       "      <th>ticket</th>\n",
       "      <th>fare</th>\n",
       "      <th>cabin</th>\n",
       "      <th>...</th>\n",
       "      <th>home.dest</th>\n",
       "      <th>age_backward</th>\n",
       "      <th>age_media</th>\n",
       "      <th>age_mediana</th>\n",
       "      <th>age_moda</th>\n",
       "      <th>age_sim_media</th>\n",
       "      <th>age_sim_mediana</th>\n",
       "      <th>age_sim_moda</th>\n",
       "      <th>age_outlier_RI</th>\n",
       "      <th>age_outlier_puntZ</th>\n",
       "    </tr>\n",
       "  </thead>\n",
       "  <tbody>\n",
       "    <tr>\n",
       "      <th>0</th>\n",
       "      <td>1</td>\n",
       "      <td>1</td>\n",
       "      <td>Allen, Miss. Elisabeth Walton</td>\n",
       "      <td>female</td>\n",
       "      <td>29.0000</td>\n",
       "      <td>0</td>\n",
       "      <td>0</td>\n",
       "      <td>24160</td>\n",
       "      <td>211.3375</td>\n",
       "      <td>B5</td>\n",
       "      <td>...</td>\n",
       "      <td>St Louis, MO</td>\n",
       "      <td>29.0000</td>\n",
       "      <td>29.000000</td>\n",
       "      <td>29.0000</td>\n",
       "      <td>29.0000</td>\n",
       "      <td>29.000000</td>\n",
       "      <td>29.0000</td>\n",
       "      <td>29.0000</td>\n",
       "      <td>True</td>\n",
       "      <td>False</td>\n",
       "    </tr>\n",
       "    <tr>\n",
       "      <th>1</th>\n",
       "      <td>1</td>\n",
       "      <td>1</td>\n",
       "      <td>Allison, Master. Hudson Trevor</td>\n",
       "      <td>male</td>\n",
       "      <td>0.9167</td>\n",
       "      <td>1</td>\n",
       "      <td>2</td>\n",
       "      <td>113781</td>\n",
       "      <td>151.5500</td>\n",
       "      <td>C22 C26</td>\n",
       "      <td>...</td>\n",
       "      <td>Montreal, PQ / Chesterville, ON</td>\n",
       "      <td>0.9167</td>\n",
       "      <td>0.916700</td>\n",
       "      <td>0.9167</td>\n",
       "      <td>0.9167</td>\n",
       "      <td>0.916700</td>\n",
       "      <td>0.9167</td>\n",
       "      <td>0.9167</td>\n",
       "      <td>False</td>\n",
       "      <td>True</td>\n",
       "    </tr>\n",
       "    <tr>\n",
       "      <th>2</th>\n",
       "      <td>1</td>\n",
       "      <td>0</td>\n",
       "      <td>Allison, Miss. Helen Loraine</td>\n",
       "      <td>female</td>\n",
       "      <td>2.0000</td>\n",
       "      <td>1</td>\n",
       "      <td>2</td>\n",
       "      <td>113781</td>\n",
       "      <td>151.5500</td>\n",
       "      <td>C22 C26</td>\n",
       "      <td>...</td>\n",
       "      <td>Montreal, PQ / Chesterville, ON</td>\n",
       "      <td>2.0000</td>\n",
       "      <td>2.000000</td>\n",
       "      <td>2.0000</td>\n",
       "      <td>2.0000</td>\n",
       "      <td>2.000000</td>\n",
       "      <td>2.0000</td>\n",
       "      <td>2.0000</td>\n",
       "      <td>False</td>\n",
       "      <td>False</td>\n",
       "    </tr>\n",
       "    <tr>\n",
       "      <th>3</th>\n",
       "      <td>1</td>\n",
       "      <td>0</td>\n",
       "      <td>Allison, Mr. Hudson Joshua Creighton</td>\n",
       "      <td>male</td>\n",
       "      <td>30.0000</td>\n",
       "      <td>1</td>\n",
       "      <td>2</td>\n",
       "      <td>113781</td>\n",
       "      <td>151.5500</td>\n",
       "      <td>C22 C26</td>\n",
       "      <td>...</td>\n",
       "      <td>Montreal, PQ / Chesterville, ON</td>\n",
       "      <td>30.0000</td>\n",
       "      <td>30.000000</td>\n",
       "      <td>30.0000</td>\n",
       "      <td>30.0000</td>\n",
       "      <td>30.000000</td>\n",
       "      <td>30.0000</td>\n",
       "      <td>30.0000</td>\n",
       "      <td>True</td>\n",
       "      <td>False</td>\n",
       "    </tr>\n",
       "    <tr>\n",
       "      <th>4</th>\n",
       "      <td>1</td>\n",
       "      <td>0</td>\n",
       "      <td>Allison, Mrs. Hudson J C (Bessie Waldo Daniels)</td>\n",
       "      <td>female</td>\n",
       "      <td>25.0000</td>\n",
       "      <td>1</td>\n",
       "      <td>2</td>\n",
       "      <td>113781</td>\n",
       "      <td>151.5500</td>\n",
       "      <td>C22 C26</td>\n",
       "      <td>...</td>\n",
       "      <td>Montreal, PQ / Chesterville, ON</td>\n",
       "      <td>25.0000</td>\n",
       "      <td>25.000000</td>\n",
       "      <td>25.0000</td>\n",
       "      <td>25.0000</td>\n",
       "      <td>25.000000</td>\n",
       "      <td>25.0000</td>\n",
       "      <td>25.0000</td>\n",
       "      <td>True</td>\n",
       "      <td>False</td>\n",
       "    </tr>\n",
       "    <tr>\n",
       "      <th>...</th>\n",
       "      <td>...</td>\n",
       "      <td>...</td>\n",
       "      <td>...</td>\n",
       "      <td>...</td>\n",
       "      <td>...</td>\n",
       "      <td>...</td>\n",
       "      <td>...</td>\n",
       "      <td>...</td>\n",
       "      <td>...</td>\n",
       "      <td>...</td>\n",
       "      <td>...</td>\n",
       "      <td>...</td>\n",
       "      <td>...</td>\n",
       "      <td>...</td>\n",
       "      <td>...</td>\n",
       "      <td>...</td>\n",
       "      <td>...</td>\n",
       "      <td>...</td>\n",
       "      <td>...</td>\n",
       "      <td>...</td>\n",
       "      <td>...</td>\n",
       "    </tr>\n",
       "    <tr>\n",
       "      <th>1304</th>\n",
       "      <td>3</td>\n",
       "      <td>0</td>\n",
       "      <td>Zabour, Miss. Hileni</td>\n",
       "      <td>female</td>\n",
       "      <td>14.5000</td>\n",
       "      <td>1</td>\n",
       "      <td>0</td>\n",
       "      <td>2665</td>\n",
       "      <td>14.4542</td>\n",
       "      <td>NaN</td>\n",
       "      <td>...</td>\n",
       "      <td>NaN</td>\n",
       "      <td>14.5000</td>\n",
       "      <td>14.500000</td>\n",
       "      <td>14.5000</td>\n",
       "      <td>14.5000</td>\n",
       "      <td>14.500000</td>\n",
       "      <td>14.5000</td>\n",
       "      <td>14.5000</td>\n",
       "      <td>True</td>\n",
       "      <td>False</td>\n",
       "    </tr>\n",
       "    <tr>\n",
       "      <th>1305</th>\n",
       "      <td>3</td>\n",
       "      <td>0</td>\n",
       "      <td>Zabour, Miss. Thamine</td>\n",
       "      <td>female</td>\n",
       "      <td>NaN</td>\n",
       "      <td>1</td>\n",
       "      <td>0</td>\n",
       "      <td>2665</td>\n",
       "      <td>14.4542</td>\n",
       "      <td>NaN</td>\n",
       "      <td>...</td>\n",
       "      <td>NaN</td>\n",
       "      <td>26.5000</td>\n",
       "      <td>29.881135</td>\n",
       "      <td>28.0000</td>\n",
       "      <td>NaN</td>\n",
       "      <td>29.881135</td>\n",
       "      <td>28.0000</td>\n",
       "      <td>24.0000</td>\n",
       "      <td>True</td>\n",
       "      <td>False</td>\n",
       "    </tr>\n",
       "    <tr>\n",
       "      <th>1306</th>\n",
       "      <td>3</td>\n",
       "      <td>0</td>\n",
       "      <td>Zakarian, Mr. Mapriededer</td>\n",
       "      <td>male</td>\n",
       "      <td>26.5000</td>\n",
       "      <td>0</td>\n",
       "      <td>0</td>\n",
       "      <td>2656</td>\n",
       "      <td>7.2250</td>\n",
       "      <td>NaN</td>\n",
       "      <td>...</td>\n",
       "      <td>NaN</td>\n",
       "      <td>26.5000</td>\n",
       "      <td>26.500000</td>\n",
       "      <td>26.5000</td>\n",
       "      <td>26.5000</td>\n",
       "      <td>26.500000</td>\n",
       "      <td>26.5000</td>\n",
       "      <td>26.5000</td>\n",
       "      <td>True</td>\n",
       "      <td>False</td>\n",
       "    </tr>\n",
       "    <tr>\n",
       "      <th>1307</th>\n",
       "      <td>3</td>\n",
       "      <td>0</td>\n",
       "      <td>Zakarian, Mr. Ortin</td>\n",
       "      <td>male</td>\n",
       "      <td>27.0000</td>\n",
       "      <td>0</td>\n",
       "      <td>0</td>\n",
       "      <td>2670</td>\n",
       "      <td>7.2250</td>\n",
       "      <td>NaN</td>\n",
       "      <td>...</td>\n",
       "      <td>NaN</td>\n",
       "      <td>27.0000</td>\n",
       "      <td>27.000000</td>\n",
       "      <td>27.0000</td>\n",
       "      <td>27.0000</td>\n",
       "      <td>27.000000</td>\n",
       "      <td>27.0000</td>\n",
       "      <td>27.0000</td>\n",
       "      <td>True</td>\n",
       "      <td>False</td>\n",
       "    </tr>\n",
       "    <tr>\n",
       "      <th>1308</th>\n",
       "      <td>3</td>\n",
       "      <td>0</td>\n",
       "      <td>Zimmerman, Mr. Leo</td>\n",
       "      <td>male</td>\n",
       "      <td>29.0000</td>\n",
       "      <td>0</td>\n",
       "      <td>0</td>\n",
       "      <td>315082</td>\n",
       "      <td>7.8750</td>\n",
       "      <td>NaN</td>\n",
       "      <td>...</td>\n",
       "      <td>NaN</td>\n",
       "      <td>29.0000</td>\n",
       "      <td>29.000000</td>\n",
       "      <td>29.0000</td>\n",
       "      <td>29.0000</td>\n",
       "      <td>29.000000</td>\n",
       "      <td>29.0000</td>\n",
       "      <td>29.0000</td>\n",
       "      <td>True</td>\n",
       "      <td>False</td>\n",
       "    </tr>\n",
       "  </tbody>\n",
       "</table>\n",
       "<p>1309 rows × 23 columns</p>\n",
       "</div>"
      ],
      "text/plain": [
       "      pclass  survived                                             name  \\\n",
       "0          1         1                    Allen, Miss. Elisabeth Walton   \n",
       "1          1         1                   Allison, Master. Hudson Trevor   \n",
       "2          1         0                     Allison, Miss. Helen Loraine   \n",
       "3          1         0             Allison, Mr. Hudson Joshua Creighton   \n",
       "4          1         0  Allison, Mrs. Hudson J C (Bessie Waldo Daniels)   \n",
       "...      ...       ...                                              ...   \n",
       "1304       3         0                             Zabour, Miss. Hileni   \n",
       "1305       3         0                            Zabour, Miss. Thamine   \n",
       "1306       3         0                        Zakarian, Mr. Mapriededer   \n",
       "1307       3         0                              Zakarian, Mr. Ortin   \n",
       "1308       3         0                               Zimmerman, Mr. Leo   \n",
       "\n",
       "         sex      age  sibsp  parch  ticket      fare    cabin  ...  \\\n",
       "0     female  29.0000      0      0   24160  211.3375       B5  ...   \n",
       "1       male   0.9167      1      2  113781  151.5500  C22 C26  ...   \n",
       "2     female   2.0000      1      2  113781  151.5500  C22 C26  ...   \n",
       "3       male  30.0000      1      2  113781  151.5500  C22 C26  ...   \n",
       "4     female  25.0000      1      2  113781  151.5500  C22 C26  ...   \n",
       "...      ...      ...    ...    ...     ...       ...      ...  ...   \n",
       "1304  female  14.5000      1      0    2665   14.4542      NaN  ...   \n",
       "1305  female      NaN      1      0    2665   14.4542      NaN  ...   \n",
       "1306    male  26.5000      0      0    2656    7.2250      NaN  ...   \n",
       "1307    male  27.0000      0      0    2670    7.2250      NaN  ...   \n",
       "1308    male  29.0000      0      0  315082    7.8750      NaN  ...   \n",
       "\n",
       "                            home.dest age_backward  age_media age_mediana  \\\n",
       "0                        St Louis, MO      29.0000  29.000000     29.0000   \n",
       "1     Montreal, PQ / Chesterville, ON       0.9167   0.916700      0.9167   \n",
       "2     Montreal, PQ / Chesterville, ON       2.0000   2.000000      2.0000   \n",
       "3     Montreal, PQ / Chesterville, ON      30.0000  30.000000     30.0000   \n",
       "4     Montreal, PQ / Chesterville, ON      25.0000  25.000000     25.0000   \n",
       "...                               ...          ...        ...         ...   \n",
       "1304                              NaN      14.5000  14.500000     14.5000   \n",
       "1305                              NaN      26.5000  29.881135     28.0000   \n",
       "1306                              NaN      26.5000  26.500000     26.5000   \n",
       "1307                              NaN      27.0000  27.000000     27.0000   \n",
       "1308                              NaN      29.0000  29.000000     29.0000   \n",
       "\n",
       "      age_moda  age_sim_media  age_sim_mediana  age_sim_moda  age_outlier_RI  \\\n",
       "0      29.0000      29.000000          29.0000       29.0000            True   \n",
       "1       0.9167       0.916700           0.9167        0.9167           False   \n",
       "2       2.0000       2.000000           2.0000        2.0000           False   \n",
       "3      30.0000      30.000000          30.0000       30.0000            True   \n",
       "4      25.0000      25.000000          25.0000       25.0000            True   \n",
       "...        ...            ...              ...           ...             ...   \n",
       "1304   14.5000      14.500000          14.5000       14.5000            True   \n",
       "1305       NaN      29.881135          28.0000       24.0000            True   \n",
       "1306   26.5000      26.500000          26.5000       26.5000            True   \n",
       "1307   27.0000      27.000000          27.0000       27.0000            True   \n",
       "1308   29.0000      29.000000          29.0000       29.0000            True   \n",
       "\n",
       "      age_outlier_puntZ  \n",
       "0                 False  \n",
       "1                  True  \n",
       "2                 False  \n",
       "3                 False  \n",
       "4                 False  \n",
       "...                 ...  \n",
       "1304              False  \n",
       "1305              False  \n",
       "1306              False  \n",
       "1307              False  \n",
       "1308              False  \n",
       "\n",
       "[1309 rows x 23 columns]"
      ]
     },
     "execution_count": 124,
     "metadata": {},
     "output_type": "execute_result"
    }
   ],
   "source": [
    "df14['age_outlier_puntZ']=abs(p1)>2\n",
    "df14"
   ]
  },
  {
   "cell_type": "code",
   "execution_count": 125,
   "id": "ac667a4c",
   "metadata": {},
   "outputs": [
    {
     "data": {
      "text/html": [
       "<div>\n",
       "<style scoped>\n",
       "    .dataframe tbody tr th:only-of-type {\n",
       "        vertical-align: middle;\n",
       "    }\n",
       "\n",
       "    .dataframe tbody tr th {\n",
       "        vertical-align: top;\n",
       "    }\n",
       "\n",
       "    .dataframe thead th {\n",
       "        text-align: right;\n",
       "    }\n",
       "</style>\n",
       "<table border=\"1\" class=\"dataframe\">\n",
       "  <thead>\n",
       "    <tr style=\"text-align: right;\">\n",
       "      <th></th>\n",
       "      <th>pclass</th>\n",
       "      <th>survived</th>\n",
       "      <th>name</th>\n",
       "      <th>sex</th>\n",
       "      <th>age</th>\n",
       "      <th>sibsp</th>\n",
       "      <th>parch</th>\n",
       "      <th>ticket</th>\n",
       "      <th>fare</th>\n",
       "      <th>cabin</th>\n",
       "      <th>...</th>\n",
       "      <th>home.dest</th>\n",
       "      <th>age_backward</th>\n",
       "      <th>age_media</th>\n",
       "      <th>age_mediana</th>\n",
       "      <th>age_moda</th>\n",
       "      <th>age_sim_media</th>\n",
       "      <th>age_sim_mediana</th>\n",
       "      <th>age_sim_moda</th>\n",
       "      <th>age_outlier_RI</th>\n",
       "      <th>age_outlier_puntZ</th>\n",
       "    </tr>\n",
       "  </thead>\n",
       "  <tbody>\n",
       "    <tr>\n",
       "      <th>1</th>\n",
       "      <td>1</td>\n",
       "      <td>1</td>\n",
       "      <td>Allison, Master. Hudson Trevor</td>\n",
       "      <td>male</td>\n",
       "      <td>0.9167</td>\n",
       "      <td>1</td>\n",
       "      <td>2</td>\n",
       "      <td>113781</td>\n",
       "      <td>151.5500</td>\n",
       "      <td>C22 C26</td>\n",
       "      <td>...</td>\n",
       "      <td>Montreal, PQ / Chesterville, ON</td>\n",
       "      <td>0.9167</td>\n",
       "      <td>0.9167</td>\n",
       "      <td>0.9167</td>\n",
       "      <td>0.9167</td>\n",
       "      <td>0.9167</td>\n",
       "      <td>0.9167</td>\n",
       "      <td>0.9167</td>\n",
       "      <td>False</td>\n",
       "      <td>True</td>\n",
       "    </tr>\n",
       "    <tr>\n",
       "      <th>6</th>\n",
       "      <td>1</td>\n",
       "      <td>1</td>\n",
       "      <td>Andrews, Miss. Kornelia Theodosia</td>\n",
       "      <td>female</td>\n",
       "      <td>63.0000</td>\n",
       "      <td>1</td>\n",
       "      <td>0</td>\n",
       "      <td>13502</td>\n",
       "      <td>77.9583</td>\n",
       "      <td>D7</td>\n",
       "      <td>...</td>\n",
       "      <td>Hudson, NY</td>\n",
       "      <td>63.0000</td>\n",
       "      <td>63.0000</td>\n",
       "      <td>63.0000</td>\n",
       "      <td>63.0000</td>\n",
       "      <td>63.0000</td>\n",
       "      <td>63.0000</td>\n",
       "      <td>63.0000</td>\n",
       "      <td>True</td>\n",
       "      <td>True</td>\n",
       "    </tr>\n",
       "    <tr>\n",
       "      <th>9</th>\n",
       "      <td>1</td>\n",
       "      <td>0</td>\n",
       "      <td>Artagaveytia, Mr. Ramon</td>\n",
       "      <td>male</td>\n",
       "      <td>71.0000</td>\n",
       "      <td>0</td>\n",
       "      <td>0</td>\n",
       "      <td>PC 17609</td>\n",
       "      <td>49.5042</td>\n",
       "      <td>NaN</td>\n",
       "      <td>...</td>\n",
       "      <td>Montevideo, Uruguay</td>\n",
       "      <td>71.0000</td>\n",
       "      <td>71.0000</td>\n",
       "      <td>71.0000</td>\n",
       "      <td>71.0000</td>\n",
       "      <td>71.0000</td>\n",
       "      <td>71.0000</td>\n",
       "      <td>71.0000</td>\n",
       "      <td>True</td>\n",
       "      <td>True</td>\n",
       "    </tr>\n",
       "    <tr>\n",
       "      <th>14</th>\n",
       "      <td>1</td>\n",
       "      <td>1</td>\n",
       "      <td>Barkworth, Mr. Algernon Henry Wilson</td>\n",
       "      <td>male</td>\n",
       "      <td>80.0000</td>\n",
       "      <td>0</td>\n",
       "      <td>0</td>\n",
       "      <td>27042</td>\n",
       "      <td>30.0000</td>\n",
       "      <td>A23</td>\n",
       "      <td>...</td>\n",
       "      <td>Hessle, Yorks</td>\n",
       "      <td>80.0000</td>\n",
       "      <td>80.0000</td>\n",
       "      <td>80.0000</td>\n",
       "      <td>80.0000</td>\n",
       "      <td>80.0000</td>\n",
       "      <td>80.0000</td>\n",
       "      <td>80.0000</td>\n",
       "      <td>True</td>\n",
       "      <td>True</td>\n",
       "    </tr>\n",
       "    <tr>\n",
       "      <th>33</th>\n",
       "      <td>1</td>\n",
       "      <td>1</td>\n",
       "      <td>Bonnell, Miss. Elizabeth</td>\n",
       "      <td>female</td>\n",
       "      <td>58.0000</td>\n",
       "      <td>0</td>\n",
       "      <td>0</td>\n",
       "      <td>113783</td>\n",
       "      <td>26.5500</td>\n",
       "      <td>C103</td>\n",
       "      <td>...</td>\n",
       "      <td>Birkdale, England Cleveland, Ohio</td>\n",
       "      <td>58.0000</td>\n",
       "      <td>58.0000</td>\n",
       "      <td>58.0000</td>\n",
       "      <td>58.0000</td>\n",
       "      <td>58.0000</td>\n",
       "      <td>58.0000</td>\n",
       "      <td>58.0000</td>\n",
       "      <td>True</td>\n",
       "      <td>True</td>\n",
       "    </tr>\n",
       "    <tr>\n",
       "      <th>...</th>\n",
       "      <td>...</td>\n",
       "      <td>...</td>\n",
       "      <td>...</td>\n",
       "      <td>...</td>\n",
       "      <td>...</td>\n",
       "      <td>...</td>\n",
       "      <td>...</td>\n",
       "      <td>...</td>\n",
       "      <td>...</td>\n",
       "      <td>...</td>\n",
       "      <td>...</td>\n",
       "      <td>...</td>\n",
       "      <td>...</td>\n",
       "      <td>...</td>\n",
       "      <td>...</td>\n",
       "      <td>...</td>\n",
       "      <td>...</td>\n",
       "      <td>...</td>\n",
       "      <td>...</td>\n",
       "      <td>...</td>\n",
       "      <td>...</td>\n",
       "    </tr>\n",
       "    <tr>\n",
       "      <th>1187</th>\n",
       "      <td>3</td>\n",
       "      <td>1</td>\n",
       "      <td>Sandstrom, Miss. Beatrice Irene</td>\n",
       "      <td>female</td>\n",
       "      <td>1.0000</td>\n",
       "      <td>1</td>\n",
       "      <td>1</td>\n",
       "      <td>PP 9549</td>\n",
       "      <td>16.7000</td>\n",
       "      <td>G6</td>\n",
       "      <td>...</td>\n",
       "      <td>NaN</td>\n",
       "      <td>1.0000</td>\n",
       "      <td>1.0000</td>\n",
       "      <td>1.0000</td>\n",
       "      <td>1.0000</td>\n",
       "      <td>1.0000</td>\n",
       "      <td>1.0000</td>\n",
       "      <td>1.0000</td>\n",
       "      <td>False</td>\n",
       "      <td>True</td>\n",
       "    </tr>\n",
       "    <tr>\n",
       "      <th>1225</th>\n",
       "      <td>3</td>\n",
       "      <td>0</td>\n",
       "      <td>Storey, Mr. Thomas</td>\n",
       "      <td>male</td>\n",
       "      <td>60.5000</td>\n",
       "      <td>0</td>\n",
       "      <td>0</td>\n",
       "      <td>3701</td>\n",
       "      <td>NaN</td>\n",
       "      <td>NaN</td>\n",
       "      <td>...</td>\n",
       "      <td>NaN</td>\n",
       "      <td>60.5000</td>\n",
       "      <td>60.5000</td>\n",
       "      <td>60.5000</td>\n",
       "      <td>60.5000</td>\n",
       "      <td>60.5000</td>\n",
       "      <td>60.5000</td>\n",
       "      <td>60.5000</td>\n",
       "      <td>True</td>\n",
       "      <td>True</td>\n",
       "    </tr>\n",
       "    <tr>\n",
       "      <th>1235</th>\n",
       "      <td>3</td>\n",
       "      <td>0</td>\n",
       "      <td>Svensson, Mr. Johan</td>\n",
       "      <td>male</td>\n",
       "      <td>74.0000</td>\n",
       "      <td>0</td>\n",
       "      <td>0</td>\n",
       "      <td>347060</td>\n",
       "      <td>7.7750</td>\n",
       "      <td>NaN</td>\n",
       "      <td>...</td>\n",
       "      <td>NaN</td>\n",
       "      <td>74.0000</td>\n",
       "      <td>74.0000</td>\n",
       "      <td>74.0000</td>\n",
       "      <td>74.0000</td>\n",
       "      <td>74.0000</td>\n",
       "      <td>74.0000</td>\n",
       "      <td>74.0000</td>\n",
       "      <td>True</td>\n",
       "      <td>True</td>\n",
       "    </tr>\n",
       "    <tr>\n",
       "      <th>1240</th>\n",
       "      <td>3</td>\n",
       "      <td>1</td>\n",
       "      <td>Thomas, Master. Assad Alexander</td>\n",
       "      <td>male</td>\n",
       "      <td>0.4167</td>\n",
       "      <td>0</td>\n",
       "      <td>1</td>\n",
       "      <td>2625</td>\n",
       "      <td>8.5167</td>\n",
       "      <td>NaN</td>\n",
       "      <td>...</td>\n",
       "      <td>NaN</td>\n",
       "      <td>0.4167</td>\n",
       "      <td>0.4167</td>\n",
       "      <td>0.4167</td>\n",
       "      <td>0.4167</td>\n",
       "      <td>0.4167</td>\n",
       "      <td>0.4167</td>\n",
       "      <td>0.4167</td>\n",
       "      <td>False</td>\n",
       "      <td>True</td>\n",
       "    </tr>\n",
       "    <tr>\n",
       "      <th>1261</th>\n",
       "      <td>3</td>\n",
       "      <td>1</td>\n",
       "      <td>Turkula, Mrs. (Hedwig)</td>\n",
       "      <td>female</td>\n",
       "      <td>63.0000</td>\n",
       "      <td>0</td>\n",
       "      <td>0</td>\n",
       "      <td>4134</td>\n",
       "      <td>9.5875</td>\n",
       "      <td>NaN</td>\n",
       "      <td>...</td>\n",
       "      <td>NaN</td>\n",
       "      <td>63.0000</td>\n",
       "      <td>63.0000</td>\n",
       "      <td>63.0000</td>\n",
       "      <td>63.0000</td>\n",
       "      <td>63.0000</td>\n",
       "      <td>63.0000</td>\n",
       "      <td>63.0000</td>\n",
       "      <td>True</td>\n",
       "      <td>True</td>\n",
       "    </tr>\n",
       "  </tbody>\n",
       "</table>\n",
       "<p>81 rows × 23 columns</p>\n",
       "</div>"
      ],
      "text/plain": [
       "      pclass  survived                                  name     sex      age  \\\n",
       "1          1         1        Allison, Master. Hudson Trevor    male   0.9167   \n",
       "6          1         1     Andrews, Miss. Kornelia Theodosia  female  63.0000   \n",
       "9          1         0               Artagaveytia, Mr. Ramon    male  71.0000   \n",
       "14         1         1  Barkworth, Mr. Algernon Henry Wilson    male  80.0000   \n",
       "33         1         1              Bonnell, Miss. Elizabeth  female  58.0000   \n",
       "...      ...       ...                                   ...     ...      ...   \n",
       "1187       3         1       Sandstrom, Miss. Beatrice Irene  female   1.0000   \n",
       "1225       3         0                    Storey, Mr. Thomas    male  60.5000   \n",
       "1235       3         0                   Svensson, Mr. Johan    male  74.0000   \n",
       "1240       3         1       Thomas, Master. Assad Alexander    male   0.4167   \n",
       "1261       3         1                Turkula, Mrs. (Hedwig)  female  63.0000   \n",
       "\n",
       "      sibsp  parch    ticket      fare    cabin  ...  \\\n",
       "1         1      2    113781  151.5500  C22 C26  ...   \n",
       "6         1      0     13502   77.9583       D7  ...   \n",
       "9         0      0  PC 17609   49.5042      NaN  ...   \n",
       "14        0      0     27042   30.0000      A23  ...   \n",
       "33        0      0    113783   26.5500     C103  ...   \n",
       "...     ...    ...       ...       ...      ...  ...   \n",
       "1187      1      1   PP 9549   16.7000       G6  ...   \n",
       "1225      0      0      3701       NaN      NaN  ...   \n",
       "1235      0      0    347060    7.7750      NaN  ...   \n",
       "1240      0      1      2625    8.5167      NaN  ...   \n",
       "1261      0      0      4134    9.5875      NaN  ...   \n",
       "\n",
       "                              home.dest age_backward  age_media age_mediana  \\\n",
       "1       Montreal, PQ / Chesterville, ON       0.9167     0.9167      0.9167   \n",
       "6                            Hudson, NY      63.0000    63.0000     63.0000   \n",
       "9                   Montevideo, Uruguay      71.0000    71.0000     71.0000   \n",
       "14                        Hessle, Yorks      80.0000    80.0000     80.0000   \n",
       "33    Birkdale, England Cleveland, Ohio      58.0000    58.0000     58.0000   \n",
       "...                                 ...          ...        ...         ...   \n",
       "1187                                NaN       1.0000     1.0000      1.0000   \n",
       "1225                                NaN      60.5000    60.5000     60.5000   \n",
       "1235                                NaN      74.0000    74.0000     74.0000   \n",
       "1240                                NaN       0.4167     0.4167      0.4167   \n",
       "1261                                NaN      63.0000    63.0000     63.0000   \n",
       "\n",
       "      age_moda  age_sim_media  age_sim_mediana  age_sim_moda  age_outlier_RI  \\\n",
       "1       0.9167         0.9167           0.9167        0.9167           False   \n",
       "6      63.0000        63.0000          63.0000       63.0000            True   \n",
       "9      71.0000        71.0000          71.0000       71.0000            True   \n",
       "14     80.0000        80.0000          80.0000       80.0000            True   \n",
       "33     58.0000        58.0000          58.0000       58.0000            True   \n",
       "...        ...            ...              ...           ...             ...   \n",
       "1187    1.0000         1.0000           1.0000        1.0000           False   \n",
       "1225   60.5000        60.5000          60.5000       60.5000            True   \n",
       "1235   74.0000        74.0000          74.0000       74.0000            True   \n",
       "1240    0.4167         0.4167           0.4167        0.4167           False   \n",
       "1261   63.0000        63.0000          63.0000       63.0000            True   \n",
       "\n",
       "      age_outlier_puntZ  \n",
       "1                  True  \n",
       "6                  True  \n",
       "9                  True  \n",
       "14                 True  \n",
       "33                 True  \n",
       "...                 ...  \n",
       "1187               True  \n",
       "1225               True  \n",
       "1235               True  \n",
       "1240               True  \n",
       "1261               True  \n",
       "\n",
       "[81 rows x 23 columns]"
      ]
     },
     "execution_count": 125,
     "metadata": {},
     "output_type": "execute_result"
    }
   ],
   "source": [
    "df14[df14[\"age_outlier_puntZ\"]==True]"
   ]
  },
  {
   "cell_type": "code",
   "execution_count": 126,
   "id": "2e8f0e2e",
   "metadata": {},
   "outputs": [
    {
     "data": {
      "text/plain": [
       "6.187929717341483"
      ]
     },
     "execution_count": 126,
     "metadata": {},
     "output_type": "execute_result"
    }
   ],
   "source": [
    "81/df14.shape[0]*100"
   ]
  },
  {
   "cell_type": "markdown",
   "id": "79fbc4b4",
   "metadata": {},
   "source": [
    "### Comentario:\n",
    "#### En la columna de  'age_backward'  los outliers representan el  6.18 % aprox"
   ]
  },
  {
   "cell_type": "markdown",
   "id": "a6198b40",
   "metadata": {},
   "source": [
    "<a id=\"section32\"></a>\n",
    "## <font color=\"#004D7F\">3.2 Identificacion de valores outliers :Multivariado</font>"
   ]
  },
  {
   "cell_type": "code",
   "execution_count": 127,
   "id": "cbd9eed4",
   "metadata": {},
   "outputs": [],
   "source": [
    "df15=df14"
   ]
  },
  {
   "cell_type": "code",
   "execution_count": 128,
   "id": "4e29f305",
   "metadata": {},
   "outputs": [
    {
     "data": {
      "text/html": [
       "<div>\n",
       "<style scoped>\n",
       "    .dataframe tbody tr th:only-of-type {\n",
       "        vertical-align: middle;\n",
       "    }\n",
       "\n",
       "    .dataframe tbody tr th {\n",
       "        vertical-align: top;\n",
       "    }\n",
       "\n",
       "    .dataframe thead th {\n",
       "        text-align: right;\n",
       "    }\n",
       "</style>\n",
       "<table border=\"1\" class=\"dataframe\">\n",
       "  <thead>\n",
       "    <tr style=\"text-align: right;\">\n",
       "      <th></th>\n",
       "      <th>pclass</th>\n",
       "      <th>survived</th>\n",
       "      <th>name</th>\n",
       "      <th>sex</th>\n",
       "      <th>age</th>\n",
       "      <th>sibsp</th>\n",
       "      <th>parch</th>\n",
       "      <th>ticket</th>\n",
       "      <th>fare</th>\n",
       "      <th>cabin</th>\n",
       "      <th>...</th>\n",
       "      <th>home.dest</th>\n",
       "      <th>age_backward</th>\n",
       "      <th>age_media</th>\n",
       "      <th>age_mediana</th>\n",
       "      <th>age_moda</th>\n",
       "      <th>age_sim_media</th>\n",
       "      <th>age_sim_mediana</th>\n",
       "      <th>age_sim_moda</th>\n",
       "      <th>age_outlier_RI</th>\n",
       "      <th>age_outlier_puntZ</th>\n",
       "    </tr>\n",
       "  </thead>\n",
       "  <tbody>\n",
       "    <tr>\n",
       "      <th>0</th>\n",
       "      <td>1</td>\n",
       "      <td>1</td>\n",
       "      <td>Allen, Miss. Elisabeth Walton</td>\n",
       "      <td>female</td>\n",
       "      <td>29.0000</td>\n",
       "      <td>0</td>\n",
       "      <td>0</td>\n",
       "      <td>24160</td>\n",
       "      <td>211.3375</td>\n",
       "      <td>B5</td>\n",
       "      <td>...</td>\n",
       "      <td>St Louis, MO</td>\n",
       "      <td>29.0000</td>\n",
       "      <td>29.0000</td>\n",
       "      <td>29.0000</td>\n",
       "      <td>29.0000</td>\n",
       "      <td>29.0000</td>\n",
       "      <td>29.0000</td>\n",
       "      <td>29.0000</td>\n",
       "      <td>True</td>\n",
       "      <td>False</td>\n",
       "    </tr>\n",
       "    <tr>\n",
       "      <th>1</th>\n",
       "      <td>1</td>\n",
       "      <td>1</td>\n",
       "      <td>Allison, Master. Hudson Trevor</td>\n",
       "      <td>male</td>\n",
       "      <td>0.9167</td>\n",
       "      <td>1</td>\n",
       "      <td>2</td>\n",
       "      <td>113781</td>\n",
       "      <td>151.5500</td>\n",
       "      <td>C22 C26</td>\n",
       "      <td>...</td>\n",
       "      <td>Montreal, PQ / Chesterville, ON</td>\n",
       "      <td>0.9167</td>\n",
       "      <td>0.9167</td>\n",
       "      <td>0.9167</td>\n",
       "      <td>0.9167</td>\n",
       "      <td>0.9167</td>\n",
       "      <td>0.9167</td>\n",
       "      <td>0.9167</td>\n",
       "      <td>False</td>\n",
       "      <td>True</td>\n",
       "    </tr>\n",
       "    <tr>\n",
       "      <th>2</th>\n",
       "      <td>1</td>\n",
       "      <td>0</td>\n",
       "      <td>Allison, Miss. Helen Loraine</td>\n",
       "      <td>female</td>\n",
       "      <td>2.0000</td>\n",
       "      <td>1</td>\n",
       "      <td>2</td>\n",
       "      <td>113781</td>\n",
       "      <td>151.5500</td>\n",
       "      <td>C22 C26</td>\n",
       "      <td>...</td>\n",
       "      <td>Montreal, PQ / Chesterville, ON</td>\n",
       "      <td>2.0000</td>\n",
       "      <td>2.0000</td>\n",
       "      <td>2.0000</td>\n",
       "      <td>2.0000</td>\n",
       "      <td>2.0000</td>\n",
       "      <td>2.0000</td>\n",
       "      <td>2.0000</td>\n",
       "      <td>False</td>\n",
       "      <td>False</td>\n",
       "    </tr>\n",
       "  </tbody>\n",
       "</table>\n",
       "<p>3 rows × 23 columns</p>\n",
       "</div>"
      ],
      "text/plain": [
       "   pclass  survived                            name     sex      age  sibsp  \\\n",
       "0       1         1   Allen, Miss. Elisabeth Walton  female  29.0000      0   \n",
       "1       1         1  Allison, Master. Hudson Trevor    male   0.9167      1   \n",
       "2       1         0    Allison, Miss. Helen Loraine  female   2.0000      1   \n",
       "\n",
       "   parch  ticket      fare    cabin  ...                        home.dest  \\\n",
       "0      0   24160  211.3375       B5  ...                     St Louis, MO   \n",
       "1      2  113781  151.5500  C22 C26  ...  Montreal, PQ / Chesterville, ON   \n",
       "2      2  113781  151.5500  C22 C26  ...  Montreal, PQ / Chesterville, ON   \n",
       "\n",
       "  age_backward  age_media age_mediana  age_moda  age_sim_media  \\\n",
       "0      29.0000    29.0000     29.0000   29.0000        29.0000   \n",
       "1       0.9167     0.9167      0.9167    0.9167         0.9167   \n",
       "2       2.0000     2.0000      2.0000    2.0000         2.0000   \n",
       "\n",
       "   age_sim_mediana  age_sim_moda  age_outlier_RI  age_outlier_puntZ  \n",
       "0          29.0000       29.0000            True              False  \n",
       "1           0.9167        0.9167           False               True  \n",
       "2           2.0000        2.0000           False              False  \n",
       "\n",
       "[3 rows x 23 columns]"
      ]
     },
     "execution_count": 128,
     "metadata": {},
     "output_type": "execute_result"
    }
   ],
   "source": [
    "df15.head(3)"
   ]
  },
  {
   "cell_type": "code",
   "execution_count": 129,
   "id": "0b4e1d0c",
   "metadata": {},
   "outputs": [
    {
     "data": {
      "text/plain": [
       "pclass                 int64\n",
       "survived               int64\n",
       "name                  object\n",
       "sex                   object\n",
       "age                  float64\n",
       "sibsp                  int64\n",
       "parch                  int64\n",
       "ticket                object\n",
       "fare                 float64\n",
       "cabin                 object\n",
       "embarked              object\n",
       "boat                  object\n",
       "body                 float64\n",
       "home.dest             object\n",
       "age_backward         float64\n",
       "age_media            float64\n",
       "age_mediana          float64\n",
       "age_moda             float64\n",
       "age_sim_media        float64\n",
       "age_sim_mediana      float64\n",
       "age_sim_moda         float64\n",
       "age_outlier_RI          bool\n",
       "age_outlier_puntZ       bool\n",
       "dtype: object"
      ]
     },
     "execution_count": 129,
     "metadata": {},
     "output_type": "execute_result"
    }
   ],
   "source": [
    "df15.dtypes"
   ]
  },
  {
   "cell_type": "code",
   "execution_count": 130,
   "id": "f8a3858c",
   "metadata": {},
   "outputs": [
    {
     "data": {
      "text/plain": [
       "Index(['pclass', 'survived', 'name', 'sex', 'age', 'sibsp', 'parch', 'ticket',\n",
       "       'fare', 'cabin', 'embarked', 'boat', 'body', 'home.dest',\n",
       "       'age_backward', 'age_media', 'age_mediana', 'age_moda', 'age_sim_media',\n",
       "       'age_sim_mediana', 'age_sim_moda', 'age_outlier_RI',\n",
       "       'age_outlier_puntZ'],\n",
       "      dtype='object')"
      ]
     },
     "execution_count": 130,
     "metadata": {},
     "output_type": "execute_result"
    }
   ],
   "source": [
    "df15.columns"
   ]
  },
  {
   "cell_type": "code",
   "execution_count": 131,
   "id": "f1c4a402",
   "metadata": {},
   "outputs": [],
   "source": [
    "lista=['pclass','survived','fare','age_backward', 'age_media', 'age_mediana']"
   ]
  },
  {
   "cell_type": "code",
   "execution_count": 132,
   "id": "a2b3a102",
   "metadata": {},
   "outputs": [],
   "source": [
    "df16=df15[lista]"
   ]
  },
  {
   "cell_type": "code",
   "execution_count": 133,
   "id": "75e37a20",
   "metadata": {},
   "outputs": [
    {
     "data": {
      "text/html": [
       "<div>\n",
       "<style scoped>\n",
       "    .dataframe tbody tr th:only-of-type {\n",
       "        vertical-align: middle;\n",
       "    }\n",
       "\n",
       "    .dataframe tbody tr th {\n",
       "        vertical-align: top;\n",
       "    }\n",
       "\n",
       "    .dataframe thead th {\n",
       "        text-align: right;\n",
       "    }\n",
       "</style>\n",
       "<table border=\"1\" class=\"dataframe\">\n",
       "  <thead>\n",
       "    <tr style=\"text-align: right;\">\n",
       "      <th></th>\n",
       "      <th>pclass</th>\n",
       "      <th>survived</th>\n",
       "      <th>fare</th>\n",
       "      <th>age_backward</th>\n",
       "      <th>age_media</th>\n",
       "      <th>age_mediana</th>\n",
       "    </tr>\n",
       "  </thead>\n",
       "  <tbody>\n",
       "    <tr>\n",
       "      <th>0</th>\n",
       "      <td>1</td>\n",
       "      <td>1</td>\n",
       "      <td>211.3375</td>\n",
       "      <td>29.0000</td>\n",
       "      <td>29.0000</td>\n",
       "      <td>29.0000</td>\n",
       "    </tr>\n",
       "    <tr>\n",
       "      <th>1</th>\n",
       "      <td>1</td>\n",
       "      <td>1</td>\n",
       "      <td>151.5500</td>\n",
       "      <td>0.9167</td>\n",
       "      <td>0.9167</td>\n",
       "      <td>0.9167</td>\n",
       "    </tr>\n",
       "  </tbody>\n",
       "</table>\n",
       "</div>"
      ],
      "text/plain": [
       "   pclass  survived      fare  age_backward  age_media  age_mediana\n",
       "0       1         1  211.3375       29.0000    29.0000      29.0000\n",
       "1       1         1  151.5500        0.9167     0.9167       0.9167"
      ]
     },
     "execution_count": 133,
     "metadata": {},
     "output_type": "execute_result"
    }
   ],
   "source": [
    "df16.head(2)"
   ]
  },
  {
   "cell_type": "code",
   "execution_count": 134,
   "id": "344600e4",
   "metadata": {},
   "outputs": [
    {
     "data": {
      "text/plain": [
       "pclass          0\n",
       "survived        0\n",
       "fare            1\n",
       "age_backward    0\n",
       "age_media       0\n",
       "age_mediana     0\n",
       "dtype: int64"
      ]
     },
     "execution_count": 134,
     "metadata": {},
     "output_type": "execute_result"
    }
   ],
   "source": [
    "df16.isnull().sum()"
   ]
  },
  {
   "cell_type": "code",
   "execution_count": 135,
   "id": "d5aa29ac",
   "metadata": {},
   "outputs": [
    {
     "name": "stderr",
     "output_type": "stream",
     "text": [
      "C:\\Users\\Luis\\AppData\\Local\\Temp/ipykernel_15396/1319016037.py:2: SettingWithCopyWarning: \n",
      "A value is trying to be set on a copy of a slice from a DataFrame.\n",
      "Try using .loc[row_indexer,col_indexer] = value instead\n",
      "\n",
      "See the caveats in the documentation: https://pandas.pydata.org/pandas-docs/stable/user_guide/indexing.html#returning-a-view-versus-a-copy\n",
      "  df16['fare']=df16['fare'].fillna(df16['fare'].median())\n"
     ]
    }
   ],
   "source": [
    "#df8['age'].fillna(df8['age'].median())\n",
    "df16['fare']=df16['fare'].fillna(df16['fare'].median())"
   ]
  },
  {
   "cell_type": "code",
   "execution_count": 136,
   "id": "a60f1b65",
   "metadata": {},
   "outputs": [
    {
     "data": {
      "text/plain": [
       "pclass          0\n",
       "survived        0\n",
       "fare            0\n",
       "age_backward    0\n",
       "age_media       0\n",
       "age_mediana     0\n",
       "dtype: int64"
      ]
     },
     "execution_count": 136,
     "metadata": {},
     "output_type": "execute_result"
    }
   ],
   "source": [
    "df16.isnull().sum()"
   ]
  },
  {
   "cell_type": "code",
   "execution_count": 137,
   "id": "9200b748",
   "metadata": {},
   "outputs": [],
   "source": [
    "from scipy.spatial.distance import mahalanobis\n",
    "import scipy as sp\n",
    "import pandas as pd\n",
    "\n",
    "x = df16\n",
    "#x = x.iloc[:,1:]\n",
    "\n",
    "#matriz de covarianzas\n",
    "Sx = x.cov().values\n",
    "#inversa de la matriz de covarianzas\n",
    "Sx = sp.linalg.inv(Sx)\n",
    "\n",
    "mean = x.mean().values\n",
    "\n",
    "def mahalanobisR(X,meanCol,IC):\n",
    "    m = []\n",
    "    for i in range(X.shape[0]):\n",
    "        m.append(mahalanobis(X.iloc[i,:],meanCol,IC) ** 2)\n",
    "    return(m)"
   ]
  },
  {
   "cell_type": "code",
   "execution_count": 138,
   "id": "8369f65f",
   "metadata": {},
   "outputs": [
    {
     "name": "stderr",
     "output_type": "stream",
     "text": [
      "C:\\Users\\Luis\\AppData\\Local\\Temp/ipykernel_15396/2502449538.py:3: SettingWithCopyWarning: \n",
      "A value is trying to be set on a copy of a slice from a DataFrame.\n",
      "Try using .loc[row_indexer,col_indexer] = value instead\n",
      "\n",
      "See the caveats in the documentation: https://pandas.pydata.org/pandas-docs/stable/user_guide/indexing.html#returning-a-view-versus-a-copy\n",
      "  df16['mahalanobiss']=mR\n"
     ]
    }
   ],
   "source": [
    "##x:DataFrame,mean:media por columna,Sx:inversa de la matriz cov\n",
    "mR = pd.DataFrame(mahalanobisR(x,mean,Sx), columns = ['mahalanobiss'])\n",
    "df16['mahalanobiss']=mR"
   ]
  },
  {
   "cell_type": "code",
   "execution_count": 139,
   "id": "db8c8fab",
   "metadata": {},
   "outputs": [
    {
     "name": "stderr",
     "output_type": "stream",
     "text": [
      "C:\\Users\\Luis\\AppData\\Local\\Temp/ipykernel_15396/3080775137.py:1: SettingWithCopyWarning: \n",
      "A value is trying to be set on a copy of a slice from a DataFrame.\n",
      "Try using .loc[row_indexer,col_indexer] = value instead\n",
      "\n",
      "See the caveats in the documentation: https://pandas.pydata.org/pandas-docs/stable/user_guide/indexing.html#returning-a-view-versus-a-copy\n",
      "  df16['index'] = df16.index\n"
     ]
    },
    {
     "data": {
      "text/html": [
       "<div>\n",
       "<style scoped>\n",
       "    .dataframe tbody tr th:only-of-type {\n",
       "        vertical-align: middle;\n",
       "    }\n",
       "\n",
       "    .dataframe tbody tr th {\n",
       "        vertical-align: top;\n",
       "    }\n",
       "\n",
       "    .dataframe thead th {\n",
       "        text-align: right;\n",
       "    }\n",
       "</style>\n",
       "<table border=\"1\" class=\"dataframe\">\n",
       "  <thead>\n",
       "    <tr style=\"text-align: right;\">\n",
       "      <th></th>\n",
       "      <th>pclass</th>\n",
       "      <th>survived</th>\n",
       "      <th>fare</th>\n",
       "      <th>age_backward</th>\n",
       "      <th>age_media</th>\n",
       "      <th>age_mediana</th>\n",
       "      <th>mahalanobiss</th>\n",
       "      <th>index</th>\n",
       "    </tr>\n",
       "  </thead>\n",
       "  <tbody>\n",
       "    <tr>\n",
       "      <th>0</th>\n",
       "      <td>1</td>\n",
       "      <td>1</td>\n",
       "      <td>211.3375</td>\n",
       "      <td>29.0000</td>\n",
       "      <td>29.000000</td>\n",
       "      <td>29.0000</td>\n",
       "      <td>12.576953</td>\n",
       "      <td>0</td>\n",
       "    </tr>\n",
       "    <tr>\n",
       "      <th>1</th>\n",
       "      <td>1</td>\n",
       "      <td>1</td>\n",
       "      <td>151.5500</td>\n",
       "      <td>0.9167</td>\n",
       "      <td>0.916700</td>\n",
       "      <td>0.9167</td>\n",
       "      <td>14.186154</td>\n",
       "      <td>1</td>\n",
       "    </tr>\n",
       "    <tr>\n",
       "      <th>2</th>\n",
       "      <td>1</td>\n",
       "      <td>0</td>\n",
       "      <td>151.5500</td>\n",
       "      <td>2.0000</td>\n",
       "      <td>2.000000</td>\n",
       "      <td>2.0000</td>\n",
       "      <td>17.929535</td>\n",
       "      <td>2</td>\n",
       "    </tr>\n",
       "    <tr>\n",
       "      <th>3</th>\n",
       "      <td>1</td>\n",
       "      <td>0</td>\n",
       "      <td>151.5500</td>\n",
       "      <td>30.0000</td>\n",
       "      <td>30.000000</td>\n",
       "      <td>30.0000</td>\n",
       "      <td>8.314592</td>\n",
       "      <td>3</td>\n",
       "    </tr>\n",
       "    <tr>\n",
       "      <th>4</th>\n",
       "      <td>1</td>\n",
       "      <td>0</td>\n",
       "      <td>151.5500</td>\n",
       "      <td>25.0000</td>\n",
       "      <td>25.000000</td>\n",
       "      <td>25.0000</td>\n",
       "      <td>9.192503</td>\n",
       "      <td>4</td>\n",
       "    </tr>\n",
       "    <tr>\n",
       "      <th>...</th>\n",
       "      <td>...</td>\n",
       "      <td>...</td>\n",
       "      <td>...</td>\n",
       "      <td>...</td>\n",
       "      <td>...</td>\n",
       "      <td>...</td>\n",
       "      <td>...</td>\n",
       "      <td>...</td>\n",
       "    </tr>\n",
       "    <tr>\n",
       "      <th>1304</th>\n",
       "      <td>3</td>\n",
       "      <td>0</td>\n",
       "      <td>14.4542</td>\n",
       "      <td>14.5000</td>\n",
       "      <td>14.500000</td>\n",
       "      <td>14.5000</td>\n",
       "      <td>2.591991</td>\n",
       "      <td>1304</td>\n",
       "    </tr>\n",
       "    <tr>\n",
       "      <th>1305</th>\n",
       "      <td>3</td>\n",
       "      <td>0</td>\n",
       "      <td>14.4542</td>\n",
       "      <td>26.5000</td>\n",
       "      <td>29.881135</td>\n",
       "      <td>28.0000</td>\n",
       "      <td>4.444194</td>\n",
       "      <td>1305</td>\n",
       "    </tr>\n",
       "    <tr>\n",
       "      <th>1306</th>\n",
       "      <td>3</td>\n",
       "      <td>0</td>\n",
       "      <td>7.2250</td>\n",
       "      <td>26.5000</td>\n",
       "      <td>26.500000</td>\n",
       "      <td>26.5000</td>\n",
       "      <td>1.541962</td>\n",
       "      <td>1306</td>\n",
       "    </tr>\n",
       "    <tr>\n",
       "      <th>1307</th>\n",
       "      <td>3</td>\n",
       "      <td>0</td>\n",
       "      <td>7.2250</td>\n",
       "      <td>27.0000</td>\n",
       "      <td>27.000000</td>\n",
       "      <td>27.0000</td>\n",
       "      <td>1.544635</td>\n",
       "      <td>1307</td>\n",
       "    </tr>\n",
       "    <tr>\n",
       "      <th>1308</th>\n",
       "      <td>3</td>\n",
       "      <td>0</td>\n",
       "      <td>7.8750</td>\n",
       "      <td>29.0000</td>\n",
       "      <td>29.000000</td>\n",
       "      <td>29.0000</td>\n",
       "      <td>1.592375</td>\n",
       "      <td>1308</td>\n",
       "    </tr>\n",
       "  </tbody>\n",
       "</table>\n",
       "<p>1309 rows × 8 columns</p>\n",
       "</div>"
      ],
      "text/plain": [
       "      pclass  survived      fare  age_backward  age_media  age_mediana  \\\n",
       "0          1         1  211.3375       29.0000  29.000000      29.0000   \n",
       "1          1         1  151.5500        0.9167   0.916700       0.9167   \n",
       "2          1         0  151.5500        2.0000   2.000000       2.0000   \n",
       "3          1         0  151.5500       30.0000  30.000000      30.0000   \n",
       "4          1         0  151.5500       25.0000  25.000000      25.0000   \n",
       "...      ...       ...       ...           ...        ...          ...   \n",
       "1304       3         0   14.4542       14.5000  14.500000      14.5000   \n",
       "1305       3         0   14.4542       26.5000  29.881135      28.0000   \n",
       "1306       3         0    7.2250       26.5000  26.500000      26.5000   \n",
       "1307       3         0    7.2250       27.0000  27.000000      27.0000   \n",
       "1308       3         0    7.8750       29.0000  29.000000      29.0000   \n",
       "\n",
       "      mahalanobiss  index  \n",
       "0        12.576953      0  \n",
       "1        14.186154      1  \n",
       "2        17.929535      2  \n",
       "3         8.314592      3  \n",
       "4         9.192503      4  \n",
       "...            ...    ...  \n",
       "1304      2.591991   1304  \n",
       "1305      4.444194   1305  \n",
       "1306      1.541962   1306  \n",
       "1307      1.544635   1307  \n",
       "1308      1.592375   1308  \n",
       "\n",
       "[1309 rows x 8 columns]"
      ]
     },
     "execution_count": 139,
     "metadata": {},
     "output_type": "execute_result"
    }
   ],
   "source": [
    "df16['index'] = df16.index\n",
    "df16"
   ]
  },
  {
   "cell_type": "code",
   "execution_count": 140,
   "id": "5da03588",
   "metadata": {},
   "outputs": [
    {
     "data": {
      "text/plain": [
       "<matplotlib.collections.PathCollection at 0x1a2c9ce44f0>"
      ]
     },
     "execution_count": 140,
     "metadata": {},
     "output_type": "execute_result"
    },
    {
     "data": {
      "image/png": "[encoded data removed]",
      "text/plain": [
       "<Figure size 432x288 with 1 Axes>"
      ]
     },
     "metadata": {
      "needs_background": "light"
     },
     "output_type": "display_data"
    }
   ],
   "source": [
    "plt.scatter(df16[\"index\"],df16['mahalanobiss'])"
   ]
  },
  {
   "cell_type": "markdown",
   "id": "6aa24b4a",
   "metadata": {},
   "source": [
    "#### Todos estos valores son los outliers! "
   ]
  },
  {
   "cell_type": "code",
   "execution_count": 141,
   "id": "80907ec8",
   "metadata": {},
   "outputs": [
    {
     "data": {
      "text/html": [
       "<div>\n",
       "<style scoped>\n",
       "    .dataframe tbody tr th:only-of-type {\n",
       "        vertical-align: middle;\n",
       "    }\n",
       "\n",
       "    .dataframe tbody tr th {\n",
       "        vertical-align: top;\n",
       "    }\n",
       "\n",
       "    .dataframe thead th {\n",
       "        text-align: right;\n",
       "    }\n",
       "</style>\n",
       "<table border=\"1\" class=\"dataframe\">\n",
       "  <thead>\n",
       "    <tr style=\"text-align: right;\">\n",
       "      <th></th>\n",
       "      <th>pclass</th>\n",
       "      <th>survived</th>\n",
       "      <th>fare</th>\n",
       "      <th>age_backward</th>\n",
       "      <th>age_media</th>\n",
       "      <th>age_mediana</th>\n",
       "      <th>mahalanobiss</th>\n",
       "      <th>index</th>\n",
       "    </tr>\n",
       "  </thead>\n",
       "  <tbody>\n",
       "    <tr>\n",
       "      <th>16</th>\n",
       "      <td>1</td>\n",
       "      <td>0</td>\n",
       "      <td>247.5208</td>\n",
       "      <td>24.0</td>\n",
       "      <td>24.000000</td>\n",
       "      <td>24.0</td>\n",
       "      <td>22.499088</td>\n",
       "      <td>16</td>\n",
       "    </tr>\n",
       "    <tr>\n",
       "      <th>17</th>\n",
       "      <td>1</td>\n",
       "      <td>1</td>\n",
       "      <td>247.5208</td>\n",
       "      <td>50.0</td>\n",
       "      <td>50.000000</td>\n",
       "      <td>50.0</td>\n",
       "      <td>20.115523</td>\n",
       "      <td>17</td>\n",
       "    </tr>\n",
       "    <tr>\n",
       "      <th>35</th>\n",
       "      <td>1</td>\n",
       "      <td>1</td>\n",
       "      <td>262.3750</td>\n",
       "      <td>45.0</td>\n",
       "      <td>45.000000</td>\n",
       "      <td>45.0</td>\n",
       "      <td>21.974040</td>\n",
       "      <td>35</td>\n",
       "    </tr>\n",
       "    <tr>\n",
       "      <th>49</th>\n",
       "      <td>1</td>\n",
       "      <td>1</td>\n",
       "      <td>512.3292</td>\n",
       "      <td>36.0</td>\n",
       "      <td>36.000000</td>\n",
       "      <td>36.0</td>\n",
       "      <td>105.038900</td>\n",
       "      <td>49</td>\n",
       "    </tr>\n",
       "    <tr>\n",
       "      <th>50</th>\n",
       "      <td>1</td>\n",
       "      <td>1</td>\n",
       "      <td>512.3292</td>\n",
       "      <td>58.0</td>\n",
       "      <td>58.000000</td>\n",
       "      <td>58.0</td>\n",
       "      <td>109.923181</td>\n",
       "      <td>50</td>\n",
       "    </tr>\n",
       "    <tr>\n",
       "      <th>66</th>\n",
       "      <td>1</td>\n",
       "      <td>1</td>\n",
       "      <td>262.3750</td>\n",
       "      <td>36.0</td>\n",
       "      <td>36.000000</td>\n",
       "      <td>36.0</td>\n",
       "      <td>21.101409</td>\n",
       "      <td>66</td>\n",
       "    </tr>\n",
       "    <tr>\n",
       "      <th>74</th>\n",
       "      <td>1</td>\n",
       "      <td>0</td>\n",
       "      <td>52.0000</td>\n",
       "      <td>47.0</td>\n",
       "      <td>29.881135</td>\n",
       "      <td>28.0</td>\n",
       "      <td>21.747138</td>\n",
       "      <td>74</td>\n",
       "    </tr>\n",
       "    <tr>\n",
       "      <th>80</th>\n",
       "      <td>1</td>\n",
       "      <td>0</td>\n",
       "      <td>26.5500</td>\n",
       "      <td>70.0</td>\n",
       "      <td>29.881135</td>\n",
       "      <td>28.0</td>\n",
       "      <td>71.000589</td>\n",
       "      <td>80</td>\n",
       "    </tr>\n",
       "    <tr>\n",
       "      <th>106</th>\n",
       "      <td>1</td>\n",
       "      <td>0</td>\n",
       "      <td>221.7792</td>\n",
       "      <td>36.0</td>\n",
       "      <td>29.881135</td>\n",
       "      <td>28.0</td>\n",
       "      <td>24.645942</td>\n",
       "      <td>106</td>\n",
       "    </tr>\n",
       "    <tr>\n",
       "      <th>111</th>\n",
       "      <td>1</td>\n",
       "      <td>1</td>\n",
       "      <td>263.0000</td>\n",
       "      <td>24.0</td>\n",
       "      <td>24.000000</td>\n",
       "      <td>24.0</td>\n",
       "      <td>21.899932</td>\n",
       "      <td>111</td>\n",
       "    </tr>\n",
       "    <tr>\n",
       "      <th>112</th>\n",
       "      <td>1</td>\n",
       "      <td>1</td>\n",
       "      <td>263.0000</td>\n",
       "      <td>28.0</td>\n",
       "      <td>28.000000</td>\n",
       "      <td>28.0</td>\n",
       "      <td>21.441731</td>\n",
       "      <td>112</td>\n",
       "    </tr>\n",
       "    <tr>\n",
       "      <th>113</th>\n",
       "      <td>1</td>\n",
       "      <td>1</td>\n",
       "      <td>263.0000</td>\n",
       "      <td>23.0</td>\n",
       "      <td>23.000000</td>\n",
       "      <td>23.0</td>\n",
       "      <td>22.050963</td>\n",
       "      <td>113</td>\n",
       "    </tr>\n",
       "    <tr>\n",
       "      <th>114</th>\n",
       "      <td>1</td>\n",
       "      <td>0</td>\n",
       "      <td>263.0000</td>\n",
       "      <td>19.0</td>\n",
       "      <td>19.000000</td>\n",
       "      <td>19.0</td>\n",
       "      <td>26.805295</td>\n",
       "      <td>114</td>\n",
       "    </tr>\n",
       "    <tr>\n",
       "      <th>115</th>\n",
       "      <td>1</td>\n",
       "      <td>0</td>\n",
       "      <td>263.0000</td>\n",
       "      <td>64.0</td>\n",
       "      <td>64.000000</td>\n",
       "      <td>64.0</td>\n",
       "      <td>28.703154</td>\n",
       "      <td>115</td>\n",
       "    </tr>\n",
       "    <tr>\n",
       "      <th>116</th>\n",
       "      <td>1</td>\n",
       "      <td>1</td>\n",
       "      <td>263.0000</td>\n",
       "      <td>60.0</td>\n",
       "      <td>60.000000</td>\n",
       "      <td>60.0</td>\n",
       "      <td>26.181147</td>\n",
       "      <td>116</td>\n",
       "    </tr>\n",
       "    <tr>\n",
       "      <th>118</th>\n",
       "      <td>1</td>\n",
       "      <td>0</td>\n",
       "      <td>26.5500</td>\n",
       "      <td>50.0</td>\n",
       "      <td>29.881135</td>\n",
       "      <td>28.0</td>\n",
       "      <td>26.611779</td>\n",
       "      <td>118</td>\n",
       "    </tr>\n",
       "    <tr>\n",
       "      <th>134</th>\n",
       "      <td>1</td>\n",
       "      <td>1</td>\n",
       "      <td>89.1042</td>\n",
       "      <td>71.0</td>\n",
       "      <td>29.881135</td>\n",
       "      <td>28.0</td>\n",
       "      <td>74.446617</td>\n",
       "      <td>134</td>\n",
       "    </tr>\n",
       "    <tr>\n",
       "      <th>157</th>\n",
       "      <td>1</td>\n",
       "      <td>0</td>\n",
       "      <td>51.8625</td>\n",
       "      <td>55.0</td>\n",
       "      <td>29.881135</td>\n",
       "      <td>28.0</td>\n",
       "      <td>34.267760</td>\n",
       "      <td>157</td>\n",
       "    </tr>\n",
       "    <tr>\n",
       "      <th>183</th>\n",
       "      <td>1</td>\n",
       "      <td>1</td>\n",
       "      <td>512.3292</td>\n",
       "      <td>35.0</td>\n",
       "      <td>35.000000</td>\n",
       "      <td>35.0</td>\n",
       "      <td>104.984696</td>\n",
       "      <td>183</td>\n",
       "    </tr>\n",
       "    <tr>\n",
       "      <th>204</th>\n",
       "      <td>1</td>\n",
       "      <td>1</td>\n",
       "      <td>82.1708</td>\n",
       "      <td>65.0</td>\n",
       "      <td>29.881135</td>\n",
       "      <td>28.0</td>\n",
       "      <td>57.023932</td>\n",
       "      <td>204</td>\n",
       "    </tr>\n",
       "    <tr>\n",
       "      <th>223</th>\n",
       "      <td>1</td>\n",
       "      <td>0</td>\n",
       "      <td>0.0000</td>\n",
       "      <td>45.5</td>\n",
       "      <td>29.881135</td>\n",
       "      <td>28.0</td>\n",
       "      <td>22.259729</td>\n",
       "      <td>223</td>\n",
       "    </tr>\n",
       "    <tr>\n",
       "      <th>237</th>\n",
       "      <td>1</td>\n",
       "      <td>0</td>\n",
       "      <td>227.5250</td>\n",
       "      <td>43.0</td>\n",
       "      <td>29.881135</td>\n",
       "      <td>28.0</td>\n",
       "      <td>31.127986</td>\n",
       "      <td>237</td>\n",
       "    </tr>\n",
       "    <tr>\n",
       "      <th>249</th>\n",
       "      <td>1</td>\n",
       "      <td>1</td>\n",
       "      <td>262.3750</td>\n",
       "      <td>13.0</td>\n",
       "      <td>13.000000</td>\n",
       "      <td>13.0</td>\n",
       "      <td>24.241228</td>\n",
       "      <td>249</td>\n",
       "    </tr>\n",
       "    <tr>\n",
       "      <th>250</th>\n",
       "      <td>1</td>\n",
       "      <td>1</td>\n",
       "      <td>262.3750</td>\n",
       "      <td>18.0</td>\n",
       "      <td>18.000000</td>\n",
       "      <td>18.0</td>\n",
       "      <td>22.902016</td>\n",
       "      <td>250</td>\n",
       "    </tr>\n",
       "    <tr>\n",
       "      <th>251</th>\n",
       "      <td>1</td>\n",
       "      <td>1</td>\n",
       "      <td>262.3750</td>\n",
       "      <td>21.0</td>\n",
       "      <td>21.000000</td>\n",
       "      <td>21.0</td>\n",
       "      <td>22.273594</td>\n",
       "      <td>251</td>\n",
       "    </tr>\n",
       "    <tr>\n",
       "      <th>252</th>\n",
       "      <td>1</td>\n",
       "      <td>0</td>\n",
       "      <td>262.3750</td>\n",
       "      <td>61.0</td>\n",
       "      <td>61.000000</td>\n",
       "      <td>61.0</td>\n",
       "      <td>27.525973</td>\n",
       "      <td>252</td>\n",
       "    </tr>\n",
       "    <tr>\n",
       "      <th>253</th>\n",
       "      <td>1</td>\n",
       "      <td>1</td>\n",
       "      <td>262.3750</td>\n",
       "      <td>48.0</td>\n",
       "      <td>48.000000</td>\n",
       "      <td>48.0</td>\n",
       "      <td>22.527574</td>\n",
       "      <td>253</td>\n",
       "    </tr>\n",
       "    <tr>\n",
       "      <th>283</th>\n",
       "      <td>1</td>\n",
       "      <td>0</td>\n",
       "      <td>27.7208</td>\n",
       "      <td>62.0</td>\n",
       "      <td>29.881135</td>\n",
       "      <td>28.0</td>\n",
       "      <td>49.655239</td>\n",
       "      <td>283</td>\n",
       "    </tr>\n",
       "    <tr>\n",
       "      <th>285</th>\n",
       "      <td>1</td>\n",
       "      <td>0</td>\n",
       "      <td>221.7792</td>\n",
       "      <td>67.0</td>\n",
       "      <td>67.000000</td>\n",
       "      <td>67.0</td>\n",
       "      <td>22.105539</td>\n",
       "      <td>285</td>\n",
       "    </tr>\n",
       "    <tr>\n",
       "      <th>286</th>\n",
       "      <td>1</td>\n",
       "      <td>0</td>\n",
       "      <td>221.7792</td>\n",
       "      <td>63.0</td>\n",
       "      <td>63.000000</td>\n",
       "      <td>63.0</td>\n",
       "      <td>20.585112</td>\n",
       "      <td>286</td>\n",
       "    </tr>\n",
       "    <tr>\n",
       "      <th>293</th>\n",
       "      <td>1</td>\n",
       "      <td>1</td>\n",
       "      <td>52.0000</td>\n",
       "      <td>49.0</td>\n",
       "      <td>29.881135</td>\n",
       "      <td>28.0</td>\n",
       "      <td>24.187410</td>\n",
       "      <td>293</td>\n",
       "    </tr>\n",
       "    <tr>\n",
       "      <th>302</th>\n",
       "      <td>1</td>\n",
       "      <td>1</td>\n",
       "      <td>512.3292</td>\n",
       "      <td>35.0</td>\n",
       "      <td>35.000000</td>\n",
       "      <td>35.0</td>\n",
       "      <td>104.984696</td>\n",
       "      <td>302</td>\n",
       "    </tr>\n",
       "    <tr>\n",
       "      <th>320</th>\n",
       "      <td>1</td>\n",
       "      <td>1</td>\n",
       "      <td>35.5000</td>\n",
       "      <td>62.0</td>\n",
       "      <td>29.881135</td>\n",
       "      <td>28.0</td>\n",
       "      <td>49.868902</td>\n",
       "      <td>320</td>\n",
       "    </tr>\n",
       "    <tr>\n",
       "      <th>384</th>\n",
       "      <td>2</td>\n",
       "      <td>0</td>\n",
       "      <td>0.0000</td>\n",
       "      <td>8.0</td>\n",
       "      <td>29.881135</td>\n",
       "      <td>28.0</td>\n",
       "      <td>22.112943</td>\n",
       "      <td>384</td>\n",
       "    </tr>\n",
       "    <tr>\n",
       "      <th>477</th>\n",
       "      <td>2</td>\n",
       "      <td>0</td>\n",
       "      <td>10.7083</td>\n",
       "      <td>1.0</td>\n",
       "      <td>29.881135</td>\n",
       "      <td>28.0</td>\n",
       "      <td>34.078330</td>\n",
       "      <td>477</td>\n",
       "    </tr>\n",
       "    <tr>\n",
       "      <th>491</th>\n",
       "      <td>2</td>\n",
       "      <td>0</td>\n",
       "      <td>15.0458</td>\n",
       "      <td>1.0</td>\n",
       "      <td>29.881135</td>\n",
       "      <td>28.0</td>\n",
       "      <td>33.904142</td>\n",
       "      <td>491</td>\n",
       "    </tr>\n",
       "    <tr>\n",
       "      <th>528</th>\n",
       "      <td>2</td>\n",
       "      <td>0</td>\n",
       "      <td>0.0000</td>\n",
       "      <td>50.0</td>\n",
       "      <td>29.881135</td>\n",
       "      <td>28.0</td>\n",
       "      <td>23.241227</td>\n",
       "      <td>528</td>\n",
       "    </tr>\n",
       "    <tr>\n",
       "      <th>865</th>\n",
       "      <td>3</td>\n",
       "      <td>0</td>\n",
       "      <td>7.7500</td>\n",
       "      <td>2.0</td>\n",
       "      <td>29.881135</td>\n",
       "      <td>28.0</td>\n",
       "      <td>27.705097</td>\n",
       "      <td>865</td>\n",
       "    </tr>\n",
       "    <tr>\n",
       "      <th>1012</th>\n",
       "      <td>3</td>\n",
       "      <td>0</td>\n",
       "      <td>7.7500</td>\n",
       "      <td>55.5</td>\n",
       "      <td>29.881135</td>\n",
       "      <td>28.0</td>\n",
       "      <td>34.146931</td>\n",
       "      <td>1012</td>\n",
       "    </tr>\n",
       "    <tr>\n",
       "      <th>1013</th>\n",
       "      <td>3</td>\n",
       "      <td>0</td>\n",
       "      <td>8.0500</td>\n",
       "      <td>55.5</td>\n",
       "      <td>29.881135</td>\n",
       "      <td>28.0</td>\n",
       "      <td>34.151141</td>\n",
       "      <td>1013</td>\n",
       "    </tr>\n",
       "    <tr>\n",
       "      <th>1014</th>\n",
       "      <td>3</td>\n",
       "      <td>0</td>\n",
       "      <td>8.0500</td>\n",
       "      <td>55.5</td>\n",
       "      <td>29.881135</td>\n",
       "      <td>28.0</td>\n",
       "      <td>34.151141</td>\n",
       "      <td>1014</td>\n",
       "    </tr>\n",
       "    <tr>\n",
       "      <th>1095</th>\n",
       "      <td>3</td>\n",
       "      <td>0</td>\n",
       "      <td>7.6292</td>\n",
       "      <td>2.0</td>\n",
       "      <td>29.881135</td>\n",
       "      <td>28.0</td>\n",
       "      <td>27.706075</td>\n",
       "      <td>1095</td>\n",
       "    </tr>\n",
       "    <tr>\n",
       "      <th>1149</th>\n",
       "      <td>3</td>\n",
       "      <td>1</td>\n",
       "      <td>7.7208</td>\n",
       "      <td>50.0</td>\n",
       "      <td>29.881135</td>\n",
       "      <td>28.0</td>\n",
       "      <td>27.688402</td>\n",
       "      <td>1149</td>\n",
       "    </tr>\n",
       "    <tr>\n",
       "      <th>1150</th>\n",
       "      <td>3</td>\n",
       "      <td>0</td>\n",
       "      <td>14.5000</td>\n",
       "      <td>50.0</td>\n",
       "      <td>29.881135</td>\n",
       "      <td>28.0</td>\n",
       "      <td>23.834811</td>\n",
       "      <td>1150</td>\n",
       "    </tr>\n",
       "    <tr>\n",
       "      <th>1151</th>\n",
       "      <td>3</td>\n",
       "      <td>0</td>\n",
       "      <td>14.5000</td>\n",
       "      <td>50.0</td>\n",
       "      <td>29.881135</td>\n",
       "      <td>28.0</td>\n",
       "      <td>23.834811</td>\n",
       "      <td>1151</td>\n",
       "    </tr>\n",
       "    <tr>\n",
       "      <th>1154</th>\n",
       "      <td>3</td>\n",
       "      <td>0</td>\n",
       "      <td>8.0500</td>\n",
       "      <td>2.0</td>\n",
       "      <td>29.881135</td>\n",
       "      <td>28.0</td>\n",
       "      <td>27.702735</td>\n",
       "      <td>1154</td>\n",
       "    </tr>\n",
       "    <tr>\n",
       "      <th>1155</th>\n",
       "      <td>3</td>\n",
       "      <td>0</td>\n",
       "      <td>7.7750</td>\n",
       "      <td>2.0</td>\n",
       "      <td>29.881135</td>\n",
       "      <td>28.0</td>\n",
       "      <td>27.704896</td>\n",
       "      <td>1155</td>\n",
       "    </tr>\n",
       "    <tr>\n",
       "      <th>1159</th>\n",
       "      <td>3</td>\n",
       "      <td>1</td>\n",
       "      <td>8.0500</td>\n",
       "      <td>50.0</td>\n",
       "      <td>29.881135</td>\n",
       "      <td>28.0</td>\n",
       "      <td>27.689573</td>\n",
       "      <td>1159</td>\n",
       "    </tr>\n",
       "    <tr>\n",
       "      <th>1184</th>\n",
       "      <td>3</td>\n",
       "      <td>0</td>\n",
       "      <td>21.6792</td>\n",
       "      <td>1.0</td>\n",
       "      <td>29.881135</td>\n",
       "      <td>28.0</td>\n",
       "      <td>29.587034</td>\n",
       "      <td>1184</td>\n",
       "    </tr>\n",
       "    <tr>\n",
       "      <th>1185</th>\n",
       "      <td>3</td>\n",
       "      <td>0</td>\n",
       "      <td>21.6792</td>\n",
       "      <td>1.0</td>\n",
       "      <td>29.881135</td>\n",
       "      <td>28.0</td>\n",
       "      <td>29.587034</td>\n",
       "      <td>1185</td>\n",
       "    </tr>\n",
       "    <tr>\n",
       "      <th>1186</th>\n",
       "      <td>3</td>\n",
       "      <td>0</td>\n",
       "      <td>21.6792</td>\n",
       "      <td>1.0</td>\n",
       "      <td>29.881135</td>\n",
       "      <td>28.0</td>\n",
       "      <td>29.587034</td>\n",
       "      <td>1186</td>\n",
       "    </tr>\n",
       "  </tbody>\n",
       "</table>\n",
       "</div>"
      ],
      "text/plain": [
       "      pclass  survived      fare  age_backward  age_media  age_mediana  \\\n",
       "16         1         0  247.5208          24.0  24.000000         24.0   \n",
       "17         1         1  247.5208          50.0  50.000000         50.0   \n",
       "35         1         1  262.3750          45.0  45.000000         45.0   \n",
       "49         1         1  512.3292          36.0  36.000000         36.0   \n",
       "50         1         1  512.3292          58.0  58.000000         58.0   \n",
       "66         1         1  262.3750          36.0  36.000000         36.0   \n",
       "74         1         0   52.0000          47.0  29.881135         28.0   \n",
       "80         1         0   26.5500          70.0  29.881135         28.0   \n",
       "106        1         0  221.7792          36.0  29.881135         28.0   \n",
       "111        1         1  263.0000          24.0  24.000000         24.0   \n",
       "112        1         1  263.0000          28.0  28.000000         28.0   \n",
       "113        1         1  263.0000          23.0  23.000000         23.0   \n",
       "114        1         0  263.0000          19.0  19.000000         19.0   \n",
       "115        1         0  263.0000          64.0  64.000000         64.0   \n",
       "116        1         1  263.0000          60.0  60.000000         60.0   \n",
       "118        1         0   26.5500          50.0  29.881135         28.0   \n",
       "134        1         1   89.1042          71.0  29.881135         28.0   \n",
       "157        1         0   51.8625          55.0  29.881135         28.0   \n",
       "183        1         1  512.3292          35.0  35.000000         35.0   \n",
       "204        1         1   82.1708          65.0  29.881135         28.0   \n",
       "223        1         0    0.0000          45.5  29.881135         28.0   \n",
       "237        1         0  227.5250          43.0  29.881135         28.0   \n",
       "249        1         1  262.3750          13.0  13.000000         13.0   \n",
       "250        1         1  262.3750          18.0  18.000000         18.0   \n",
       "251        1         1  262.3750          21.0  21.000000         21.0   \n",
       "252        1         0  262.3750          61.0  61.000000         61.0   \n",
       "253        1         1  262.3750          48.0  48.000000         48.0   \n",
       "283        1         0   27.7208          62.0  29.881135         28.0   \n",
       "285        1         0  221.7792          67.0  67.000000         67.0   \n",
       "286        1         0  221.7792          63.0  63.000000         63.0   \n",
       "293        1         1   52.0000          49.0  29.881135         28.0   \n",
       "302        1         1  512.3292          35.0  35.000000         35.0   \n",
       "320        1         1   35.5000          62.0  29.881135         28.0   \n",
       "384        2         0    0.0000           8.0  29.881135         28.0   \n",
       "477        2         0   10.7083           1.0  29.881135         28.0   \n",
       "491        2         0   15.0458           1.0  29.881135         28.0   \n",
       "528        2         0    0.0000          50.0  29.881135         28.0   \n",
       "865        3         0    7.7500           2.0  29.881135         28.0   \n",
       "1012       3         0    7.7500          55.5  29.881135         28.0   \n",
       "1013       3         0    8.0500          55.5  29.881135         28.0   \n",
       "1014       3         0    8.0500          55.5  29.881135         28.0   \n",
       "1095       3         0    7.6292           2.0  29.881135         28.0   \n",
       "1149       3         1    7.7208          50.0  29.881135         28.0   \n",
       "1150       3         0   14.5000          50.0  29.881135         28.0   \n",
       "1151       3         0   14.5000          50.0  29.881135         28.0   \n",
       "1154       3         0    8.0500           2.0  29.881135         28.0   \n",
       "1155       3         0    7.7750           2.0  29.881135         28.0   \n",
       "1159       3         1    8.0500          50.0  29.881135         28.0   \n",
       "1184       3         0   21.6792           1.0  29.881135         28.0   \n",
       "1185       3         0   21.6792           1.0  29.881135         28.0   \n",
       "1186       3         0   21.6792           1.0  29.881135         28.0   \n",
       "\n",
       "      mahalanobiss  index  \n",
       "16       22.499088     16  \n",
       "17       20.115523     17  \n",
       "35       21.974040     35  \n",
       "49      105.038900     49  \n",
       "50      109.923181     50  \n",
       "66       21.101409     66  \n",
       "74       21.747138     74  \n",
       "80       71.000589     80  \n",
       "106      24.645942    106  \n",
       "111      21.899932    111  \n",
       "112      21.441731    112  \n",
       "113      22.050963    113  \n",
       "114      26.805295    114  \n",
       "115      28.703154    115  \n",
       "116      26.181147    116  \n",
       "118      26.611779    118  \n",
       "134      74.446617    134  \n",
       "157      34.267760    157  \n",
       "183     104.984696    183  \n",
       "204      57.023932    204  \n",
       "223      22.259729    223  \n",
       "237      31.127986    237  \n",
       "249      24.241228    249  \n",
       "250      22.902016    250  \n",
       "251      22.273594    251  \n",
       "252      27.525973    252  \n",
       "253      22.527574    253  \n",
       "283      49.655239    283  \n",
       "285      22.105539    285  \n",
       "286      20.585112    286  \n",
       "293      24.187410    293  \n",
       "302     104.984696    302  \n",
       "320      49.868902    320  \n",
       "384      22.112943    384  \n",
       "477      34.078330    477  \n",
       "491      33.904142    491  \n",
       "528      23.241227    528  \n",
       "865      27.705097    865  \n",
       "1012     34.146931   1012  \n",
       "1013     34.151141   1013  \n",
       "1014     34.151141   1014  \n",
       "1095     27.706075   1095  \n",
       "1149     27.688402   1149  \n",
       "1150     23.834811   1150  \n",
       "1151     23.834811   1151  \n",
       "1154     27.702735   1154  \n",
       "1155     27.704896   1155  \n",
       "1159     27.689573   1159  \n",
       "1184     29.587034   1184  \n",
       "1185     29.587034   1185  \n",
       "1186     29.587034   1186  "
      ]
     },
     "execution_count": 141,
     "metadata": {},
     "output_type": "execute_result"
    }
   ],
   "source": [
    "df16[df16['mahalanobiss']>20]"
   ]
  },
  {
   "cell_type": "markdown",
   "id": "9fb3f148",
   "metadata": {},
   "source": [
    "<a id=\"section4\"></a>\n",
    "## <font color=\"#004D7F\">4 cargando DataFrame </font>"
   ]
  },
  {
   "cell_type": "markdown",
   "id": "fe5a12e8",
   "metadata": {},
   "source": [
    "Esta data trata sobre si el cliente es un buen pagador o mal pagador \n",
    "teniendo como varaibles predictoras \"cuenta\" , \"mes\" , \"Ppag\" ,\"Uso\"\n",
    ",\"DM\",\"Sexo\",\"estado\"(vive solo o no vive solo). "
   ]
  },
  {
   "cell_type": "code",
   "execution_count": 142,
   "id": "2c5b606a",
   "metadata": {},
   "outputs": [
    {
     "data": {
      "text/html": [
       "<div>\n",
       "<style scoped>\n",
       "    .dataframe tbody tr th:only-of-type {\n",
       "        vertical-align: middle;\n",
       "    }\n",
       "\n",
       "    .dataframe tbody tr th {\n",
       "        vertical-align: top;\n",
       "    }\n",
       "\n",
       "    .dataframe thead th {\n",
       "        text-align: right;\n",
       "    }\n",
       "</style>\n",
       "<table border=\"1\" class=\"dataframe\">\n",
       "  <thead>\n",
       "    <tr style=\"text-align: right;\">\n",
       "      <th></th>\n",
       "      <th>Y</th>\n",
       "      <th>Cuenta</th>\n",
       "      <th>Mes</th>\n",
       "      <th>Ppag</th>\n",
       "      <th>Uso</th>\n",
       "      <th>DM</th>\n",
       "      <th>Sexo</th>\n",
       "      <th>Estc</th>\n",
       "    </tr>\n",
       "  </thead>\n",
       "  <tbody>\n",
       "    <tr>\n",
       "      <th>0</th>\n",
       "      <td>buen</td>\n",
       "      <td>no</td>\n",
       "      <td>18</td>\n",
       "      <td>pre buen pagador</td>\n",
       "      <td>privado</td>\n",
       "      <td>1049</td>\n",
       "      <td>mujer</td>\n",
       "      <td>vive solo</td>\n",
       "    </tr>\n",
       "    <tr>\n",
       "      <th>1</th>\n",
       "      <td>buen</td>\n",
       "      <td>no</td>\n",
       "      <td>9</td>\n",
       "      <td>pre buen pagador</td>\n",
       "      <td>profesional</td>\n",
       "      <td>2799</td>\n",
       "      <td>hombre</td>\n",
       "      <td>no vive solo</td>\n",
       "    </tr>\n",
       "    <tr>\n",
       "      <th>2</th>\n",
       "      <td>buen</td>\n",
       "      <td>bad running</td>\n",
       "      <td>12</td>\n",
       "      <td>pre buen pagador</td>\n",
       "      <td>profesional</td>\n",
       "      <td>841</td>\n",
       "      <td>mujer</td>\n",
       "      <td>vive solo</td>\n",
       "    </tr>\n",
       "    <tr>\n",
       "      <th>3</th>\n",
       "      <td>buen</td>\n",
       "      <td>no</td>\n",
       "      <td>12</td>\n",
       "      <td>pre buen pagador</td>\n",
       "      <td>profesional</td>\n",
       "      <td>2122</td>\n",
       "      <td>hombre</td>\n",
       "      <td>no vive solo</td>\n",
       "    </tr>\n",
       "    <tr>\n",
       "      <th>4</th>\n",
       "      <td>buen</td>\n",
       "      <td>no</td>\n",
       "      <td>12</td>\n",
       "      <td>pre buen pagador</td>\n",
       "      <td>profesional</td>\n",
       "      <td>2171</td>\n",
       "      <td>hombre</td>\n",
       "      <td>no vive solo</td>\n",
       "    </tr>\n",
       "    <tr>\n",
       "      <th>...</th>\n",
       "      <td>...</td>\n",
       "      <td>...</td>\n",
       "      <td>...</td>\n",
       "      <td>...</td>\n",
       "      <td>...</td>\n",
       "      <td>...</td>\n",
       "      <td>...</td>\n",
       "      <td>...</td>\n",
       "    </tr>\n",
       "    <tr>\n",
       "      <th>995</th>\n",
       "      <td>mal</td>\n",
       "      <td>no</td>\n",
       "      <td>24</td>\n",
       "      <td>pre buen pagador</td>\n",
       "      <td>privado</td>\n",
       "      <td>1987</td>\n",
       "      <td>hombre</td>\n",
       "      <td>no vive solo</td>\n",
       "    </tr>\n",
       "    <tr>\n",
       "      <th>996</th>\n",
       "      <td>mal</td>\n",
       "      <td>no</td>\n",
       "      <td>24</td>\n",
       "      <td>pre buen pagador</td>\n",
       "      <td>profesional</td>\n",
       "      <td>2303</td>\n",
       "      <td>hombre</td>\n",
       "      <td>no vive solo</td>\n",
       "    </tr>\n",
       "    <tr>\n",
       "      <th>997</th>\n",
       "      <td>mal</td>\n",
       "      <td>good running</td>\n",
       "      <td>21</td>\n",
       "      <td>pre buen pagador</td>\n",
       "      <td>profesional</td>\n",
       "      <td>12680</td>\n",
       "      <td>hombre</td>\n",
       "      <td>no vive solo</td>\n",
       "    </tr>\n",
       "    <tr>\n",
       "      <th>998</th>\n",
       "      <td>mal</td>\n",
       "      <td>bad running</td>\n",
       "      <td>12</td>\n",
       "      <td>pre buen pagador</td>\n",
       "      <td>privado</td>\n",
       "      <td>6468</td>\n",
       "      <td>hombre</td>\n",
       "      <td>no vive solo</td>\n",
       "    </tr>\n",
       "    <tr>\n",
       "      <th>999</th>\n",
       "      <td>mal</td>\n",
       "      <td>no</td>\n",
       "      <td>30</td>\n",
       "      <td>pre buen pagador</td>\n",
       "      <td>privado</td>\n",
       "      <td>6350</td>\n",
       "      <td>hombre</td>\n",
       "      <td>no vive solo</td>\n",
       "    </tr>\n",
       "  </tbody>\n",
       "</table>\n",
       "<p>1000 rows × 8 columns</p>\n",
       "</div>"
      ],
      "text/plain": [
       "        Y        Cuenta  Mes              Ppag          Uso     DM    Sexo  \\\n",
       "0    buen            no   18  pre buen pagador      privado   1049   mujer   \n",
       "1    buen            no    9  pre buen pagador  profesional   2799  hombre   \n",
       "2    buen   bad running   12  pre buen pagador  profesional    841   mujer   \n",
       "3    buen            no   12  pre buen pagador  profesional   2122  hombre   \n",
       "4    buen            no   12  pre buen pagador  profesional   2171  hombre   \n",
       "..    ...           ...  ...               ...          ...    ...     ...   \n",
       "995   mal            no   24  pre buen pagador      privado   1987  hombre   \n",
       "996   mal            no   24  pre buen pagador  profesional   2303  hombre   \n",
       "997   mal  good running   21  pre buen pagador  profesional  12680  hombre   \n",
       "998   mal   bad running   12  pre buen pagador      privado   6468  hombre   \n",
       "999   mal            no   30  pre buen pagador      privado   6350  hombre   \n",
       "\n",
       "             Estc  \n",
       "0       vive solo  \n",
       "1    no vive solo  \n",
       "2       vive solo  \n",
       "3    no vive solo  \n",
       "4    no vive solo  \n",
       "..            ...  \n",
       "995  no vive solo  \n",
       "996  no vive solo  \n",
       "997  no vive solo  \n",
       "998  no vive solo  \n",
       "999  no vive solo  \n",
       "\n",
       "[1000 rows x 8 columns]"
      ]
     },
     "execution_count": 142,
     "metadata": {},
     "output_type": "execute_result"
    }
   ],
   "source": [
    "import pandas as pd\n",
    "import os\n",
    "data = pd.read_csv(\"Datos_unalm/credit2.csv\",sep=';')\n",
    "data.head(10)\n",
    "data.dtypes\n",
    "data"
   ]
  },
  {
   "cell_type": "code",
   "execution_count": 143,
   "id": "6c3755f7",
   "metadata": {},
   "outputs": [
    {
     "data": {
      "text/plain": [
       "Y         object\n",
       "Cuenta    object\n",
       "Mes        int64\n",
       "Ppag      object\n",
       "Uso       object\n",
       "DM         int64\n",
       "Sexo      object\n",
       "Estc      object\n",
       "dtype: object"
      ]
     },
     "execution_count": 143,
     "metadata": {},
     "output_type": "execute_result"
    }
   ],
   "source": [
    "data.dtypes"
   ]
  },
  {
   "cell_type": "code",
   "execution_count": 144,
   "id": "750cad22",
   "metadata": {},
   "outputs": [
    {
     "data": {
      "text/plain": [
       "(1000, 8)"
      ]
     },
     "execution_count": 144,
     "metadata": {},
     "output_type": "execute_result"
    }
   ],
   "source": [
    "data.shape"
   ]
  },
  {
   "cell_type": "code",
   "execution_count": 145,
   "id": "eba91dd1",
   "metadata": {},
   "outputs": [
    {
     "data": {
      "text/plain": [
       "Y         0\n",
       "Cuenta    0\n",
       "Mes       0\n",
       "Ppag      0\n",
       "Uso       0\n",
       "DM        0\n",
       "Sexo      0\n",
       "Estc      0\n",
       "dtype: int64"
      ]
     },
     "execution_count": 145,
     "metadata": {},
     "output_type": "execute_result"
    }
   ],
   "source": [
    "data.isnull().sum()"
   ]
  },
  {
   "cell_type": "code",
   "execution_count": 146,
   "id": "4f4799a0",
   "metadata": {},
   "outputs": [
    {
     "data": {
      "text/plain": [
       "Index(['Y', 'Cuenta', 'Mes', 'Ppag', 'Uso', 'DM', 'Sexo', 'Estc'], dtype='object')"
      ]
     },
     "execution_count": 146,
     "metadata": {},
     "output_type": "execute_result"
    }
   ],
   "source": [
    "data.columns"
   ]
  },
  {
   "cell_type": "code",
   "execution_count": 147,
   "id": "1b7a81a2",
   "metadata": {},
   "outputs": [
    {
     "data": {
      "text/plain": [
       "array(['buen', 'mal'], dtype=object)"
      ]
     },
     "execution_count": 147,
     "metadata": {},
     "output_type": "execute_result"
    }
   ],
   "source": [
    "data.Y.unique()"
   ]
  },
  {
   "cell_type": "code",
   "execution_count": 148,
   "id": "4520606e",
   "metadata": {},
   "outputs": [
    {
     "data": {
      "text/plain": [
       "buen    700\n",
       "mal     300\n",
       "Name: Y, dtype: int64"
      ]
     },
     "execution_count": 148,
     "metadata": {},
     "output_type": "execute_result"
    }
   ],
   "source": [
    "data.Y.value_counts()"
   ]
  },
  {
   "cell_type": "code",
   "execution_count": 149,
   "id": "98c42d6b",
   "metadata": {},
   "outputs": [],
   "source": [
    "data[\"Y_1\"]=pd.factorize(data[\"Y\"])[0]"
   ]
  },
  {
   "cell_type": "markdown",
   "id": "d6edf58c",
   "metadata": {},
   "source": [
    "#### A la variable respuesta \"Y\" lo llevo   a \"0\" y \"1\"<br>\n",
    "- buen :0 \n",
    "- malo :1"
   ]
  },
  {
   "cell_type": "code",
   "execution_count": 150,
   "id": "6f256d93",
   "metadata": {},
   "outputs": [
    {
     "data": {
      "text/html": [
       "<div>\n",
       "<style scoped>\n",
       "    .dataframe tbody tr th:only-of-type {\n",
       "        vertical-align: middle;\n",
       "    }\n",
       "\n",
       "    .dataframe tbody tr th {\n",
       "        vertical-align: top;\n",
       "    }\n",
       "\n",
       "    .dataframe thead th {\n",
       "        text-align: right;\n",
       "    }\n",
       "</style>\n",
       "<table border=\"1\" class=\"dataframe\">\n",
       "  <thead>\n",
       "    <tr style=\"text-align: right;\">\n",
       "      <th></th>\n",
       "      <th>Y</th>\n",
       "      <th>Cuenta</th>\n",
       "      <th>Mes</th>\n",
       "      <th>Ppag</th>\n",
       "      <th>Uso</th>\n",
       "      <th>DM</th>\n",
       "      <th>Sexo</th>\n",
       "      <th>Estc</th>\n",
       "      <th>Y_1</th>\n",
       "    </tr>\n",
       "  </thead>\n",
       "  <tbody>\n",
       "    <tr>\n",
       "      <th>0</th>\n",
       "      <td>buen</td>\n",
       "      <td>no</td>\n",
       "      <td>18</td>\n",
       "      <td>pre buen pagador</td>\n",
       "      <td>privado</td>\n",
       "      <td>1049</td>\n",
       "      <td>mujer</td>\n",
       "      <td>vive solo</td>\n",
       "      <td>0</td>\n",
       "    </tr>\n",
       "    <tr>\n",
       "      <th>1</th>\n",
       "      <td>buen</td>\n",
       "      <td>no</td>\n",
       "      <td>9</td>\n",
       "      <td>pre buen pagador</td>\n",
       "      <td>profesional</td>\n",
       "      <td>2799</td>\n",
       "      <td>hombre</td>\n",
       "      <td>no vive solo</td>\n",
       "      <td>0</td>\n",
       "    </tr>\n",
       "  </tbody>\n",
       "</table>\n",
       "</div>"
      ],
      "text/plain": [
       "      Y Cuenta  Mes              Ppag          Uso    DM    Sexo  \\\n",
       "0  buen     no   18  pre buen pagador      privado  1049   mujer   \n",
       "1  buen     no    9  pre buen pagador  profesional  2799  hombre   \n",
       "\n",
       "           Estc  Y_1  \n",
       "0     vive solo    0  \n",
       "1  no vive solo    0  "
      ]
     },
     "execution_count": 150,
     "metadata": {},
     "output_type": "execute_result"
    }
   ],
   "source": [
    "data.head(2)"
   ]
  },
  {
   "cell_type": "code",
   "execution_count": 151,
   "id": "a0cc5170",
   "metadata": {},
   "outputs": [
    {
     "data": {
      "text/plain": [
       "0    700\n",
       "1    300\n",
       "Name: Y_1, dtype: int64"
      ]
     },
     "execution_count": 151,
     "metadata": {},
     "output_type": "execute_result"
    }
   ],
   "source": [
    "data.Y_1.value_counts()"
   ]
  },
  {
   "cell_type": "code",
   "execution_count": 152,
   "id": "095ae80a",
   "metadata": {},
   "outputs": [],
   "source": [
    "data['Y_1']=data.Y_1.astype(\"category\")"
   ]
  },
  {
   "cell_type": "code",
   "execution_count": 153,
   "id": "3ab78bf1",
   "metadata": {},
   "outputs": [
    {
     "data": {
      "text/plain": [
       "CategoricalDtype(categories=[0, 1], ordered=False)"
      ]
     },
     "execution_count": 153,
     "metadata": {},
     "output_type": "execute_result"
    }
   ],
   "source": [
    "data.Y_1.dtype"
   ]
  },
  {
   "cell_type": "code",
   "execution_count": 154,
   "id": "eef174a6",
   "metadata": {},
   "outputs": [
    {
     "data": {
      "text/plain": [
       "0      0\n",
       "1      0\n",
       "2      0\n",
       "3      0\n",
       "4      0\n",
       "      ..\n",
       "995    1\n",
       "996    1\n",
       "997    1\n",
       "998    1\n",
       "999    1\n",
       "Name: Y_1, Length: 1000, dtype: category\n",
       "Categories (2, int64): [0, 1]"
      ]
     },
     "execution_count": 154,
     "metadata": {},
     "output_type": "execute_result"
    }
   ],
   "source": [
    "data.Y_1"
   ]
  },
  {
   "cell_type": "markdown",
   "id": "2a762db2",
   "metadata": {},
   "source": [
    "<a id=\"section41\"></a>\n",
    "## <font color=\"#004D7F\">4.1 Crear factores categoricos</font>"
   ]
  },
  {
   "cell_type": "code",
   "execution_count": 155,
   "id": "ad4823ab",
   "metadata": {},
   "outputs": [
    {
     "data": {
      "text/plain": [
       "0      0\n",
       "1      0\n",
       "2      0\n",
       "3      0\n",
       "4      0\n",
       "      ..\n",
       "995    1\n",
       "996    1\n",
       "997    1\n",
       "998    1\n",
       "999    1\n",
       "Name: Y_2, Length: 1000, dtype: category\n",
       "Categories (2, int64): [0, 1]"
      ]
     },
     "execution_count": 155,
     "metadata": {},
     "output_type": "execute_result"
    }
   ],
   "source": [
    "data[\"Y_2\"]=pd.factorize(data[\"Y\"])[0]\n",
    "data[[\"Y_2\",\"Y\"]]\n",
    "data[\"Y_2\"]=data[\"Y_2\"].astype('category')\n",
    "data[\"Y_2\"]"
   ]
  },
  {
   "cell_type": "code",
   "execution_count": 156,
   "id": "30ac91cb",
   "metadata": {},
   "outputs": [
    {
     "data": {
      "text/html": [
       "<div>\n",
       "<style scoped>\n",
       "    .dataframe tbody tr th:only-of-type {\n",
       "        vertical-align: middle;\n",
       "    }\n",
       "\n",
       "    .dataframe tbody tr th {\n",
       "        vertical-align: top;\n",
       "    }\n",
       "\n",
       "    .dataframe thead th {\n",
       "        text-align: right;\n",
       "    }\n",
       "</style>\n",
       "<table border=\"1\" class=\"dataframe\">\n",
       "  <thead>\n",
       "    <tr style=\"text-align: right;\">\n",
       "      <th></th>\n",
       "      <th>Y</th>\n",
       "      <th>Cuenta</th>\n",
       "      <th>Mes</th>\n",
       "      <th>Ppag</th>\n",
       "      <th>Uso</th>\n",
       "      <th>DM</th>\n",
       "      <th>Sexo</th>\n",
       "      <th>Estc</th>\n",
       "      <th>Y_1</th>\n",
       "      <th>Y_2</th>\n",
       "    </tr>\n",
       "  </thead>\n",
       "  <tbody>\n",
       "    <tr>\n",
       "      <th>0</th>\n",
       "      <td>buen</td>\n",
       "      <td>no</td>\n",
       "      <td>18</td>\n",
       "      <td>pre buen pagador</td>\n",
       "      <td>privado</td>\n",
       "      <td>1049</td>\n",
       "      <td>mujer</td>\n",
       "      <td>vive solo</td>\n",
       "      <td>0</td>\n",
       "      <td>0</td>\n",
       "    </tr>\n",
       "    <tr>\n",
       "      <th>1</th>\n",
       "      <td>buen</td>\n",
       "      <td>no</td>\n",
       "      <td>9</td>\n",
       "      <td>pre buen pagador</td>\n",
       "      <td>profesional</td>\n",
       "      <td>2799</td>\n",
       "      <td>hombre</td>\n",
       "      <td>no vive solo</td>\n",
       "      <td>0</td>\n",
       "      <td>0</td>\n",
       "    </tr>\n",
       "  </tbody>\n",
       "</table>\n",
       "</div>"
      ],
      "text/plain": [
       "      Y Cuenta  Mes              Ppag          Uso    DM    Sexo  \\\n",
       "0  buen     no   18  pre buen pagador      privado  1049   mujer   \n",
       "1  buen     no    9  pre buen pagador  profesional  2799  hombre   \n",
       "\n",
       "           Estc Y_1 Y_2  \n",
       "0     vive solo   0   0  \n",
       "1  no vive solo   0   0  "
      ]
     },
     "execution_count": 156,
     "metadata": {},
     "output_type": "execute_result"
    }
   ],
   "source": [
    "data.head(2)"
   ]
  },
  {
   "cell_type": "code",
   "execution_count": 157,
   "id": "73d7ac93",
   "metadata": {},
   "outputs": [],
   "source": [
    "data=data.drop([\"Y_1\"],axis=1)"
   ]
  },
  {
   "cell_type": "code",
   "execution_count": 158,
   "id": "98d39937",
   "metadata": {},
   "outputs": [
    {
     "data": {
      "text/html": [
       "<div>\n",
       "<style scoped>\n",
       "    .dataframe tbody tr th:only-of-type {\n",
       "        vertical-align: middle;\n",
       "    }\n",
       "\n",
       "    .dataframe tbody tr th {\n",
       "        vertical-align: top;\n",
       "    }\n",
       "\n",
       "    .dataframe thead th {\n",
       "        text-align: right;\n",
       "    }\n",
       "</style>\n",
       "<table border=\"1\" class=\"dataframe\">\n",
       "  <thead>\n",
       "    <tr style=\"text-align: right;\">\n",
       "      <th></th>\n",
       "      <th>Y</th>\n",
       "      <th>Cuenta</th>\n",
       "      <th>Mes</th>\n",
       "      <th>Ppag</th>\n",
       "      <th>Uso</th>\n",
       "      <th>DM</th>\n",
       "      <th>Sexo</th>\n",
       "      <th>Estc</th>\n",
       "      <th>Y_2</th>\n",
       "    </tr>\n",
       "  </thead>\n",
       "  <tbody>\n",
       "    <tr>\n",
       "      <th>0</th>\n",
       "      <td>buen</td>\n",
       "      <td>no</td>\n",
       "      <td>18</td>\n",
       "      <td>pre buen pagador</td>\n",
       "      <td>privado</td>\n",
       "      <td>1049</td>\n",
       "      <td>mujer</td>\n",
       "      <td>vive solo</td>\n",
       "      <td>0</td>\n",
       "    </tr>\n",
       "    <tr>\n",
       "      <th>1</th>\n",
       "      <td>buen</td>\n",
       "      <td>no</td>\n",
       "      <td>9</td>\n",
       "      <td>pre buen pagador</td>\n",
       "      <td>profesional</td>\n",
       "      <td>2799</td>\n",
       "      <td>hombre</td>\n",
       "      <td>no vive solo</td>\n",
       "      <td>0</td>\n",
       "    </tr>\n",
       "  </tbody>\n",
       "</table>\n",
       "</div>"
      ],
      "text/plain": [
       "      Y Cuenta  Mes              Ppag          Uso    DM    Sexo  \\\n",
       "0  buen     no   18  pre buen pagador      privado  1049   mujer   \n",
       "1  buen     no    9  pre buen pagador  profesional  2799  hombre   \n",
       "\n",
       "           Estc Y_2  \n",
       "0     vive solo   0  \n",
       "1  no vive solo   0  "
      ]
     },
     "execution_count": 158,
     "metadata": {},
     "output_type": "execute_result"
    }
   ],
   "source": [
    "data.head(2)"
   ]
  },
  {
   "cell_type": "markdown",
   "id": "9066bb46",
   "metadata": {},
   "source": [
    "<a id=\"section42\"></a>\n",
    "## <font color=\"#004D7F\">4.2 Metodos para llevar todos a un Mismo Rango</font>"
   ]
  },
  {
   "cell_type": "markdown",
   "id": "756031a0",
   "metadata": {},
   "source": [
    "#### Metodos:Se aplica a variables predictoras<br>\n",
    "- 1.Normalizacion Z-score\n",
    "- 2.Normalizacion Min-Max\n",
    "- 3.Escalamiento Decimal\n",
    "- 4.Normalizacion Softmax"
   ]
  },
  {
   "cell_type": "markdown",
   "id": "c875ce6f",
   "metadata": {},
   "source": [
    "#### OjO: TRANSFORMACION  \"Box Cox\" y \"Yeo Johnsontransformer\" se aplica  para las variables predictoras con el objetivo que tenga un comportamiento normal(distribucion normal)"
   ]
  },
  {
   "cell_type": "markdown",
   "id": "5934d8f8",
   "metadata": {},
   "source": [
    "#### Otros Apuntes:"
   ]
  },
  {
   "cell_type": "markdown",
   "id": "1ccc69a5",
   "metadata": {},
   "source": [
    "\"Normalizacion Softmax\"<br>\n",
    "El softmax es el m,as utlizado en **redes neuronales**\n",
    "- ventaja: Se aplica cuando hay comportamiento no lineales.\n",
    "- desventaja: un nuevo valor que cae fuera del rango [0,1]\n",
    "\n",
    "\"Discretizacion\"<br>\n",
    "- discretizacion de igual frecuencia() --> cuantiles\n",
    "- discretizacion de igual amplietud() --> histograma k= 1+3.3log(observaciones)\n",
    "<br>\n",
    "<br>\n",
    "Recomienda :Discretizacion de igual frecuencia \n",
    "\n",
    "\"arboles\"<br>\n",
    "- Arboles cart ,boosting,bagging trabajan muy bien con variables categoricas, es decir le facilitamos la vida en terminos de negocio del banco podemos establecer rangos ya establecidos.\n",
    "\n",
    "\"transformacion \"<br>\n",
    "- Exponencial y Logaritmica reducen la heterocidasticidad(var no cte,es decir baja la demasiada dispersion)"
   ]
  },
  {
   "cell_type": "markdown",
   "id": "2c41a254",
   "metadata": {},
   "source": [
    "<a id=\"section421\"></a>\n",
    "## <font color=\"#004D7F\">4.2.1 Normalizacion Z-Score</font>"
   ]
  },
  {
   "cell_type": "code",
   "execution_count": 159,
   "id": "c72c0dd2",
   "metadata": {},
   "outputs": [
    {
     "data": {
      "text/plain": [
       "Index(['Y', 'Cuenta', 'Mes', 'Ppag', 'Uso', 'DM', 'Sexo', 'Estc', 'Y_2'], dtype='object')"
      ]
     },
     "execution_count": 159,
     "metadata": {},
     "output_type": "execute_result"
    }
   ],
   "source": [
    "data.columns"
   ]
  },
  {
   "cell_type": "code",
   "execution_count": 160,
   "id": "76569096",
   "metadata": {},
   "outputs": [],
   "source": [
    "from sklearn import preprocessing\n",
    "data[\"DM_z\"]=preprocessing.scale(data[\"DM\"])"
   ]
  },
  {
   "cell_type": "code",
   "execution_count": 161,
   "id": "e87d5b56",
   "metadata": {},
   "outputs": [
    {
     "data": {
      "text/html": [
       "<div>\n",
       "<style scoped>\n",
       "    .dataframe tbody tr th:only-of-type {\n",
       "        vertical-align: middle;\n",
       "    }\n",
       "\n",
       "    .dataframe tbody tr th {\n",
       "        vertical-align: top;\n",
       "    }\n",
       "\n",
       "    .dataframe thead th {\n",
       "        text-align: right;\n",
       "    }\n",
       "</style>\n",
       "<table border=\"1\" class=\"dataframe\">\n",
       "  <thead>\n",
       "    <tr style=\"text-align: right;\">\n",
       "      <th></th>\n",
       "      <th>Y</th>\n",
       "      <th>Cuenta</th>\n",
       "      <th>Mes</th>\n",
       "      <th>Ppag</th>\n",
       "      <th>Uso</th>\n",
       "      <th>DM</th>\n",
       "      <th>Sexo</th>\n",
       "      <th>Estc</th>\n",
       "      <th>Y_2</th>\n",
       "      <th>DM_z</th>\n",
       "    </tr>\n",
       "  </thead>\n",
       "  <tbody>\n",
       "    <tr>\n",
       "      <th>0</th>\n",
       "      <td>buen</td>\n",
       "      <td>no</td>\n",
       "      <td>18</td>\n",
       "      <td>pre buen pagador</td>\n",
       "      <td>privado</td>\n",
       "      <td>1049</td>\n",
       "      <td>mujer</td>\n",
       "      <td>vive solo</td>\n",
       "      <td>0</td>\n",
       "      <td>-0.787657</td>\n",
       "    </tr>\n",
       "    <tr>\n",
       "      <th>1</th>\n",
       "      <td>buen</td>\n",
       "      <td>no</td>\n",
       "      <td>9</td>\n",
       "      <td>pre buen pagador</td>\n",
       "      <td>profesional</td>\n",
       "      <td>2799</td>\n",
       "      <td>hombre</td>\n",
       "      <td>no vive solo</td>\n",
       "      <td>0</td>\n",
       "      <td>-0.167384</td>\n",
       "    </tr>\n",
       "  </tbody>\n",
       "</table>\n",
       "</div>"
      ],
      "text/plain": [
       "      Y Cuenta  Mes              Ppag          Uso    DM    Sexo  \\\n",
       "0  buen     no   18  pre buen pagador      privado  1049   mujer   \n",
       "1  buen     no    9  pre buen pagador  profesional  2799  hombre   \n",
       "\n",
       "           Estc Y_2      DM_z  \n",
       "0     vive solo   0 -0.787657  \n",
       "1  no vive solo   0 -0.167384  "
      ]
     },
     "execution_count": 161,
     "metadata": {},
     "output_type": "execute_result"
    }
   ],
   "source": [
    "data.head(2)"
   ]
  },
  {
   "cell_type": "markdown",
   "id": "969c3d0b",
   "metadata": {},
   "source": [
    "<a id=\"section422\"></a>\n",
    "## <font color=\"#004D7F\">4.2.2 Normalizacion Min-Max</font>"
   ]
  },
  {
   "cell_type": "code",
   "execution_count": 162,
   "id": "bf851c9d",
   "metadata": {},
   "outputs": [
    {
     "data": {
      "text/plain": [
       "Index(['Y', 'Cuenta', 'Mes', 'Ppag', 'Uso', 'DM', 'Sexo', 'Estc', 'Y_2',\n",
       "       'DM_z'],\n",
       "      dtype='object')"
      ]
     },
     "execution_count": 162,
     "metadata": {},
     "output_type": "execute_result"
    }
   ],
   "source": [
    "data.columns"
   ]
  },
  {
   "cell_type": "code",
   "execution_count": 163,
   "id": "255d0180",
   "metadata": {},
   "outputs": [
    {
     "data": {
      "text/plain": [
       "1.0"
      ]
     },
     "execution_count": 163,
     "metadata": {},
     "output_type": "execute_result"
    }
   ],
   "source": [
    "from sklearn.preprocessing import MinMaxScaler\n",
    "scaler=MinMaxScaler(feature_range=(0,1))\n",
    "\n",
    "a=scaler.fit_transform(data[[\"DM\"]])\n",
    "data[\"DM_MinMax\"]=pd.DataFrame(data=a)\n",
    "data[\"DM_MinMax\"].max()"
   ]
  },
  {
   "cell_type": "code",
   "execution_count": 164,
   "id": "b8883fa6",
   "metadata": {},
   "outputs": [
    {
     "data": {
      "text/plain": [
       "0.0"
      ]
     },
     "execution_count": 164,
     "metadata": {},
     "output_type": "execute_result"
    }
   ],
   "source": [
    "data[\"DM_MinMax\"].min()"
   ]
  },
  {
   "cell_type": "code",
   "execution_count": 165,
   "id": "5ece2b73",
   "metadata": {},
   "outputs": [
    {
     "data": {
      "text/html": [
       "<div>\n",
       "<style scoped>\n",
       "    .dataframe tbody tr th:only-of-type {\n",
       "        vertical-align: middle;\n",
       "    }\n",
       "\n",
       "    .dataframe tbody tr th {\n",
       "        vertical-align: top;\n",
       "    }\n",
       "\n",
       "    .dataframe thead th {\n",
       "        text-align: right;\n",
       "    }\n",
       "</style>\n",
       "<table border=\"1\" class=\"dataframe\">\n",
       "  <thead>\n",
       "    <tr style=\"text-align: right;\">\n",
       "      <th></th>\n",
       "      <th>Y</th>\n",
       "      <th>Cuenta</th>\n",
       "      <th>Mes</th>\n",
       "      <th>Ppag</th>\n",
       "      <th>Uso</th>\n",
       "      <th>DM</th>\n",
       "      <th>Sexo</th>\n",
       "      <th>Estc</th>\n",
       "      <th>Y_2</th>\n",
       "      <th>DM_z</th>\n",
       "      <th>DM_MinMax</th>\n",
       "    </tr>\n",
       "  </thead>\n",
       "  <tbody>\n",
       "    <tr>\n",
       "      <th>0</th>\n",
       "      <td>buen</td>\n",
       "      <td>no</td>\n",
       "      <td>18</td>\n",
       "      <td>pre buen pagador</td>\n",
       "      <td>privado</td>\n",
       "      <td>1049</td>\n",
       "      <td>mujer</td>\n",
       "      <td>vive solo</td>\n",
       "      <td>0</td>\n",
       "      <td>-0.787657</td>\n",
       "      <td>0.043964</td>\n",
       "    </tr>\n",
       "    <tr>\n",
       "      <th>1</th>\n",
       "      <td>buen</td>\n",
       "      <td>no</td>\n",
       "      <td>9</td>\n",
       "      <td>pre buen pagador</td>\n",
       "      <td>profesional</td>\n",
       "      <td>2799</td>\n",
       "      <td>hombre</td>\n",
       "      <td>no vive solo</td>\n",
       "      <td>0</td>\n",
       "      <td>-0.167384</td>\n",
       "      <td>0.140255</td>\n",
       "    </tr>\n",
       "  </tbody>\n",
       "</table>\n",
       "</div>"
      ],
      "text/plain": [
       "      Y Cuenta  Mes              Ppag          Uso    DM    Sexo  \\\n",
       "0  buen     no   18  pre buen pagador      privado  1049   mujer   \n",
       "1  buen     no    9  pre buen pagador  profesional  2799  hombre   \n",
       "\n",
       "           Estc Y_2      DM_z  DM_MinMax  \n",
       "0     vive solo   0 -0.787657   0.043964  \n",
       "1  no vive solo   0 -0.167384   0.140255  "
      ]
     },
     "execution_count": 165,
     "metadata": {},
     "output_type": "execute_result"
    }
   ],
   "source": [
    "data.head(2)"
   ]
  },
  {
   "cell_type": "markdown",
   "id": "cd98c2cd",
   "metadata": {},
   "source": [
    "<a id=\"section423\"></a>\n",
    "## <font color=\"#004D7F\">4.2.3 Escalamiento Decimal</font>"
   ]
  },
  {
   "cell_type": "code",
   "execution_count": 166,
   "id": "ff31f9db",
   "metadata": {},
   "outputs": [
    {
     "data": {
      "text/plain": [
       "18424"
      ]
     },
     "execution_count": 166,
     "metadata": {},
     "output_type": "execute_result"
    }
   ],
   "source": [
    "maxvect=max(abs(data[\"DM\"]))\n",
    "maxvect"
   ]
  },
  {
   "cell_type": "code",
   "execution_count": 167,
   "id": "31ca9c7e",
   "metadata": {},
   "outputs": [],
   "source": [
    "import math\n",
    "kvector=math.floor(math.log10(maxvect))\n",
    "kvector=kvector+1"
   ]
  },
  {
   "cell_type": "code",
   "execution_count": 168,
   "id": "4a2b5347",
   "metadata": {},
   "outputs": [
    {
     "data": {
      "text/plain": [
       "100000"
      ]
     },
     "execution_count": 168,
     "metadata": {},
     "output_type": "execute_result"
    }
   ],
   "source": [
    "scalefactor = 10**kvector\n",
    "scalefactor"
   ]
  },
  {
   "cell_type": "code",
   "execution_count": 169,
   "id": "ce06fa7d",
   "metadata": {},
   "outputs": [],
   "source": [
    "data[\"DM_EscDecimal\"]=data[\"DM\"]/scalefactor"
   ]
  },
  {
   "cell_type": "code",
   "execution_count": 170,
   "id": "854eeb69",
   "metadata": {},
   "outputs": [
    {
     "data": {
      "text/html": [
       "<div>\n",
       "<style scoped>\n",
       "    .dataframe tbody tr th:only-of-type {\n",
       "        vertical-align: middle;\n",
       "    }\n",
       "\n",
       "    .dataframe tbody tr th {\n",
       "        vertical-align: top;\n",
       "    }\n",
       "\n",
       "    .dataframe thead th {\n",
       "        text-align: right;\n",
       "    }\n",
       "</style>\n",
       "<table border=\"1\" class=\"dataframe\">\n",
       "  <thead>\n",
       "    <tr style=\"text-align: right;\">\n",
       "      <th></th>\n",
       "      <th>Y</th>\n",
       "      <th>Cuenta</th>\n",
       "      <th>Mes</th>\n",
       "      <th>Ppag</th>\n",
       "      <th>Uso</th>\n",
       "      <th>DM</th>\n",
       "      <th>Sexo</th>\n",
       "      <th>Estc</th>\n",
       "      <th>Y_2</th>\n",
       "      <th>DM_z</th>\n",
       "      <th>DM_MinMax</th>\n",
       "      <th>DM_EscDecimal</th>\n",
       "    </tr>\n",
       "  </thead>\n",
       "  <tbody>\n",
       "    <tr>\n",
       "      <th>0</th>\n",
       "      <td>buen</td>\n",
       "      <td>no</td>\n",
       "      <td>18</td>\n",
       "      <td>pre buen pagador</td>\n",
       "      <td>privado</td>\n",
       "      <td>1049</td>\n",
       "      <td>mujer</td>\n",
       "      <td>vive solo</td>\n",
       "      <td>0</td>\n",
       "      <td>-0.787657</td>\n",
       "      <td>0.043964</td>\n",
       "      <td>0.01049</td>\n",
       "    </tr>\n",
       "    <tr>\n",
       "      <th>1</th>\n",
       "      <td>buen</td>\n",
       "      <td>no</td>\n",
       "      <td>9</td>\n",
       "      <td>pre buen pagador</td>\n",
       "      <td>profesional</td>\n",
       "      <td>2799</td>\n",
       "      <td>hombre</td>\n",
       "      <td>no vive solo</td>\n",
       "      <td>0</td>\n",
       "      <td>-0.167384</td>\n",
       "      <td>0.140255</td>\n",
       "      <td>0.02799</td>\n",
       "    </tr>\n",
       "  </tbody>\n",
       "</table>\n",
       "</div>"
      ],
      "text/plain": [
       "      Y Cuenta  Mes              Ppag          Uso    DM    Sexo  \\\n",
       "0  buen     no   18  pre buen pagador      privado  1049   mujer   \n",
       "1  buen     no    9  pre buen pagador  profesional  2799  hombre   \n",
       "\n",
       "           Estc Y_2      DM_z  DM_MinMax  DM_EscDecimal  \n",
       "0     vive solo   0 -0.787657   0.043964        0.01049  \n",
       "1  no vive solo   0 -0.167384   0.140255        0.02799  "
      ]
     },
     "execution_count": 170,
     "metadata": {},
     "output_type": "execute_result"
    }
   ],
   "source": [
    "data.head(2)"
   ]
  },
  {
   "cell_type": "markdown",
   "id": "01eed73f",
   "metadata": {},
   "source": [
    "<a id=\"section424\"></a>\n",
    "## <font color=\"#004D7F\">4.2.4 Normalizacion softmax</font>"
   ]
  },
  {
   "cell_type": "code",
   "execution_count": 171,
   "id": "82b665a9",
   "metadata": {},
   "outputs": [
    {
     "data": {
      "text/html": [
       "<div>\n",
       "<style scoped>\n",
       "    .dataframe tbody tr th:only-of-type {\n",
       "        vertical-align: middle;\n",
       "    }\n",
       "\n",
       "    .dataframe tbody tr th {\n",
       "        vertical-align: top;\n",
       "    }\n",
       "\n",
       "    .dataframe thead th {\n",
       "        text-align: right;\n",
       "    }\n",
       "</style>\n",
       "<table border=\"1\" class=\"dataframe\">\n",
       "  <thead>\n",
       "    <tr style=\"text-align: right;\">\n",
       "      <th></th>\n",
       "      <th>Y</th>\n",
       "      <th>Cuenta</th>\n",
       "      <th>Mes</th>\n",
       "      <th>Ppag</th>\n",
       "      <th>Uso</th>\n",
       "      <th>DM</th>\n",
       "      <th>Sexo</th>\n",
       "      <th>Estc</th>\n",
       "      <th>Y_2</th>\n",
       "      <th>DM_z</th>\n",
       "      <th>DM_MinMax</th>\n",
       "      <th>DM_EscDecimal</th>\n",
       "      <th>DM_Softmax</th>\n",
       "    </tr>\n",
       "  </thead>\n",
       "  <tbody>\n",
       "    <tr>\n",
       "      <th>0</th>\n",
       "      <td>buen</td>\n",
       "      <td>no</td>\n",
       "      <td>18</td>\n",
       "      <td>pre buen pagador</td>\n",
       "      <td>privado</td>\n",
       "      <td>1049</td>\n",
       "      <td>mujer</td>\n",
       "      <td>vive solo</td>\n",
       "      <td>0</td>\n",
       "      <td>-0.787657</td>\n",
       "      <td>0.043964</td>\n",
       "      <td>0.01049</td>\n",
       "      <td>0.312672</td>\n",
       "    </tr>\n",
       "    <tr>\n",
       "      <th>1</th>\n",
       "      <td>buen</td>\n",
       "      <td>no</td>\n",
       "      <td>9</td>\n",
       "      <td>pre buen pagador</td>\n",
       "      <td>profesional</td>\n",
       "      <td>2799</td>\n",
       "      <td>hombre</td>\n",
       "      <td>no vive solo</td>\n",
       "      <td>0</td>\n",
       "      <td>-0.167384</td>\n",
       "      <td>0.140255</td>\n",
       "      <td>0.02799</td>\n",
       "      <td>0.458251</td>\n",
       "    </tr>\n",
       "    <tr>\n",
       "      <th>2</th>\n",
       "      <td>buen</td>\n",
       "      <td>bad running</td>\n",
       "      <td>12</td>\n",
       "      <td>pre buen pagador</td>\n",
       "      <td>profesional</td>\n",
       "      <td>841</td>\n",
       "      <td>mujer</td>\n",
       "      <td>vive solo</td>\n",
       "      <td>0</td>\n",
       "      <td>-0.861381</td>\n",
       "      <td>0.032519</td>\n",
       "      <td>0.00841</td>\n",
       "      <td>0.297051</td>\n",
       "    </tr>\n",
       "    <tr>\n",
       "      <th>3</th>\n",
       "      <td>buen</td>\n",
       "      <td>no</td>\n",
       "      <td>12</td>\n",
       "      <td>pre buen pagador</td>\n",
       "      <td>profesional</td>\n",
       "      <td>2122</td>\n",
       "      <td>hombre</td>\n",
       "      <td>no vive solo</td>\n",
       "      <td>0</td>\n",
       "      <td>-0.407341</td>\n",
       "      <td>0.103004</td>\n",
       "      <td>0.02122</td>\n",
       "      <td>0.399550</td>\n",
       "    </tr>\n",
       "    <tr>\n",
       "      <th>4</th>\n",
       "      <td>buen</td>\n",
       "      <td>no</td>\n",
       "      <td>12</td>\n",
       "      <td>pre buen pagador</td>\n",
       "      <td>profesional</td>\n",
       "      <td>2171</td>\n",
       "      <td>hombre</td>\n",
       "      <td>no vive solo</td>\n",
       "      <td>0</td>\n",
       "      <td>-0.389974</td>\n",
       "      <td>0.105700</td>\n",
       "      <td>0.02171</td>\n",
       "      <td>0.403724</td>\n",
       "    </tr>\n",
       "    <tr>\n",
       "      <th>...</th>\n",
       "      <td>...</td>\n",
       "      <td>...</td>\n",
       "      <td>...</td>\n",
       "      <td>...</td>\n",
       "      <td>...</td>\n",
       "      <td>...</td>\n",
       "      <td>...</td>\n",
       "      <td>...</td>\n",
       "      <td>...</td>\n",
       "      <td>...</td>\n",
       "      <td>...</td>\n",
       "      <td>...</td>\n",
       "      <td>...</td>\n",
       "    </tr>\n",
       "    <tr>\n",
       "      <th>995</th>\n",
       "      <td>mal</td>\n",
       "      <td>no</td>\n",
       "      <td>24</td>\n",
       "      <td>pre buen pagador</td>\n",
       "      <td>privado</td>\n",
       "      <td>1987</td>\n",
       "      <td>hombre</td>\n",
       "      <td>no vive solo</td>\n",
       "      <td>1</td>\n",
       "      <td>-0.455191</td>\n",
       "      <td>0.095576</td>\n",
       "      <td>0.01987</td>\n",
       "      <td>0.388127</td>\n",
       "    </tr>\n",
       "    <tr>\n",
       "      <th>996</th>\n",
       "      <td>mal</td>\n",
       "      <td>no</td>\n",
       "      <td>24</td>\n",
       "      <td>pre buen pagador</td>\n",
       "      <td>profesional</td>\n",
       "      <td>2303</td>\n",
       "      <td>hombre</td>\n",
       "      <td>no vive solo</td>\n",
       "      <td>1</td>\n",
       "      <td>-0.343187</td>\n",
       "      <td>0.112964</td>\n",
       "      <td>0.02303</td>\n",
       "      <td>0.415035</td>\n",
       "    </tr>\n",
       "    <tr>\n",
       "      <th>997</th>\n",
       "      <td>mal</td>\n",
       "      <td>good running</td>\n",
       "      <td>21</td>\n",
       "      <td>pre buen pagador</td>\n",
       "      <td>profesional</td>\n",
       "      <td>12680</td>\n",
       "      <td>hombre</td>\n",
       "      <td>no vive solo</td>\n",
       "      <td>1</td>\n",
       "      <td>3.334852</td>\n",
       "      <td>0.683944</td>\n",
       "      <td>0.12680</td>\n",
       "      <td>0.965605</td>\n",
       "    </tr>\n",
       "    <tr>\n",
       "      <th>998</th>\n",
       "      <td>mal</td>\n",
       "      <td>bad running</td>\n",
       "      <td>12</td>\n",
       "      <td>pre buen pagador</td>\n",
       "      <td>privado</td>\n",
       "      <td>6468</td>\n",
       "      <td>hombre</td>\n",
       "      <td>no vive solo</td>\n",
       "      <td>1</td>\n",
       "      <td>1.133062</td>\n",
       "      <td>0.342137</td>\n",
       "      <td>0.06468</td>\n",
       "      <td>0.756403</td>\n",
       "    </tr>\n",
       "    <tr>\n",
       "      <th>999</th>\n",
       "      <td>mal</td>\n",
       "      <td>no</td>\n",
       "      <td>30</td>\n",
       "      <td>pre buen pagador</td>\n",
       "      <td>privado</td>\n",
       "      <td>6350</td>\n",
       "      <td>hombre</td>\n",
       "      <td>no vive solo</td>\n",
       "      <td>1</td>\n",
       "      <td>1.091237</td>\n",
       "      <td>0.335644</td>\n",
       "      <td>0.06350</td>\n",
       "      <td>0.748615</td>\n",
       "    </tr>\n",
       "  </tbody>\n",
       "</table>\n",
       "<p>1000 rows × 13 columns</p>\n",
       "</div>"
      ],
      "text/plain": [
       "        Y        Cuenta  Mes              Ppag          Uso     DM    Sexo  \\\n",
       "0    buen            no   18  pre buen pagador      privado   1049   mujer   \n",
       "1    buen            no    9  pre buen pagador  profesional   2799  hombre   \n",
       "2    buen   bad running   12  pre buen pagador  profesional    841   mujer   \n",
       "3    buen            no   12  pre buen pagador  profesional   2122  hombre   \n",
       "4    buen            no   12  pre buen pagador  profesional   2171  hombre   \n",
       "..    ...           ...  ...               ...          ...    ...     ...   \n",
       "995   mal            no   24  pre buen pagador      privado   1987  hombre   \n",
       "996   mal            no   24  pre buen pagador  profesional   2303  hombre   \n",
       "997   mal  good running   21  pre buen pagador  profesional  12680  hombre   \n",
       "998   mal   bad running   12  pre buen pagador      privado   6468  hombre   \n",
       "999   mal            no   30  pre buen pagador      privado   6350  hombre   \n",
       "\n",
       "             Estc Y_2      DM_z  DM_MinMax  DM_EscDecimal  DM_Softmax  \n",
       "0       vive solo   0 -0.787657   0.043964        0.01049    0.312672  \n",
       "1    no vive solo   0 -0.167384   0.140255        0.02799    0.458251  \n",
       "2       vive solo   0 -0.861381   0.032519        0.00841    0.297051  \n",
       "3    no vive solo   0 -0.407341   0.103004        0.02122    0.399550  \n",
       "4    no vive solo   0 -0.389974   0.105700        0.02171    0.403724  \n",
       "..            ...  ..       ...        ...            ...         ...  \n",
       "995  no vive solo   1 -0.455191   0.095576        0.01987    0.388127  \n",
       "996  no vive solo   1 -0.343187   0.112964        0.02303    0.415035  \n",
       "997  no vive solo   1  3.334852   0.683944        0.12680    0.965605  \n",
       "998  no vive solo   1  1.133062   0.342137        0.06468    0.756403  \n",
       "999  no vive solo   1  1.091237   0.335644        0.06350    0.748615  \n",
       "\n",
       "[1000 rows x 13 columns]"
      ]
     },
     "execution_count": 171,
     "metadata": {},
     "output_type": "execute_result"
    }
   ],
   "source": [
    "A = preprocessing.scale(data[\"DM\"])\n",
    "M=pd.DataFrame(data=A,columns=[\"A\"])\n",
    "M\n",
    "M[\"A\"]=M[\"A\"]*-1\n",
    "M\n",
    "N=1/(1+np.exp(M[\"A\"]))\n",
    "data[\"DM_Softmax\"]=N\n",
    "data"
   ]
  },
  {
   "cell_type": "markdown",
   "id": "c9d98cee",
   "metadata": {},
   "source": [
    "<a id=\"section425\"></a>\n",
    "## <font color=\"#004D7F\">4.2.5 Visualizacion</font>"
   ]
  },
  {
   "cell_type": "code",
   "execution_count": 172,
   "id": "37a1b737",
   "metadata": {},
   "outputs": [
    {
     "data": {
      "text/plain": [
       "Index(['Y', 'Cuenta', 'Mes', 'Ppag', 'Uso', 'DM', 'Sexo', 'Estc', 'Y_2',\n",
       "       'DM_z', 'DM_MinMax', 'DM_EscDecimal', 'DM_Softmax'],\n",
       "      dtype='object')"
      ]
     },
     "execution_count": 172,
     "metadata": {},
     "output_type": "execute_result"
    }
   ],
   "source": [
    "data.columns"
   ]
  },
  {
   "cell_type": "code",
   "execution_count": 173,
   "id": "1398c6a2",
   "metadata": {},
   "outputs": [],
   "source": [
    "lista1=['DM_z', 'DM_MinMax', 'DM_EscDecimal', 'DM_Softmax']"
   ]
  },
  {
   "cell_type": "code",
   "execution_count": 174,
   "id": "2db417d4",
   "metadata": {},
   "outputs": [
    {
     "data": {
      "text/plain": [
       "<AxesSubplot:>"
      ]
     },
     "execution_count": 174,
     "metadata": {},
     "output_type": "execute_result"
    },
    {
     "data": {
      "image/png": "[encoded data removed]",
      "text/plain": [
       "<Figure size 432x288 with 1 Axes>"
      ]
     },
     "metadata": {
      "needs_background": "light"
     },
     "output_type": "display_data"
    }
   ],
   "source": [
    "data[lista1].plot.box(grid='True') #grid='True'\n"
   ]
  },
  {
   "cell_type": "markdown",
   "id": "0509ae76",
   "metadata": {},
   "source": [
    "#### Comentario _:\n",
    "\n",
    "- 1.Normalizacion Z-score : esta en un rango de  [-1,5]\n",
    "\n",
    "- 2.Normalizacion Min-Max : esta en un rango de  [0,1]\n",
    "\n",
    "- 3.Escalamiento Decimal : esta en un rango de  [0,1]\n",
    "\n",
    "- 4.Normalizacion Softmax : esta en un rango de  [0,1]"
   ]
  },
  {
   "cell_type": "code",
   "execution_count": 175,
   "id": "dbe30885",
   "metadata": {},
   "outputs": [
    {
     "data": {
      "text/plain": [
       "<AxesSubplot:>"
      ]
     },
     "execution_count": 175,
     "metadata": {},
     "output_type": "execute_result"
    },
    {
     "data": {
      "image/png": "[encoded data removed]",
      "text/plain": [
       "<Figure size 432x288 with 1 Axes>"
      ]
     },
     "metadata": {
      "needs_background": "light"
     },
     "output_type": "display_data"
    }
   ],
   "source": [
    "data[[\"DM\"]].plot.box(grid='True') #grid='True'"
   ]
  },
  {
   "cell_type": "markdown",
   "id": "7cea05b8",
   "metadata": {},
   "source": [
    "- En este caso se escalo la variable predictora \"DM\" "
   ]
  },
  {
   "cell_type": "markdown",
   "id": "5de3bcef",
   "metadata": {},
   "source": [
    "### Recapitulando :\n",
    "#### PASO 1 :Identificar los Outliers :<br>\n",
    "\n",
    "##### univariado  \n",
    "\n",
    "- 1.rango intercuartil \n",
    "- 2. puntuacion Z (Resta media y divide desviacion estandar)\n",
    "\n",
    "##### multivariado\n",
    "\n",
    "- 1.Mahalanobis\n",
    "\n",
    "#### PASO 2: Normalizacion o escalamiento a las variables predictoras\n",
    "- 1.Normalizacion Z-score\n",
    "- 2.Normalizacion Min-Max\n",
    "- 3.Escalamiento Decimal\n",
    "- 4.Normalizacion Softmax\n",
    "\n",
    "#### PASO 3: Si se desea llevar las variables predictoras a un comportamiento normal(distiribucion normal) a las variables predictoras.\n",
    "\n",
    "- Box Cox \n",
    "- Yeo Johnsontransformer\n"
   ]
  },
  {
   "cell_type": "markdown",
   "id": "aece5e06",
   "metadata": {},
   "source": [
    "<a id=\"section5\"></a>\n",
    "## <font color=\"#004D7F\">5 Variables Categoricas y Transfomaciones</font>"
   ]
  },
  {
   "cell_type": "code",
   "execution_count": 176,
   "id": "e7d278e0",
   "metadata": {},
   "outputs": [
    {
     "name": "stdout",
     "output_type": "stream",
     "text": [
      "Requirement already satisfied: feature_engine in c:\\programdata\\anaconda3\\lib\\site-packages (1.2.0)"
     ]
    },
    {
     "name": "stderr",
     "output_type": "stream",
     "text": [
      "WARNING: Ignoring invalid distribution - (c:\\programdata\\anaconda3\\lib\\site-packages)\n",
      "WARNING: Ignoring invalid distribution -arkupsafe (c:\\programdata\\anaconda3\\lib\\site-packages)\n",
      "WARNING: Ignoring invalid distribution - (c:\\programdata\\anaconda3\\lib\\site-packages)\n",
      "WARNING: Ignoring invalid distribution -arkupsafe (c:\\programdata\\anaconda3\\lib\\site-packages)\n",
      "WARNING: Ignoring invalid distribution - (c:\\programdata\\anaconda3\\lib\\site-packages)\n",
      "WARNING: Ignoring invalid distribution -arkupsafe (c:\\programdata\\anaconda3\\lib\\site-packages)\n",
      "WARNING: Ignoring invalid distribution - (c:\\programdata\\anaconda3\\lib\\site-packages)\n",
      "WARNING: Ignoring invalid distribution -arkupsafe (c:\\programdata\\anaconda3\\lib\\site-packages)\n",
      "WARNING: Ignoring invalid distribution - (c:\\programdata\\anaconda3\\lib\\site-packages)\n",
      "WARNING: Ignoring invalid distribution -arkupsafe (c:\\programdata\\anaconda3\\lib\\site-packages)\n",
      "WARNING: Ignoring invalid distribution - (c:\\programdata\\anaconda3\\lib\\site-packages)\n",
      "WARNING: Ignoring invalid distribution -arkupsafe (c:\\programdata\\anaconda3\\lib\\site-packages)\n"
     ]
    },
    {
     "name": "stdout",
     "output_type": "stream",
     "text": [
      "\n",
      "Requirement already satisfied: statsmodels>=0.11.1 in c:\\programdata\\anaconda3\\lib\\site-packages (from feature_engine) (0.12.2)\n",
      "Requirement already satisfied: numpy>=1.18.2 in c:\\programdata\\anaconda3\\lib\\site-packages (from feature_engine) (1.20.3)\n",
      "Requirement already satisfied: scipy>=1.4.1 in c:\\programdata\\anaconda3\\lib\\site-packages (from feature_engine) (1.7.1)\n",
      "Requirement already satisfied: scikit-learn>=0.22.2 in c:\\programdata\\anaconda3\\lib\\site-packages (from feature_engine) (0.24.2)\n",
      "Requirement already satisfied: pandas>=1.0.3 in c:\\programdata\\anaconda3\\lib\\site-packages (from feature_engine) (1.3.4)\n",
      "Requirement already satisfied: python-dateutil>=2.7.3 in c:\\programdata\\anaconda3\\lib\\site-packages (from pandas>=1.0.3->feature_engine) (2.8.2)\n",
      "Requirement already satisfied: pytz>=2017.3 in c:\\programdata\\anaconda3\\lib\\site-packages (from pandas>=1.0.3->feature_engine) (2021.3)\n",
      "Requirement already satisfied: six>=1.5 in c:\\programdata\\anaconda3\\lib\\site-packages (from python-dateutil>=2.7.3->pandas>=1.0.3->feature_engine) (1.16.0)\n",
      "Requirement already satisfied: joblib>=0.11 in c:\\users\\luis\\appdata\\roaming\\python\\python39\\site-packages (from scikit-learn>=0.22.2->feature_engine) (1.0.1)\n",
      "Requirement already satisfied: threadpoolctl>=2.0.0 in c:\\programdata\\anaconda3\\lib\\site-packages (from scikit-learn>=0.22.2->feature_engine) (2.2.0)\n",
      "Requirement already satisfied: patsy>=0.5 in c:\\programdata\\anaconda3\\lib\\site-packages (from statsmodels>=0.11.1->feature_engine) (0.5.2)\n"
     ]
    }
   ],
   "source": [
    "!pip install feature_engine"
   ]
  },
  {
   "cell_type": "code",
   "execution_count": 177,
   "id": "4abfb514",
   "metadata": {},
   "outputs": [],
   "source": [
    "import pandas as pd\n",
    "import os \n",
    "dat=pd.read_csv(\"Datos_unalm/credit2.csv\",sep=\";\")"
   ]
  },
  {
   "cell_type": "code",
   "execution_count": 178,
   "id": "65f5ab6d",
   "metadata": {},
   "outputs": [
    {
     "data": {
      "text/html": [
       "<div>\n",
       "<style scoped>\n",
       "    .dataframe tbody tr th:only-of-type {\n",
       "        vertical-align: middle;\n",
       "    }\n",
       "\n",
       "    .dataframe tbody tr th {\n",
       "        vertical-align: top;\n",
       "    }\n",
       "\n",
       "    .dataframe thead th {\n",
       "        text-align: right;\n",
       "    }\n",
       "</style>\n",
       "<table border=\"1\" class=\"dataframe\">\n",
       "  <thead>\n",
       "    <tr style=\"text-align: right;\">\n",
       "      <th></th>\n",
       "      <th>Y</th>\n",
       "      <th>Cuenta</th>\n",
       "      <th>Mes</th>\n",
       "      <th>Ppag</th>\n",
       "      <th>Uso</th>\n",
       "      <th>DM</th>\n",
       "      <th>Sexo</th>\n",
       "      <th>Estc</th>\n",
       "    </tr>\n",
       "  </thead>\n",
       "  <tbody>\n",
       "    <tr>\n",
       "      <th>0</th>\n",
       "      <td>buen</td>\n",
       "      <td>no</td>\n",
       "      <td>18</td>\n",
       "      <td>pre buen pagador</td>\n",
       "      <td>privado</td>\n",
       "      <td>1049</td>\n",
       "      <td>mujer</td>\n",
       "      <td>vive solo</td>\n",
       "    </tr>\n",
       "    <tr>\n",
       "      <th>1</th>\n",
       "      <td>buen</td>\n",
       "      <td>no</td>\n",
       "      <td>9</td>\n",
       "      <td>pre buen pagador</td>\n",
       "      <td>profesional</td>\n",
       "      <td>2799</td>\n",
       "      <td>hombre</td>\n",
       "      <td>no vive solo</td>\n",
       "    </tr>\n",
       "  </tbody>\n",
       "</table>\n",
       "</div>"
      ],
      "text/plain": [
       "      Y Cuenta  Mes              Ppag          Uso    DM    Sexo          Estc\n",
       "0  buen     no   18  pre buen pagador      privado  1049   mujer     vive solo\n",
       "1  buen     no    9  pre buen pagador  profesional  2799  hombre  no vive solo"
      ]
     },
     "execution_count": 178,
     "metadata": {},
     "output_type": "execute_result"
    }
   ],
   "source": [
    "dat.head(2)"
   ]
  },
  {
   "cell_type": "code",
   "execution_count": 179,
   "id": "f83d7c56",
   "metadata": {},
   "outputs": [
    {
     "data": {
      "text/html": [
       "<div>\n",
       "<style scoped>\n",
       "    .dataframe tbody tr th:only-of-type {\n",
       "        vertical-align: middle;\n",
       "    }\n",
       "\n",
       "    .dataframe tbody tr th {\n",
       "        vertical-align: top;\n",
       "    }\n",
       "\n",
       "    .dataframe thead th {\n",
       "        text-align: right;\n",
       "    }\n",
       "</style>\n",
       "<table border=\"1\" class=\"dataframe\">\n",
       "  <thead>\n",
       "    <tr style=\"text-align: right;\">\n",
       "      <th></th>\n",
       "      <th>Mes</th>\n",
       "      <th>DM</th>\n",
       "    </tr>\n",
       "  </thead>\n",
       "  <tbody>\n",
       "    <tr>\n",
       "      <th>count</th>\n",
       "      <td>1000.000000</td>\n",
       "      <td>1000.00000</td>\n",
       "    </tr>\n",
       "    <tr>\n",
       "      <th>mean</th>\n",
       "      <td>20.903000</td>\n",
       "      <td>3271.24800</td>\n",
       "    </tr>\n",
       "    <tr>\n",
       "      <th>std</th>\n",
       "      <td>12.058814</td>\n",
       "      <td>2822.75176</td>\n",
       "    </tr>\n",
       "    <tr>\n",
       "      <th>min</th>\n",
       "      <td>4.000000</td>\n",
       "      <td>250.00000</td>\n",
       "    </tr>\n",
       "    <tr>\n",
       "      <th>25%</th>\n",
       "      <td>12.000000</td>\n",
       "      <td>1365.50000</td>\n",
       "    </tr>\n",
       "    <tr>\n",
       "      <th>50%</th>\n",
       "      <td>18.000000</td>\n",
       "      <td>2319.50000</td>\n",
       "    </tr>\n",
       "    <tr>\n",
       "      <th>75%</th>\n",
       "      <td>24.000000</td>\n",
       "      <td>3972.25000</td>\n",
       "    </tr>\n",
       "    <tr>\n",
       "      <th>max</th>\n",
       "      <td>72.000000</td>\n",
       "      <td>18424.00000</td>\n",
       "    </tr>\n",
       "  </tbody>\n",
       "</table>\n",
       "</div>"
      ],
      "text/plain": [
       "               Mes           DM\n",
       "count  1000.000000   1000.00000\n",
       "mean     20.903000   3271.24800\n",
       "std      12.058814   2822.75176\n",
       "min       4.000000    250.00000\n",
       "25%      12.000000   1365.50000\n",
       "50%      18.000000   2319.50000\n",
       "75%      24.000000   3972.25000\n",
       "max      72.000000  18424.00000"
      ]
     },
     "execution_count": 179,
     "metadata": {},
     "output_type": "execute_result"
    }
   ],
   "source": [
    "dat.describe()"
   ]
  },
  {
   "cell_type": "markdown",
   "id": "55efe0e4",
   "metadata": {},
   "source": [
    "### Grafica de desviacion - Un mejor panorama lo multiplicamos por 'logaritmo'"
   ]
  },
  {
   "cell_type": "code",
   "execution_count": 180,
   "id": "d30f5cf0",
   "metadata": {},
   "outputs": [
    {
     "name": "stderr",
     "output_type": "stream",
     "text": [
      "C:\\Users\\Luis\\AppData\\Local\\Temp/ipykernel_15396/232771078.py:1: FutureWarning: Dropping of nuisance columns in DataFrame reductions (with 'numeric_only=None') is deprecated; in a future version this will raise TypeError.  Select only valid columns before calling the reduction.\n",
      "  dat.std().plot(kind='bar',figsize=(8,6),logy=True,title='variables con sd')\n"
     ]
    },
    {
     "data": {
      "text/plain": [
       "<AxesSubplot:title={'center':'variables con sd'}>"
      ]
     },
     "execution_count": 180,
     "metadata": {},
     "output_type": "execute_result"
    },
    {
     "data": {
      "image/png": "[encoded data removed]",
      "text/plain": [
       "<Figure size 576x432 with 1 Axes>"
      ]
     },
     "metadata": {
      "needs_background": "light"
     },
     "output_type": "display_data"
    }
   ],
   "source": [
    "dat.std().plot(kind='bar',figsize=(8,6),logy=True,title='variables con sd')"
   ]
  },
  {
   "cell_type": "markdown",
   "id": "d0767a5d",
   "metadata": {},
   "source": [
    "#### Comentario _:\n",
    "\n",
    "- cuantitativas:\n",
    "    Las variables \"Mes\",\"DM\"  tienen una variabilidad regular \n",
    "- cualitativas:\n",
    "    Por defecto no se visualiza"
   ]
  },
  {
   "cell_type": "markdown",
   "id": "1235226b",
   "metadata": {},
   "source": [
    "<a id=\"section51\"></a>\n",
    "## <font color=\"#004D7F\">5.1 Factores de igual frecuencias</font>"
   ]
  },
  {
   "cell_type": "code",
   "execution_count": 181,
   "id": "106e8864",
   "metadata": {},
   "outputs": [],
   "source": [
    "from feature_engine import discretisation as dsc"
   ]
  },
  {
   "cell_type": "markdown",
   "id": "34012ca6",
   "metadata": {},
   "source": [
    "<a id=\"section511\"></a>\n",
    "## <font color=\"#004D7F\">5.1.1 Variable predictora \"DM\"  lo rankeamos en 10 partes</font>\n"
   ]
  },
  {
   "cell_type": "code",
   "execution_count": 182,
   "id": "f37aa713",
   "metadata": {},
   "outputs": [],
   "source": [
    "disc = dsc.EqualFrequencyDiscretiser(q=10, variables=['DM']) # hay 10 categorias q=10"
   ]
  },
  {
   "cell_type": "markdown",
   "id": "3ac73b20",
   "metadata": {},
   "source": [
    "#### paso 1 : ajustamos"
   ]
  },
  {
   "cell_type": "code",
   "execution_count": 183,
   "id": "f88cbab6",
   "metadata": {},
   "outputs": [
    {
     "data": {
      "text/plain": [
       "EqualFrequencyDiscretiser(variables=['DM'])"
      ]
     },
     "execution_count": 183,
     "metadata": {},
     "output_type": "execute_result"
    }
   ],
   "source": [
    "disc.fit(dat)"
   ]
  },
  {
   "cell_type": "markdown",
   "id": "1787de1b",
   "metadata": {},
   "source": [
    "#### paso 2 : transformamos"
   ]
  },
  {
   "cell_type": "code",
   "execution_count": 184,
   "id": "4ee47302",
   "metadata": {},
   "outputs": [],
   "source": [
    "data_transformada= disc.transform(dat)"
   ]
  },
  {
   "cell_type": "code",
   "execution_count": 185,
   "id": "bbb09c09",
   "metadata": {},
   "outputs": [
    {
     "data": {
      "text/html": [
       "<div>\n",
       "<style scoped>\n",
       "    .dataframe tbody tr th:only-of-type {\n",
       "        vertical-align: middle;\n",
       "    }\n",
       "\n",
       "    .dataframe tbody tr th {\n",
       "        vertical-align: top;\n",
       "    }\n",
       "\n",
       "    .dataframe thead th {\n",
       "        text-align: right;\n",
       "    }\n",
       "</style>\n",
       "<table border=\"1\" class=\"dataframe\">\n",
       "  <thead>\n",
       "    <tr style=\"text-align: right;\">\n",
       "      <th></th>\n",
       "      <th>Y</th>\n",
       "      <th>Cuenta</th>\n",
       "      <th>Mes</th>\n",
       "      <th>Ppag</th>\n",
       "      <th>Uso</th>\n",
       "      <th>DM</th>\n",
       "      <th>Sexo</th>\n",
       "      <th>Estc</th>\n",
       "      <th>N</th>\n",
       "    </tr>\n",
       "  </thead>\n",
       "  <tbody>\n",
       "    <tr>\n",
       "      <th>994</th>\n",
       "      <td>mal</td>\n",
       "      <td>no</td>\n",
       "      <td>12</td>\n",
       "      <td>pre mal pagador</td>\n",
       "      <td>privado</td>\n",
       "      <td>8</td>\n",
       "      <td>hombre</td>\n",
       "      <td>no vive solo</td>\n",
       "      <td>1</td>\n",
       "    </tr>\n",
       "    <tr>\n",
       "      <th>995</th>\n",
       "      <td>mal</td>\n",
       "      <td>no</td>\n",
       "      <td>24</td>\n",
       "      <td>pre buen pagador</td>\n",
       "      <td>privado</td>\n",
       "      <td>4</td>\n",
       "      <td>hombre</td>\n",
       "      <td>no vive solo</td>\n",
       "      <td>1</td>\n",
       "    </tr>\n",
       "    <tr>\n",
       "      <th>996</th>\n",
       "      <td>mal</td>\n",
       "      <td>no</td>\n",
       "      <td>24</td>\n",
       "      <td>pre buen pagador</td>\n",
       "      <td>profesional</td>\n",
       "      <td>4</td>\n",
       "      <td>hombre</td>\n",
       "      <td>no vive solo</td>\n",
       "      <td>1</td>\n",
       "    </tr>\n",
       "    <tr>\n",
       "      <th>997</th>\n",
       "      <td>mal</td>\n",
       "      <td>good running</td>\n",
       "      <td>21</td>\n",
       "      <td>pre buen pagador</td>\n",
       "      <td>profesional</td>\n",
       "      <td>9</td>\n",
       "      <td>hombre</td>\n",
       "      <td>no vive solo</td>\n",
       "      <td>1</td>\n",
       "    </tr>\n",
       "    <tr>\n",
       "      <th>998</th>\n",
       "      <td>mal</td>\n",
       "      <td>bad running</td>\n",
       "      <td>12</td>\n",
       "      <td>pre buen pagador</td>\n",
       "      <td>privado</td>\n",
       "      <td>8</td>\n",
       "      <td>hombre</td>\n",
       "      <td>no vive solo</td>\n",
       "      <td>1</td>\n",
       "    </tr>\n",
       "    <tr>\n",
       "      <th>999</th>\n",
       "      <td>mal</td>\n",
       "      <td>no</td>\n",
       "      <td>30</td>\n",
       "      <td>pre buen pagador</td>\n",
       "      <td>privado</td>\n",
       "      <td>8</td>\n",
       "      <td>hombre</td>\n",
       "      <td>no vive solo</td>\n",
       "      <td>1</td>\n",
       "    </tr>\n",
       "  </tbody>\n",
       "</table>\n",
       "</div>"
      ],
      "text/plain": [
       "       Y        Cuenta  Mes              Ppag          Uso  DM    Sexo  \\\n",
       "994  mal            no   12   pre mal pagador      privado   8  hombre   \n",
       "995  mal            no   24  pre buen pagador      privado   4  hombre   \n",
       "996  mal            no   24  pre buen pagador  profesional   4  hombre   \n",
       "997  mal  good running   21  pre buen pagador  profesional   9  hombre   \n",
       "998  mal   bad running   12  pre buen pagador      privado   8  hombre   \n",
       "999  mal            no   30  pre buen pagador      privado   8  hombre   \n",
       "\n",
       "             Estc  N  \n",
       "994  no vive solo  1  \n",
       "995  no vive solo  1  \n",
       "996  no vive solo  1  \n",
       "997  no vive solo  1  \n",
       "998  no vive solo  1  \n",
       "999  no vive solo  1  "
      ]
     },
     "execution_count": 185,
     "metadata": {},
     "output_type": "execute_result"
    }
   ],
   "source": [
    "data_transformada[\"N\"]=1\n",
    "data_transformada.tail(6)"
   ]
  },
  {
   "cell_type": "markdown",
   "id": "c9918fdd",
   "metadata": {},
   "source": [
    "<a id=\"section512\"></a>\n",
    "## <font color=\"#004D7F\">5.1.2 Se puede observar que  la varaible predictora \"DM\" toma los valores de [0,9]</font>"
   ]
  },
  {
   "cell_type": "code",
   "execution_count": 186,
   "id": "ee6595f0",
   "metadata": {},
   "outputs": [
    {
     "data": {
      "text/plain": [
       "array([1, 5, 0, 4, 6, 2, 7, 8, 9, 3], dtype=int64)"
      ]
     },
     "execution_count": 186,
     "metadata": {},
     "output_type": "execute_result"
    }
   ],
   "source": [
    "data_transformada.DM.unique()"
   ]
  },
  {
   "cell_type": "markdown",
   "id": "23ad5c0c",
   "metadata": {},
   "source": [
    "<a id=\"section513\"></a>\n",
    "## <font color=\"#004D7F\">5.1.3 Agrupamos la variable predictora \"DM\"</font>"
   ]
  },
  {
   "cell_type": "code",
   "execution_count": 187,
   "id": "1d680757",
   "metadata": {},
   "outputs": [],
   "source": [
    "DM_conteo_agrupar=data_transformada.groupby(['DM'])"
   ]
  },
  {
   "cell_type": "code",
   "execution_count": 188,
   "id": "b5f8fc5a",
   "metadata": {},
   "outputs": [
    {
     "data": {
      "text/plain": [
       "<pandas.core.groupby.generic.DataFrameGroupBy object at 0x000001A2CB053460>"
      ]
     },
     "execution_count": 188,
     "metadata": {},
     "output_type": "execute_result"
    }
   ],
   "source": [
    "DM_conteo_agrupar"
   ]
  },
  {
   "cell_type": "markdown",
   "id": "9af72921",
   "metadata": {},
   "source": [
    "<a id=\"section5131\"></a>\n",
    "## <font color=\"#004D7F\">5.1.3.1 Conteo de la variable predictora \"DM\"</font>"
   ]
  },
  {
   "cell_type": "code",
   "execution_count": 189,
   "id": "4cb24b43",
   "metadata": {},
   "outputs": [
    {
     "data": {
      "text/html": [
       "<div>\n",
       "<style scoped>\n",
       "    .dataframe tbody tr th:only-of-type {\n",
       "        vertical-align: middle;\n",
       "    }\n",
       "\n",
       "    .dataframe tbody tr th {\n",
       "        vertical-align: top;\n",
       "    }\n",
       "\n",
       "    .dataframe thead th {\n",
       "        text-align: right;\n",
       "    }\n",
       "</style>\n",
       "<table border=\"1\" class=\"dataframe\">\n",
       "  <thead>\n",
       "    <tr style=\"text-align: right;\">\n",
       "      <th></th>\n",
       "      <th>N</th>\n",
       "    </tr>\n",
       "    <tr>\n",
       "      <th>DM</th>\n",
       "      <th></th>\n",
       "    </tr>\n",
       "  </thead>\n",
       "  <tbody>\n",
       "    <tr>\n",
       "      <th>0</th>\n",
       "      <td>100</td>\n",
       "    </tr>\n",
       "    <tr>\n",
       "      <th>1</th>\n",
       "      <td>101</td>\n",
       "    </tr>\n",
       "    <tr>\n",
       "      <th>2</th>\n",
       "      <td>99</td>\n",
       "    </tr>\n",
       "    <tr>\n",
       "      <th>3</th>\n",
       "      <td>100</td>\n",
       "    </tr>\n",
       "    <tr>\n",
       "      <th>4</th>\n",
       "      <td>100</td>\n",
       "    </tr>\n",
       "    <tr>\n",
       "      <th>5</th>\n",
       "      <td>100</td>\n",
       "    </tr>\n",
       "    <tr>\n",
       "      <th>6</th>\n",
       "      <td>101</td>\n",
       "    </tr>\n",
       "    <tr>\n",
       "      <th>7</th>\n",
       "      <td>99</td>\n",
       "    </tr>\n",
       "    <tr>\n",
       "      <th>8</th>\n",
       "      <td>100</td>\n",
       "    </tr>\n",
       "    <tr>\n",
       "      <th>9</th>\n",
       "      <td>100</td>\n",
       "    </tr>\n",
       "  </tbody>\n",
       "</table>\n",
       "</div>"
      ],
      "text/plain": [
       "      N\n",
       "DM     \n",
       "0   100\n",
       "1   101\n",
       "2    99\n",
       "3   100\n",
       "4   100\n",
       "5   100\n",
       "6   101\n",
       "7    99\n",
       "8   100\n",
       "9   100"
      ]
     },
     "execution_count": 189,
     "metadata": {},
     "output_type": "execute_result"
    }
   ],
   "source": [
    "DM_conteo_agrupar.sum()[[\"N\"]]"
   ]
  },
  {
   "cell_type": "markdown",
   "id": "b649f658",
   "metadata": {},
   "source": [
    "<a id=\"section52\"></a>\n",
    "## <font color=\"#004D7F\">5.2 Factores de igual amplietud de intervalos</font>"
   ]
  },
  {
   "cell_type": "code",
   "execution_count": 190,
   "id": "dc1eb93c",
   "metadata": {},
   "outputs": [],
   "source": [
    "dat[\"DM_igual_amplietud\"]=dat[\"DM\"]\n",
    "disc = dsc.EqualWidthDiscretiser(bins=10, variables=['DM'])  # hay 10 categorias"
   ]
  },
  {
   "cell_type": "markdown",
   "id": "82eb6c3e",
   "metadata": {},
   "source": [
    "#### paso 1 : ajustar"
   ]
  },
  {
   "cell_type": "code",
   "execution_count": 191,
   "id": "97b2d80e",
   "metadata": {},
   "outputs": [
    {
     "data": {
      "text/plain": [
       "EqualWidthDiscretiser(variables=['DM'])"
      ]
     },
     "execution_count": 191,
     "metadata": {},
     "output_type": "execute_result"
    }
   ],
   "source": [
    "disc.fit(dat)"
   ]
  },
  {
   "cell_type": "markdown",
   "id": "4616aaf2",
   "metadata": {},
   "source": [
    "#### paso 2:transformar"
   ]
  },
  {
   "cell_type": "code",
   "execution_count": 192,
   "id": "efce524d",
   "metadata": {},
   "outputs": [
    {
     "data": {
      "text/html": [
       "<div>\n",
       "<style scoped>\n",
       "    .dataframe tbody tr th:only-of-type {\n",
       "        vertical-align: middle;\n",
       "    }\n",
       "\n",
       "    .dataframe tbody tr th {\n",
       "        vertical-align: top;\n",
       "    }\n",
       "\n",
       "    .dataframe thead th {\n",
       "        text-align: right;\n",
       "    }\n",
       "</style>\n",
       "<table border=\"1\" class=\"dataframe\">\n",
       "  <thead>\n",
       "    <tr style=\"text-align: right;\">\n",
       "      <th></th>\n",
       "      <th>Y</th>\n",
       "      <th>Cuenta</th>\n",
       "      <th>Mes</th>\n",
       "      <th>Ppag</th>\n",
       "      <th>Uso</th>\n",
       "      <th>DM</th>\n",
       "      <th>Sexo</th>\n",
       "      <th>Estc</th>\n",
       "      <th>DM_igual_amplietud</th>\n",
       "      <th>N</th>\n",
       "    </tr>\n",
       "  </thead>\n",
       "  <tbody>\n",
       "    <tr>\n",
       "      <th>0</th>\n",
       "      <td>buen</td>\n",
       "      <td>no</td>\n",
       "      <td>18</td>\n",
       "      <td>pre buen pagador</td>\n",
       "      <td>privado</td>\n",
       "      <td>0</td>\n",
       "      <td>mujer</td>\n",
       "      <td>vive solo</td>\n",
       "      <td>1049</td>\n",
       "      <td>1</td>\n",
       "    </tr>\n",
       "    <tr>\n",
       "      <th>1</th>\n",
       "      <td>buen</td>\n",
       "      <td>no</td>\n",
       "      <td>9</td>\n",
       "      <td>pre buen pagador</td>\n",
       "      <td>profesional</td>\n",
       "      <td>1</td>\n",
       "      <td>hombre</td>\n",
       "      <td>no vive solo</td>\n",
       "      <td>2799</td>\n",
       "      <td>1</td>\n",
       "    </tr>\n",
       "    <tr>\n",
       "      <th>2</th>\n",
       "      <td>buen</td>\n",
       "      <td>bad running</td>\n",
       "      <td>12</td>\n",
       "      <td>pre buen pagador</td>\n",
       "      <td>profesional</td>\n",
       "      <td>0</td>\n",
       "      <td>mujer</td>\n",
       "      <td>vive solo</td>\n",
       "      <td>841</td>\n",
       "      <td>1</td>\n",
       "    </tr>\n",
       "    <tr>\n",
       "      <th>3</th>\n",
       "      <td>buen</td>\n",
       "      <td>no</td>\n",
       "      <td>12</td>\n",
       "      <td>pre buen pagador</td>\n",
       "      <td>profesional</td>\n",
       "      <td>1</td>\n",
       "      <td>hombre</td>\n",
       "      <td>no vive solo</td>\n",
       "      <td>2122</td>\n",
       "      <td>1</td>\n",
       "    </tr>\n",
       "    <tr>\n",
       "      <th>4</th>\n",
       "      <td>buen</td>\n",
       "      <td>no</td>\n",
       "      <td>12</td>\n",
       "      <td>pre buen pagador</td>\n",
       "      <td>profesional</td>\n",
       "      <td>1</td>\n",
       "      <td>hombre</td>\n",
       "      <td>no vive solo</td>\n",
       "      <td>2171</td>\n",
       "      <td>1</td>\n",
       "    </tr>\n",
       "    <tr>\n",
       "      <th>...</th>\n",
       "      <td>...</td>\n",
       "      <td>...</td>\n",
       "      <td>...</td>\n",
       "      <td>...</td>\n",
       "      <td>...</td>\n",
       "      <td>...</td>\n",
       "      <td>...</td>\n",
       "      <td>...</td>\n",
       "      <td>...</td>\n",
       "      <td>...</td>\n",
       "    </tr>\n",
       "    <tr>\n",
       "      <th>995</th>\n",
       "      <td>mal</td>\n",
       "      <td>no</td>\n",
       "      <td>24</td>\n",
       "      <td>pre buen pagador</td>\n",
       "      <td>privado</td>\n",
       "      <td>0</td>\n",
       "      <td>hombre</td>\n",
       "      <td>no vive solo</td>\n",
       "      <td>1987</td>\n",
       "      <td>1</td>\n",
       "    </tr>\n",
       "    <tr>\n",
       "      <th>996</th>\n",
       "      <td>mal</td>\n",
       "      <td>no</td>\n",
       "      <td>24</td>\n",
       "      <td>pre buen pagador</td>\n",
       "      <td>profesional</td>\n",
       "      <td>1</td>\n",
       "      <td>hombre</td>\n",
       "      <td>no vive solo</td>\n",
       "      <td>2303</td>\n",
       "      <td>1</td>\n",
       "    </tr>\n",
       "    <tr>\n",
       "      <th>997</th>\n",
       "      <td>mal</td>\n",
       "      <td>good running</td>\n",
       "      <td>21</td>\n",
       "      <td>pre buen pagador</td>\n",
       "      <td>profesional</td>\n",
       "      <td>6</td>\n",
       "      <td>hombre</td>\n",
       "      <td>no vive solo</td>\n",
       "      <td>12680</td>\n",
       "      <td>1</td>\n",
       "    </tr>\n",
       "    <tr>\n",
       "      <th>998</th>\n",
       "      <td>mal</td>\n",
       "      <td>bad running</td>\n",
       "      <td>12</td>\n",
       "      <td>pre buen pagador</td>\n",
       "      <td>privado</td>\n",
       "      <td>3</td>\n",
       "      <td>hombre</td>\n",
       "      <td>no vive solo</td>\n",
       "      <td>6468</td>\n",
       "      <td>1</td>\n",
       "    </tr>\n",
       "    <tr>\n",
       "      <th>999</th>\n",
       "      <td>mal</td>\n",
       "      <td>no</td>\n",
       "      <td>30</td>\n",
       "      <td>pre buen pagador</td>\n",
       "      <td>privado</td>\n",
       "      <td>3</td>\n",
       "      <td>hombre</td>\n",
       "      <td>no vive solo</td>\n",
       "      <td>6350</td>\n",
       "      <td>1</td>\n",
       "    </tr>\n",
       "  </tbody>\n",
       "</table>\n",
       "<p>1000 rows × 10 columns</p>\n",
       "</div>"
      ],
      "text/plain": [
       "        Y        Cuenta  Mes              Ppag          Uso  DM    Sexo  \\\n",
       "0    buen            no   18  pre buen pagador      privado   0   mujer   \n",
       "1    buen            no    9  pre buen pagador  profesional   1  hombre   \n",
       "2    buen   bad running   12  pre buen pagador  profesional   0   mujer   \n",
       "3    buen            no   12  pre buen pagador  profesional   1  hombre   \n",
       "4    buen            no   12  pre buen pagador  profesional   1  hombre   \n",
       "..    ...           ...  ...               ...          ...  ..     ...   \n",
       "995   mal            no   24  pre buen pagador      privado   0  hombre   \n",
       "996   mal            no   24  pre buen pagador  profesional   1  hombre   \n",
       "997   mal  good running   21  pre buen pagador  profesional   6  hombre   \n",
       "998   mal   bad running   12  pre buen pagador      privado   3  hombre   \n",
       "999   mal            no   30  pre buen pagador      privado   3  hombre   \n",
       "\n",
       "             Estc  DM_igual_amplietud  N  \n",
       "0       vive solo                1049  1  \n",
       "1    no vive solo                2799  1  \n",
       "2       vive solo                 841  1  \n",
       "3    no vive solo                2122  1  \n",
       "4    no vive solo                2171  1  \n",
       "..            ...                 ... ..  \n",
       "995  no vive solo                1987  1  \n",
       "996  no vive solo                2303  1  \n",
       "997  no vive solo               12680  1  \n",
       "998  no vive solo                6468  1  \n",
       "999  no vive solo                6350  1  \n",
       "\n",
       "[1000 rows x 10 columns]"
      ]
     },
     "execution_count": 192,
     "metadata": {},
     "output_type": "execute_result"
    }
   ],
   "source": [
    "DM_conteo_agrupar_1= disc.transform(dat)\n",
    "DM_conteo_agrupar_1[\"N\"]=1\n",
    "DM_conteo_agrupar_1"
   ]
  },
  {
   "cell_type": "markdown",
   "id": "b88f9b85",
   "metadata": {},
   "source": [
    "<a id=\"section521\"></a>\n",
    "## <font color=\"#004D7F\">5.2.1 Agrupamos la variable predictora \"DM\"</font>"
   ]
  },
  {
   "cell_type": "code",
   "execution_count": 193,
   "id": "da548f15",
   "metadata": {},
   "outputs": [
    {
     "data": {
      "text/plain": [
       "array([0, 1, 2, 3, 4, 5, 6, 7, 8, 9], dtype=int64)"
      ]
     },
     "execution_count": 193,
     "metadata": {},
     "output_type": "execute_result"
    }
   ],
   "source": [
    "DM_conteo_agrupar_1.DM.unique()"
   ]
  },
  {
   "cell_type": "markdown",
   "id": "27d55e40",
   "metadata": {},
   "source": [
    "<a id=\"section522\"></a>\n",
    "## <font color=\"#004D7F\">5.2.2 Conteo de la variable predictora \"DM\"</font>"
   ]
  },
  {
   "cell_type": "code",
   "execution_count": 194,
   "id": "1352d37e",
   "metadata": {},
   "outputs": [
    {
     "data": {
      "text/plain": [
       "<pandas.core.groupby.generic.DataFrameGroupBy object at 0x000001A2CB04F760>"
      ]
     },
     "execution_count": 194,
     "metadata": {},
     "output_type": "execute_result"
    }
   ],
   "source": [
    "DM_conteo_agrupar=DM_conteo_agrupar_1.groupby(['DM'])\n",
    "DM_conteo_agrupar"
   ]
  },
  {
   "cell_type": "markdown",
   "id": "b261b1ae",
   "metadata": {},
   "source": [
    "<a id=\"section5221\"></a>\n",
    "## <font color=\"#004D7F\">5.2.2.1 Conteo de la variable predictora \"DM\"</font>"
   ]
  },
  {
   "cell_type": "code",
   "execution_count": 195,
   "id": "27d88ea4",
   "metadata": {},
   "outputs": [
    {
     "data": {
      "text/html": [
       "<div>\n",
       "<style scoped>\n",
       "    .dataframe tbody tr th:only-of-type {\n",
       "        vertical-align: middle;\n",
       "    }\n",
       "\n",
       "    .dataframe tbody tr th {\n",
       "        vertical-align: top;\n",
       "    }\n",
       "\n",
       "    .dataframe thead th {\n",
       "        text-align: right;\n",
       "    }\n",
       "</style>\n",
       "<table border=\"1\" class=\"dataframe\">\n",
       "  <thead>\n",
       "    <tr style=\"text-align: right;\">\n",
       "      <th></th>\n",
       "      <th>N</th>\n",
       "    </tr>\n",
       "    <tr>\n",
       "      <th>DM</th>\n",
       "      <th></th>\n",
       "    </tr>\n",
       "  </thead>\n",
       "  <tbody>\n",
       "    <tr>\n",
       "      <th>0</th>\n",
       "      <td>445</td>\n",
       "    </tr>\n",
       "    <tr>\n",
       "      <th>1</th>\n",
       "      <td>293</td>\n",
       "    </tr>\n",
       "    <tr>\n",
       "      <th>2</th>\n",
       "      <td>97</td>\n",
       "    </tr>\n",
       "    <tr>\n",
       "      <th>3</th>\n",
       "      <td>80</td>\n",
       "    </tr>\n",
       "    <tr>\n",
       "      <th>4</th>\n",
       "      <td>38</td>\n",
       "    </tr>\n",
       "    <tr>\n",
       "      <th>5</th>\n",
       "      <td>19</td>\n",
       "    </tr>\n",
       "    <tr>\n",
       "      <th>6</th>\n",
       "      <td>14</td>\n",
       "    </tr>\n",
       "    <tr>\n",
       "      <th>7</th>\n",
       "      <td>8</td>\n",
       "    </tr>\n",
       "    <tr>\n",
       "      <th>8</th>\n",
       "      <td>5</td>\n",
       "    </tr>\n",
       "    <tr>\n",
       "      <th>9</th>\n",
       "      <td>1</td>\n",
       "    </tr>\n",
       "  </tbody>\n",
       "</table>\n",
       "</div>"
      ],
      "text/plain": [
       "      N\n",
       "DM     \n",
       "0   445\n",
       "1   293\n",
       "2    97\n",
       "3    80\n",
       "4    38\n",
       "5    19\n",
       "6    14\n",
       "7     8\n",
       "8     5\n",
       "9     1"
      ]
     },
     "execution_count": 195,
     "metadata": {},
     "output_type": "execute_result"
    }
   ],
   "source": [
    "DM_conteo_agrupar.sum()[[\"N\"]]"
   ]
  },
  {
   "cell_type": "markdown",
   "id": "197ddc44",
   "metadata": {},
   "source": [
    "<a id=\"section6\"></a>\n",
    "## <font color=\"#004D7F\">6 Transformacion de Variables</font>"
   ]
  },
  {
   "cell_type": "markdown",
   "id": "edea263d",
   "metadata": {},
   "source": [
    "- transformacion \"box cox\"   \n",
    "- transformacion \"Yeo-Johnson\"\n",
    "- transformacion \"exponencial\"\n",
    "- transformacion \"logaritmica\"\n",
    "\n",
    "#### Objetivo: Mis variables predictoras se distribuyan normalmente (campana)"
   ]
  },
  {
   "cell_type": "markdown",
   "id": "448da945",
   "metadata": {},
   "source": [
    "<a id=\"section61\"></a>\n",
    "## <font color=\"#004D7F\">6.1 transformacion \"logaritmica\"</font>"
   ]
  },
  {
   "cell_type": "code",
   "execution_count": 196,
   "id": "b3127a44",
   "metadata": {},
   "outputs": [],
   "source": [
    "from feature_engine import transformation as vt\n",
    "\n",
    "# set up the variable transformer\n",
    "tf = vt.LogTransformer(variables = ['DM'])"
   ]
  },
  {
   "cell_type": "markdown",
   "id": "b1bbddad",
   "metadata": {},
   "source": [
    "#### paso 1 : ajustar"
   ]
  },
  {
   "cell_type": "code",
   "execution_count": 197,
   "id": "fc410e2d",
   "metadata": {},
   "outputs": [
    {
     "data": {
      "text/plain": [
       "LogTransformer(variables=['DM'])"
      ]
     },
     "execution_count": 197,
     "metadata": {},
     "output_type": "execute_result"
    }
   ],
   "source": [
    "# fit the transformer\n",
    "tf.fit(dat)"
   ]
  },
  {
   "cell_type": "markdown",
   "id": "62b0d087",
   "metadata": {},
   "source": [
    "#### paso 2: transformar"
   ]
  },
  {
   "cell_type": "code",
   "execution_count": 198,
   "id": "531b285e",
   "metadata": {},
   "outputs": [
    {
     "data": {
      "text/html": [
       "<div>\n",
       "<style scoped>\n",
       "    .dataframe tbody tr th:only-of-type {\n",
       "        vertical-align: middle;\n",
       "    }\n",
       "\n",
       "    .dataframe tbody tr th {\n",
       "        vertical-align: top;\n",
       "    }\n",
       "\n",
       "    .dataframe thead th {\n",
       "        text-align: right;\n",
       "    }\n",
       "</style>\n",
       "<table border=\"1\" class=\"dataframe\">\n",
       "  <thead>\n",
       "    <tr style=\"text-align: right;\">\n",
       "      <th></th>\n",
       "      <th>Y</th>\n",
       "      <th>Cuenta</th>\n",
       "      <th>Mes</th>\n",
       "      <th>Ppag</th>\n",
       "      <th>Uso</th>\n",
       "      <th>DM</th>\n",
       "      <th>Sexo</th>\n",
       "      <th>Estc</th>\n",
       "      <th>DM_igual_amplietud</th>\n",
       "    </tr>\n",
       "  </thead>\n",
       "  <tbody>\n",
       "    <tr>\n",
       "      <th>0</th>\n",
       "      <td>buen</td>\n",
       "      <td>no</td>\n",
       "      <td>18</td>\n",
       "      <td>pre buen pagador</td>\n",
       "      <td>privado</td>\n",
       "      <td>6.955593</td>\n",
       "      <td>mujer</td>\n",
       "      <td>vive solo</td>\n",
       "      <td>1049</td>\n",
       "    </tr>\n",
       "    <tr>\n",
       "      <th>1</th>\n",
       "      <td>buen</td>\n",
       "      <td>no</td>\n",
       "      <td>9</td>\n",
       "      <td>pre buen pagador</td>\n",
       "      <td>profesional</td>\n",
       "      <td>7.937017</td>\n",
       "      <td>hombre</td>\n",
       "      <td>no vive solo</td>\n",
       "      <td>2799</td>\n",
       "    </tr>\n",
       "    <tr>\n",
       "      <th>2</th>\n",
       "      <td>buen</td>\n",
       "      <td>bad running</td>\n",
       "      <td>12</td>\n",
       "      <td>pre buen pagador</td>\n",
       "      <td>profesional</td>\n",
       "      <td>6.734592</td>\n",
       "      <td>mujer</td>\n",
       "      <td>vive solo</td>\n",
       "      <td>841</td>\n",
       "    </tr>\n",
       "    <tr>\n",
       "      <th>3</th>\n",
       "      <td>buen</td>\n",
       "      <td>no</td>\n",
       "      <td>12</td>\n",
       "      <td>pre buen pagador</td>\n",
       "      <td>profesional</td>\n",
       "      <td>7.660114</td>\n",
       "      <td>hombre</td>\n",
       "      <td>no vive solo</td>\n",
       "      <td>2122</td>\n",
       "    </tr>\n",
       "    <tr>\n",
       "      <th>4</th>\n",
       "      <td>buen</td>\n",
       "      <td>no</td>\n",
       "      <td>12</td>\n",
       "      <td>pre buen pagador</td>\n",
       "      <td>profesional</td>\n",
       "      <td>7.682943</td>\n",
       "      <td>hombre</td>\n",
       "      <td>no vive solo</td>\n",
       "      <td>2171</td>\n",
       "    </tr>\n",
       "    <tr>\n",
       "      <th>...</th>\n",
       "      <td>...</td>\n",
       "      <td>...</td>\n",
       "      <td>...</td>\n",
       "      <td>...</td>\n",
       "      <td>...</td>\n",
       "      <td>...</td>\n",
       "      <td>...</td>\n",
       "      <td>...</td>\n",
       "      <td>...</td>\n",
       "    </tr>\n",
       "    <tr>\n",
       "      <th>995</th>\n",
       "      <td>mal</td>\n",
       "      <td>no</td>\n",
       "      <td>24</td>\n",
       "      <td>pre buen pagador</td>\n",
       "      <td>privado</td>\n",
       "      <td>7.594381</td>\n",
       "      <td>hombre</td>\n",
       "      <td>no vive solo</td>\n",
       "      <td>1987</td>\n",
       "    </tr>\n",
       "    <tr>\n",
       "      <th>996</th>\n",
       "      <td>mal</td>\n",
       "      <td>no</td>\n",
       "      <td>24</td>\n",
       "      <td>pre buen pagador</td>\n",
       "      <td>profesional</td>\n",
       "      <td>7.741968</td>\n",
       "      <td>hombre</td>\n",
       "      <td>no vive solo</td>\n",
       "      <td>2303</td>\n",
       "    </tr>\n",
       "    <tr>\n",
       "      <th>997</th>\n",
       "      <td>mal</td>\n",
       "      <td>good running</td>\n",
       "      <td>21</td>\n",
       "      <td>pre buen pagador</td>\n",
       "      <td>profesional</td>\n",
       "      <td>9.447781</td>\n",
       "      <td>hombre</td>\n",
       "      <td>no vive solo</td>\n",
       "      <td>12680</td>\n",
       "    </tr>\n",
       "    <tr>\n",
       "      <th>998</th>\n",
       "      <td>mal</td>\n",
       "      <td>bad running</td>\n",
       "      <td>12</td>\n",
       "      <td>pre buen pagador</td>\n",
       "      <td>privado</td>\n",
       "      <td>8.774622</td>\n",
       "      <td>hombre</td>\n",
       "      <td>no vive solo</td>\n",
       "      <td>6468</td>\n",
       "    </tr>\n",
       "    <tr>\n",
       "      <th>999</th>\n",
       "      <td>mal</td>\n",
       "      <td>no</td>\n",
       "      <td>30</td>\n",
       "      <td>pre buen pagador</td>\n",
       "      <td>privado</td>\n",
       "      <td>8.756210</td>\n",
       "      <td>hombre</td>\n",
       "      <td>no vive solo</td>\n",
       "      <td>6350</td>\n",
       "    </tr>\n",
       "  </tbody>\n",
       "</table>\n",
       "<p>1000 rows × 9 columns</p>\n",
       "</div>"
      ],
      "text/plain": [
       "        Y        Cuenta  Mes              Ppag          Uso        DM    Sexo  \\\n",
       "0    buen            no   18  pre buen pagador      privado  6.955593   mujer   \n",
       "1    buen            no    9  pre buen pagador  profesional  7.937017  hombre   \n",
       "2    buen   bad running   12  pre buen pagador  profesional  6.734592   mujer   \n",
       "3    buen            no   12  pre buen pagador  profesional  7.660114  hombre   \n",
       "4    buen            no   12  pre buen pagador  profesional  7.682943  hombre   \n",
       "..    ...           ...  ...               ...          ...       ...     ...   \n",
       "995   mal            no   24  pre buen pagador      privado  7.594381  hombre   \n",
       "996   mal            no   24  pre buen pagador  profesional  7.741968  hombre   \n",
       "997   mal  good running   21  pre buen pagador  profesional  9.447781  hombre   \n",
       "998   mal   bad running   12  pre buen pagador      privado  8.774622  hombre   \n",
       "999   mal            no   30  pre buen pagador      privado  8.756210  hombre   \n",
       "\n",
       "             Estc  DM_igual_amplietud  \n",
       "0       vive solo                1049  \n",
       "1    no vive solo                2799  \n",
       "2       vive solo                 841  \n",
       "3    no vive solo                2122  \n",
       "4    no vive solo                2171  \n",
       "..            ...                 ...  \n",
       "995  no vive solo                1987  \n",
       "996  no vive solo                2303  \n",
       "997  no vive solo               12680  \n",
       "998  no vive solo                6468  \n",
       "999  no vive solo                6350  \n",
       "\n",
       "[1000 rows x 9 columns]"
      ]
     },
     "execution_count": 198,
     "metadata": {},
     "output_type": "execute_result"
    }
   ],
   "source": [
    "\n",
    "# transform the data\n",
    "data_log= tf.transform(dat)\n",
    "data_log"
   ]
  },
  {
   "cell_type": "markdown",
   "id": "5f8d0e61",
   "metadata": {},
   "source": [
    "#### Data sin transformar la variable \"DM\" (PREDICTORA)  : dat"
   ]
  },
  {
   "cell_type": "code",
   "execution_count": 199,
   "id": "baaa832a",
   "metadata": {},
   "outputs": [
    {
     "data": {
      "text/plain": [
       "<AxesSubplot:>"
      ]
     },
     "execution_count": 199,
     "metadata": {},
     "output_type": "execute_result"
    },
    {
     "data": {
      "image/png": "[encoded data removed]",
      "text/plain": [
       "<Figure size 432x288 with 1 Axes>"
      ]
     },
     "metadata": {
      "needs_background": "light"
     },
     "output_type": "display_data"
    }
   ],
   "source": [
    "# un-transformed variable\n",
    "dat['DM'].hist(bins=50)"
   ]
  },
  {
   "cell_type": "markdown",
   "id": "da293b28",
   "metadata": {},
   "source": [
    "#### Data  transformar la variable \"DM\" (PREDICTORA)   :data_log "
   ]
  },
  {
   "cell_type": "code",
   "execution_count": 200,
   "id": "df99dc21",
   "metadata": {},
   "outputs": [
    {
     "data": {
      "text/plain": [
       "<AxesSubplot:>"
      ]
     },
     "execution_count": 200,
     "metadata": {},
     "output_type": "execute_result"
    },
    {
     "data": {
      "image/png": "[encoded data removed]",
      "text/plain": [
       "<Figure size 432x288 with 1 Axes>"
      ]
     },
     "metadata": {
      "needs_background": "light"
     },
     "output_type": "display_data"
    }
   ],
   "source": [
    "data_log[\"DM\"].hist(bins=50)"
   ]
  },
  {
   "cell_type": "code",
   "execution_count": 201,
   "id": "0d39c812",
   "metadata": {},
   "outputs": [
    {
     "data": {
      "text/html": [
       "<div>\n",
       "<style scoped>\n",
       "    .dataframe tbody tr th:only-of-type {\n",
       "        vertical-align: middle;\n",
       "    }\n",
       "\n",
       "    .dataframe tbody tr th {\n",
       "        vertical-align: top;\n",
       "    }\n",
       "\n",
       "    .dataframe thead th {\n",
       "        text-align: right;\n",
       "    }\n",
       "</style>\n",
       "<table border=\"1\" class=\"dataframe\">\n",
       "  <thead>\n",
       "    <tr style=\"text-align: right;\">\n",
       "      <th></th>\n",
       "      <th>Y</th>\n",
       "      <th>Cuenta</th>\n",
       "      <th>Mes</th>\n",
       "      <th>Ppag</th>\n",
       "      <th>Uso</th>\n",
       "      <th>DM</th>\n",
       "      <th>Sexo</th>\n",
       "      <th>Estc</th>\n",
       "      <th>DM_igual_amplietud</th>\n",
       "    </tr>\n",
       "  </thead>\n",
       "  <tbody>\n",
       "    <tr>\n",
       "      <th>0</th>\n",
       "      <td>buen</td>\n",
       "      <td>no</td>\n",
       "      <td>18</td>\n",
       "      <td>pre buen pagador</td>\n",
       "      <td>privado</td>\n",
       "      <td>6.955593</td>\n",
       "      <td>mujer</td>\n",
       "      <td>vive solo</td>\n",
       "      <td>1049</td>\n",
       "    </tr>\n",
       "    <tr>\n",
       "      <th>1</th>\n",
       "      <td>buen</td>\n",
       "      <td>no</td>\n",
       "      <td>9</td>\n",
       "      <td>pre buen pagador</td>\n",
       "      <td>profesional</td>\n",
       "      <td>7.937017</td>\n",
       "      <td>hombre</td>\n",
       "      <td>no vive solo</td>\n",
       "      <td>2799</td>\n",
       "    </tr>\n",
       "  </tbody>\n",
       "</table>\n",
       "</div>"
      ],
      "text/plain": [
       "      Y Cuenta  Mes              Ppag          Uso        DM    Sexo  \\\n",
       "0  buen     no   18  pre buen pagador      privado  6.955593   mujer   \n",
       "1  buen     no    9  pre buen pagador  profesional  7.937017  hombre   \n",
       "\n",
       "           Estc  DM_igual_amplietud  \n",
       "0     vive solo                1049  \n",
       "1  no vive solo                2799  "
      ]
     },
     "execution_count": 201,
     "metadata": {},
     "output_type": "execute_result"
    }
   ],
   "source": [
    "data_log.head(2)"
   ]
  },
  {
   "cell_type": "markdown",
   "id": "1ad43aa1",
   "metadata": {},
   "source": [
    "#### Comentario :\n",
    "\n",
    "- Se puede observar que la varaible predictora \"DM\"  se distribuye normal ,gracias a la tranformacion logaritmica\n",
    "  el beneficio es que la variancia ahora es cte."
   ]
  },
  {
   "cell_type": "markdown",
   "id": "73ac134d",
   "metadata": {},
   "source": [
    "<a id=\"section62\"></a>\n",
    "## <font color=\"#004D7F\">6.2 transformacion \"exponencial\"</font>"
   ]
  },
  {
   "cell_type": "code",
   "execution_count": 202,
   "id": "e14ff85d",
   "metadata": {},
   "outputs": [],
   "source": [
    "from feature_engine import transformation as vt\n",
    "\n",
    "# set up the variable transformer\n",
    "tf = vt.PowerTransformer(variables = ['DM'], exp=0.5)"
   ]
  },
  {
   "cell_type": "markdown",
   "id": "efb6183a",
   "metadata": {},
   "source": [
    "#### paso 1 : ajustar"
   ]
  },
  {
   "cell_type": "code",
   "execution_count": 203,
   "id": "6012b2fe",
   "metadata": {},
   "outputs": [
    {
     "data": {
      "text/plain": [
       "PowerTransformer(variables=['DM'])"
      ]
     },
     "execution_count": 203,
     "metadata": {},
     "output_type": "execute_result"
    }
   ],
   "source": [
    "# fit the transformer\n",
    "tf.fit(dat)"
   ]
  },
  {
   "cell_type": "markdown",
   "id": "f8b30e97",
   "metadata": {},
   "source": [
    "#### paso 2: transformar"
   ]
  },
  {
   "cell_type": "code",
   "execution_count": 204,
   "id": "b5379540",
   "metadata": {},
   "outputs": [
    {
     "data": {
      "text/html": [
       "<div>\n",
       "<style scoped>\n",
       "    .dataframe tbody tr th:only-of-type {\n",
       "        vertical-align: middle;\n",
       "    }\n",
       "\n",
       "    .dataframe tbody tr th {\n",
       "        vertical-align: top;\n",
       "    }\n",
       "\n",
       "    .dataframe thead th {\n",
       "        text-align: right;\n",
       "    }\n",
       "</style>\n",
       "<table border=\"1\" class=\"dataframe\">\n",
       "  <thead>\n",
       "    <tr style=\"text-align: right;\">\n",
       "      <th></th>\n",
       "      <th>Y</th>\n",
       "      <th>Cuenta</th>\n",
       "      <th>Mes</th>\n",
       "      <th>Ppag</th>\n",
       "      <th>Uso</th>\n",
       "      <th>DM</th>\n",
       "      <th>Sexo</th>\n",
       "      <th>Estc</th>\n",
       "      <th>DM_igual_amplietud</th>\n",
       "    </tr>\n",
       "  </thead>\n",
       "  <tbody>\n",
       "    <tr>\n",
       "      <th>0</th>\n",
       "      <td>buen</td>\n",
       "      <td>no</td>\n",
       "      <td>18</td>\n",
       "      <td>pre buen pagador</td>\n",
       "      <td>privado</td>\n",
       "      <td>32.388269</td>\n",
       "      <td>mujer</td>\n",
       "      <td>vive solo</td>\n",
       "      <td>1049</td>\n",
       "    </tr>\n",
       "    <tr>\n",
       "      <th>1</th>\n",
       "      <td>buen</td>\n",
       "      <td>no</td>\n",
       "      <td>9</td>\n",
       "      <td>pre buen pagador</td>\n",
       "      <td>profesional</td>\n",
       "      <td>52.905576</td>\n",
       "      <td>hombre</td>\n",
       "      <td>no vive solo</td>\n",
       "      <td>2799</td>\n",
       "    </tr>\n",
       "    <tr>\n",
       "      <th>2</th>\n",
       "      <td>buen</td>\n",
       "      <td>bad running</td>\n",
       "      <td>12</td>\n",
       "      <td>pre buen pagador</td>\n",
       "      <td>profesional</td>\n",
       "      <td>29.000000</td>\n",
       "      <td>mujer</td>\n",
       "      <td>vive solo</td>\n",
       "      <td>841</td>\n",
       "    </tr>\n",
       "    <tr>\n",
       "      <th>3</th>\n",
       "      <td>buen</td>\n",
       "      <td>no</td>\n",
       "      <td>12</td>\n",
       "      <td>pre buen pagador</td>\n",
       "      <td>profesional</td>\n",
       "      <td>46.065171</td>\n",
       "      <td>hombre</td>\n",
       "      <td>no vive solo</td>\n",
       "      <td>2122</td>\n",
       "    </tr>\n",
       "    <tr>\n",
       "      <th>4</th>\n",
       "      <td>buen</td>\n",
       "      <td>no</td>\n",
       "      <td>12</td>\n",
       "      <td>pre buen pagador</td>\n",
       "      <td>profesional</td>\n",
       "      <td>46.593991</td>\n",
       "      <td>hombre</td>\n",
       "      <td>no vive solo</td>\n",
       "      <td>2171</td>\n",
       "    </tr>\n",
       "    <tr>\n",
       "      <th>...</th>\n",
       "      <td>...</td>\n",
       "      <td>...</td>\n",
       "      <td>...</td>\n",
       "      <td>...</td>\n",
       "      <td>...</td>\n",
       "      <td>...</td>\n",
       "      <td>...</td>\n",
       "      <td>...</td>\n",
       "      <td>...</td>\n",
       "    </tr>\n",
       "    <tr>\n",
       "      <th>995</th>\n",
       "      <td>mal</td>\n",
       "      <td>no</td>\n",
       "      <td>24</td>\n",
       "      <td>pre buen pagador</td>\n",
       "      <td>privado</td>\n",
       "      <td>44.575778</td>\n",
       "      <td>hombre</td>\n",
       "      <td>no vive solo</td>\n",
       "      <td>1987</td>\n",
       "    </tr>\n",
       "    <tr>\n",
       "      <th>996</th>\n",
       "      <td>mal</td>\n",
       "      <td>no</td>\n",
       "      <td>24</td>\n",
       "      <td>pre buen pagador</td>\n",
       "      <td>profesional</td>\n",
       "      <td>47.989582</td>\n",
       "      <td>hombre</td>\n",
       "      <td>no vive solo</td>\n",
       "      <td>2303</td>\n",
       "    </tr>\n",
       "    <tr>\n",
       "      <th>997</th>\n",
       "      <td>mal</td>\n",
       "      <td>good running</td>\n",
       "      <td>21</td>\n",
       "      <td>pre buen pagador</td>\n",
       "      <td>profesional</td>\n",
       "      <td>112.605506</td>\n",
       "      <td>hombre</td>\n",
       "      <td>no vive solo</td>\n",
       "      <td>12680</td>\n",
       "    </tr>\n",
       "    <tr>\n",
       "      <th>998</th>\n",
       "      <td>mal</td>\n",
       "      <td>bad running</td>\n",
       "      <td>12</td>\n",
       "      <td>pre buen pagador</td>\n",
       "      <td>privado</td>\n",
       "      <td>80.423877</td>\n",
       "      <td>hombre</td>\n",
       "      <td>no vive solo</td>\n",
       "      <td>6468</td>\n",
       "    </tr>\n",
       "    <tr>\n",
       "      <th>999</th>\n",
       "      <td>mal</td>\n",
       "      <td>no</td>\n",
       "      <td>30</td>\n",
       "      <td>pre buen pagador</td>\n",
       "      <td>privado</td>\n",
       "      <td>79.686887</td>\n",
       "      <td>hombre</td>\n",
       "      <td>no vive solo</td>\n",
       "      <td>6350</td>\n",
       "    </tr>\n",
       "  </tbody>\n",
       "</table>\n",
       "<p>1000 rows × 9 columns</p>\n",
       "</div>"
      ],
      "text/plain": [
       "        Y        Cuenta  Mes              Ppag          Uso          DM  \\\n",
       "0    buen            no   18  pre buen pagador      privado   32.388269   \n",
       "1    buen            no    9  pre buen pagador  profesional   52.905576   \n",
       "2    buen   bad running   12  pre buen pagador  profesional   29.000000   \n",
       "3    buen            no   12  pre buen pagador  profesional   46.065171   \n",
       "4    buen            no   12  pre buen pagador  profesional   46.593991   \n",
       "..    ...           ...  ...               ...          ...         ...   \n",
       "995   mal            no   24  pre buen pagador      privado   44.575778   \n",
       "996   mal            no   24  pre buen pagador  profesional   47.989582   \n",
       "997   mal  good running   21  pre buen pagador  profesional  112.605506   \n",
       "998   mal   bad running   12  pre buen pagador      privado   80.423877   \n",
       "999   mal            no   30  pre buen pagador      privado   79.686887   \n",
       "\n",
       "       Sexo          Estc  DM_igual_amplietud  \n",
       "0     mujer     vive solo                1049  \n",
       "1    hombre  no vive solo                2799  \n",
       "2     mujer     vive solo                 841  \n",
       "3    hombre  no vive solo                2122  \n",
       "4    hombre  no vive solo                2171  \n",
       "..      ...           ...                 ...  \n",
       "995  hombre  no vive solo                1987  \n",
       "996  hombre  no vive solo                2303  \n",
       "997  hombre  no vive solo               12680  \n",
       "998  hombre  no vive solo                6468  \n",
       "999  hombre  no vive solo                6350  \n",
       "\n",
       "[1000 rows x 9 columns]"
      ]
     },
     "execution_count": 204,
     "metadata": {},
     "output_type": "execute_result"
    }
   ],
   "source": [
    "# transform the data\n",
    "data_exp= tf.transform(dat)\n",
    "data_exp"
   ]
  },
  {
   "cell_type": "code",
   "execution_count": 205,
   "id": "608c9566",
   "metadata": {},
   "outputs": [
    {
     "data": {
      "text/plain": [
       "<AxesSubplot:>"
      ]
     },
     "execution_count": 205,
     "metadata": {},
     "output_type": "execute_result"
    },
    {
     "data": {
      "image/png": "[encoded data removed]",
      "text/plain": [
       "<Figure size 432x288 with 1 Axes>"
      ]
     },
     "metadata": {
      "needs_background": "light"
     },
     "output_type": "display_data"
    }
   ],
   "source": [
    "# un-transformed variable\n",
    "dat['DM'].hist(bins=50)"
   ]
  },
  {
   "cell_type": "code",
   "execution_count": 206,
   "id": "7e122982",
   "metadata": {},
   "outputs": [
    {
     "data": {
      "text/plain": [
       "<AxesSubplot:>"
      ]
     },
     "execution_count": 206,
     "metadata": {},
     "output_type": "execute_result"
    },
    {
     "data": {
      "image/png": "[encoded data removed]",
      "text/plain": [
       "<Figure size 432x288 with 1 Axes>"
      ]
     },
     "metadata": {
      "needs_background": "light"
     },
     "output_type": "display_data"
    }
   ],
   "source": [
    "data_exp[\"DM\"].hist(bins=50)"
   ]
  },
  {
   "cell_type": "markdown",
   "id": "522740d8",
   "metadata": {},
   "source": [
    "<a id=\"section63\"></a>\n",
    "## <font color=\"#004D7F\">6.3 transformacion \"box cox\"</font>"
   ]
  },
  {
   "cell_type": "markdown",
   "id": "3c53016f",
   "metadata": {},
   "source": [
    "Una transformación de Box-Cox de los datos de su proceso puede ayudar a corregir las siguientes condiciones: Los datos del proceso no están distribuidos normalmente y problemas de heterocedasticidad (la varianza de los errores no es constante)."
   ]
  },
  {
   "cell_type": "code",
   "execution_count": 207,
   "id": "48d12dea",
   "metadata": {},
   "outputs": [],
   "source": [
    "tf = vt.BoxCoxTransformer(variables = ['DM'])"
   ]
  },
  {
   "cell_type": "markdown",
   "id": "8b0ef4e0",
   "metadata": {},
   "source": [
    "#### paso 1 :ajustar"
   ]
  },
  {
   "cell_type": "code",
   "execution_count": 208,
   "id": "d6feae96",
   "metadata": {},
   "outputs": [
    {
     "data": {
      "text/plain": [
       "BoxCoxTransformer(variables=['DM'])"
      ]
     },
     "execution_count": 208,
     "metadata": {},
     "output_type": "execute_result"
    }
   ],
   "source": [
    "tf.fit(dat)"
   ]
  },
  {
   "cell_type": "markdown",
   "id": "98f35940",
   "metadata": {},
   "source": [
    "#### paso 2 :transformar"
   ]
  },
  {
   "cell_type": "code",
   "execution_count": 209,
   "id": "7d6bc837",
   "metadata": {},
   "outputs": [],
   "source": [
    "data_boxcox= tf.transform(dat)"
   ]
  },
  {
   "cell_type": "code",
   "execution_count": 210,
   "id": "eb750ade",
   "metadata": {},
   "outputs": [
    {
     "data": {
      "text/plain": [
       "<AxesSubplot:>"
      ]
     },
     "execution_count": 210,
     "metadata": {},
     "output_type": "execute_result"
    },
    {
     "data": {
      "image/png": "[encoded data removed]",
      "text/plain": [
       "<Figure size 432x288 with 1 Axes>"
      ]
     },
     "metadata": {
      "needs_background": "light"
     },
     "output_type": "display_data"
    }
   ],
   "source": [
    "#box cox variable\n",
    "data_boxcox['DM'].hist(bins=50)"
   ]
  },
  {
   "cell_type": "code",
   "execution_count": 211,
   "id": "bf0bcd5b",
   "metadata": {},
   "outputs": [
    {
     "data": {
      "text/plain": [
       "<AxesSubplot:>"
      ]
     },
     "execution_count": 211,
     "metadata": {},
     "output_type": "execute_result"
    },
    {
     "data": {
      "image/png": "[encoded data removed]",
      "text/plain": [
       "<Figure size 432x288 with 1 Axes>"
      ]
     },
     "metadata": {
      "needs_background": "light"
     },
     "output_type": "display_data"
    }
   ],
   "source": [
    "dat['DM'].hist(bins=50)"
   ]
  },
  {
   "cell_type": "markdown",
   "id": "cf5cfb88",
   "metadata": {},
   "source": [
    "<a id=\"section64\"></a>\n",
    "## <font color=\"#004D7F\">6.4 transformacion \"Yeo-Johnson\"</font>"
   ]
  },
  {
   "cell_type": "code",
   "execution_count": 212,
   "id": "8b907b67",
   "metadata": {},
   "outputs": [],
   "source": [
    "# set up the variable transformer\n",
    "tf = vt.YeoJohnsonTransformer(variables = ['DM'])"
   ]
  },
  {
   "cell_type": "markdown",
   "id": "19ed86ac",
   "metadata": {},
   "source": [
    "#### paso 1 : ajustar "
   ]
  },
  {
   "cell_type": "code",
   "execution_count": 213,
   "id": "0d3045ba",
   "metadata": {},
   "outputs": [
    {
     "data": {
      "text/plain": [
       "YeoJohnsonTransformer(variables=['DM'])"
      ]
     },
     "execution_count": 213,
     "metadata": {},
     "output_type": "execute_result"
    }
   ],
   "source": [
    "# fit the transformer\n",
    "tf.fit(dat)\n",
    "#Learns the optimal lambda for the Yeo-Johnson transformation."
   ]
  },
  {
   "cell_type": "markdown",
   "id": "78f8c793",
   "metadata": {},
   "source": [
    "#### paso 2 : transformar "
   ]
  },
  {
   "cell_type": "code",
   "execution_count": 214,
   "id": "8cf3d299",
   "metadata": {},
   "outputs": [],
   "source": [
    "# transform the data\n",
    "data_Yeo_Johnson= tf.transform(dat)"
   ]
  },
  {
   "cell_type": "code",
   "execution_count": 215,
   "id": "bcb1174a",
   "metadata": {},
   "outputs": [
    {
     "data": {
      "text/plain": [
       "<AxesSubplot:>"
      ]
     },
     "execution_count": 215,
     "metadata": {},
     "output_type": "execute_result"
    },
    {
     "data": {
      "image/png": "[encoded data removed]",
      "text/plain": [
       "<Figure size 432x288 with 1 Axes>"
      ]
     },
     "metadata": {
      "needs_background": "light"
     },
     "output_type": "display_data"
    }
   ],
   "source": [
    "# un-transformed variable\n",
    "data_Yeo_Johnson['DM'].hist(bins=50)"
   ]
  },
  {
   "cell_type": "code",
   "execution_count": 216,
   "id": "741f8f6e",
   "metadata": {},
   "outputs": [
    {
     "data": {
      "text/plain": [
       "<AxesSubplot:>"
      ]
     },
     "execution_count": 216,
     "metadata": {},
     "output_type": "execute_result"
    },
    {
     "data": {
      "image/png": "[encoded data removed]",
      "text/plain": [
       "<Figure size 432x288 with 1 Axes>"
      ]
     },
     "metadata": {
      "needs_background": "light"
     },
     "output_type": "display_data"
    }
   ],
   "source": [
    "dat['DM'].hist(bins=50)"
   ]
  },
  {
   "cell_type": "markdown",
   "id": "b4d3fe18",
   "metadata": {},
   "source": [
    "<a id=\"section7\"></a>\n",
    "## <font color=\"#004D7F\">7 Variables dummy</font>"
   ]
  },
  {
   "cell_type": "code",
   "execution_count": 217,
   "id": "f13b8533",
   "metadata": {},
   "outputs": [
    {
     "data": {
      "text/plain": [
       "hombre    598\n",
       "mujer     402\n",
       "Name: Sexo, dtype: int64"
      ]
     },
     "execution_count": 217,
     "metadata": {},
     "output_type": "execute_result"
    }
   ],
   "source": [
    "dat.Sexo.value_counts()"
   ]
  },
  {
   "cell_type": "code",
   "execution_count": 218,
   "id": "63bda6c6",
   "metadata": {},
   "outputs": [],
   "source": [
    "dummy_sexo = pd.get_dummies(dat[\"Sexo\"], prefix=\"genero\") ### prefijo --> prefix=\"sex\""
   ]
  },
  {
   "cell_type": "code",
   "execution_count": 219,
   "id": "dda5af3a",
   "metadata": {},
   "outputs": [
    {
     "data": {
      "text/html": [
       "<div>\n",
       "<style scoped>\n",
       "    .dataframe tbody tr th:only-of-type {\n",
       "        vertical-align: middle;\n",
       "    }\n",
       "\n",
       "    .dataframe tbody tr th {\n",
       "        vertical-align: top;\n",
       "    }\n",
       "\n",
       "    .dataframe thead th {\n",
       "        text-align: right;\n",
       "    }\n",
       "</style>\n",
       "<table border=\"1\" class=\"dataframe\">\n",
       "  <thead>\n",
       "    <tr style=\"text-align: right;\">\n",
       "      <th></th>\n",
       "      <th>genero_hombre</th>\n",
       "      <th>genero_mujer</th>\n",
       "    </tr>\n",
       "  </thead>\n",
       "  <tbody>\n",
       "    <tr>\n",
       "      <th>0</th>\n",
       "      <td>0</td>\n",
       "      <td>1</td>\n",
       "    </tr>\n",
       "    <tr>\n",
       "      <th>1</th>\n",
       "      <td>1</td>\n",
       "      <td>0</td>\n",
       "    </tr>\n",
       "    <tr>\n",
       "      <th>2</th>\n",
       "      <td>0</td>\n",
       "      <td>1</td>\n",
       "    </tr>\n",
       "    <tr>\n",
       "      <th>3</th>\n",
       "      <td>1</td>\n",
       "      <td>0</td>\n",
       "    </tr>\n",
       "    <tr>\n",
       "      <th>4</th>\n",
       "      <td>1</td>\n",
       "      <td>0</td>\n",
       "    </tr>\n",
       "    <tr>\n",
       "      <th>...</th>\n",
       "      <td>...</td>\n",
       "      <td>...</td>\n",
       "    </tr>\n",
       "    <tr>\n",
       "      <th>995</th>\n",
       "      <td>1</td>\n",
       "      <td>0</td>\n",
       "    </tr>\n",
       "    <tr>\n",
       "      <th>996</th>\n",
       "      <td>1</td>\n",
       "      <td>0</td>\n",
       "    </tr>\n",
       "    <tr>\n",
       "      <th>997</th>\n",
       "      <td>1</td>\n",
       "      <td>0</td>\n",
       "    </tr>\n",
       "    <tr>\n",
       "      <th>998</th>\n",
       "      <td>1</td>\n",
       "      <td>0</td>\n",
       "    </tr>\n",
       "    <tr>\n",
       "      <th>999</th>\n",
       "      <td>1</td>\n",
       "      <td>0</td>\n",
       "    </tr>\n",
       "  </tbody>\n",
       "</table>\n",
       "<p>1000 rows × 2 columns</p>\n",
       "</div>"
      ],
      "text/plain": [
       "     genero_hombre  genero_mujer\n",
       "0                0             1\n",
       "1                1             0\n",
       "2                0             1\n",
       "3                1             0\n",
       "4                1             0\n",
       "..             ...           ...\n",
       "995              1             0\n",
       "996              1             0\n",
       "997              1             0\n",
       "998              1             0\n",
       "999              1             0\n",
       "\n",
       "[1000 rows x 2 columns]"
      ]
     },
     "execution_count": 219,
     "metadata": {},
     "output_type": "execute_result"
    }
   ],
   "source": [
    "dummy_sexo"
   ]
  },
  {
   "cell_type": "code",
   "execution_count": null,
   "id": "430e406f",
   "metadata": {},
   "outputs": [],
   "source": []
  }
 ],
 "metadata": {
  "kernelspec": {
   "display_name": "Python 3 (ipykernel)",
   "language": "python",
   "name": "python3"
  },
  "language_info": {
   "codemirror_mode": {
    "name": "ipython",
    "version": 3
   },
   "file_extension": ".py",
   "mimetype": "text/x-python",
   "name": "python",
   "nbconvert_exporter": "python",
   "pygments_lexer": "ipython3",
   "version": "3.9.7"
  }
 },
 "nbformat": 4,
 "nbformat_minor": 5
}
