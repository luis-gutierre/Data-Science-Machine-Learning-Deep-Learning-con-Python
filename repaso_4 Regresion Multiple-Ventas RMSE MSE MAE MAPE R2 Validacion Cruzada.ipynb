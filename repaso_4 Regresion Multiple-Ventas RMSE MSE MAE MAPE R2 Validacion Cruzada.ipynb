{
 "cells": [
  {
   "cell_type": "markdown",
   "id": "a22ec538",
   "metadata": {},
   "source": [
    "* [0. Cambio de Formato](#section0)\n",
    "* [1. Variables Predictoras o Variables Features](#section1)\n",
    "  * [1.1 Forma_1](#section11)\n",
    "  * [1.2 Forma_2](#section12)\n",
    "* [2. Variables Y  o Variable Target](#section2)\n",
    "  * [2.1 Forma_1](#section21)\n",
    "  * [2.2 Forma_2](#section22)\n",
    "* [3. Particion train y test](#section3)\n",
    "* [4 Modelo de Regresion Multiple](#section4)\n",
    "   * [4.1 Con Statsmodels](#section41)\n",
    "   * [4.2 Con sklearn.linear_model](#section42)\n",
    "* [5 Prediccion](#section5)\n",
    "* [6 Metricas](#section6)\n",
    "   * [6.1 R2](#section61)\n",
    "    * [6.1.1 Forma_1](#section611)\n",
    "    * [6.1.2 Forma_2](#section612)\n",
    "    * [6.1.3 Forma_3 -->Recomendada](#section613)\n",
    "   * [6.2 Mape](#section62)\n",
    "    * [6.2.1 Forma_1 -->Recomendada](#section621)\n",
    "    * [6.2.2 Forma_2](#section622)\n",
    "   * [6.3 MAE](#section63)\n",
    "    * [6.3.1 Forma_1 -->Recomendada](#section631)\n",
    "    * [6.3.2 Forma_2](#section632)\n",
    "   * [6.4 RMSE](#section64)\n",
    "    * [6.4.1 Forma_1 -->Recomendada](#section641)\n",
    "    * [6.4.2 Forma_2](#section642)\n",
    "   * [6.5 MSE](#section65)\n",
    "    * [6.5.1 Forma_1 -->Recomendada](#section651)\n",
    "    * [6.5.2 Forma_2](#section652)\n",
    "   * [6.6 Suma de errores al cuadrado(RSS)](#section66)\n",
    "   * [6.7 Validacion Cruzada](#section67)"
   ]
  },
  {
   "cell_type": "code",
   "execution_count": 1,
   "id": "6f7ddecd",
   "metadata": {},
   "outputs": [],
   "source": [
    "import pandas as pd \n",
    "import numpy as np\n",
    "import matplotlib.pyplot as plt"
   ]
  },
  {
   "cell_type": "markdown",
   "id": "5a00a4f9",
   "metadata": {},
   "source": [
    "### Cargando nuestra informacion! "
   ]
  },
  {
   "cell_type": "code",
   "execution_count": 2,
   "id": "7f31bcc1",
   "metadata": {},
   "outputs": [],
   "source": [
    "df=pd.read_csv('Datos_unalm/Advertising.csv')"
   ]
  },
  {
   "cell_type": "code",
   "execution_count": 3,
   "id": "11201369",
   "metadata": {},
   "outputs": [
    {
     "data": {
      "text/html": [
       "<div>\n",
       "<style scoped>\n",
       "    .dataframe tbody tr th:only-of-type {\n",
       "        vertical-align: middle;\n",
       "    }\n",
       "\n",
       "    .dataframe tbody tr th {\n",
       "        vertical-align: top;\n",
       "    }\n",
       "\n",
       "    .dataframe thead th {\n",
       "        text-align: right;\n",
       "    }\n",
       "</style>\n",
       "<table border=\"1\" class=\"dataframe\">\n",
       "  <thead>\n",
       "    <tr style=\"text-align: right;\">\n",
       "      <th></th>\n",
       "      <th>TV</th>\n",
       "      <th>Radio</th>\n",
       "      <th>Newspaper</th>\n",
       "      <th>Sales</th>\n",
       "    </tr>\n",
       "  </thead>\n",
       "  <tbody>\n",
       "    <tr>\n",
       "      <th>0</th>\n",
       "      <td>230.1</td>\n",
       "      <td>37.8</td>\n",
       "      <td>69.2</td>\n",
       "      <td>22.1</td>\n",
       "    </tr>\n",
       "    <tr>\n",
       "      <th>1</th>\n",
       "      <td>44.5</td>\n",
       "      <td>39.3</td>\n",
       "      <td>45.1</td>\n",
       "      <td>10.4</td>\n",
       "    </tr>\n",
       "    <tr>\n",
       "      <th>2</th>\n",
       "      <td>17.2</td>\n",
       "      <td>45.9</td>\n",
       "      <td>69.3</td>\n",
       "      <td>9.3</td>\n",
       "    </tr>\n",
       "    <tr>\n",
       "      <th>3</th>\n",
       "      <td>151.5</td>\n",
       "      <td>41.3</td>\n",
       "      <td>58.5</td>\n",
       "      <td>18.5</td>\n",
       "    </tr>\n",
       "    <tr>\n",
       "      <th>4</th>\n",
       "      <td>180.8</td>\n",
       "      <td>10.8</td>\n",
       "      <td>58.4</td>\n",
       "      <td>12.9</td>\n",
       "    </tr>\n",
       "  </tbody>\n",
       "</table>\n",
       "</div>"
      ],
      "text/plain": [
       "      TV  Radio  Newspaper  Sales\n",
       "0  230.1   37.8       69.2   22.1\n",
       "1   44.5   39.3       45.1   10.4\n",
       "2   17.2   45.9       69.3    9.3\n",
       "3  151.5   41.3       58.5   18.5\n",
       "4  180.8   10.8       58.4   12.9"
      ]
     },
     "execution_count": 3,
     "metadata": {},
     "output_type": "execute_result"
    }
   ],
   "source": [
    "df.head()"
   ]
  },
  {
   "cell_type": "code",
   "execution_count": 4,
   "id": "dc641130",
   "metadata": {},
   "outputs": [
    {
     "data": {
      "text/plain": [
       "(200, 4)"
      ]
     },
     "execution_count": 4,
     "metadata": {},
     "output_type": "execute_result"
    }
   ],
   "source": [
    "df.shape"
   ]
  },
  {
   "cell_type": "code",
   "execution_count": 5,
   "id": "16263219",
   "metadata": {},
   "outputs": [
    {
     "name": "stdout",
     "output_type": "stream",
     "text": [
      "<class 'pandas.core.frame.DataFrame'>\n",
      "RangeIndex: 200 entries, 0 to 199\n",
      "Data columns (total 4 columns):\n",
      " #   Column     Non-Null Count  Dtype  \n",
      "---  ------     --------------  -----  \n",
      " 0   TV         200 non-null    float64\n",
      " 1   Radio      200 non-null    float64\n",
      " 2   Newspaper  200 non-null    float64\n",
      " 3   Sales      200 non-null    float64\n",
      "dtypes: float64(4)\n",
      "memory usage: 6.4 KB\n"
     ]
    }
   ],
   "source": [
    "df.info()"
   ]
  },
  {
   "cell_type": "markdown",
   "id": "37cde7b6",
   "metadata": {},
   "source": [
    "<a id=\"section0\"></a>\n",
    "## <font color=\"#004D7F\">0. Cambio de Formato</font>\n",
    "\n",
    "- **float** // **str** // **int**"
   ]
  },
  {
   "cell_type": "markdown",
   "id": "bcf3bfa7",
   "metadata": {},
   "source": [
    "### variable_Sales -> Cambiar Formato  de: 'float64' -->'object'"
   ]
  },
  {
   "cell_type": "code",
   "execution_count": 6,
   "id": "e7ae4585",
   "metadata": {},
   "outputs": [],
   "source": [
    "df['Sales']=df['Sales'].astype(str)"
   ]
  },
  {
   "cell_type": "code",
   "execution_count": 7,
   "id": "09c9a4a3",
   "metadata": {},
   "outputs": [
    {
     "name": "stdout",
     "output_type": "stream",
     "text": [
      "<class 'pandas.core.frame.DataFrame'>\n",
      "RangeIndex: 200 entries, 0 to 199\n",
      "Data columns (total 4 columns):\n",
      " #   Column     Non-Null Count  Dtype  \n",
      "---  ------     --------------  -----  \n",
      " 0   TV         200 non-null    float64\n",
      " 1   Radio      200 non-null    float64\n",
      " 2   Newspaper  200 non-null    float64\n",
      " 3   Sales      200 non-null    object \n",
      "dtypes: float64(3), object(1)\n",
      "memory usage: 6.4+ KB\n"
     ]
    }
   ],
   "source": [
    "df.info()"
   ]
  },
  {
   "cell_type": "markdown",
   "id": "fa504977",
   "metadata": {},
   "source": [
    "### En este caso deseamos que la variable target(Sales) sea 'float'"
   ]
  },
  {
   "cell_type": "code",
   "execution_count": 8,
   "id": "2fa4fe6a",
   "metadata": {},
   "outputs": [],
   "source": [
    "df['Sales']=df['Sales'].astype(float)"
   ]
  },
  {
   "cell_type": "code",
   "execution_count": 9,
   "id": "216566bb",
   "metadata": {},
   "outputs": [
    {
     "name": "stdout",
     "output_type": "stream",
     "text": [
      "<class 'pandas.core.frame.DataFrame'>\n",
      "RangeIndex: 200 entries, 0 to 199\n",
      "Data columns (total 4 columns):\n",
      " #   Column     Non-Null Count  Dtype  \n",
      "---  ------     --------------  -----  \n",
      " 0   TV         200 non-null    float64\n",
      " 1   Radio      200 non-null    float64\n",
      " 2   Newspaper  200 non-null    float64\n",
      " 3   Sales      200 non-null    float64\n",
      "dtypes: float64(4)\n",
      "memory usage: 6.4 KB\n"
     ]
    }
   ],
   "source": [
    "df.info()"
   ]
  },
  {
   "cell_type": "markdown",
   "id": "bf85409a",
   "metadata": {},
   "source": [
    "<a id=\"section1\"></a>\n",
    "## <font color=\"#004D7F\">1. Variables Predictoras o Variables Features</font>"
   ]
  },
  {
   "cell_type": "markdown",
   "id": "bda0abd2",
   "metadata": {},
   "source": [
    "<a id=\"section11\"></a>\n",
    "## <font color=\"#004D7F\">1.1 Forma_1</font>"
   ]
  },
  {
   "cell_type": "code",
   "execution_count": 10,
   "id": "f6d9cc57",
   "metadata": {},
   "outputs": [
    {
     "data": {
      "text/plain": [
       "Index(['TV', 'Radio', 'Newspaper', 'Sales'], dtype='object')"
      ]
     },
     "execution_count": 10,
     "metadata": {},
     "output_type": "execute_result"
    }
   ],
   "source": [
    "df.columns"
   ]
  },
  {
   "cell_type": "code",
   "execution_count": 11,
   "id": "fa414be4",
   "metadata": {},
   "outputs": [],
   "source": [
    "lista=['TV', 'Radio', 'Newspaper']"
   ]
  },
  {
   "cell_type": "code",
   "execution_count": 12,
   "id": "fcb43c7c",
   "metadata": {},
   "outputs": [],
   "source": [
    "x=df[lista]"
   ]
  },
  {
   "cell_type": "code",
   "execution_count": 13,
   "id": "1a984c8a",
   "metadata": {},
   "outputs": [
    {
     "data": {
      "text/html": [
       "<div>\n",
       "<style scoped>\n",
       "    .dataframe tbody tr th:only-of-type {\n",
       "        vertical-align: middle;\n",
       "    }\n",
       "\n",
       "    .dataframe tbody tr th {\n",
       "        vertical-align: top;\n",
       "    }\n",
       "\n",
       "    .dataframe thead th {\n",
       "        text-align: right;\n",
       "    }\n",
       "</style>\n",
       "<table border=\"1\" class=\"dataframe\">\n",
       "  <thead>\n",
       "    <tr style=\"text-align: right;\">\n",
       "      <th></th>\n",
       "      <th>TV</th>\n",
       "      <th>Radio</th>\n",
       "      <th>Newspaper</th>\n",
       "    </tr>\n",
       "  </thead>\n",
       "  <tbody>\n",
       "    <tr>\n",
       "      <th>0</th>\n",
       "      <td>230.1</td>\n",
       "      <td>37.8</td>\n",
       "      <td>69.2</td>\n",
       "    </tr>\n",
       "    <tr>\n",
       "      <th>1</th>\n",
       "      <td>44.5</td>\n",
       "      <td>39.3</td>\n",
       "      <td>45.1</td>\n",
       "    </tr>\n",
       "    <tr>\n",
       "      <th>2</th>\n",
       "      <td>17.2</td>\n",
       "      <td>45.9</td>\n",
       "      <td>69.3</td>\n",
       "    </tr>\n",
       "    <tr>\n",
       "      <th>3</th>\n",
       "      <td>151.5</td>\n",
       "      <td>41.3</td>\n",
       "      <td>58.5</td>\n",
       "    </tr>\n",
       "    <tr>\n",
       "      <th>4</th>\n",
       "      <td>180.8</td>\n",
       "      <td>10.8</td>\n",
       "      <td>58.4</td>\n",
       "    </tr>\n",
       "  </tbody>\n",
       "</table>\n",
       "</div>"
      ],
      "text/plain": [
       "      TV  Radio  Newspaper\n",
       "0  230.1   37.8       69.2\n",
       "1   44.5   39.3       45.1\n",
       "2   17.2   45.9       69.3\n",
       "3  151.5   41.3       58.5\n",
       "4  180.8   10.8       58.4"
      ]
     },
     "execution_count": 13,
     "metadata": {},
     "output_type": "execute_result"
    }
   ],
   "source": [
    "x.head()"
   ]
  },
  {
   "cell_type": "markdown",
   "id": "9dc8f0b2",
   "metadata": {},
   "source": [
    "<a id=\"section12\"></a>\n",
    "## <font color=\"#004D7F\">1.2 Forma_2</font>"
   ]
  },
  {
   "cell_type": "code",
   "execution_count": 14,
   "id": "d5bb0238",
   "metadata": {},
   "outputs": [],
   "source": [
    "x1=df.iloc[:,0:3]"
   ]
  },
  {
   "cell_type": "code",
   "execution_count": 15,
   "id": "c0a6e914",
   "metadata": {},
   "outputs": [
    {
     "data": {
      "text/html": [
       "<div>\n",
       "<style scoped>\n",
       "    .dataframe tbody tr th:only-of-type {\n",
       "        vertical-align: middle;\n",
       "    }\n",
       "\n",
       "    .dataframe tbody tr th {\n",
       "        vertical-align: top;\n",
       "    }\n",
       "\n",
       "    .dataframe thead th {\n",
       "        text-align: right;\n",
       "    }\n",
       "</style>\n",
       "<table border=\"1\" class=\"dataframe\">\n",
       "  <thead>\n",
       "    <tr style=\"text-align: right;\">\n",
       "      <th></th>\n",
       "      <th>TV</th>\n",
       "      <th>Radio</th>\n",
       "      <th>Newspaper</th>\n",
       "    </tr>\n",
       "  </thead>\n",
       "  <tbody>\n",
       "    <tr>\n",
       "      <th>0</th>\n",
       "      <td>230.1</td>\n",
       "      <td>37.8</td>\n",
       "      <td>69.2</td>\n",
       "    </tr>\n",
       "    <tr>\n",
       "      <th>1</th>\n",
       "      <td>44.5</td>\n",
       "      <td>39.3</td>\n",
       "      <td>45.1</td>\n",
       "    </tr>\n",
       "    <tr>\n",
       "      <th>2</th>\n",
       "      <td>17.2</td>\n",
       "      <td>45.9</td>\n",
       "      <td>69.3</td>\n",
       "    </tr>\n",
       "    <tr>\n",
       "      <th>3</th>\n",
       "      <td>151.5</td>\n",
       "      <td>41.3</td>\n",
       "      <td>58.5</td>\n",
       "    </tr>\n",
       "    <tr>\n",
       "      <th>4</th>\n",
       "      <td>180.8</td>\n",
       "      <td>10.8</td>\n",
       "      <td>58.4</td>\n",
       "    </tr>\n",
       "  </tbody>\n",
       "</table>\n",
       "</div>"
      ],
      "text/plain": [
       "      TV  Radio  Newspaper\n",
       "0  230.1   37.8       69.2\n",
       "1   44.5   39.3       45.1\n",
       "2   17.2   45.9       69.3\n",
       "3  151.5   41.3       58.5\n",
       "4  180.8   10.8       58.4"
      ]
     },
     "execution_count": 15,
     "metadata": {},
     "output_type": "execute_result"
    }
   ],
   "source": [
    "x1.head()"
   ]
  },
  {
   "cell_type": "markdown",
   "id": "10f367c8",
   "metadata": {},
   "source": [
    "<a id=\"section2\"></a>\n",
    "## <font color=\"#004D7F\">2. Variables Y  o Variable Target</font>"
   ]
  },
  {
   "cell_type": "markdown",
   "id": "2ed328c7",
   "metadata": {},
   "source": [
    "<a id=\"section21\"></a>\n",
    "## <font color=\"#004D7F\">2.1 Forma_1</font>"
   ]
  },
  {
   "cell_type": "code",
   "execution_count": 16,
   "id": "b25986b0",
   "metadata": {},
   "outputs": [
    {
     "data": {
      "text/plain": [
       "Index(['TV', 'Radio', 'Newspaper', 'Sales'], dtype='object')"
      ]
     },
     "execution_count": 16,
     "metadata": {},
     "output_type": "execute_result"
    }
   ],
   "source": [
    "df.columns"
   ]
  },
  {
   "cell_type": "code",
   "execution_count": 17,
   "id": "861ce46f",
   "metadata": {},
   "outputs": [],
   "source": [
    "lista1=['Sales']"
   ]
  },
  {
   "cell_type": "code",
   "execution_count": 18,
   "id": "5f7c927c",
   "metadata": {},
   "outputs": [],
   "source": [
    "y=df[lista1]"
   ]
  },
  {
   "cell_type": "code",
   "execution_count": 19,
   "id": "60e6bbe8",
   "metadata": {},
   "outputs": [
    {
     "data": {
      "text/html": [
       "<div>\n",
       "<style scoped>\n",
       "    .dataframe tbody tr th:only-of-type {\n",
       "        vertical-align: middle;\n",
       "    }\n",
       "\n",
       "    .dataframe tbody tr th {\n",
       "        vertical-align: top;\n",
       "    }\n",
       "\n",
       "    .dataframe thead th {\n",
       "        text-align: right;\n",
       "    }\n",
       "</style>\n",
       "<table border=\"1\" class=\"dataframe\">\n",
       "  <thead>\n",
       "    <tr style=\"text-align: right;\">\n",
       "      <th></th>\n",
       "      <th>Sales</th>\n",
       "    </tr>\n",
       "  </thead>\n",
       "  <tbody>\n",
       "    <tr>\n",
       "      <th>0</th>\n",
       "      <td>22.1</td>\n",
       "    </tr>\n",
       "    <tr>\n",
       "      <th>1</th>\n",
       "      <td>10.4</td>\n",
       "    </tr>\n",
       "    <tr>\n",
       "      <th>2</th>\n",
       "      <td>9.3</td>\n",
       "    </tr>\n",
       "    <tr>\n",
       "      <th>3</th>\n",
       "      <td>18.5</td>\n",
       "    </tr>\n",
       "    <tr>\n",
       "      <th>4</th>\n",
       "      <td>12.9</td>\n",
       "    </tr>\n",
       "  </tbody>\n",
       "</table>\n",
       "</div>"
      ],
      "text/plain": [
       "   Sales\n",
       "0   22.1\n",
       "1   10.4\n",
       "2    9.3\n",
       "3   18.5\n",
       "4   12.9"
      ]
     },
     "execution_count": 19,
     "metadata": {},
     "output_type": "execute_result"
    }
   ],
   "source": [
    "y.head()"
   ]
  },
  {
   "cell_type": "markdown",
   "id": "982b532e",
   "metadata": {},
   "source": [
    "<a id=\"section11\"></a>\n",
    "## <font color=\"#004D7F\">2.2 Forma_2</font>"
   ]
  },
  {
   "cell_type": "code",
   "execution_count": 20,
   "id": "ac70522c",
   "metadata": {},
   "outputs": [],
   "source": [
    "y1=df.iloc[:,3]"
   ]
  },
  {
   "cell_type": "code",
   "execution_count": 21,
   "id": "087d399d",
   "metadata": {},
   "outputs": [
    {
     "data": {
      "text/plain": [
       "0      22.1\n",
       "1      10.4\n",
       "2       9.3\n",
       "3      18.5\n",
       "4      12.9\n",
       "       ... \n",
       "195     7.6\n",
       "196     9.7\n",
       "197    12.8\n",
       "198    25.5\n",
       "199    13.4\n",
       "Name: Sales, Length: 200, dtype: float64"
      ]
     },
     "execution_count": 21,
     "metadata": {},
     "output_type": "execute_result"
    }
   ],
   "source": [
    "y1"
   ]
  },
  {
   "cell_type": "code",
   "execution_count": 22,
   "id": "a5ffb5c1",
   "metadata": {},
   "outputs": [
    {
     "data": {
      "text/plain": [
       "Index(['TV', 'Radio', 'Newspaper', 'Sales'], dtype='object')"
      ]
     },
     "execution_count": 22,
     "metadata": {},
     "output_type": "execute_result"
    }
   ],
   "source": [
    "df.columns"
   ]
  },
  {
   "cell_type": "markdown",
   "id": "33a56d77",
   "metadata": {},
   "source": [
    "<a id=\"section3\"></a>\n",
    "## <font color=\"#004D7F\">3. Particion train y test </font>"
   ]
  },
  {
   "cell_type": "code",
   "execution_count": 23,
   "id": "de5948e8",
   "metadata": {},
   "outputs": [],
   "source": [
    "from sklearn.model_selection import train_test_split\n",
    "xtrain,xtest,ytrain,ytest=train_test_split(x,y,test_size=0.3,\n",
    "                                           random_state=4)"
   ]
  },
  {
   "cell_type": "code",
   "execution_count": 24,
   "id": "6b299d98",
   "metadata": {},
   "outputs": [
    {
     "name": "stdout",
     "output_type": "stream",
     "text": [
      "140\n",
      "60\n"
     ]
    }
   ],
   "source": [
    "print(len(xtrain))#entrenamiento \n",
    "print(len(xtest))#testeo"
   ]
  },
  {
   "cell_type": "code",
   "execution_count": 25,
   "id": "3c053e81",
   "metadata": {},
   "outputs": [
    {
     "data": {
      "text/plain": [
       "Index(['TV', 'Radio', 'Newspaper'], dtype='object')"
      ]
     },
     "execution_count": 25,
     "metadata": {},
     "output_type": "execute_result"
    }
   ],
   "source": [
    "xtrain.columns"
   ]
  },
  {
   "cell_type": "code",
   "execution_count": 26,
   "id": "8d835730",
   "metadata": {},
   "outputs": [
    {
     "data": {
      "text/plain": [
       "(140, 3)"
      ]
     },
     "execution_count": 26,
     "metadata": {},
     "output_type": "execute_result"
    }
   ],
   "source": [
    "xtrain.shape"
   ]
  },
  {
   "cell_type": "code",
   "execution_count": 27,
   "id": "d3d7670d",
   "metadata": {},
   "outputs": [
    {
     "data": {
      "text/plain": [
       "(140, 1)"
      ]
     },
     "execution_count": 27,
     "metadata": {},
     "output_type": "execute_result"
    }
   ],
   "source": [
    "ytrain.shape"
   ]
  },
  {
   "cell_type": "code",
   "execution_count": 28,
   "id": "7137f82d",
   "metadata": {},
   "outputs": [],
   "source": [
    "data_entrenamiento=pd.concat([ytrain,xtrain],axis=1)"
   ]
  },
  {
   "cell_type": "code",
   "execution_count": 29,
   "id": "a16e8349",
   "metadata": {},
   "outputs": [
    {
     "data": {
      "text/html": [
       "<div>\n",
       "<style scoped>\n",
       "    .dataframe tbody tr th:only-of-type {\n",
       "        vertical-align: middle;\n",
       "    }\n",
       "\n",
       "    .dataframe tbody tr th {\n",
       "        vertical-align: top;\n",
       "    }\n",
       "\n",
       "    .dataframe thead th {\n",
       "        text-align: right;\n",
       "    }\n",
       "</style>\n",
       "<table border=\"1\" class=\"dataframe\">\n",
       "  <thead>\n",
       "    <tr style=\"text-align: right;\">\n",
       "      <th></th>\n",
       "      <th>Sales</th>\n",
       "      <th>TV</th>\n",
       "      <th>Radio</th>\n",
       "      <th>Newspaper</th>\n",
       "    </tr>\n",
       "  </thead>\n",
       "  <tbody>\n",
       "    <tr>\n",
       "      <th>77</th>\n",
       "      <td>14.2</td>\n",
       "      <td>120.5</td>\n",
       "      <td>28.5</td>\n",
       "      <td>14.2</td>\n",
       "    </tr>\n",
       "    <tr>\n",
       "      <th>127</th>\n",
       "      <td>8.8</td>\n",
       "      <td>80.2</td>\n",
       "      <td>0.0</td>\n",
       "      <td>9.2</td>\n",
       "    </tr>\n",
       "    <tr>\n",
       "      <th>5</th>\n",
       "      <td>7.2</td>\n",
       "      <td>8.7</td>\n",
       "      <td>48.9</td>\n",
       "      <td>75.0</td>\n",
       "    </tr>\n",
       "    <tr>\n",
       "      <th>118</th>\n",
       "      <td>15.9</td>\n",
       "      <td>125.7</td>\n",
       "      <td>36.9</td>\n",
       "      <td>79.2</td>\n",
       "    </tr>\n",
       "    <tr>\n",
       "      <th>113</th>\n",
       "      <td>15.9</td>\n",
       "      <td>209.6</td>\n",
       "      <td>20.6</td>\n",
       "      <td>10.7</td>\n",
       "    </tr>\n",
       "  </tbody>\n",
       "</table>\n",
       "</div>"
      ],
      "text/plain": [
       "     Sales     TV  Radio  Newspaper\n",
       "77    14.2  120.5   28.5       14.2\n",
       "127    8.8   80.2    0.0        9.2\n",
       "5      7.2    8.7   48.9       75.0\n",
       "118   15.9  125.7   36.9       79.2\n",
       "113   15.9  209.6   20.6       10.7"
      ]
     },
     "execution_count": 29,
     "metadata": {},
     "output_type": "execute_result"
    }
   ],
   "source": [
    "data_entrenamiento.head()"
   ]
  },
  {
   "cell_type": "code",
   "execution_count": 30,
   "id": "df99c774",
   "metadata": {},
   "outputs": [
    {
     "data": {
      "text/plain": [
       "(140, 4)"
      ]
     },
     "execution_count": 30,
     "metadata": {},
     "output_type": "execute_result"
    }
   ],
   "source": [
    "data_entrenamiento.shape"
   ]
  },
  {
   "cell_type": "markdown",
   "id": "dc427d0d",
   "metadata": {},
   "source": [
    "<a id=\"section4\"></a>\n",
    "## <font color=\"#004D7F\">4 Modelo de Regresion Multiple </font>"
   ]
  },
  {
   "cell_type": "markdown",
   "id": "a3fa4144",
   "metadata": {},
   "source": [
    "### Data Inicial // Data Original // Data Sin Particionar"
   ]
  },
  {
   "cell_type": "code",
   "execution_count": 31,
   "id": "37270fa7",
   "metadata": {},
   "outputs": [
    {
     "data": {
      "text/html": [
       "<table class=\"simpletable\">\n",
       "<caption>OLS Regression Results</caption>\n",
       "<tr>\n",
       "  <th>Dep. Variable:</th>          <td>Sales</td>      <th>  R-squared:         </th> <td>   0.897</td>\n",
       "</tr>\n",
       "<tr>\n",
       "  <th>Model:</th>                   <td>OLS</td>       <th>  Adj. R-squared:    </th> <td>   0.896</td>\n",
       "</tr>\n",
       "<tr>\n",
       "  <th>Method:</th>             <td>Least Squares</td>  <th>  F-statistic:       </th> <td>   570.3</td>\n",
       "</tr>\n",
       "<tr>\n",
       "  <th>Date:</th>             <td>Thu, 21 Apr 2022</td> <th>  Prob (F-statistic):</th> <td>1.58e-96</td>\n",
       "</tr>\n",
       "<tr>\n",
       "  <th>Time:</th>                 <td>10:28:25</td>     <th>  Log-Likelihood:    </th> <td> -386.18</td>\n",
       "</tr>\n",
       "<tr>\n",
       "  <th>No. Observations:</th>      <td>   200</td>      <th>  AIC:               </th> <td>   780.4</td>\n",
       "</tr>\n",
       "<tr>\n",
       "  <th>Df Residuals:</th>          <td>   196</td>      <th>  BIC:               </th> <td>   793.6</td>\n",
       "</tr>\n",
       "<tr>\n",
       "  <th>Df Model:</th>              <td>     3</td>      <th>                     </th>     <td> </td>   \n",
       "</tr>\n",
       "<tr>\n",
       "  <th>Covariance Type:</th>      <td>nonrobust</td>    <th>                     </th>     <td> </td>   \n",
       "</tr>\n",
       "</table>\n",
       "<table class=\"simpletable\">\n",
       "<tr>\n",
       "      <td></td>         <th>coef</th>     <th>std err</th>      <th>t</th>      <th>P>|t|</th>  <th>[0.025</th>    <th>0.975]</th>  \n",
       "</tr>\n",
       "<tr>\n",
       "  <th>Intercept</th> <td>    2.9389</td> <td>    0.312</td> <td>    9.422</td> <td> 0.000</td> <td>    2.324</td> <td>    3.554</td>\n",
       "</tr>\n",
       "<tr>\n",
       "  <th>TV</th>        <td>    0.0458</td> <td>    0.001</td> <td>   32.809</td> <td> 0.000</td> <td>    0.043</td> <td>    0.049</td>\n",
       "</tr>\n",
       "<tr>\n",
       "  <th>Radio</th>     <td>    0.1885</td> <td>    0.009</td> <td>   21.893</td> <td> 0.000</td> <td>    0.172</td> <td>    0.206</td>\n",
       "</tr>\n",
       "<tr>\n",
       "  <th>Newspaper</th> <td>   -0.0010</td> <td>    0.006</td> <td>   -0.177</td> <td> 0.860</td> <td>   -0.013</td> <td>    0.011</td>\n",
       "</tr>\n",
       "</table>\n",
       "<table class=\"simpletable\">\n",
       "<tr>\n",
       "  <th>Omnibus:</th>       <td>60.414</td> <th>  Durbin-Watson:     </th> <td>   2.084</td>\n",
       "</tr>\n",
       "<tr>\n",
       "  <th>Prob(Omnibus):</th> <td> 0.000</td> <th>  Jarque-Bera (JB):  </th> <td> 151.241</td>\n",
       "</tr>\n",
       "<tr>\n",
       "  <th>Skew:</th>          <td>-1.327</td> <th>  Prob(JB):          </th> <td>1.44e-33</td>\n",
       "</tr>\n",
       "<tr>\n",
       "  <th>Kurtosis:</th>      <td> 6.332</td> <th>  Cond. No.          </th> <td>    454.</td>\n",
       "</tr>\n",
       "</table><br/><br/>Notes:<br/>[1] Standard Errors assume that the covariance matrix of the errors is correctly specified."
      ],
      "text/plain": [
       "<class 'statsmodels.iolib.summary.Summary'>\n",
       "\"\"\"\n",
       "                            OLS Regression Results                            \n",
       "==============================================================================\n",
       "Dep. Variable:                  Sales   R-squared:                       0.897\n",
       "Model:                            OLS   Adj. R-squared:                  0.896\n",
       "Method:                 Least Squares   F-statistic:                     570.3\n",
       "Date:                Thu, 21 Apr 2022   Prob (F-statistic):           1.58e-96\n",
       "Time:                        10:28:25   Log-Likelihood:                -386.18\n",
       "No. Observations:                 200   AIC:                             780.4\n",
       "Df Residuals:                     196   BIC:                             793.6\n",
       "Df Model:                           3                                         \n",
       "Covariance Type:            nonrobust                                         \n",
       "==============================================================================\n",
       "                 coef    std err          t      P>|t|      [0.025      0.975]\n",
       "------------------------------------------------------------------------------\n",
       "Intercept      2.9389      0.312      9.422      0.000       2.324       3.554\n",
       "TV             0.0458      0.001     32.809      0.000       0.043       0.049\n",
       "Radio          0.1885      0.009     21.893      0.000       0.172       0.206\n",
       "Newspaper     -0.0010      0.006     -0.177      0.860      -0.013       0.011\n",
       "==============================================================================\n",
       "Omnibus:                       60.414   Durbin-Watson:                   2.084\n",
       "Prob(Omnibus):                  0.000   Jarque-Bera (JB):              151.241\n",
       "Skew:                          -1.327   Prob(JB):                     1.44e-33\n",
       "Kurtosis:                       6.332   Cond. No.                         454.\n",
       "==============================================================================\n",
       "\n",
       "Notes:\n",
       "[1] Standard Errors assume that the covariance matrix of the errors is correctly specified.\n",
       "\"\"\""
      ]
     },
     "execution_count": 31,
     "metadata": {},
     "output_type": "execute_result"
    }
   ],
   "source": [
    "import statsmodels.formula.api as smf\n",
    "lm = smf.ols(formula='Sales~TV+Radio+Newspaper', data=df).fit()#modelo de regresion lineal\n",
    "lm.summary()\n",
    "#¿cuando uso r-ajustado o r2?"
   ]
  },
  {
   "cell_type": "markdown",
   "id": "14624b79",
   "metadata": {},
   "source": [
    "<a id=\"section41\"></a>\n",
    "## <font color=\"#004D7F\">4.1 Con Statsmodels </font>"
   ]
  },
  {
   "cell_type": "markdown",
   "id": "a86845fe",
   "metadata": {},
   "source": [
    "### Data Entrenamiento"
   ]
  },
  {
   "cell_type": "code",
   "execution_count": 32,
   "id": "aa7f45db",
   "metadata": {},
   "outputs": [
    {
     "data": {
      "text/html": [
       "<table class=\"simpletable\">\n",
       "<caption>OLS Regression Results</caption>\n",
       "<tr>\n",
       "  <th>Dep. Variable:</th>          <td>Sales</td>      <th>  R-squared:         </th> <td>   0.889</td>\n",
       "</tr>\n",
       "<tr>\n",
       "  <th>Model:</th>                   <td>OLS</td>       <th>  Adj. R-squared:    </th> <td>   0.887</td>\n",
       "</tr>\n",
       "<tr>\n",
       "  <th>Method:</th>             <td>Least Squares</td>  <th>  F-statistic:       </th> <td>   363.1</td>\n",
       "</tr>\n",
       "<tr>\n",
       "  <th>Date:</th>             <td>Thu, 21 Apr 2022</td> <th>  Prob (F-statistic):</th> <td>1.06e-64</td>\n",
       "</tr>\n",
       "<tr>\n",
       "  <th>Time:</th>                 <td>10:28:25</td>     <th>  Log-Likelihood:    </th> <td> -277.23</td>\n",
       "</tr>\n",
       "<tr>\n",
       "  <th>No. Observations:</th>      <td>   140</td>      <th>  AIC:               </th> <td>   562.5</td>\n",
       "</tr>\n",
       "<tr>\n",
       "  <th>Df Residuals:</th>          <td>   136</td>      <th>  BIC:               </th> <td>   574.2</td>\n",
       "</tr>\n",
       "<tr>\n",
       "  <th>Df Model:</th>              <td>     3</td>      <th>                     </th>     <td> </td>   \n",
       "</tr>\n",
       "<tr>\n",
       "  <th>Covariance Type:</th>      <td>nonrobust</td>    <th>                     </th>     <td> </td>   \n",
       "</tr>\n",
       "</table>\n",
       "<table class=\"simpletable\">\n",
       "<tr>\n",
       "      <td></td>         <th>coef</th>     <th>std err</th>      <th>t</th>      <th>P>|t|</th>  <th>[0.025</th>    <th>0.975]</th>  \n",
       "</tr>\n",
       "<tr>\n",
       "  <th>Intercept</th> <td>    3.0906</td> <td>    0.376</td> <td>    8.224</td> <td> 0.000</td> <td>    2.347</td> <td>    3.834</td>\n",
       "</tr>\n",
       "<tr>\n",
       "  <th>TV</th>        <td>    0.0453</td> <td>    0.002</td> <td>   25.906</td> <td> 0.000</td> <td>    0.042</td> <td>    0.049</td>\n",
       "</tr>\n",
       "<tr>\n",
       "  <th>Radio</th>     <td>    0.1772</td> <td>    0.011</td> <td>   16.230</td> <td> 0.000</td> <td>    0.156</td> <td>    0.199</td>\n",
       "</tr>\n",
       "<tr>\n",
       "  <th>Newspaper</th> <td>    0.0055</td> <td>    0.008</td> <td>    0.734</td> <td> 0.464</td> <td>   -0.009</td> <td>    0.020</td>\n",
       "</tr>\n",
       "</table>\n",
       "<table class=\"simpletable\">\n",
       "<tr>\n",
       "  <th>Omnibus:</th>       <td>52.813</td> <th>  Durbin-Watson:     </th> <td>   1.857</td>\n",
       "</tr>\n",
       "<tr>\n",
       "  <th>Prob(Omnibus):</th> <td> 0.000</td> <th>  Jarque-Bera (JB):  </th> <td> 131.947</td>\n",
       "</tr>\n",
       "<tr>\n",
       "  <th>Skew:</th>          <td>-1.546</td> <th>  Prob(JB):          </th> <td>2.23e-29</td>\n",
       "</tr>\n",
       "<tr>\n",
       "  <th>Kurtosis:</th>      <td> 6.614</td> <th>  Cond. No.          </th> <td>    434.</td>\n",
       "</tr>\n",
       "</table><br/><br/>Notes:<br/>[1] Standard Errors assume that the covariance matrix of the errors is correctly specified."
      ],
      "text/plain": [
       "<class 'statsmodels.iolib.summary.Summary'>\n",
       "\"\"\"\n",
       "                            OLS Regression Results                            \n",
       "==============================================================================\n",
       "Dep. Variable:                  Sales   R-squared:                       0.889\n",
       "Model:                            OLS   Adj. R-squared:                  0.887\n",
       "Method:                 Least Squares   F-statistic:                     363.1\n",
       "Date:                Thu, 21 Apr 2022   Prob (F-statistic):           1.06e-64\n",
       "Time:                        10:28:25   Log-Likelihood:                -277.23\n",
       "No. Observations:                 140   AIC:                             562.5\n",
       "Df Residuals:                     136   BIC:                             574.2\n",
       "Df Model:                           3                                         \n",
       "Covariance Type:            nonrobust                                         \n",
       "==============================================================================\n",
       "                 coef    std err          t      P>|t|      [0.025      0.975]\n",
       "------------------------------------------------------------------------------\n",
       "Intercept      3.0906      0.376      8.224      0.000       2.347       3.834\n",
       "TV             0.0453      0.002     25.906      0.000       0.042       0.049\n",
       "Radio          0.1772      0.011     16.230      0.000       0.156       0.199\n",
       "Newspaper      0.0055      0.008      0.734      0.464      -0.009       0.020\n",
       "==============================================================================\n",
       "Omnibus:                       52.813   Durbin-Watson:                   1.857\n",
       "Prob(Omnibus):                  0.000   Jarque-Bera (JB):              131.947\n",
       "Skew:                          -1.546   Prob(JB):                     2.23e-29\n",
       "Kurtosis:                       6.614   Cond. No.                         434.\n",
       "==============================================================================\n",
       "\n",
       "Notes:\n",
       "[1] Standard Errors assume that the covariance matrix of the errors is correctly specified.\n",
       "\"\"\""
      ]
     },
     "execution_count": 32,
     "metadata": {},
     "output_type": "execute_result"
    }
   ],
   "source": [
    "import statsmodels.formula.api as smf\n",
    "lm=smf.ols(formula='Sales~TV+Radio+Newspaper',data=data_entrenamiento).fit()#modelo de regresion lineal\n",
    "lm.summary()\n",
    "#¿cuando uso r-ajustado o r2?"
   ]
  },
  {
   "cell_type": "markdown",
   "id": "c9ef0b5b",
   "metadata": {},
   "source": [
    "####  ---------------------------------------------------------------------------------------------------"
   ]
  },
  {
   "cell_type": "markdown",
   "id": "a49433b3",
   "metadata": {},
   "source": [
    "<a id=\"section42\"></a>\n",
    "## <font color=\"#004D7F\">4.2 Con sklearn.linear_model </font>"
   ]
  },
  {
   "cell_type": "markdown",
   "id": "b71998b2",
   "metadata": {},
   "source": [
    "### Data Entrenamiento"
   ]
  },
  {
   "cell_type": "code",
   "execution_count": 33,
   "id": "1cd63826",
   "metadata": {},
   "outputs": [],
   "source": [
    "from sklearn.linear_model import LinearRegression"
   ]
  },
  {
   "cell_type": "markdown",
   "id": "ca87d409",
   "metadata": {},
   "source": [
    "### paso 1 : modelito"
   ]
  },
  {
   "cell_type": "code",
   "execution_count": 34,
   "id": "a412ea6e",
   "metadata": {},
   "outputs": [],
   "source": [
    "rm_modelito= LinearRegression()"
   ]
  },
  {
   "cell_type": "markdown",
   "id": "9f88a508",
   "metadata": {},
   "source": [
    "### paso 2: ajustar"
   ]
  },
  {
   "cell_type": "code",
   "execution_count": 35,
   "id": "3c22e208",
   "metadata": {},
   "outputs": [
    {
     "data": {
      "text/plain": [
       "LinearRegression()"
      ]
     },
     "execution_count": 35,
     "metadata": {},
     "output_type": "execute_result"
    }
   ],
   "source": [
    "rm_modelito.fit(xtrain,ytrain) ######   x,y  estan en formato pandas"
   ]
  },
  {
   "cell_type": "markdown",
   "id": "aba9f608",
   "metadata": {},
   "source": [
    "### coeficientes de la regresion lineal multiple"
   ]
  },
  {
   "cell_type": "code",
   "execution_count": 36,
   "id": "8ddbf699",
   "metadata": {},
   "outputs": [
    {
     "data": {
      "text/plain": [
       "array([[0.04533392, 0.17715767, 0.00553852]])"
      ]
     },
     "execution_count": 36,
     "metadata": {},
     "output_type": "execute_result"
    }
   ],
   "source": [
    "rm_modelito.coef_"
   ]
  },
  {
   "cell_type": "code",
   "execution_count": 37,
   "id": "4c05b186",
   "metadata": {},
   "outputs": [
    {
     "data": {
      "text/plain": [
       "array([3.09064436])"
      ]
     },
     "execution_count": 37,
     "metadata": {},
     "output_type": "execute_result"
    }
   ],
   "source": [
    "rm_modelito.intercept_"
   ]
  },
  {
   "cell_type": "code",
   "execution_count": 38,
   "id": "f8590206",
   "metadata": {},
   "outputs": [
    {
     "data": {
      "text/html": [
       "<div>\n",
       "<style scoped>\n",
       "    .dataframe tbody tr th:only-of-type {\n",
       "        vertical-align: middle;\n",
       "    }\n",
       "\n",
       "    .dataframe tbody tr th {\n",
       "        vertical-align: top;\n",
       "    }\n",
       "\n",
       "    .dataframe thead th {\n",
       "        text-align: right;\n",
       "    }\n",
       "</style>\n",
       "<table border=\"1\" class=\"dataframe\">\n",
       "  <thead>\n",
       "    <tr style=\"text-align: right;\">\n",
       "      <th></th>\n",
       "      <th>0</th>\n",
       "      <th>1</th>\n",
       "    </tr>\n",
       "  </thead>\n",
       "  <tbody>\n",
       "    <tr>\n",
       "      <th>0</th>\n",
       "      <td>TV</td>\n",
       "      <td>[0.04533391693312688]</td>\n",
       "    </tr>\n",
       "    <tr>\n",
       "      <th>1</th>\n",
       "      <td>Radio</td>\n",
       "      <td>[0.17715766675060451]</td>\n",
       "    </tr>\n",
       "    <tr>\n",
       "      <th>2</th>\n",
       "      <td>Newspaper</td>\n",
       "      <td>[0.005538520451028317]</td>\n",
       "    </tr>\n",
       "  </tbody>\n",
       "</table>\n",
       "</div>"
      ],
      "text/plain": [
       "           0                       1\n",
       "0         TV   [0.04533391693312688]\n",
       "1      Radio   [0.17715766675060451]\n",
       "2  Newspaper  [0.005538520451028317]"
      ]
     },
     "execution_count": 38,
     "metadata": {},
     "output_type": "execute_result"
    }
   ],
   "source": [
    "pd.DataFrame(list(zip(x.columns, np.transpose(rm_modelito.coef_))))"
   ]
  },
  {
   "cell_type": "markdown",
   "id": "719a4156",
   "metadata": {},
   "source": [
    "#### Con la data de entrenamiento Observamos las metricas: RMSE,MSE,MAPE"
   ]
  },
  {
   "cell_type": "markdown",
   "id": "976bfb9c",
   "metadata": {},
   "source": [
    "<a id=\"section5\"></a>\n",
    "## <font color=\"#004D7F\">5 Prediccion </font>"
   ]
  },
  {
   "cell_type": "code",
   "execution_count": 39,
   "id": "00766923",
   "metadata": {},
   "outputs": [],
   "source": [
    "y_predicho_train=rm_modelito.predict(xtrain)"
   ]
  },
  {
   "cell_type": "code",
   "execution_count": 40,
   "id": "756cdaa7",
   "metadata": {},
   "outputs": [
    {
     "data": {
      "text/plain": [
       "array([[13.68102185],\n",
       "       [ 6.77737889],\n",
       "       [12.56344838],\n",
       "       [15.76488645],\n",
       "       [16.30134346],\n",
       "       [15.73698411],\n",
       "       [17.06312697],\n",
       "       [15.48178708],\n",
       "       [ 4.83570206],\n",
       "       [19.29752778],\n",
       "       [19.22139262],\n",
       "       [ 9.93408152],\n",
       "       [12.01869557],\n",
       "       [10.28059086],\n",
       "       [ 4.73542672],\n",
       "       [23.51727736],\n",
       "       [17.24615447],\n",
       "       [10.24655613],\n",
       "       [ 9.50128112],\n",
       "       [17.88907995],\n",
       "       [18.19459618],\n",
       "       [17.19553546],\n",
       "       [14.50003194],\n",
       "       [ 7.8712356 ],\n",
       "       [ 7.51427792],\n",
       "       [17.04263787],\n",
       "       [10.18600684],\n",
       "       [17.35550978],\n",
       "       [21.31791908],\n",
       "       [ 9.10868279],\n",
       "       [12.05358847],\n",
       "       [16.77633225],\n",
       "       [21.33161399],\n",
       "       [ 6.81270325],\n",
       "       [ 8.0663848 ],\n",
       "       [10.28914909],\n",
       "       [13.03682814],\n",
       "       [12.07631829],\n",
       "       [ 7.24876294],\n",
       "       [19.81418283],\n",
       "       [ 8.89697688],\n",
       "       [20.69230017],\n",
       "       [11.51007439],\n",
       "       [14.10457312],\n",
       "       [ 5.98884859],\n",
       "       [15.31504406],\n",
       "       [17.06068297],\n",
       "       [23.17210163],\n",
       "       [ 6.33722068],\n",
       "       [ 3.89716787],\n",
       "       [18.48329167],\n",
       "       [14.97989421],\n",
       "       [18.56191762],\n",
       "       [12.03093807],\n",
       "       [13.65376031],\n",
       "       [ 8.27403392],\n",
       "       [17.75199257],\n",
       "       [19.23960841],\n",
       "       [20.28285412],\n",
       "       [13.52376894],\n",
       "       [14.79345049],\n",
       "       [19.17831751],\n",
       "       [15.31675391],\n",
       "       [16.83619613],\n",
       "       [18.7856758 ],\n",
       "       [19.87841295],\n",
       "       [ 4.77175142],\n",
       "       [12.72638753],\n",
       "       [ 8.68452384],\n",
       "       [16.39639576],\n",
       "       [11.50517388],\n",
       "       [19.25952266],\n",
       "       [23.75461526],\n",
       "       [17.89239475],\n",
       "       [ 8.30176869],\n",
       "       [12.70135545],\n",
       "       [20.19006762],\n",
       "       [ 9.27767007],\n",
       "       [10.25868979],\n",
       "       [ 3.85808567],\n",
       "       [ 9.3628219 ],\n",
       "       [ 7.37047143],\n",
       "       [17.92016007],\n",
       "       [22.9774652 ],\n",
       "       [ 9.84143258],\n",
       "       [15.47273898],\n",
       "       [16.25504698],\n",
       "       [ 7.63421309],\n",
       "       [16.5794514 ],\n",
       "       [12.09372133],\n",
       "       [ 6.78056958],\n",
       "       [12.5124551 ],\n",
       "       [10.33389866],\n",
       "       [10.14000761],\n",
       "       [ 9.83743916],\n",
       "       [18.11290239],\n",
       "       [16.384843  ],\n",
       "       [24.00122165],\n",
       "       [12.98761989],\n",
       "       [15.11781443],\n",
       "       [17.59934786],\n",
       "       [15.33355295],\n",
       "       [12.46699564],\n",
       "       [ 7.9289932 ],\n",
       "       [13.59105457],\n",
       "       [14.28733138],\n",
       "       [16.21717579],\n",
       "       [ 8.88892609],\n",
       "       [ 8.40004566],\n",
       "       [11.21184988],\n",
       "       [21.62177469],\n",
       "       [ 6.77785185],\n",
       "       [ 8.62900714],\n",
       "       [10.68288179],\n",
       "       [ 9.80183177],\n",
       "       [14.88657558],\n",
       "       [20.60180407],\n",
       "       [15.86511275],\n",
       "       [20.5077041 ],\n",
       "       [10.61593129],\n",
       "       [ 9.96904795],\n",
       "       [ 9.02129565],\n",
       "       [16.17326475],\n",
       "       [11.03790514],\n",
       "       [ 5.55431494],\n",
       "       [12.75849049],\n",
       "       [12.79776049],\n",
       "       [21.19146041],\n",
       "       [10.50008425],\n",
       "       [19.46492985],\n",
       "       [14.75513874],\n",
       "       [21.64285655],\n",
       "       [20.94904367],\n",
       "       [12.88918254],\n",
       "       [15.65174473],\n",
       "       [19.99504551],\n",
       "       [ 8.15714805],\n",
       "       [24.14412431],\n",
       "       [13.84779817],\n",
       "       [13.75702108]])"
      ]
     },
     "execution_count": 40,
     "metadata": {},
     "output_type": "execute_result"
    }
   ],
   "source": [
    "y_predicho_train"
   ]
  },
  {
   "cell_type": "code",
   "execution_count": 41,
   "id": "b383cc11",
   "metadata": {},
   "outputs": [
    {
     "data": {
      "text/html": [
       "<div>\n",
       "<style scoped>\n",
       "    .dataframe tbody tr th:only-of-type {\n",
       "        vertical-align: middle;\n",
       "    }\n",
       "\n",
       "    .dataframe tbody tr th {\n",
       "        vertical-align: top;\n",
       "    }\n",
       "\n",
       "    .dataframe thead th {\n",
       "        text-align: right;\n",
       "    }\n",
       "</style>\n",
       "<table border=\"1\" class=\"dataframe\">\n",
       "  <thead>\n",
       "    <tr style=\"text-align: right;\">\n",
       "      <th></th>\n",
       "      <th>Sales</th>\n",
       "    </tr>\n",
       "  </thead>\n",
       "  <tbody>\n",
       "    <tr>\n",
       "      <th>77</th>\n",
       "      <td>14.2</td>\n",
       "    </tr>\n",
       "    <tr>\n",
       "      <th>127</th>\n",
       "      <td>8.8</td>\n",
       "    </tr>\n",
       "    <tr>\n",
       "      <th>5</th>\n",
       "      <td>7.2</td>\n",
       "    </tr>\n",
       "    <tr>\n",
       "      <th>118</th>\n",
       "      <td>15.9</td>\n",
       "    </tr>\n",
       "    <tr>\n",
       "      <th>113</th>\n",
       "      <td>15.9</td>\n",
       "    </tr>\n",
       "    <tr>\n",
       "      <th>...</th>\n",
       "      <td>...</td>\n",
       "    </tr>\n",
       "    <tr>\n",
       "      <th>104</th>\n",
       "      <td>20.7</td>\n",
       "    </tr>\n",
       "    <tr>\n",
       "      <th>129</th>\n",
       "      <td>9.7</td>\n",
       "    </tr>\n",
       "    <tr>\n",
       "      <th>183</th>\n",
       "      <td>26.2</td>\n",
       "    </tr>\n",
       "    <tr>\n",
       "      <th>174</th>\n",
       "      <td>11.5</td>\n",
       "    </tr>\n",
       "    <tr>\n",
       "      <th>122</th>\n",
       "      <td>11.6</td>\n",
       "    </tr>\n",
       "  </tbody>\n",
       "</table>\n",
       "<p>140 rows × 1 columns</p>\n",
       "</div>"
      ],
      "text/plain": [
       "     Sales\n",
       "77    14.2\n",
       "127    8.8\n",
       "5      7.2\n",
       "118   15.9\n",
       "113   15.9\n",
       "..     ...\n",
       "104   20.7\n",
       "129    9.7\n",
       "183   26.2\n",
       "174   11.5\n",
       "122   11.6\n",
       "\n",
       "[140 rows x 1 columns]"
      ]
     },
     "execution_count": 41,
     "metadata": {},
     "output_type": "execute_result"
    }
   ],
   "source": [
    "ytrain"
   ]
  },
  {
   "cell_type": "code",
   "execution_count": 42,
   "id": "413abd52",
   "metadata": {},
   "outputs": [],
   "source": [
    "y_real_train=ytrain"
   ]
  },
  {
   "cell_type": "markdown",
   "id": "5f71c772",
   "metadata": {},
   "source": [
    "<a id=\"section6\"></a>\n",
    "## <font color=\"#004D7F\">6 Metricas </font>"
   ]
  },
  {
   "cell_type": "markdown",
   "id": "7e905204",
   "metadata": {},
   "source": [
    "<a id=\"section51\"></a>\n",
    "## <font color=\"#004D7F\">6.1 R2 </font>"
   ]
  },
  {
   "cell_type": "markdown",
   "id": "8ea0b413",
   "metadata": {},
   "source": [
    "<a id=\"section611\"></a>\n",
    "## <font color=\"#004D7F\">6.1.1 Forma_1 </font>"
   ]
  },
  {
   "cell_type": "code",
   "execution_count": 43,
   "id": "23c251ca",
   "metadata": {},
   "outputs": [],
   "source": [
    "### ytrain=y_real_train"
   ]
  },
  {
   "cell_type": "code",
   "execution_count": 44,
   "id": "2add0025",
   "metadata": {},
   "outputs": [
    {
     "data": {
      "text/plain": [
       "0.8890066696510228"
      ]
     },
     "execution_count": 44,
     "metadata": {},
     "output_type": "execute_result"
    }
   ],
   "source": [
    "rm_modelito.score(xtrain,y_real_train) # coeficiente de determinacion  R2"
   ]
  },
  {
   "cell_type": "markdown",
   "id": "362f0d70",
   "metadata": {},
   "source": [
    "<a id=\"section612\"></a>\n",
    "## <font color=\"#004D7F\">6.1.2 Forma_2 </font>"
   ]
  },
  {
   "cell_type": "code",
   "execution_count": 45,
   "id": "edd63f73",
   "metadata": {},
   "outputs": [],
   "source": [
    "data_entrenamiento['y_predicho']=y_predicho_train"
   ]
  },
  {
   "cell_type": "code",
   "execution_count": 46,
   "id": "8f0ef6fb",
   "metadata": {},
   "outputs": [
    {
     "data": {
      "text/html": [
       "<div>\n",
       "<style scoped>\n",
       "    .dataframe tbody tr th:only-of-type {\n",
       "        vertical-align: middle;\n",
       "    }\n",
       "\n",
       "    .dataframe tbody tr th {\n",
       "        vertical-align: top;\n",
       "    }\n",
       "\n",
       "    .dataframe thead th {\n",
       "        text-align: right;\n",
       "    }\n",
       "</style>\n",
       "<table border=\"1\" class=\"dataframe\">\n",
       "  <thead>\n",
       "    <tr style=\"text-align: right;\">\n",
       "      <th></th>\n",
       "      <th>Sales</th>\n",
       "      <th>TV</th>\n",
       "      <th>Radio</th>\n",
       "      <th>Newspaper</th>\n",
       "      <th>y_predicho</th>\n",
       "    </tr>\n",
       "  </thead>\n",
       "  <tbody>\n",
       "    <tr>\n",
       "      <th>77</th>\n",
       "      <td>14.2</td>\n",
       "      <td>120.5</td>\n",
       "      <td>28.5</td>\n",
       "      <td>14.2</td>\n",
       "      <td>13.681022</td>\n",
       "    </tr>\n",
       "    <tr>\n",
       "      <th>127</th>\n",
       "      <td>8.8</td>\n",
       "      <td>80.2</td>\n",
       "      <td>0.0</td>\n",
       "      <td>9.2</td>\n",
       "      <td>6.777379</td>\n",
       "    </tr>\n",
       "  </tbody>\n",
       "</table>\n",
       "</div>"
      ],
      "text/plain": [
       "     Sales     TV  Radio  Newspaper  y_predicho\n",
       "77    14.2  120.5   28.5       14.2   13.681022\n",
       "127    8.8   80.2    0.0        9.2    6.777379"
      ]
     },
     "execution_count": 46,
     "metadata": {},
     "output_type": "execute_result"
    }
   ],
   "source": [
    "data_entrenamiento.head(2)"
   ]
  },
  {
   "cell_type": "markdown",
   "id": "b4062b27",
   "metadata": {},
   "source": [
    "**rss: la suma  de los errores al cuadrado   de la linea de regresion**<br>\n",
    "**tss: la suma  de y_real- y_real_media al cuadrado**"
   ]
  },
  {
   "cell_type": "code",
   "execution_count": 47,
   "id": "293a3fcc",
   "metadata": {},
   "outputs": [
    {
     "data": {
      "text/plain": [
       "Sales    430.157339\n",
       "dtype: float64"
      ]
     },
     "execution_count": 47,
     "metadata": {},
     "output_type": "execute_result"
    }
   ],
   "source": [
    "rss=((y_real_train-y_predicho_train)**2).sum()   ;rss"
   ]
  },
  {
   "cell_type": "code",
   "execution_count": 48,
   "id": "8a7525af",
   "metadata": {},
   "outputs": [
    {
     "data": {
      "text/plain": [
       "Sales    3875.524214\n",
       "dtype: float64"
      ]
     },
     "execution_count": 48,
     "metadata": {},
     "output_type": "execute_result"
    }
   ],
   "source": [
    "tss=((y_real_train-y_real_train.mean())**2).sum()\n",
    "tss"
   ]
  },
  {
   "cell_type": "code",
   "execution_count": 49,
   "id": "6f89ffb5",
   "metadata": {},
   "outputs": [
    {
     "data": {
      "text/plain": [
       "Sales    0.889007\n",
       "dtype: float64"
      ]
     },
     "execution_count": 49,
     "metadata": {},
     "output_type": "execute_result"
    }
   ],
   "source": [
    "r2=1-rss/tss\n",
    "r2"
   ]
  },
  {
   "cell_type": "markdown",
   "id": "6033c390",
   "metadata": {},
   "source": [
    "<a id=\"section613\"></a>\n",
    "## <font color=\"#004D7F\">6.1.3 Forma_3 -->Recomendada </font>"
   ]
  },
  {
   "cell_type": "code",
   "execution_count": 50,
   "id": "a66d8e97",
   "metadata": {},
   "outputs": [
    {
     "data": {
      "text/plain": [
       "0.8890066696510228"
      ]
     },
     "execution_count": 50,
     "metadata": {},
     "output_type": "execute_result"
    }
   ],
   "source": [
    "from sklearn.metrics import r2_score\n",
    "r2_score(data_entrenamiento.Sales,data_entrenamiento.y_predicho) #y_real , y_predicho"
   ]
  },
  {
   "cell_type": "markdown",
   "id": "63551155",
   "metadata": {},
   "source": [
    "<a id=\"section62\"></a>\n",
    "## <font color=\"#004D7F\">6.2 Mape </font>"
   ]
  },
  {
   "cell_type": "markdown",
   "id": "ce75bc88",
   "metadata": {},
   "source": [
    "<a id=\"section621\"></a>\n",
    "## <font color=\"#004D7F\">6.2.1 Forma_1 -->Recomendada </font>"
   ]
  },
  {
   "cell_type": "code",
   "execution_count": 51,
   "id": "aafd3567",
   "metadata": {},
   "outputs": [],
   "source": [
    "### Modelo con 4 variables (LSTATA, INDUS, NOX, RM)\n",
    "def mean_absolute_percentage_error(y_true, y_pred):\n",
    "    return np.mean(np.abs((y_true - y_pred) / y_true)) * 100"
   ]
  },
  {
   "cell_type": "code",
   "execution_count": 52,
   "id": "3d47e16f",
   "metadata": {},
   "outputs": [
    {
     "data": {
      "text/plain": [
       "15.303213566902635"
      ]
     },
     "execution_count": 52,
     "metadata": {},
     "output_type": "execute_result"
    }
   ],
   "source": [
    "mean_absolute_percentage_error(data_entrenamiento.Sales,data_entrenamiento.y_predicho) ### formato numpy"
   ]
  },
  {
   "cell_type": "markdown",
   "id": "f0c8eb70",
   "metadata": {},
   "source": [
    "<a id=\"section622\"></a>\n",
    "## <font color=\"#004D7F\">6.2.2 Forma_2 </font>"
   ]
  },
  {
   "cell_type": "code",
   "execution_count": 53,
   "id": "25989522",
   "metadata": {},
   "outputs": [
    {
     "data": {
      "text/plain": [
       "15.303213566902635"
      ]
     },
     "execution_count": 53,
     "metadata": {},
     "output_type": "execute_result"
    }
   ],
   "source": [
    "mape=(( abs(data_entrenamiento.Sales-data_entrenamiento.y_predicho)/data_entrenamiento.Sales).mean())*100\n",
    "mape"
   ]
  },
  {
   "cell_type": "markdown",
   "id": "7c210012",
   "metadata": {},
   "source": [
    "<a id=\"section63\"></a>\n",
    "## <font color=\"#004D7F\">6.3 MAE</font>"
   ]
  },
  {
   "cell_type": "markdown",
   "id": "ace0b426",
   "metadata": {},
   "source": [
    "### Es mas robusto para valores atipicos en comparacion MSE Y RMSE"
   ]
  },
  {
   "cell_type": "markdown",
   "id": "1c59f55f",
   "metadata": {},
   "source": [
    "<a id=\"section631\"></a>\n",
    "## <font color=\"#004D7F\">6.3.1 Forma_1 -->Recomendada </font>"
   ]
  },
  {
   "cell_type": "code",
   "execution_count": 54,
   "id": "a6790cf0",
   "metadata": {},
   "outputs": [
    {
     "data": {
      "text/plain": [
       "1.290268303086694"
      ]
     },
     "execution_count": 54,
     "metadata": {},
     "output_type": "execute_result"
    }
   ],
   "source": [
    "from sklearn.metrics import mean_absolute_error\n",
    "mean_absolute_error(data_entrenamiento.Sales,data_entrenamiento.y_predicho)"
   ]
  },
  {
   "cell_type": "markdown",
   "id": "e617ed69",
   "metadata": {},
   "source": [
    "<a id=\"section632\"></a>\n",
    "## <font color=\"#004D7F\">6.3.2 Forma_2 </font>"
   ]
  },
  {
   "cell_type": "code",
   "execution_count": 55,
   "id": "99f02649",
   "metadata": {},
   "outputs": [
    {
     "data": {
      "text/plain": [
       "1.290268303086694"
      ]
     },
     "execution_count": 55,
     "metadata": {},
     "output_type": "execute_result"
    }
   ],
   "source": [
    "((abs(data_entrenamiento.Sales-data_entrenamiento.y_predicho)  ).sum() )/ data_entrenamiento.shape[0]"
   ]
  },
  {
   "cell_type": "markdown",
   "id": "ab5cdda4",
   "metadata": {},
   "source": [
    "<a id=\"section64\"></a>\n",
    "## <font color=\"#004D7F\">6.4 RMSE</font>"
   ]
  },
  {
   "cell_type": "markdown",
   "id": "ee5973fb",
   "metadata": {},
   "source": [
    "### sensible a valores atipicos"
   ]
  },
  {
   "cell_type": "markdown",
   "id": "4393458c",
   "metadata": {},
   "source": [
    "<a id=\"section641\"></a>\n",
    "## <font color=\"#004D7F\">6.4.1 Forma_1 -->Recomendada </font>"
   ]
  },
  {
   "cell_type": "code",
   "execution_count": 56,
   "id": "e7b0f2f4",
   "metadata": {},
   "outputs": [
    {
     "data": {
      "text/plain": [
       "1.7528697681876557"
      ]
     },
     "execution_count": 56,
     "metadata": {},
     "output_type": "execute_result"
    }
   ],
   "source": [
    "from sklearn.metrics import mean_squared_error\n",
    "mean_squared_error(data_entrenamiento.Sales,data_entrenamiento.y_predicho)**0.5"
   ]
  },
  {
   "cell_type": "markdown",
   "id": "cab6906f",
   "metadata": {},
   "source": [
    "<a id=\"section642\"></a>\n",
    "## <font color=\"#004D7F\">6.4.2 Forma_2</font>"
   ]
  },
  {
   "cell_type": "code",
   "execution_count": 57,
   "id": "21982eb7",
   "metadata": {},
   "outputs": [
    {
     "data": {
      "text/plain": [
       "1.7528697681876557"
      ]
     },
     "execution_count": 57,
     "metadata": {},
     "output_type": "execute_result"
    }
   ],
   "source": [
    "((((data_entrenamiento.Sales-data_entrenamiento.y_predicho)**2 ).sum()   ) / data_entrenamiento.shape[0]  )**0.5"
   ]
  },
  {
   "cell_type": "markdown",
   "id": "e9ed8ffc",
   "metadata": {},
   "source": [
    "<a id=\"section65\"></a>\n",
    "## <font color=\"#004D7F\">6.5 MSE</font>"
   ]
  },
  {
   "cell_type": "markdown",
   "id": "3219ce07",
   "metadata": {},
   "source": [
    "### sensible a valores atipicos"
   ]
  },
  {
   "cell_type": "markdown",
   "id": "afadde18",
   "metadata": {},
   "source": [
    "<a id=\"section651\"></a>\n",
    "## <font color=\"#004D7F\">6.5.1 Forma_1 -->Recomendada </font>"
   ]
  },
  {
   "cell_type": "code",
   "execution_count": 58,
   "id": "7d3c95b2",
   "metadata": {},
   "outputs": [
    {
     "data": {
      "text/plain": [
       "3.072552424226246"
      ]
     },
     "execution_count": 58,
     "metadata": {},
     "output_type": "execute_result"
    }
   ],
   "source": [
    "from sklearn.metrics import mean_squared_error\n",
    "mean_squared_error(data_entrenamiento.Sales,data_entrenamiento.y_predicho)"
   ]
  },
  {
   "cell_type": "markdown",
   "id": "32d77645",
   "metadata": {},
   "source": [
    "<a id=\"section652\"></a>\n",
    "## <font color=\"#004D7F\">6.5.2 Forma_2 </font>"
   ]
  },
  {
   "cell_type": "code",
   "execution_count": 59,
   "id": "4401f178",
   "metadata": {},
   "outputs": [
    {
     "data": {
      "text/plain": [
       "3.072552424226246"
      ]
     },
     "execution_count": 59,
     "metadata": {},
     "output_type": "execute_result"
    }
   ],
   "source": [
    "( ((data_entrenamiento.Sales-data_entrenamiento.y_predicho)**2).sum()    )/ data_entrenamiento.shape[0]"
   ]
  },
  {
   "cell_type": "markdown",
   "id": "6e45c591",
   "metadata": {},
   "source": [
    "<a id=\"section66\"></a>\n",
    "## <font color=\"#004D7F\">6.6 Suma de errores al cuadrado(RSS)</font>"
   ]
  },
  {
   "cell_type": "code",
   "execution_count": 60,
   "id": "b48b4eed",
   "metadata": {},
   "outputs": [],
   "source": [
    "rss=((data_entrenamiento.Sales-data_entrenamiento.y_predicho)**2).sum()"
   ]
  },
  {
   "cell_type": "markdown",
   "id": "0c2241f2",
   "metadata": {},
   "source": [
    "###  Error estandar Residual"
   ]
  },
  {
   "cell_type": "code",
   "execution_count": 61,
   "id": "50b88949",
   "metadata": {},
   "outputs": [
    {
     "data": {
      "text/plain": [
       "Index(['Sales', 'TV', 'Radio', 'Newspaper', 'y_predicho'], dtype='object')"
      ]
     },
     "execution_count": 61,
     "metadata": {},
     "output_type": "execute_result"
    }
   ],
   "source": [
    "data_entrenamiento.columns # tenemos 3 predictores"
   ]
  },
  {
   "cell_type": "code",
   "execution_count": 62,
   "id": "dc0e4c6d",
   "metadata": {},
   "outputs": [
    {
     "data": {
      "text/plain": [
       "140"
      ]
     },
     "execution_count": 62,
     "metadata": {},
     "output_type": "execute_result"
    }
   ],
   "source": [
    "len(data_entrenamiento.Sales)"
   ]
  },
  {
   "cell_type": "code",
   "execution_count": 63,
   "id": "04016d4a",
   "metadata": {},
   "outputs": [
    {
     "data": {
      "text/plain": [
       "1.7719578420774613"
      ]
     },
     "execution_count": 63,
     "metadata": {},
     "output_type": "execute_result"
    }
   ],
   "source": [
    "RSE = np.sqrt(rss/(len(data_entrenamiento.Sales)-3))  # np.sqrt(RSS/(numero.d.observaciones - numero.d.predictores ))\n",
    "RSE                                 #n=numero.d.observaciones \n",
    "                                    #p=numero.d.predictores "
   ]
  },
  {
   "cell_type": "markdown",
   "id": "e7398ea5",
   "metadata": {},
   "source": [
    "### EL R-AJUSTADO SE UTLIZA CUANDO SE TIENE DIFERENTES NUMERO DE PREDICTORES -->Error estandar Residual"
   ]
  },
  {
   "cell_type": "markdown",
   "id": "bc4f59b9",
   "metadata": {},
   "source": [
    "### error"
   ]
  },
  {
   "cell_type": "code",
   "execution_count": 64,
   "id": "40bf39e5",
   "metadata": {},
   "outputs": [
    {
     "data": {
      "text/plain": [
       "0.12787983807971784"
      ]
     },
     "execution_count": 64,
     "metadata": {},
     "output_type": "execute_result"
    }
   ],
   "source": [
    "sales_mean = np.mean(data_entrenamiento.Sales)\n",
    "error = RSE/sales_mean\n",
    "error"
   ]
  },
  {
   "cell_type": "markdown",
   "id": "ce12fcda",
   "metadata": {},
   "source": [
    "<a id=\"section67\"></a>\n",
    "## <font color=\"#004D7F\">6.7 Validacion Cruzada</font>"
   ]
  },
  {
   "cell_type": "code",
   "execution_count": 65,
   "id": "05a03a0d",
   "metadata": {},
   "outputs": [
    {
     "data": {
      "text/plain": [
       "Index(['Sales', 'TV', 'Radio', 'Newspaper', 'y_predicho'], dtype='object')"
      ]
     },
     "execution_count": 65,
     "metadata": {},
     "output_type": "execute_result"
    }
   ],
   "source": [
    "data_entrenamiento.columns"
   ]
  },
  {
   "cell_type": "code",
   "execution_count": 66,
   "id": "a54598d0",
   "metadata": {},
   "outputs": [],
   "source": [
    "data_entrenamiento_xtrain=data_entrenamiento[['TV', 'Radio', 'Newspaper']]\n",
    "data_entrenamiento_ytrain=data_entrenamiento[['Sales']]"
   ]
  },
  {
   "cell_type": "code",
   "execution_count": 67,
   "id": "61b24ecd",
   "metadata": {},
   "outputs": [
    {
     "name": "stdout",
     "output_type": "stream",
     "text": [
      "[0.71992597 0.756014   0.94590806 0.91402088 0.89314676 0.93962354\n",
      " 0.92563716 0.89872719 0.75336329 0.9057542 ]\n",
      "promedio: 0.8652121039042037\n"
     ]
    }
   ],
   "source": [
    "# Validación cruzada: Cross Validation (K-Fold)\n",
    "from sklearn.model_selection import cross_val_score\n",
    "cv_reg_train=cross_val_score(rm_modelito,data_entrenamiento_xtrain,data_entrenamiento_ytrain,cv=10)\n",
    "np.mean(cv_reg_train)\n",
    "print(cv_reg_train)\n",
    "print(\"promedio:\",np.mean(cv_reg_train))"
   ]
  },
  {
   "cell_type": "markdown",
   "id": "42353c11",
   "metadata": {},
   "source": [
    "### NOTA: solo se uso la data de entrenamiento, en la data de testeo lo predecira bien el modelo ya que  nuestras metricas nos dieron un buen indicador"
   ]
  },
  {
   "cell_type": "code",
   "execution_count": 68,
   "id": "347e0af2",
   "metadata": {},
   "outputs": [
    {
     "data": {
      "text/plain": [
       "array([[17.09777441],\n",
       "       [16.86148273],\n",
       "       [21.7761552 ],\n",
       "       [24.53812602],\n",
       "       [12.32008724],\n",
       "       [20.9083371 ],\n",
       "       [10.09857022],\n",
       "       [12.38326275],\n",
       "       [12.01767713],\n",
       "       [16.939182  ],\n",
       "       [22.8039863 ],\n",
       "       [15.18438755],\n",
       "       [ 8.45988902],\n",
       "       [14.86958246],\n",
       "       [18.5360064 ],\n",
       "       [18.5391287 ],\n",
       "       [18.67614759],\n",
       "       [14.5131948 ],\n",
       "       [ 9.74192603],\n",
       "       [20.57441729],\n",
       "       [14.89243548],\n",
       "       [17.70102466],\n",
       "       [23.04193509],\n",
       "       [ 7.718106  ],\n",
       "       [21.42075683],\n",
       "       [19.62792915],\n",
       "       [13.79733409],\n",
       "       [11.63827129],\n",
       "       [18.42655599],\n",
       "       [12.19463761],\n",
       "       [11.40777433],\n",
       "       [ 9.96083851],\n",
       "       [13.49436555],\n",
       "       [15.18912412],\n",
       "       [18.09830593],\n",
       "       [ 6.92815403],\n",
       "       [14.21050378],\n",
       "       [14.27217178],\n",
       "       [14.10451207],\n",
       "       [10.77723418],\n",
       "       [14.82936609],\n",
       "       [11.96507878],\n",
       "       [10.69651541],\n",
       "       [10.40851022],\n",
       "       [ 6.21159776],\n",
       "       [16.82112487],\n",
       "       [16.4659736 ],\n",
       "       [12.07626636],\n",
       "       [10.75281419],\n",
       "       [20.84690688],\n",
       "       [15.09266208],\n",
       "       [15.39499668],\n",
       "       [13.27964587],\n",
       "       [14.1081843 ],\n",
       "       [12.38574411],\n",
       "       [ 9.03289588],\n",
       "       [20.48246311],\n",
       "       [ 9.3517132 ],\n",
       "       [ 5.36311192],\n",
       "       [ 8.24848891]])"
      ]
     },
     "execution_count": 68,
     "metadata": {},
     "output_type": "execute_result"
    }
   ],
   "source": [
    "rm_modelito.predict(xtest)"
   ]
  },
  {
   "cell_type": "code",
   "execution_count": 69,
   "id": "90e2983e",
   "metadata": {},
   "outputs": [
    {
     "data": {
      "text/html": [
       "<div>\n",
       "<style scoped>\n",
       "    .dataframe tbody tr th:only-of-type {\n",
       "        vertical-align: middle;\n",
       "    }\n",
       "\n",
       "    .dataframe tbody tr th {\n",
       "        vertical-align: top;\n",
       "    }\n",
       "\n",
       "    .dataframe thead th {\n",
       "        text-align: right;\n",
       "    }\n",
       "</style>\n",
       "<table border=\"1\" class=\"dataframe\">\n",
       "  <thead>\n",
       "    <tr style=\"text-align: right;\">\n",
       "      <th></th>\n",
       "      <th>Sales</th>\n",
       "    </tr>\n",
       "  </thead>\n",
       "  <tbody>\n",
       "    <tr>\n",
       "      <th>11</th>\n",
       "      <td>17.4</td>\n",
       "    </tr>\n",
       "    <tr>\n",
       "      <th>99</th>\n",
       "      <td>17.2</td>\n",
       "    </tr>\n",
       "    <tr>\n",
       "      <th>128</th>\n",
       "      <td>24.7</td>\n",
       "    </tr>\n",
       "    <tr>\n",
       "      <th>175</th>\n",
       "      <td>27.0</td>\n",
       "    </tr>\n",
       "    <tr>\n",
       "      <th>1</th>\n",
       "      <td>10.4</td>\n",
       "    </tr>\n",
       "    <tr>\n",
       "      <th>111</th>\n",
       "      <td>21.8</td>\n",
       "    </tr>\n",
       "    <tr>\n",
       "      <th>90</th>\n",
       "      <td>11.2</td>\n",
       "    </tr>\n",
       "    <tr>\n",
       "      <th>177</th>\n",
       "      <td>11.7</td>\n",
       "    </tr>\n",
       "    <tr>\n",
       "      <th>88</th>\n",
       "      <td>12.9</td>\n",
       "    </tr>\n",
       "    <tr>\n",
       "      <th>187</th>\n",
       "      <td>17.3</td>\n",
       "    </tr>\n",
       "    <tr>\n",
       "      <th>61</th>\n",
       "      <td>24.2</td>\n",
       "    </tr>\n",
       "    <tr>\n",
       "      <th>199</th>\n",
       "      <td>13.4</td>\n",
       "    </tr>\n",
       "    <tr>\n",
       "      <th>191</th>\n",
       "      <td>9.9</td>\n",
       "    </tr>\n",
       "    <tr>\n",
       "      <th>123</th>\n",
       "      <td>15.2</td>\n",
       "    </tr>\n",
       "    <tr>\n",
       "      <th>184</th>\n",
       "      <td>17.6</td>\n",
       "    </tr>\n",
       "    <tr>\n",
       "      <th>188</th>\n",
       "      <td>15.9</td>\n",
       "    </tr>\n",
       "    <tr>\n",
       "      <th>33</th>\n",
       "      <td>17.4</td>\n",
       "    </tr>\n",
       "    <tr>\n",
       "      <th>171</th>\n",
       "      <td>14.5</td>\n",
       "    </tr>\n",
       "    <tr>\n",
       "      <th>138</th>\n",
       "      <td>9.6</td>\n",
       "    </tr>\n",
       "    <tr>\n",
       "      <th>84</th>\n",
       "      <td>21.7</td>\n",
       "    </tr>\n",
       "    <tr>\n",
       "      <th>81</th>\n",
       "      <td>12.3</td>\n",
       "    </tr>\n",
       "    <tr>\n",
       "      <th>102</th>\n",
       "      <td>14.8</td>\n",
       "    </tr>\n",
       "    <tr>\n",
       "      <th>147</th>\n",
       "      <td>25.4</td>\n",
       "    </tr>\n",
       "    <tr>\n",
       "      <th>34</th>\n",
       "      <td>9.5</td>\n",
       "    </tr>\n",
       "    <tr>\n",
       "      <th>47</th>\n",
       "      <td>23.2</td>\n",
       "    </tr>\n",
       "    <tr>\n",
       "      <th>124</th>\n",
       "      <td>19.7</td>\n",
       "    </tr>\n",
       "    <tr>\n",
       "      <th>112</th>\n",
       "      <td>14.1</td>\n",
       "    </tr>\n",
       "    <tr>\n",
       "      <th>6</th>\n",
       "      <td>11.8</td>\n",
       "    </tr>\n",
       "    <tr>\n",
       "      <th>14</th>\n",
       "      <td>19.0</td>\n",
       "    </tr>\n",
       "    <tr>\n",
       "      <th>190</th>\n",
       "      <td>10.8</td>\n",
       "    </tr>\n",
       "    <tr>\n",
       "      <th>80</th>\n",
       "      <td>11.8</td>\n",
       "    </tr>\n",
       "    <tr>\n",
       "      <th>18</th>\n",
       "      <td>11.3</td>\n",
       "    </tr>\n",
       "    <tr>\n",
       "      <th>167</th>\n",
       "      <td>12.2</td>\n",
       "    </tr>\n",
       "    <tr>\n",
       "      <th>45</th>\n",
       "      <td>14.9</td>\n",
       "    </tr>\n",
       "    <tr>\n",
       "      <th>153</th>\n",
       "      <td>19.0</td>\n",
       "    </tr>\n",
       "    <tr>\n",
       "      <th>119</th>\n",
       "      <td>6.6</td>\n",
       "    </tr>\n",
       "    <tr>\n",
       "      <th>100</th>\n",
       "      <td>11.7</td>\n",
       "    </tr>\n",
       "    <tr>\n",
       "      <th>83</th>\n",
       "      <td>13.6</td>\n",
       "    </tr>\n",
       "    <tr>\n",
       "      <th>181</th>\n",
       "      <td>12.2</td>\n",
       "    </tr>\n",
       "    <tr>\n",
       "      <th>71</th>\n",
       "      <td>12.4</td>\n",
       "    </tr>\n",
       "    <tr>\n",
       "      <th>26</th>\n",
       "      <td>15.0</td>\n",
       "    </tr>\n",
       "    <tr>\n",
       "      <th>134</th>\n",
       "      <td>10.8</td>\n",
       "    </tr>\n",
       "    <tr>\n",
       "      <th>180</th>\n",
       "      <td>10.5</td>\n",
       "    </tr>\n",
       "    <tr>\n",
       "      <th>158</th>\n",
       "      <td>7.3</td>\n",
       "    </tr>\n",
       "    <tr>\n",
       "      <th>189</th>\n",
       "      <td>6.7</td>\n",
       "    </tr>\n",
       "    <tr>\n",
       "      <th>89</th>\n",
       "      <td>16.7</td>\n",
       "    </tr>\n",
       "    <tr>\n",
       "      <th>48</th>\n",
       "      <td>14.8</td>\n",
       "    </tr>\n",
       "    <tr>\n",
       "      <th>116</th>\n",
       "      <td>12.2</td>\n",
       "    </tr>\n",
       "    <tr>\n",
       "      <th>12</th>\n",
       "      <td>9.2</td>\n",
       "    </tr>\n",
       "    <tr>\n",
       "      <th>69</th>\n",
       "      <td>22.3</td>\n",
       "    </tr>\n",
       "    <tr>\n",
       "      <th>110</th>\n",
       "      <td>13.4</td>\n",
       "    </tr>\n",
       "    <tr>\n",
       "      <th>154</th>\n",
       "      <td>15.6</td>\n",
       "    </tr>\n",
       "    <tr>\n",
       "      <th>16</th>\n",
       "      <td>12.5</td>\n",
       "    </tr>\n",
       "    <tr>\n",
       "      <th>19</th>\n",
       "      <td>14.6</td>\n",
       "    </tr>\n",
       "    <tr>\n",
       "      <th>2</th>\n",
       "      <td>9.3</td>\n",
       "    </tr>\n",
       "    <tr>\n",
       "      <th>143</th>\n",
       "      <td>10.4</td>\n",
       "    </tr>\n",
       "    <tr>\n",
       "      <th>185</th>\n",
       "      <td>22.6</td>\n",
       "    </tr>\n",
       "    <tr>\n",
       "      <th>29</th>\n",
       "      <td>10.5</td>\n",
       "    </tr>\n",
       "    <tr>\n",
       "      <th>155</th>\n",
       "      <td>3.2</td>\n",
       "    </tr>\n",
       "    <tr>\n",
       "      <th>24</th>\n",
       "      <td>9.7</td>\n",
       "    </tr>\n",
       "  </tbody>\n",
       "</table>\n",
       "</div>"
      ],
      "text/plain": [
       "     Sales\n",
       "11    17.4\n",
       "99    17.2\n",
       "128   24.7\n",
       "175   27.0\n",
       "1     10.4\n",
       "111   21.8\n",
       "90    11.2\n",
       "177   11.7\n",
       "88    12.9\n",
       "187   17.3\n",
       "61    24.2\n",
       "199   13.4\n",
       "191    9.9\n",
       "123   15.2\n",
       "184   17.6\n",
       "188   15.9\n",
       "33    17.4\n",
       "171   14.5\n",
       "138    9.6\n",
       "84    21.7\n",
       "81    12.3\n",
       "102   14.8\n",
       "147   25.4\n",
       "34     9.5\n",
       "47    23.2\n",
       "124   19.7\n",
       "112   14.1\n",
       "6     11.8\n",
       "14    19.0\n",
       "190   10.8\n",
       "80    11.8\n",
       "18    11.3\n",
       "167   12.2\n",
       "45    14.9\n",
       "153   19.0\n",
       "119    6.6\n",
       "100   11.7\n",
       "83    13.6\n",
       "181   12.2\n",
       "71    12.4\n",
       "26    15.0\n",
       "134   10.8\n",
       "180   10.5\n",
       "158    7.3\n",
       "189    6.7\n",
       "89    16.7\n",
       "48    14.8\n",
       "116   12.2\n",
       "12     9.2\n",
       "69    22.3\n",
       "110   13.4\n",
       "154   15.6\n",
       "16    12.5\n",
       "19    14.6\n",
       "2      9.3\n",
       "143   10.4\n",
       "185   22.6\n",
       "29    10.5\n",
       "155    3.2\n",
       "24     9.7"
      ]
     },
     "execution_count": 69,
     "metadata": {},
     "output_type": "execute_result"
    }
   ],
   "source": [
    "ytest"
   ]
  },
  {
   "cell_type": "code",
   "execution_count": null,
   "id": "28ef0b90",
   "metadata": {},
   "outputs": [],
   "source": []
  }
 ],
 "metadata": {
  "kernelspec": {
   "display_name": "Python 3 (ipykernel)",
   "language": "python",
   "name": "python3"
  },
  "language_info": {
   "codemirror_mode": {
    "name": "ipython",
    "version": 3
   },
   "file_extension": ".py",
   "mimetype": "text/x-python",
   "name": "python",
   "nbconvert_exporter": "python",
   "pygments_lexer": "ipython3",
   "version": "3.9.7"
  }
 },
 "nbformat": 4,
 "nbformat_minor": 5
}
