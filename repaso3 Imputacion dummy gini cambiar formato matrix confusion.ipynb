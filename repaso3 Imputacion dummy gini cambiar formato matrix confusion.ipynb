{
 "cells": [
  {
   "cell_type": "markdown",
   "id": "c1bbb4db",
   "metadata": {},
   "source": [
    "* [1. importando librerias](#section1)\n",
    "* [2. Cargando mi DataFrame](#section2)\n",
    " * [2.1 descripcion de mi DataFrame](#section21)\n",
    " * [2.2 Informacion de mi DataFrame](#section22)\n",
    " * [2.3 Visualizacion de Valores Nulos](#section23)\n",
    " * [2.4 Imputacion](#section24)\n",
    "   * [2.4.1 Imputacion por la mediana \"linea_sf\"](#section241)\n",
    "   * [2.4.2 Imputacion por la mediana \"deuda_sf\"](#section242)\n",
    "   * [2.4.3 Imputacion por la mediana \"exp_sf\"](#section243)\n",
    "* [3 Valores atipicos o outliers](#section3)\n",
    " * [3.1 Grafica de Cajas](#section31)\n",
    " * [3.2 Acotacion por percentiles](#section32)\n",
    "* [4. Creacion de Variables dummy](#section4)\n",
    " * [4.1 Variables predictoras](#section41)\n",
    " * [4.2  Variable target](#section42)\n",
    "   * [4.2.1  Cambiar de formato a la variable target 'mora'](#section421)\n",
    "* [5. Particion en train y test](#section5)\n",
    "* [6. Metricas](#section6)\n",
    " * [6.1 Gini](#section61)\n",
    "   * [6.1.1 Forma_1](#section611)\n",
    "   * [6.1.2 Forma_2](#section612)\n",
    " * [6.2 Matrix de Confusion](#section62)\n",
    "   * [6.2.1 Creando tablita](#section621)\n",
    "     * [6.2.1.1 Calculando](#section6211)\n",
    "     * [6.2.1.2 Codigo](#section6212)\n"
   ]
  },
  {
   "cell_type": "markdown",
   "id": "fe20e312",
   "metadata": {},
   "source": [
    "<a id=\"section1\"></a>\n",
    "## <font color=\"#004D7F\">1. importando librerias</font>"
   ]
  },
  {
   "cell_type": "code",
   "execution_count": 1,
   "id": "d58ab515",
   "metadata": {},
   "outputs": [],
   "source": [
    "import pandas as pd \n",
    "import numpy as np\n",
    "import matplotlib.pyplot as plt\n",
    "import os "
   ]
  },
  {
   "cell_type": "markdown",
   "id": "222bb01c",
   "metadata": {},
   "source": [
    "<a id=\"section2\"></a>\n",
    "## <font color=\"#004D7F\">2. Cargando mi DataFrame</font>"
   ]
  },
  {
   "cell_type": "code",
   "execution_count": 2,
   "id": "76c8ccba",
   "metadata": {},
   "outputs": [],
   "source": [
    "df=pd.read_csv(\"Datos_unalm/data.csv\")"
   ]
  },
  {
   "cell_type": "code",
   "execution_count": 3,
   "id": "abef6fbc",
   "metadata": {},
   "outputs": [
    {
     "data": {
      "text/html": [
       "<div>\n",
       "<style scoped>\n",
       "    .dataframe tbody tr th:only-of-type {\n",
       "        vertical-align: middle;\n",
       "    }\n",
       "\n",
       "    .dataframe tbody tr th {\n",
       "        vertical-align: top;\n",
       "    }\n",
       "\n",
       "    .dataframe thead th {\n",
       "        text-align: right;\n",
       "    }\n",
       "</style>\n",
       "<table border=\"1\" class=\"dataframe\">\n",
       "  <thead>\n",
       "    <tr style=\"text-align: right;\">\n",
       "      <th></th>\n",
       "      <th>mora</th>\n",
       "      <th>atraso</th>\n",
       "      <th>vivienda</th>\n",
       "      <th>edad</th>\n",
       "      <th>dias_lab</th>\n",
       "      <th>exp_sf</th>\n",
       "      <th>nivel_ahorro</th>\n",
       "      <th>ingreso</th>\n",
       "      <th>linea_sf</th>\n",
       "      <th>deuda_sf</th>\n",
       "      <th>score</th>\n",
       "      <th>zona</th>\n",
       "      <th>clasif_sbs</th>\n",
       "      <th>nivel_educ</th>\n",
       "    </tr>\n",
       "  </thead>\n",
       "  <tbody>\n",
       "    <tr>\n",
       "      <th>0</th>\n",
       "      <td>0</td>\n",
       "      <td>235</td>\n",
       "      <td>FAMILIAR</td>\n",
       "      <td>30</td>\n",
       "      <td>3748</td>\n",
       "      <td>93.0</td>\n",
       "      <td>5</td>\n",
       "      <td>3500.0</td>\n",
       "      <td>NaN</td>\n",
       "      <td>0.00</td>\n",
       "      <td>214</td>\n",
       "      <td>Lima</td>\n",
       "      <td>4</td>\n",
       "      <td>UNIVERSITARIA</td>\n",
       "    </tr>\n",
       "    <tr>\n",
       "      <th>1</th>\n",
       "      <td>0</td>\n",
       "      <td>18</td>\n",
       "      <td>FAMILIAR</td>\n",
       "      <td>32</td>\n",
       "      <td>4598</td>\n",
       "      <td>9.0</td>\n",
       "      <td>12</td>\n",
       "      <td>900.0</td>\n",
       "      <td>1824.67</td>\n",
       "      <td>1933.75</td>\n",
       "      <td>175</td>\n",
       "      <td>La Libertad</td>\n",
       "      <td>1</td>\n",
       "      <td>TECNICA</td>\n",
       "    </tr>\n",
       "    <tr>\n",
       "      <th>2</th>\n",
       "      <td>0</td>\n",
       "      <td>0</td>\n",
       "      <td>FAMILIAR</td>\n",
       "      <td>26</td>\n",
       "      <td>5148</td>\n",
       "      <td>8.0</td>\n",
       "      <td>2</td>\n",
       "      <td>2400.0</td>\n",
       "      <td>2797.38</td>\n",
       "      <td>188.29</td>\n",
       "      <td>187</td>\n",
       "      <td>Lima</td>\n",
       "      <td>0</td>\n",
       "      <td>UNIVERSITARIA</td>\n",
       "    </tr>\n",
       "    <tr>\n",
       "      <th>3</th>\n",
       "      <td>0</td>\n",
       "      <td>0</td>\n",
       "      <td>FAMILIAR</td>\n",
       "      <td>36</td>\n",
       "      <td>5179</td>\n",
       "      <td>20.0</td>\n",
       "      <td>12</td>\n",
       "      <td>2700.0</td>\n",
       "      <td>NaN</td>\n",
       "      <td>0.00</td>\n",
       "      <td>187</td>\n",
       "      <td>Ancash</td>\n",
       "      <td>0</td>\n",
       "      <td>TECNICA</td>\n",
       "    </tr>\n",
       "    <tr>\n",
       "      <th>4</th>\n",
       "      <td>0</td>\n",
       "      <td>0</td>\n",
       "      <td>FAMILIAR</td>\n",
       "      <td>46</td>\n",
       "      <td>3960</td>\n",
       "      <td>NaN</td>\n",
       "      <td>1</td>\n",
       "      <td>3100.0</td>\n",
       "      <td>2000.00</td>\n",
       "      <td>11010.65</td>\n",
       "      <td>189</td>\n",
       "      <td>Lima</td>\n",
       "      <td>0</td>\n",
       "      <td>TECNICA</td>\n",
       "    </tr>\n",
       "  </tbody>\n",
       "</table>\n",
       "</div>"
      ],
      "text/plain": [
       "   mora  atraso  vivienda  edad  dias_lab  exp_sf  nivel_ahorro  ingreso  \\\n",
       "0     0     235  FAMILIAR    30      3748    93.0             5   3500.0   \n",
       "1     0      18  FAMILIAR    32      4598     9.0            12    900.0   \n",
       "2     0       0  FAMILIAR    26      5148     8.0             2   2400.0   \n",
       "3     0       0  FAMILIAR    36      5179    20.0            12   2700.0   \n",
       "4     0       0  FAMILIAR    46      3960     NaN             1   3100.0   \n",
       "\n",
       "   linea_sf  deuda_sf  score         zona  clasif_sbs     nivel_educ  \n",
       "0       NaN      0.00    214         Lima           4  UNIVERSITARIA  \n",
       "1   1824.67   1933.75    175  La Libertad           1        TECNICA  \n",
       "2   2797.38    188.29    187         Lima           0  UNIVERSITARIA  \n",
       "3       NaN      0.00    187       Ancash           0        TECNICA  \n",
       "4   2000.00  11010.65    189         Lima           0        TECNICA  "
      ]
     },
     "execution_count": 3,
     "metadata": {},
     "output_type": "execute_result"
    }
   ],
   "source": [
    "df.head(5)"
   ]
  },
  {
   "cell_type": "markdown",
   "id": "73093cda",
   "metadata": {},
   "source": [
    "<a id=\"section21\"></a>\n",
    "## <font color=\"#004D7F\">2.1 descripcion de mi DataFrame</font>"
   ]
  },
  {
   "cell_type": "code",
   "execution_count": 4,
   "id": "04ef2aa0",
   "metadata": {},
   "outputs": [
    {
     "data": {
      "text/html": [
       "<div>\n",
       "<style scoped>\n",
       "    .dataframe tbody tr th:only-of-type {\n",
       "        vertical-align: middle;\n",
       "    }\n",
       "\n",
       "    .dataframe tbody tr th {\n",
       "        vertical-align: top;\n",
       "    }\n",
       "\n",
       "    .dataframe thead th {\n",
       "        text-align: right;\n",
       "    }\n",
       "</style>\n",
       "<table border=\"1\" class=\"dataframe\">\n",
       "  <thead>\n",
       "    <tr style=\"text-align: right;\">\n",
       "      <th></th>\n",
       "      <th>mora</th>\n",
       "      <th>atraso</th>\n",
       "      <th>edad</th>\n",
       "      <th>dias_lab</th>\n",
       "      <th>exp_sf</th>\n",
       "      <th>nivel_ahorro</th>\n",
       "      <th>ingreso</th>\n",
       "      <th>linea_sf</th>\n",
       "      <th>deuda_sf</th>\n",
       "      <th>score</th>\n",
       "      <th>clasif_sbs</th>\n",
       "    </tr>\n",
       "  </thead>\n",
       "  <tbody>\n",
       "    <tr>\n",
       "      <th>count</th>\n",
       "      <td>8399.000000</td>\n",
       "      <td>8399.00000</td>\n",
       "      <td>8399.000000</td>\n",
       "      <td>8399.000000</td>\n",
       "      <td>6569.000000</td>\n",
       "      <td>8399.000000</td>\n",
       "      <td>8399.000000</td>\n",
       "      <td>7272.000000</td>\n",
       "      <td>7938.000000</td>\n",
       "      <td>8399.000000</td>\n",
       "      <td>8399.000000</td>\n",
       "    </tr>\n",
       "    <tr>\n",
       "      <th>mean</th>\n",
       "      <td>0.704251</td>\n",
       "      <td>4.46315</td>\n",
       "      <td>36.399095</td>\n",
       "      <td>5555.888796</td>\n",
       "      <td>32.401583</td>\n",
       "      <td>10.593166</td>\n",
       "      <td>4350.406997</td>\n",
       "      <td>11987.241038</td>\n",
       "      <td>6110.724308</td>\n",
       "      <td>196.619955</td>\n",
       "      <td>0.563519</td>\n",
       "    </tr>\n",
       "    <tr>\n",
       "      <th>std</th>\n",
       "      <td>0.456406</td>\n",
       "      <td>14.27084</td>\n",
       "      <td>9.825764</td>\n",
       "      <td>2153.244140</td>\n",
       "      <td>32.866232</td>\n",
       "      <td>3.374619</td>\n",
       "      <td>5367.058953</td>\n",
       "      <td>21322.801655</td>\n",
       "      <td>11177.989799</td>\n",
       "      <td>19.544348</td>\n",
       "      <td>0.905637</td>\n",
       "    </tr>\n",
       "    <tr>\n",
       "      <th>min</th>\n",
       "      <td>0.000000</td>\n",
       "      <td>0.00000</td>\n",
       "      <td>20.000000</td>\n",
       "      <td>2956.000000</td>\n",
       "      <td>0.000000</td>\n",
       "      <td>0.000000</td>\n",
       "      <td>123.700000</td>\n",
       "      <td>0.000000</td>\n",
       "      <td>0.000000</td>\n",
       "      <td>134.000000</td>\n",
       "      <td>0.000000</td>\n",
       "    </tr>\n",
       "    <tr>\n",
       "      <th>25%</th>\n",
       "      <td>0.000000</td>\n",
       "      <td>0.00000</td>\n",
       "      <td>29.000000</td>\n",
       "      <td>4174.000000</td>\n",
       "      <td>7.000000</td>\n",
       "      <td>12.000000</td>\n",
       "      <td>1366.670000</td>\n",
       "      <td>1169.372500</td>\n",
       "      <td>478.320000</td>\n",
       "      <td>182.000000</td>\n",
       "      <td>0.000000</td>\n",
       "    </tr>\n",
       "    <tr>\n",
       "      <th>50%</th>\n",
       "      <td>1.000000</td>\n",
       "      <td>0.00000</td>\n",
       "      <td>34.000000</td>\n",
       "      <td>4904.000000</td>\n",
       "      <td>20.000000</td>\n",
       "      <td>12.000000</td>\n",
       "      <td>2400.000000</td>\n",
       "      <td>4030.120000</td>\n",
       "      <td>2258.755000</td>\n",
       "      <td>197.000000</td>\n",
       "      <td>0.000000</td>\n",
       "    </tr>\n",
       "    <tr>\n",
       "      <th>75%</th>\n",
       "      <td>1.000000</td>\n",
       "      <td>2.00000</td>\n",
       "      <td>42.000000</td>\n",
       "      <td>6182.000000</td>\n",
       "      <td>51.000000</td>\n",
       "      <td>12.000000</td>\n",
       "      <td>4900.000000</td>\n",
       "      <td>12086.627500</td>\n",
       "      <td>5755.150000</td>\n",
       "      <td>212.000000</td>\n",
       "      <td>1.000000</td>\n",
       "    </tr>\n",
       "    <tr>\n",
       "      <th>max</th>\n",
       "      <td>1.000000</td>\n",
       "      <td>245.00000</td>\n",
       "      <td>85.000000</td>\n",
       "      <td>20700.000000</td>\n",
       "      <td>130.000000</td>\n",
       "      <td>12.000000</td>\n",
       "      <td>30000.000000</td>\n",
       "      <td>121543.400000</td>\n",
       "      <td>57094.380000</td>\n",
       "      <td>266.000000</td>\n",
       "      <td>4.000000</td>\n",
       "    </tr>\n",
       "  </tbody>\n",
       "</table>\n",
       "</div>"
      ],
      "text/plain": [
       "              mora      atraso         edad      dias_lab       exp_sf  \\\n",
       "count  8399.000000  8399.00000  8399.000000   8399.000000  6569.000000   \n",
       "mean      0.704251     4.46315    36.399095   5555.888796    32.401583   \n",
       "std       0.456406    14.27084     9.825764   2153.244140    32.866232   \n",
       "min       0.000000     0.00000    20.000000   2956.000000     0.000000   \n",
       "25%       0.000000     0.00000    29.000000   4174.000000     7.000000   \n",
       "50%       1.000000     0.00000    34.000000   4904.000000    20.000000   \n",
       "75%       1.000000     2.00000    42.000000   6182.000000    51.000000   \n",
       "max       1.000000   245.00000    85.000000  20700.000000   130.000000   \n",
       "\n",
       "       nivel_ahorro       ingreso       linea_sf      deuda_sf        score  \\\n",
       "count   8399.000000   8399.000000    7272.000000   7938.000000  8399.000000   \n",
       "mean      10.593166   4350.406997   11987.241038   6110.724308   196.619955   \n",
       "std        3.374619   5367.058953   21322.801655  11177.989799    19.544348   \n",
       "min        0.000000    123.700000       0.000000      0.000000   134.000000   \n",
       "25%       12.000000   1366.670000    1169.372500    478.320000   182.000000   \n",
       "50%       12.000000   2400.000000    4030.120000   2258.755000   197.000000   \n",
       "75%       12.000000   4900.000000   12086.627500   5755.150000   212.000000   \n",
       "max       12.000000  30000.000000  121543.400000  57094.380000   266.000000   \n",
       "\n",
       "        clasif_sbs  \n",
       "count  8399.000000  \n",
       "mean      0.563519  \n",
       "std       0.905637  \n",
       "min       0.000000  \n",
       "25%       0.000000  \n",
       "50%       0.000000  \n",
       "75%       1.000000  \n",
       "max       4.000000  "
      ]
     },
     "execution_count": 4,
     "metadata": {},
     "output_type": "execute_result"
    }
   ],
   "source": [
    "df.describe()"
   ]
  },
  {
   "cell_type": "code",
   "execution_count": 5,
   "id": "5b0f4cc9",
   "metadata": {},
   "outputs": [
    {
     "data": {
      "text/plain": [
       "12    6619\n",
       "0      487\n",
       "11     330\n",
       "10     168\n",
       "9      128\n",
       "8      102\n",
       "4      102\n",
       "6       94\n",
       "1       89\n",
       "2       75\n",
       "7       75\n",
       "5       70\n",
       "3       60\n",
       "Name: nivel_ahorro, dtype: int64"
      ]
     },
     "execution_count": 5,
     "metadata": {},
     "output_type": "execute_result"
    }
   ],
   "source": [
    "df.nivel_ahorro.value_counts()"
   ]
  },
  {
   "cell_type": "markdown",
   "id": "e3800ed4",
   "metadata": {},
   "source": [
    "#### Descripcion:\n",
    "la variable target:\n",
    "\n",
    "y= 0:moroso  1:no es moroso.\n",
    "\n",
    "las variables predictoras:\n",
    "\n",
    "1.atraso : meses de atraso<br>\n",
    "2.vivienda:<br> \n",
    "3.edad<br>\n",
    "4.dias laborales: dias_lab<br>\n",
    "5.nivel de ahorro: rango 1-12<br>\n",
    "6.ingreso:<br>\n",
    "7.linea_sf<br>\n",
    "8.deuda_sf<br>\n",
    "9.score<br>\n",
    "10.clasif_sbs"
   ]
  },
  {
   "cell_type": "code",
   "execution_count": 6,
   "id": "56832c25",
   "metadata": {},
   "outputs": [
    {
     "data": {
      "text/plain": [
       "(8399, 14)"
      ]
     },
     "execution_count": 6,
     "metadata": {},
     "output_type": "execute_result"
    }
   ],
   "source": [
    "df.shape"
   ]
  },
  {
   "cell_type": "markdown",
   "id": "04437fe4",
   "metadata": {},
   "source": [
    "<a id=\"section22\"></a>\n",
    "## <font color=\"#004D7F\">2.2 Informacion de mi DataFrame</font>"
   ]
  },
  {
   "cell_type": "code",
   "execution_count": 7,
   "id": "61629502",
   "metadata": {},
   "outputs": [
    {
     "name": "stdout",
     "output_type": "stream",
     "text": [
      "<class 'pandas.core.frame.DataFrame'>\n",
      "RangeIndex: 8399 entries, 0 to 8398\n",
      "Data columns (total 14 columns):\n",
      " #   Column        Non-Null Count  Dtype  \n",
      "---  ------        --------------  -----  \n",
      " 0   mora          8399 non-null   int64  \n",
      " 1   atraso        8399 non-null   int64  \n",
      " 2   vivienda      8399 non-null   object \n",
      " 3   edad          8399 non-null   int64  \n",
      " 4   dias_lab      8399 non-null   int64  \n",
      " 5   exp_sf        6569 non-null   float64\n",
      " 6   nivel_ahorro  8399 non-null   int64  \n",
      " 7   ingreso       8399 non-null   float64\n",
      " 8   linea_sf      7272 non-null   float64\n",
      " 9   deuda_sf      7938 non-null   float64\n",
      " 10  score         8399 non-null   int64  \n",
      " 11  zona          8399 non-null   object \n",
      " 12  clasif_sbs    8399 non-null   int64  \n",
      " 13  nivel_educ    8399 non-null   object \n",
      "dtypes: float64(4), int64(7), object(3)\n",
      "memory usage: 918.8+ KB\n"
     ]
    }
   ],
   "source": [
    "df.info()"
   ]
  },
  {
   "cell_type": "code",
   "execution_count": 8,
   "id": "feb9221a",
   "metadata": {},
   "outputs": [
    {
     "data": {
      "text/plain": [
       "mora              int64\n",
       "atraso            int64\n",
       "vivienda         object\n",
       "edad              int64\n",
       "dias_lab          int64\n",
       "exp_sf          float64\n",
       "nivel_ahorro      int64\n",
       "ingreso         float64\n",
       "linea_sf        float64\n",
       "deuda_sf        float64\n",
       "score             int64\n",
       "zona             object\n",
       "clasif_sbs        int64\n",
       "nivel_educ       object\n",
       "dtype: object"
      ]
     },
     "execution_count": 8,
     "metadata": {},
     "output_type": "execute_result"
    }
   ],
   "source": [
    "df.dtypes"
   ]
  },
  {
   "cell_type": "markdown",
   "id": "33cada76",
   "metadata": {},
   "source": [
    "<a id=\"section23\"></a>\n",
    "## <font color=\"#004D7F\">2.3 Visualizacion de Valores Nulos</font>"
   ]
  },
  {
   "cell_type": "code",
   "execution_count": 9,
   "id": "33a25208",
   "metadata": {},
   "outputs": [
    {
     "data": {
      "text/plain": [
       "<AxesSubplot:>"
      ]
     },
     "execution_count": 9,
     "metadata": {},
     "output_type": "execute_result"
    },
    {
     "data": {
      "image/png": "[encoded data removed]",
      "text/plain": [
       "<Figure size 1800x720 with 3 Axes>"
      ]
     },
     "metadata": {
      "needs_background": "light"
     },
     "output_type": "display_data"
    }
   ],
   "source": [
    "import missingno as msno\n",
    "msno.bar(df)"
   ]
  },
  {
   "cell_type": "code",
   "execution_count": 10,
   "id": "d02f0a44",
   "metadata": {},
   "outputs": [
    {
     "data": {
      "text/plain": [
       "mora               0\n",
       "atraso             0\n",
       "vivienda           0\n",
       "edad               0\n",
       "dias_lab           0\n",
       "exp_sf          1830\n",
       "nivel_ahorro       0\n",
       "ingreso            0\n",
       "linea_sf        1127\n",
       "deuda_sf         461\n",
       "score              0\n",
       "zona               0\n",
       "clasif_sbs         0\n",
       "nivel_educ         0\n",
       "dtype: int64"
      ]
     },
     "execution_count": 10,
     "metadata": {},
     "output_type": "execute_result"
    }
   ],
   "source": [
    "df.isnull().sum()"
   ]
  },
  {
   "cell_type": "code",
   "execution_count": 11,
   "id": "e3b0b34f",
   "metadata": {},
   "outputs": [
    {
     "data": {
      "text/plain": [
       "Index(['mora', 'atraso', 'vivienda', 'edad', 'dias_lab', 'exp_sf',\n",
       "       'nivel_ahorro', 'ingreso', 'linea_sf', 'deuda_sf', 'score', 'zona',\n",
       "       'clasif_sbs', 'nivel_educ'],\n",
       "      dtype='object')"
      ]
     },
     "execution_count": 11,
     "metadata": {},
     "output_type": "execute_result"
    }
   ],
   "source": [
    "df.columns"
   ]
  },
  {
   "cell_type": "markdown",
   "id": "5d2c7cdf",
   "metadata": {},
   "source": [
    "<a id=\"section24\"></a>\n",
    "## <font color=\"#004D7F\">2.4 Imputacion</font>"
   ]
  },
  {
   "cell_type": "markdown",
   "id": "55b0d60e",
   "metadata": {},
   "source": [
    "<a id=\"section241\"></a>\n",
    "## <font color=\"#004D7F\">2.4.1 Imputacion por la mediana \"linea_sf\"</font>"
   ]
  },
  {
   "cell_type": "code",
   "execution_count": 12,
   "id": "4db05dc6",
   "metadata": {},
   "outputs": [
    {
     "data": {
      "text/plain": [
       "<AxesSubplot:>"
      ]
     },
     "execution_count": 12,
     "metadata": {},
     "output_type": "execute_result"
    },
    {
     "data": {
      "image/png": "[encoded data removed]",
      "text/plain": [
       "<Figure size 432x288 with 1 Axes>"
      ]
     },
     "metadata": {
      "needs_background": "light"
     },
     "output_type": "display_data"
    }
   ],
   "source": [
    "df.linea_sf.hist()"
   ]
  },
  {
   "cell_type": "code",
   "execution_count": 13,
   "id": "1a817de0",
   "metadata": {},
   "outputs": [],
   "source": [
    "df1=df"
   ]
  },
  {
   "cell_type": "code",
   "execution_count": 14,
   "id": "0178b24b",
   "metadata": {},
   "outputs": [
    {
     "data": {
      "text/plain": [
       "count      7272.000000\n",
       "mean      11987.241038\n",
       "std       21322.801655\n",
       "min           0.000000\n",
       "25%        1169.372500\n",
       "50%        4030.120000\n",
       "75%       12086.627500\n",
       "max      121543.400000\n",
       "Name: linea_sf, dtype: float64"
      ]
     },
     "execution_count": 14,
     "metadata": {},
     "output_type": "execute_result"
    }
   ],
   "source": [
    "df1.linea_sf.describe()"
   ]
  },
  {
   "cell_type": "markdown",
   "id": "49634f48",
   "metadata": {},
   "source": [
    "#### Imputamos por la mediana ya que toma valores de un rango de [0 : 121543.400000 ] ademas la std es 21322.801655"
   ]
  },
  {
   "cell_type": "code",
   "execution_count": 15,
   "id": "b4046aa7",
   "metadata": {},
   "outputs": [],
   "source": [
    "df1[\"mediana_linea_sf\"]=df1[\"linea_sf\"].fillna(df1[\"linea_sf\"].median())"
   ]
  },
  {
   "cell_type": "code",
   "execution_count": 16,
   "id": "37041fd1",
   "metadata": {},
   "outputs": [
    {
     "data": {
      "text/plain": [
       "<AxesSubplot:>"
      ]
     },
     "execution_count": 16,
     "metadata": {},
     "output_type": "execute_result"
    },
    {
     "data": {
      "image/png": "[encoded data removed]",
      "text/plain": [
       "<Figure size 432x288 with 1 Axes>"
      ]
     },
     "metadata": {
      "needs_background": "light"
     },
     "output_type": "display_data"
    }
   ],
   "source": [
    "df1.mediana_linea_sf.hist()"
   ]
  },
  {
   "cell_type": "code",
   "execution_count": 17,
   "id": "7303a539",
   "metadata": {},
   "outputs": [
    {
     "data": {
      "text/plain": [
       "0"
      ]
     },
     "execution_count": 17,
     "metadata": {},
     "output_type": "execute_result"
    }
   ],
   "source": [
    "df1.mediana_linea_sf.isnull().sum()"
   ]
  },
  {
   "cell_type": "code",
   "execution_count": 18,
   "id": "fa79a0bd",
   "metadata": {},
   "outputs": [
    {
     "data": {
      "text/plain": [
       "1127"
      ]
     },
     "execution_count": 18,
     "metadata": {},
     "output_type": "execute_result"
    }
   ],
   "source": [
    "df1.linea_sf.isnull().sum()"
   ]
  },
  {
   "cell_type": "markdown",
   "id": "d6e8a161",
   "metadata": {},
   "source": [
    "<a id=\"section242\"></a>\n",
    "## <font color=\"#004D7F\">2.4.2 Imputacion por la mediana \"deuda_sf\"</font>"
   ]
  },
  {
   "cell_type": "code",
   "execution_count": 19,
   "id": "3bafda91",
   "metadata": {},
   "outputs": [
    {
     "data": {
      "text/plain": [
       "<AxesSubplot:>"
      ]
     },
     "execution_count": 19,
     "metadata": {},
     "output_type": "execute_result"
    },
    {
     "data": {
      "image/png": "[encoded data removed]",
      "text/plain": [
       "<Figure size 432x288 with 1 Axes>"
      ]
     },
     "metadata": {
      "needs_background": "light"
     },
     "output_type": "display_data"
    }
   ],
   "source": [
    "df.deuda_sf.hist()"
   ]
  },
  {
   "cell_type": "code",
   "execution_count": 20,
   "id": "f09e2d81",
   "metadata": {},
   "outputs": [],
   "source": [
    "df2=df1"
   ]
  },
  {
   "cell_type": "code",
   "execution_count": 21,
   "id": "2e26f1a4",
   "metadata": {},
   "outputs": [
    {
     "data": {
      "text/html": [
       "<div>\n",
       "<style scoped>\n",
       "    .dataframe tbody tr th:only-of-type {\n",
       "        vertical-align: middle;\n",
       "    }\n",
       "\n",
       "    .dataframe tbody tr th {\n",
       "        vertical-align: top;\n",
       "    }\n",
       "\n",
       "    .dataframe thead th {\n",
       "        text-align: right;\n",
       "    }\n",
       "</style>\n",
       "<table border=\"1\" class=\"dataframe\">\n",
       "  <thead>\n",
       "    <tr style=\"text-align: right;\">\n",
       "      <th></th>\n",
       "      <th>mora</th>\n",
       "      <th>atraso</th>\n",
       "      <th>vivienda</th>\n",
       "      <th>edad</th>\n",
       "      <th>dias_lab</th>\n",
       "      <th>exp_sf</th>\n",
       "      <th>nivel_ahorro</th>\n",
       "      <th>ingreso</th>\n",
       "      <th>linea_sf</th>\n",
       "      <th>deuda_sf</th>\n",
       "      <th>score</th>\n",
       "      <th>zona</th>\n",
       "      <th>clasif_sbs</th>\n",
       "      <th>nivel_educ</th>\n",
       "      <th>mediana_linea_sf</th>\n",
       "    </tr>\n",
       "  </thead>\n",
       "  <tbody>\n",
       "    <tr>\n",
       "      <th>0</th>\n",
       "      <td>0</td>\n",
       "      <td>235</td>\n",
       "      <td>FAMILIAR</td>\n",
       "      <td>30</td>\n",
       "      <td>3748</td>\n",
       "      <td>93.0</td>\n",
       "      <td>5</td>\n",
       "      <td>3500.0</td>\n",
       "      <td>NaN</td>\n",
       "      <td>0.00</td>\n",
       "      <td>214</td>\n",
       "      <td>Lima</td>\n",
       "      <td>4</td>\n",
       "      <td>UNIVERSITARIA</td>\n",
       "      <td>4030.12</td>\n",
       "    </tr>\n",
       "    <tr>\n",
       "      <th>1</th>\n",
       "      <td>0</td>\n",
       "      <td>18</td>\n",
       "      <td>FAMILIAR</td>\n",
       "      <td>32</td>\n",
       "      <td>4598</td>\n",
       "      <td>9.0</td>\n",
       "      <td>12</td>\n",
       "      <td>900.0</td>\n",
       "      <td>1824.67</td>\n",
       "      <td>1933.75</td>\n",
       "      <td>175</td>\n",
       "      <td>La Libertad</td>\n",
       "      <td>1</td>\n",
       "      <td>TECNICA</td>\n",
       "      <td>1824.67</td>\n",
       "    </tr>\n",
       "  </tbody>\n",
       "</table>\n",
       "</div>"
      ],
      "text/plain": [
       "   mora  atraso  vivienda  edad  dias_lab  exp_sf  nivel_ahorro  ingreso  \\\n",
       "0     0     235  FAMILIAR    30      3748    93.0             5   3500.0   \n",
       "1     0      18  FAMILIAR    32      4598     9.0            12    900.0   \n",
       "\n",
       "   linea_sf  deuda_sf  score         zona  clasif_sbs     nivel_educ  \\\n",
       "0       NaN      0.00    214         Lima           4  UNIVERSITARIA   \n",
       "1   1824.67   1933.75    175  La Libertad           1        TECNICA   \n",
       "\n",
       "   mediana_linea_sf  \n",
       "0           4030.12  \n",
       "1           1824.67  "
      ]
     },
     "execution_count": 21,
     "metadata": {},
     "output_type": "execute_result"
    }
   ],
   "source": [
    "df2.head(2)"
   ]
  },
  {
   "cell_type": "code",
   "execution_count": 22,
   "id": "6ae85fbe",
   "metadata": {},
   "outputs": [
    {
     "data": {
      "text/plain": [
       "count     7938.000000\n",
       "mean      6110.724308\n",
       "std      11177.989799\n",
       "min          0.000000\n",
       "25%        478.320000\n",
       "50%       2258.755000\n",
       "75%       5755.150000\n",
       "max      57094.380000\n",
       "Name: deuda_sf, dtype: float64"
      ]
     },
     "execution_count": 22,
     "metadata": {},
     "output_type": "execute_result"
    }
   ],
   "source": [
    "df2.deuda_sf.describe()"
   ]
  },
  {
   "cell_type": "markdown",
   "id": "ac7d678d",
   "metadata": {},
   "source": [
    "#### Imputamos por la mediana ya que toma valores de un rango de [0 : 57094.380000 ] ademas la std es 11177.989799"
   ]
  },
  {
   "cell_type": "code",
   "execution_count": 23,
   "id": "b69b135d",
   "metadata": {},
   "outputs": [],
   "source": [
    "df2[\"mediana_deuda_sf\"]=df1[\"deuda_sf\"].fillna(df2[\"deuda_sf\"].median())"
   ]
  },
  {
   "cell_type": "code",
   "execution_count": 24,
   "id": "673fa95f",
   "metadata": {},
   "outputs": [
    {
     "data": {
      "text/plain": [
       "<AxesSubplot:>"
      ]
     },
     "execution_count": 24,
     "metadata": {},
     "output_type": "execute_result"
    },
    {
     "data": {
      "image/png": "[encoded data removed]",
      "text/plain": [
       "<Figure size 432x288 with 1 Axes>"
      ]
     },
     "metadata": {
      "needs_background": "light"
     },
     "output_type": "display_data"
    }
   ],
   "source": [
    "df2.mediana_deuda_sf.hist()"
   ]
  },
  {
   "cell_type": "code",
   "execution_count": 25,
   "id": "948ee87a",
   "metadata": {},
   "outputs": [
    {
     "data": {
      "text/plain": [
       "0"
      ]
     },
     "execution_count": 25,
     "metadata": {},
     "output_type": "execute_result"
    }
   ],
   "source": [
    "df2.mediana_deuda_sf.isnull().sum()"
   ]
  },
  {
   "cell_type": "code",
   "execution_count": 26,
   "id": "7598901f",
   "metadata": {},
   "outputs": [
    {
     "data": {
      "text/plain": [
       "461"
      ]
     },
     "execution_count": 26,
     "metadata": {},
     "output_type": "execute_result"
    }
   ],
   "source": [
    "df2.deuda_sf.isnull().sum()"
   ]
  },
  {
   "cell_type": "markdown",
   "id": "851103b9",
   "metadata": {},
   "source": [
    "<a id=\"section243\"></a>\n",
    "## <font color=\"#004D7F\">2.4.3 Imputacion por la mediana \"exp_sf\"</font>"
   ]
  },
  {
   "cell_type": "code",
   "execution_count": 27,
   "id": "61aba89e",
   "metadata": {},
   "outputs": [
    {
     "data": {
      "text/plain": [
       "<AxesSubplot:>"
      ]
     },
     "execution_count": 27,
     "metadata": {},
     "output_type": "execute_result"
    },
    {
     "data": {
      "image/png": "[encoded data removed]",
      "text/plain": [
       "<Figure size 432x288 with 1 Axes>"
      ]
     },
     "metadata": {
      "needs_background": "light"
     },
     "output_type": "display_data"
    }
   ],
   "source": [
    "df.exp_sf.hist()"
   ]
  },
  {
   "cell_type": "code",
   "execution_count": 28,
   "id": "48aa2427",
   "metadata": {},
   "outputs": [],
   "source": [
    "df3=df2"
   ]
  },
  {
   "cell_type": "code",
   "execution_count": 29,
   "id": "88ec1017",
   "metadata": {},
   "outputs": [
    {
     "data": {
      "text/plain": [
       "count    6569.000000\n",
       "mean       32.401583\n",
       "std        32.866232\n",
       "min         0.000000\n",
       "25%         7.000000\n",
       "50%        20.000000\n",
       "75%        51.000000\n",
       "max       130.000000\n",
       "Name: exp_sf, dtype: float64"
      ]
     },
     "execution_count": 29,
     "metadata": {},
     "output_type": "execute_result"
    }
   ],
   "source": [
    "df3.exp_sf.describe()"
   ]
  },
  {
   "cell_type": "code",
   "execution_count": 30,
   "id": "bc277956",
   "metadata": {},
   "outputs": [],
   "source": [
    "df3[\"mediana_exp_sf\"]=df2[\"exp_sf\"].fillna(df2[\"exp_sf\"].median())"
   ]
  },
  {
   "cell_type": "code",
   "execution_count": 31,
   "id": "0d7aadee",
   "metadata": {},
   "outputs": [
    {
     "data": {
      "text/plain": [
       "<AxesSubplot:>"
      ]
     },
     "execution_count": 31,
     "metadata": {},
     "output_type": "execute_result"
    },
    {
     "data": {
      "image/png": "[encoded data removed]",
      "text/plain": [
       "<Figure size 432x288 with 1 Axes>"
      ]
     },
     "metadata": {
      "needs_background": "light"
     },
     "output_type": "display_data"
    }
   ],
   "source": [
    "df3.mediana_exp_sf.hist()"
   ]
  },
  {
   "cell_type": "code",
   "execution_count": 32,
   "id": "f1e3e554",
   "metadata": {},
   "outputs": [
    {
     "data": {
      "text/plain": [
       "0"
      ]
     },
     "execution_count": 32,
     "metadata": {},
     "output_type": "execute_result"
    }
   ],
   "source": [
    "df3.mediana_exp_sf.isnull().sum()"
   ]
  },
  {
   "cell_type": "code",
   "execution_count": 33,
   "id": "21e70e93",
   "metadata": {},
   "outputs": [
    {
     "data": {
      "text/plain": [
       "1830"
      ]
     },
     "execution_count": 33,
     "metadata": {},
     "output_type": "execute_result"
    }
   ],
   "source": [
    "df.exp_sf.isnull().sum()"
   ]
  },
  {
   "cell_type": "markdown",
   "id": "b21ffd88",
   "metadata": {},
   "source": [
    "<a id=\"section3\"></a>\n",
    "## <font color=\"#004D7F\">3 Valores atipicos o outliers</font>"
   ]
  },
  {
   "cell_type": "markdown",
   "id": "0ac170d7",
   "metadata": {},
   "source": [
    "<a id=\"section31\"></a>\n",
    "## <font color=\"#004D7F\">3.1 Grafica de Cajas</font>"
   ]
  },
  {
   "cell_type": "code",
   "execution_count": 34,
   "id": "134457e1",
   "metadata": {},
   "outputs": [
    {
     "data": {
      "text/plain": [
       "<AxesSubplot:>"
      ]
     },
     "execution_count": 34,
     "metadata": {},
     "output_type": "execute_result"
    },
    {
     "data": {
      "image/png": "[encoded data removed]",
      "text/plain": [
       "<Figure size 432x288 with 1 Axes>"
      ]
     },
     "metadata": {
      "needs_background": "light"
     },
     "output_type": "display_data"
    }
   ],
   "source": [
    "df3.mediana_deuda_sf.plot.box()"
   ]
  },
  {
   "cell_type": "markdown",
   "id": "abedeb69",
   "metadata": {},
   "source": [
    "<a id=\"section32\"></a>\n",
    "## <font color=\"#004D7F\">3.2 Acotacion por percentiles</font>"
   ]
  },
  {
   "cell_type": "markdown",
   "id": "c3319823",
   "metadata": {},
   "source": [
    "####  Acotacion por los percentiles 0% y 90% "
   ]
  },
  {
   "cell_type": "code",
   "execution_count": 35,
   "id": "b23ca723",
   "metadata": {},
   "outputs": [],
   "source": [
    "cotas_mediana_deuda_sf=np.percentile(df3[-df3.mediana_deuda_sf.isnull()][\"mediana_deuda_sf\"],[0,90])"
   ]
  },
  {
   "cell_type": "code",
   "execution_count": 36,
   "id": "da494581",
   "metadata": {},
   "outputs": [
    {
     "data": {
      "text/plain": [
       "array([    0.  , 14563.87])"
      ]
     },
     "execution_count": 36,
     "metadata": {},
     "output_type": "execute_result"
    }
   ],
   "source": [
    "cotas_mediana_deuda_sf"
   ]
  },
  {
   "cell_type": "code",
   "execution_count": 37,
   "id": "07b36fc8",
   "metadata": {},
   "outputs": [
    {
     "data": {
      "text/plain": [
       "14563.87"
      ]
     },
     "execution_count": 37,
     "metadata": {},
     "output_type": "execute_result"
    }
   ],
   "source": [
    "cotas_mediana_deuda_sf[1]"
   ]
  },
  {
   "cell_type": "code",
   "execution_count": 38,
   "id": "c39d01bd",
   "metadata": {},
   "outputs": [],
   "source": [
    "df3.loc[df3.mediana_deuda_sf>=cotas_mediana_deuda_sf[1],'mediana_deuda_sf']=cotas_mediana_deuda_sf[1]"
   ]
  },
  {
   "cell_type": "code",
   "execution_count": 39,
   "id": "e1261ed1",
   "metadata": {},
   "outputs": [],
   "source": [
    "df3.loc[df3.mediana_deuda_sf<=cotas_mediana_deuda_sf[0],'mediana_deuda_sf']=cotas_mediana_deuda_sf[0]"
   ]
  },
  {
   "cell_type": "markdown",
   "id": "3dc382f6",
   "metadata": {},
   "source": [
    "#### Corroborando"
   ]
  },
  {
   "cell_type": "markdown",
   "id": "8c5660a4",
   "metadata": {},
   "source": [
    "#### El valor minimo "
   ]
  },
  {
   "cell_type": "code",
   "execution_count": 40,
   "id": "b08b318b",
   "metadata": {},
   "outputs": [
    {
     "data": {
      "text/plain": [
       "0.0"
      ]
     },
     "execution_count": 40,
     "metadata": {},
     "output_type": "execute_result"
    }
   ],
   "source": [
    "df3.mediana_deuda_sf.min()"
   ]
  },
  {
   "cell_type": "markdown",
   "id": "be64a062",
   "metadata": {},
   "source": [
    "#### El valor maximo "
   ]
  },
  {
   "cell_type": "code",
   "execution_count": 41,
   "id": "424b1637",
   "metadata": {},
   "outputs": [
    {
     "data": {
      "text/plain": [
       "14563.87"
      ]
     },
     "execution_count": 41,
     "metadata": {},
     "output_type": "execute_result"
    }
   ],
   "source": [
    "df3.mediana_deuda_sf.max()"
   ]
  },
  {
   "cell_type": "code",
   "execution_count": 42,
   "id": "45b07477",
   "metadata": {},
   "outputs": [
    {
     "data": {
      "text/plain": [
       "<AxesSubplot:>"
      ]
     },
     "execution_count": 42,
     "metadata": {},
     "output_type": "execute_result"
    },
    {
     "data": {
      "image/png": "[encoded data removed]",
      "text/plain": [
       "<Figure size 432x288 with 1 Axes>"
      ]
     },
     "metadata": {
      "needs_background": "light"
     },
     "output_type": "display_data"
    }
   ],
   "source": [
    "df3.mediana_deuda_sf.plot.box()"
   ]
  },
  {
   "cell_type": "code",
   "execution_count": 43,
   "id": "1f7ab9df",
   "metadata": {},
   "outputs": [
    {
     "data": {
      "text/html": [
       "<div>\n",
       "<style scoped>\n",
       "    .dataframe tbody tr th:only-of-type {\n",
       "        vertical-align: middle;\n",
       "    }\n",
       "\n",
       "    .dataframe tbody tr th {\n",
       "        vertical-align: top;\n",
       "    }\n",
       "\n",
       "    .dataframe thead th {\n",
       "        text-align: right;\n",
       "    }\n",
       "</style>\n",
       "<table border=\"1\" class=\"dataframe\">\n",
       "  <thead>\n",
       "    <tr style=\"text-align: right;\">\n",
       "      <th></th>\n",
       "      <th>mora</th>\n",
       "      <th>atraso</th>\n",
       "      <th>vivienda</th>\n",
       "      <th>edad</th>\n",
       "      <th>dias_lab</th>\n",
       "      <th>exp_sf</th>\n",
       "      <th>nivel_ahorro</th>\n",
       "      <th>ingreso</th>\n",
       "      <th>linea_sf</th>\n",
       "      <th>deuda_sf</th>\n",
       "      <th>score</th>\n",
       "      <th>zona</th>\n",
       "      <th>clasif_sbs</th>\n",
       "      <th>nivel_educ</th>\n",
       "      <th>mediana_linea_sf</th>\n",
       "      <th>mediana_deuda_sf</th>\n",
       "      <th>mediana_exp_sf</th>\n",
       "    </tr>\n",
       "  </thead>\n",
       "  <tbody>\n",
       "    <tr>\n",
       "      <th>0</th>\n",
       "      <td>0</td>\n",
       "      <td>235</td>\n",
       "      <td>FAMILIAR</td>\n",
       "      <td>30</td>\n",
       "      <td>3748</td>\n",
       "      <td>93.0</td>\n",
       "      <td>5</td>\n",
       "      <td>3500.0</td>\n",
       "      <td>NaN</td>\n",
       "      <td>0.00</td>\n",
       "      <td>214</td>\n",
       "      <td>Lima</td>\n",
       "      <td>4</td>\n",
       "      <td>UNIVERSITARIA</td>\n",
       "      <td>4030.12</td>\n",
       "      <td>0.00</td>\n",
       "      <td>93.0</td>\n",
       "    </tr>\n",
       "    <tr>\n",
       "      <th>1</th>\n",
       "      <td>0</td>\n",
       "      <td>18</td>\n",
       "      <td>FAMILIAR</td>\n",
       "      <td>32</td>\n",
       "      <td>4598</td>\n",
       "      <td>9.0</td>\n",
       "      <td>12</td>\n",
       "      <td>900.0</td>\n",
       "      <td>1824.67</td>\n",
       "      <td>1933.75</td>\n",
       "      <td>175</td>\n",
       "      <td>La Libertad</td>\n",
       "      <td>1</td>\n",
       "      <td>TECNICA</td>\n",
       "      <td>1824.67</td>\n",
       "      <td>1933.75</td>\n",
       "      <td>9.0</td>\n",
       "    </tr>\n",
       "    <tr>\n",
       "      <th>2</th>\n",
       "      <td>0</td>\n",
       "      <td>0</td>\n",
       "      <td>FAMILIAR</td>\n",
       "      <td>26</td>\n",
       "      <td>5148</td>\n",
       "      <td>8.0</td>\n",
       "      <td>2</td>\n",
       "      <td>2400.0</td>\n",
       "      <td>2797.38</td>\n",
       "      <td>188.29</td>\n",
       "      <td>187</td>\n",
       "      <td>Lima</td>\n",
       "      <td>0</td>\n",
       "      <td>UNIVERSITARIA</td>\n",
       "      <td>2797.38</td>\n",
       "      <td>188.29</td>\n",
       "      <td>8.0</td>\n",
       "    </tr>\n",
       "    <tr>\n",
       "      <th>3</th>\n",
       "      <td>0</td>\n",
       "      <td>0</td>\n",
       "      <td>FAMILIAR</td>\n",
       "      <td>36</td>\n",
       "      <td>5179</td>\n",
       "      <td>20.0</td>\n",
       "      <td>12</td>\n",
       "      <td>2700.0</td>\n",
       "      <td>NaN</td>\n",
       "      <td>0.00</td>\n",
       "      <td>187</td>\n",
       "      <td>Ancash</td>\n",
       "      <td>0</td>\n",
       "      <td>TECNICA</td>\n",
       "      <td>4030.12</td>\n",
       "      <td>0.00</td>\n",
       "      <td>20.0</td>\n",
       "    </tr>\n",
       "    <tr>\n",
       "      <th>4</th>\n",
       "      <td>0</td>\n",
       "      <td>0</td>\n",
       "      <td>FAMILIAR</td>\n",
       "      <td>46</td>\n",
       "      <td>3960</td>\n",
       "      <td>NaN</td>\n",
       "      <td>1</td>\n",
       "      <td>3100.0</td>\n",
       "      <td>2000.00</td>\n",
       "      <td>11010.65</td>\n",
       "      <td>189</td>\n",
       "      <td>Lima</td>\n",
       "      <td>0</td>\n",
       "      <td>TECNICA</td>\n",
       "      <td>2000.00</td>\n",
       "      <td>11010.65</td>\n",
       "      <td>20.0</td>\n",
       "    </tr>\n",
       "  </tbody>\n",
       "</table>\n",
       "</div>"
      ],
      "text/plain": [
       "   mora  atraso  vivienda  edad  dias_lab  exp_sf  nivel_ahorro  ingreso  \\\n",
       "0     0     235  FAMILIAR    30      3748    93.0             5   3500.0   \n",
       "1     0      18  FAMILIAR    32      4598     9.0            12    900.0   \n",
       "2     0       0  FAMILIAR    26      5148     8.0             2   2400.0   \n",
       "3     0       0  FAMILIAR    36      5179    20.0            12   2700.0   \n",
       "4     0       0  FAMILIAR    46      3960     NaN             1   3100.0   \n",
       "\n",
       "   linea_sf  deuda_sf  score         zona  clasif_sbs     nivel_educ  \\\n",
       "0       NaN      0.00    214         Lima           4  UNIVERSITARIA   \n",
       "1   1824.67   1933.75    175  La Libertad           1        TECNICA   \n",
       "2   2797.38    188.29    187         Lima           0  UNIVERSITARIA   \n",
       "3       NaN      0.00    187       Ancash           0        TECNICA   \n",
       "4   2000.00  11010.65    189         Lima           0        TECNICA   \n",
       "\n",
       "   mediana_linea_sf  mediana_deuda_sf  mediana_exp_sf  \n",
       "0           4030.12              0.00            93.0  \n",
       "1           1824.67           1933.75             9.0  \n",
       "2           2797.38            188.29             8.0  \n",
       "3           4030.12              0.00            20.0  \n",
       "4           2000.00          11010.65            20.0  "
      ]
     },
     "execution_count": 43,
     "metadata": {},
     "output_type": "execute_result"
    }
   ],
   "source": [
    "df3.head(5)"
   ]
  },
  {
   "cell_type": "markdown",
   "id": "fd3f55ce",
   "metadata": {},
   "source": [
    "##### Comentario :\n",
    "la variable \"mediana_deuda_sf\" : Se imputo por la mediana y ademas se acoto por los percentiles 0% y 90 %(outliers o atipicos) "
   ]
  },
  {
   "cell_type": "markdown",
   "id": "c7fc93b6",
   "metadata": {},
   "source": [
    "<a id=\"section4\"></a>\n",
    "## <font color=\"#004D7F\">4. Creacion de Variables dummy</font>"
   ]
  },
  {
   "cell_type": "code",
   "execution_count": 44,
   "id": "e89ce5b6",
   "metadata": {},
   "outputs": [
    {
     "data": {
      "text/plain": [
       "Index(['mora', 'atraso', 'vivienda', 'edad', 'dias_lab', 'exp_sf',\n",
       "       'nivel_ahorro', 'ingreso', 'linea_sf', 'deuda_sf', 'score', 'zona',\n",
       "       'clasif_sbs', 'nivel_educ', 'mediana_linea_sf', 'mediana_deuda_sf',\n",
       "       'mediana_exp_sf'],\n",
       "      dtype='object')"
      ]
     },
     "execution_count": 44,
     "metadata": {},
     "output_type": "execute_result"
    }
   ],
   "source": [
    "df3.columns"
   ]
  },
  {
   "cell_type": "code",
   "execution_count": 45,
   "id": "04975b2a",
   "metadata": {},
   "outputs": [
    {
     "data": {
      "text/plain": [
       "FAMILIAR     5853\n",
       "PROPIA       2381\n",
       "ALQUILADA     165\n",
       "Name: vivienda, dtype: int64"
      ]
     },
     "execution_count": 45,
     "metadata": {},
     "output_type": "execute_result"
    }
   ],
   "source": [
    "df3.vivienda.value_counts()"
   ]
  },
  {
   "cell_type": "markdown",
   "id": "8c1571c2",
   "metadata": {},
   "source": [
    "### Variable dummy ---> vivienda <---"
   ]
  },
  {
   "cell_type": "code",
   "execution_count": 46,
   "id": "5b1bec78",
   "metadata": {},
   "outputs": [],
   "source": [
    "dummy_vivienda=pd.get_dummies(df3['vivienda'],prefix='dummy1')"
   ]
  },
  {
   "cell_type": "code",
   "execution_count": 47,
   "id": "7c98381b",
   "metadata": {},
   "outputs": [
    {
     "data": {
      "text/html": [
       "<div>\n",
       "<style scoped>\n",
       "    .dataframe tbody tr th:only-of-type {\n",
       "        vertical-align: middle;\n",
       "    }\n",
       "\n",
       "    .dataframe tbody tr th {\n",
       "        vertical-align: top;\n",
       "    }\n",
       "\n",
       "    .dataframe thead th {\n",
       "        text-align: right;\n",
       "    }\n",
       "</style>\n",
       "<table border=\"1\" class=\"dataframe\">\n",
       "  <thead>\n",
       "    <tr style=\"text-align: right;\">\n",
       "      <th></th>\n",
       "      <th>dummy1_ALQUILADA</th>\n",
       "      <th>dummy1_FAMILIAR</th>\n",
       "      <th>dummy1_PROPIA</th>\n",
       "    </tr>\n",
       "  </thead>\n",
       "  <tbody>\n",
       "    <tr>\n",
       "      <th>0</th>\n",
       "      <td>0</td>\n",
       "      <td>1</td>\n",
       "      <td>0</td>\n",
       "    </tr>\n",
       "    <tr>\n",
       "      <th>1</th>\n",
       "      <td>0</td>\n",
       "      <td>1</td>\n",
       "      <td>0</td>\n",
       "    </tr>\n",
       "    <tr>\n",
       "      <th>2</th>\n",
       "      <td>0</td>\n",
       "      <td>1</td>\n",
       "      <td>0</td>\n",
       "    </tr>\n",
       "    <tr>\n",
       "      <th>3</th>\n",
       "      <td>0</td>\n",
       "      <td>1</td>\n",
       "      <td>0</td>\n",
       "    </tr>\n",
       "    <tr>\n",
       "      <th>4</th>\n",
       "      <td>0</td>\n",
       "      <td>1</td>\n",
       "      <td>0</td>\n",
       "    </tr>\n",
       "    <tr>\n",
       "      <th>...</th>\n",
       "      <td>...</td>\n",
       "      <td>...</td>\n",
       "      <td>...</td>\n",
       "    </tr>\n",
       "    <tr>\n",
       "      <th>8394</th>\n",
       "      <td>0</td>\n",
       "      <td>0</td>\n",
       "      <td>1</td>\n",
       "    </tr>\n",
       "    <tr>\n",
       "      <th>8395</th>\n",
       "      <td>0</td>\n",
       "      <td>1</td>\n",
       "      <td>0</td>\n",
       "    </tr>\n",
       "    <tr>\n",
       "      <th>8396</th>\n",
       "      <td>0</td>\n",
       "      <td>1</td>\n",
       "      <td>0</td>\n",
       "    </tr>\n",
       "    <tr>\n",
       "      <th>8397</th>\n",
       "      <td>0</td>\n",
       "      <td>0</td>\n",
       "      <td>1</td>\n",
       "    </tr>\n",
       "    <tr>\n",
       "      <th>8398</th>\n",
       "      <td>0</td>\n",
       "      <td>1</td>\n",
       "      <td>0</td>\n",
       "    </tr>\n",
       "  </tbody>\n",
       "</table>\n",
       "<p>8399 rows × 3 columns</p>\n",
       "</div>"
      ],
      "text/plain": [
       "      dummy1_ALQUILADA  dummy1_FAMILIAR  dummy1_PROPIA\n",
       "0                    0                1              0\n",
       "1                    0                1              0\n",
       "2                    0                1              0\n",
       "3                    0                1              0\n",
       "4                    0                1              0\n",
       "...                ...              ...            ...\n",
       "8394                 0                0              1\n",
       "8395                 0                1              0\n",
       "8396                 0                1              0\n",
       "8397                 0                0              1\n",
       "8398                 0                1              0\n",
       "\n",
       "[8399 rows x 3 columns]"
      ]
     },
     "execution_count": 47,
     "metadata": {},
     "output_type": "execute_result"
    }
   ],
   "source": [
    "dummy_vivienda"
   ]
  },
  {
   "cell_type": "markdown",
   "id": "16d5aacf",
   "metadata": {},
   "source": [
    "### Variable dummy --->nivel educativo<---"
   ]
  },
  {
   "cell_type": "code",
   "execution_count": 48,
   "id": "db0fa426",
   "metadata": {},
   "outputs": [],
   "source": [
    "dummy_educativo=pd.get_dummies(df3['nivel_educ'],prefix='dummy2')"
   ]
  },
  {
   "cell_type": "code",
   "execution_count": 49,
   "id": "9acf248e",
   "metadata": {},
   "outputs": [
    {
     "data": {
      "text/html": [
       "<div>\n",
       "<style scoped>\n",
       "    .dataframe tbody tr th:only-of-type {\n",
       "        vertical-align: middle;\n",
       "    }\n",
       "\n",
       "    .dataframe tbody tr th {\n",
       "        vertical-align: top;\n",
       "    }\n",
       "\n",
       "    .dataframe thead th {\n",
       "        text-align: right;\n",
       "    }\n",
       "</style>\n",
       "<table border=\"1\" class=\"dataframe\">\n",
       "  <thead>\n",
       "    <tr style=\"text-align: right;\">\n",
       "      <th></th>\n",
       "      <th>dummy2_SECUNDARIA</th>\n",
       "      <th>dummy2_SIN EDUCACION</th>\n",
       "      <th>dummy2_TECNICA</th>\n",
       "      <th>dummy2_UNIVERSITARIA</th>\n",
       "    </tr>\n",
       "  </thead>\n",
       "  <tbody>\n",
       "    <tr>\n",
       "      <th>0</th>\n",
       "      <td>0</td>\n",
       "      <td>0</td>\n",
       "      <td>0</td>\n",
       "      <td>1</td>\n",
       "    </tr>\n",
       "    <tr>\n",
       "      <th>1</th>\n",
       "      <td>0</td>\n",
       "      <td>0</td>\n",
       "      <td>1</td>\n",
       "      <td>0</td>\n",
       "    </tr>\n",
       "    <tr>\n",
       "      <th>2</th>\n",
       "      <td>0</td>\n",
       "      <td>0</td>\n",
       "      <td>0</td>\n",
       "      <td>1</td>\n",
       "    </tr>\n",
       "    <tr>\n",
       "      <th>3</th>\n",
       "      <td>0</td>\n",
       "      <td>0</td>\n",
       "      <td>1</td>\n",
       "      <td>0</td>\n",
       "    </tr>\n",
       "    <tr>\n",
       "      <th>4</th>\n",
       "      <td>0</td>\n",
       "      <td>0</td>\n",
       "      <td>1</td>\n",
       "      <td>0</td>\n",
       "    </tr>\n",
       "    <tr>\n",
       "      <th>...</th>\n",
       "      <td>...</td>\n",
       "      <td>...</td>\n",
       "      <td>...</td>\n",
       "      <td>...</td>\n",
       "    </tr>\n",
       "    <tr>\n",
       "      <th>8394</th>\n",
       "      <td>0</td>\n",
       "      <td>0</td>\n",
       "      <td>0</td>\n",
       "      <td>1</td>\n",
       "    </tr>\n",
       "    <tr>\n",
       "      <th>8395</th>\n",
       "      <td>0</td>\n",
       "      <td>0</td>\n",
       "      <td>0</td>\n",
       "      <td>1</td>\n",
       "    </tr>\n",
       "    <tr>\n",
       "      <th>8396</th>\n",
       "      <td>0</td>\n",
       "      <td>0</td>\n",
       "      <td>0</td>\n",
       "      <td>1</td>\n",
       "    </tr>\n",
       "    <tr>\n",
       "      <th>8397</th>\n",
       "      <td>0</td>\n",
       "      <td>0</td>\n",
       "      <td>0</td>\n",
       "      <td>1</td>\n",
       "    </tr>\n",
       "    <tr>\n",
       "      <th>8398</th>\n",
       "      <td>0</td>\n",
       "      <td>0</td>\n",
       "      <td>0</td>\n",
       "      <td>1</td>\n",
       "    </tr>\n",
       "  </tbody>\n",
       "</table>\n",
       "<p>8399 rows × 4 columns</p>\n",
       "</div>"
      ],
      "text/plain": [
       "      dummy2_SECUNDARIA  dummy2_SIN EDUCACION  dummy2_TECNICA  \\\n",
       "0                     0                     0               0   \n",
       "1                     0                     0               1   \n",
       "2                     0                     0               0   \n",
       "3                     0                     0               1   \n",
       "4                     0                     0               1   \n",
       "...                 ...                   ...             ...   \n",
       "8394                  0                     0               0   \n",
       "8395                  0                     0               0   \n",
       "8396                  0                     0               0   \n",
       "8397                  0                     0               0   \n",
       "8398                  0                     0               0   \n",
       "\n",
       "      dummy2_UNIVERSITARIA  \n",
       "0                        1  \n",
       "1                        0  \n",
       "2                        1  \n",
       "3                        0  \n",
       "4                        0  \n",
       "...                    ...  \n",
       "8394                     1  \n",
       "8395                     1  \n",
       "8396                     1  \n",
       "8397                     1  \n",
       "8398                     1  \n",
       "\n",
       "[8399 rows x 4 columns]"
      ]
     },
     "execution_count": 49,
     "metadata": {},
     "output_type": "execute_result"
    }
   ],
   "source": [
    "dummy_educativo"
   ]
  },
  {
   "cell_type": "code",
   "execution_count": 50,
   "id": "812082b7",
   "metadata": {},
   "outputs": [],
   "source": [
    "df4=df3"
   ]
  },
  {
   "cell_type": "code",
   "execution_count": 51,
   "id": "21e6ddcf",
   "metadata": {},
   "outputs": [],
   "source": [
    "df4=pd.concat([dummy_educativo,dummy_vivienda,df3],axis=1)"
   ]
  },
  {
   "cell_type": "code",
   "execution_count": 52,
   "id": "42e7d3ae",
   "metadata": {},
   "outputs": [
    {
     "data": {
      "text/html": [
       "<div>\n",
       "<style scoped>\n",
       "    .dataframe tbody tr th:only-of-type {\n",
       "        vertical-align: middle;\n",
       "    }\n",
       "\n",
       "    .dataframe tbody tr th {\n",
       "        vertical-align: top;\n",
       "    }\n",
       "\n",
       "    .dataframe thead th {\n",
       "        text-align: right;\n",
       "    }\n",
       "</style>\n",
       "<table border=\"1\" class=\"dataframe\">\n",
       "  <thead>\n",
       "    <tr style=\"text-align: right;\">\n",
       "      <th></th>\n",
       "      <th>dummy2_SECUNDARIA</th>\n",
       "      <th>dummy2_SIN EDUCACION</th>\n",
       "      <th>dummy2_TECNICA</th>\n",
       "      <th>dummy2_UNIVERSITARIA</th>\n",
       "      <th>dummy1_ALQUILADA</th>\n",
       "      <th>dummy1_FAMILIAR</th>\n",
       "      <th>dummy1_PROPIA</th>\n",
       "      <th>mora</th>\n",
       "      <th>atraso</th>\n",
       "      <th>vivienda</th>\n",
       "      <th>...</th>\n",
       "      <th>ingreso</th>\n",
       "      <th>linea_sf</th>\n",
       "      <th>deuda_sf</th>\n",
       "      <th>score</th>\n",
       "      <th>zona</th>\n",
       "      <th>clasif_sbs</th>\n",
       "      <th>nivel_educ</th>\n",
       "      <th>mediana_linea_sf</th>\n",
       "      <th>mediana_deuda_sf</th>\n",
       "      <th>mediana_exp_sf</th>\n",
       "    </tr>\n",
       "  </thead>\n",
       "  <tbody>\n",
       "    <tr>\n",
       "      <th>0</th>\n",
       "      <td>0</td>\n",
       "      <td>0</td>\n",
       "      <td>0</td>\n",
       "      <td>1</td>\n",
       "      <td>0</td>\n",
       "      <td>1</td>\n",
       "      <td>0</td>\n",
       "      <td>0</td>\n",
       "      <td>235</td>\n",
       "      <td>FAMILIAR</td>\n",
       "      <td>...</td>\n",
       "      <td>3500.0</td>\n",
       "      <td>NaN</td>\n",
       "      <td>0.00</td>\n",
       "      <td>214</td>\n",
       "      <td>Lima</td>\n",
       "      <td>4</td>\n",
       "      <td>UNIVERSITARIA</td>\n",
       "      <td>4030.12</td>\n",
       "      <td>0.00</td>\n",
       "      <td>93.0</td>\n",
       "    </tr>\n",
       "    <tr>\n",
       "      <th>1</th>\n",
       "      <td>0</td>\n",
       "      <td>0</td>\n",
       "      <td>1</td>\n",
       "      <td>0</td>\n",
       "      <td>0</td>\n",
       "      <td>1</td>\n",
       "      <td>0</td>\n",
       "      <td>0</td>\n",
       "      <td>18</td>\n",
       "      <td>FAMILIAR</td>\n",
       "      <td>...</td>\n",
       "      <td>900.0</td>\n",
       "      <td>1824.67</td>\n",
       "      <td>1933.75</td>\n",
       "      <td>175</td>\n",
       "      <td>La Libertad</td>\n",
       "      <td>1</td>\n",
       "      <td>TECNICA</td>\n",
       "      <td>1824.67</td>\n",
       "      <td>1933.75</td>\n",
       "      <td>9.0</td>\n",
       "    </tr>\n",
       "  </tbody>\n",
       "</table>\n",
       "<p>2 rows × 24 columns</p>\n",
       "</div>"
      ],
      "text/plain": [
       "   dummy2_SECUNDARIA  dummy2_SIN EDUCACION  dummy2_TECNICA  \\\n",
       "0                  0                     0               0   \n",
       "1                  0                     0               1   \n",
       "\n",
       "   dummy2_UNIVERSITARIA  dummy1_ALQUILADA  dummy1_FAMILIAR  dummy1_PROPIA  \\\n",
       "0                     1                 0                1              0   \n",
       "1                     0                 0                1              0   \n",
       "\n",
       "   mora  atraso  vivienda  ...  ingreso  linea_sf  deuda_sf  score  \\\n",
       "0     0     235  FAMILIAR  ...   3500.0       NaN      0.00    214   \n",
       "1     0      18  FAMILIAR  ...    900.0   1824.67   1933.75    175   \n",
       "\n",
       "          zona  clasif_sbs     nivel_educ  mediana_linea_sf mediana_deuda_sf  \\\n",
       "0         Lima           4  UNIVERSITARIA           4030.12             0.00   \n",
       "1  La Libertad           1        TECNICA           1824.67          1933.75   \n",
       "\n",
       "   mediana_exp_sf  \n",
       "0            93.0  \n",
       "1             9.0  \n",
       "\n",
       "[2 rows x 24 columns]"
      ]
     },
     "execution_count": 52,
     "metadata": {},
     "output_type": "execute_result"
    }
   ],
   "source": [
    "df4.head(2)"
   ]
  },
  {
   "cell_type": "code",
   "execution_count": 53,
   "id": "62a20f02",
   "metadata": {},
   "outputs": [
    {
     "data": {
      "text/plain": [
       "Index(['dummy2_SECUNDARIA', 'dummy2_SIN EDUCACION', 'dummy2_TECNICA',\n",
       "       'dummy2_UNIVERSITARIA', 'dummy1_ALQUILADA', 'dummy1_FAMILIAR',\n",
       "       'dummy1_PROPIA', 'mora', 'atraso', 'vivienda', 'edad', 'dias_lab',\n",
       "       'exp_sf', 'nivel_ahorro', 'ingreso', 'linea_sf', 'deuda_sf', 'score',\n",
       "       'zona', 'clasif_sbs', 'nivel_educ', 'mediana_linea_sf',\n",
       "       'mediana_deuda_sf', 'mediana_exp_sf'],\n",
       "      dtype='object')"
      ]
     },
     "execution_count": 53,
     "metadata": {},
     "output_type": "execute_result"
    }
   ],
   "source": [
    "df4.columns"
   ]
  },
  {
   "cell_type": "code",
   "execution_count": 54,
   "id": "f9359905",
   "metadata": {},
   "outputs": [
    {
     "data": {
      "text/plain": [
       "(8399, 24)"
      ]
     },
     "execution_count": 54,
     "metadata": {},
     "output_type": "execute_result"
    }
   ],
   "source": [
    "df4.shape"
   ]
  },
  {
   "cell_type": "markdown",
   "id": "456cf91b",
   "metadata": {},
   "source": [
    "### Una vez creada las variables de 'vivienda' y 'nivel_educativo' se procede eliminarlos"
   ]
  },
  {
   "cell_type": "code",
   "execution_count": 55,
   "id": "01f9ce6b",
   "metadata": {},
   "outputs": [],
   "source": [
    "df5=df4.drop(['nivel_educ','vivienda'],axis=1)"
   ]
  },
  {
   "cell_type": "code",
   "execution_count": 56,
   "id": "5c8c1f49",
   "metadata": {},
   "outputs": [
    {
     "data": {
      "text/plain": [
       "(8399, 22)"
      ]
     },
     "execution_count": 56,
     "metadata": {},
     "output_type": "execute_result"
    }
   ],
   "source": [
    "df5.shape"
   ]
  },
  {
   "cell_type": "markdown",
   "id": "0b89032a",
   "metadata": {},
   "source": [
    "### Con respecto a la variable 'zona' la categoria 'Lima' tiene un alto cardinal por lo tanto se elimina <br>la variable 'zona'"
   ]
  },
  {
   "cell_type": "code",
   "execution_count": 57,
   "id": "a0102a58",
   "metadata": {},
   "outputs": [
    {
     "data": {
      "text/plain": [
       "Lima             4980\n",
       "Callao            507\n",
       "La Libertad       447\n",
       "Arequipa          349\n",
       "Ica               300\n",
       "Piura             279\n",
       "Lambayeque        279\n",
       "Junin             263\n",
       "Ancash            224\n",
       "Cajamarca         173\n",
       "Loreto            118\n",
       "Cuzco              96\n",
       "Ucayali            85\n",
       "Pasco              53\n",
       "Moquegua           46\n",
       "San Martin         45\n",
       "Huanuco            37\n",
       "Tacna              32\n",
       "Puno               23\n",
       "Ayacucho           23\n",
       "Tumbes             22\n",
       "Apurimac            8\n",
       "Madre de Dios       6\n",
       "Huancavelica        3\n",
       "Amazonas            1\n",
       "Name: zona, dtype: int64"
      ]
     },
     "execution_count": 57,
     "metadata": {},
     "output_type": "execute_result"
    }
   ],
   "source": [
    "df5.zona.value_counts()"
   ]
  },
  {
   "cell_type": "code",
   "execution_count": 58,
   "id": "803d5476",
   "metadata": {},
   "outputs": [],
   "source": [
    "df5=df5.drop(['zona'],axis=1)"
   ]
  },
  {
   "cell_type": "code",
   "execution_count": 59,
   "id": "f5f5ea0e",
   "metadata": {},
   "outputs": [
    {
     "data": {
      "text/plain": [
       "(8399, 21)"
      ]
     },
     "execution_count": 59,
     "metadata": {},
     "output_type": "execute_result"
    }
   ],
   "source": [
    "df5.shape"
   ]
  },
  {
   "cell_type": "markdown",
   "id": "b68c6051",
   "metadata": {},
   "source": [
    "### En resumen:\n",
    "#### -----------\n",
    "#### 1.estamos quitando estas variables cualitativas 'nivel_educ' , 'vivienda' ya que hemos creado variables dummy.\n",
    "#### 2.estamos quitando eliminando la variable 'zona'  porque la categoria 'lima' tiene un alto cardinal comparado a las otras<br>categorias."
   ]
  },
  {
   "cell_type": "markdown",
   "id": "9bafed45",
   "metadata": {},
   "source": [
    "### Separamos la variable target :"
   ]
  },
  {
   "cell_type": "code",
   "execution_count": 60,
   "id": "a6002ad7",
   "metadata": {},
   "outputs": [
    {
     "data": {
      "text/plain": [
       "Index(['dummy2_SECUNDARIA', 'dummy2_SIN EDUCACION', 'dummy2_TECNICA',\n",
       "       'dummy2_UNIVERSITARIA', 'dummy1_ALQUILADA', 'dummy1_FAMILIAR',\n",
       "       'dummy1_PROPIA', 'mora', 'atraso', 'edad', 'dias_lab', 'exp_sf',\n",
       "       'nivel_ahorro', 'ingreso', 'linea_sf', 'deuda_sf', 'score',\n",
       "       'clasif_sbs', 'mediana_linea_sf', 'mediana_deuda_sf', 'mediana_exp_sf'],\n",
       "      dtype='object')"
      ]
     },
     "execution_count": 60,
     "metadata": {},
     "output_type": "execute_result"
    }
   ],
   "source": [
    "df5.columns"
   ]
  },
  {
   "cell_type": "markdown",
   "id": "cc953960",
   "metadata": {},
   "source": [
    "<a id=\"section41\"></a>\n",
    "## <font color=\"#004D7F\">4.1 Variables predictoras</font>"
   ]
  },
  {
   "cell_type": "code",
   "execution_count": 61,
   "id": "1142b4f5",
   "metadata": {},
   "outputs": [],
   "source": [
    "lista=['dummy2_SECUNDARIA', 'dummy2_SIN EDUCACION', 'dummy2_TECNICA',\n",
    "       'dummy2_UNIVERSITARIA', 'dummy1_ALQUILADA', 'dummy1_FAMILIAR',\n",
    "       'dummy1_PROPIA', 'atraso', 'edad', 'dias_lab',\n",
    "       'nivel_ahorro', 'ingreso', 'score',\n",
    "       'clasif_sbs', 'mediana_linea_sf', 'mediana_deuda_sf', 'mediana_exp_sf']"
   ]
  },
  {
   "cell_type": "code",
   "execution_count": 62,
   "id": "c58b5f38",
   "metadata": {},
   "outputs": [],
   "source": [
    "x5=df5[lista]"
   ]
  },
  {
   "cell_type": "code",
   "execution_count": 63,
   "id": "73b69abb",
   "metadata": {},
   "outputs": [
    {
     "data": {
      "text/plain": [
       "Index(['dummy2_SECUNDARIA', 'dummy2_SIN EDUCACION', 'dummy2_TECNICA',\n",
       "       'dummy2_UNIVERSITARIA', 'dummy1_ALQUILADA', 'dummy1_FAMILIAR',\n",
       "       'dummy1_PROPIA', 'atraso', 'edad', 'dias_lab', 'nivel_ahorro',\n",
       "       'ingreso', 'score', 'clasif_sbs', 'mediana_linea_sf',\n",
       "       'mediana_deuda_sf', 'mediana_exp_sf'],\n",
       "      dtype='object')"
      ]
     },
     "execution_count": 63,
     "metadata": {},
     "output_type": "execute_result"
    }
   ],
   "source": [
    "x5.columns"
   ]
  },
  {
   "cell_type": "code",
   "execution_count": 64,
   "id": "498d4e4b",
   "metadata": {},
   "outputs": [
    {
     "data": {
      "text/plain": [
       "dummy2_SECUNDARIA       0\n",
       "dummy2_SIN EDUCACION    0\n",
       "dummy2_TECNICA          0\n",
       "dummy2_UNIVERSITARIA    0\n",
       "dummy1_ALQUILADA        0\n",
       "dummy1_FAMILIAR         0\n",
       "dummy1_PROPIA           0\n",
       "atraso                  0\n",
       "edad                    0\n",
       "dias_lab                0\n",
       "nivel_ahorro            0\n",
       "ingreso                 0\n",
       "score                   0\n",
       "clasif_sbs              0\n",
       "mediana_linea_sf        0\n",
       "mediana_deuda_sf        0\n",
       "mediana_exp_sf          0\n",
       "dtype: int64"
      ]
     },
     "execution_count": 64,
     "metadata": {},
     "output_type": "execute_result"
    }
   ],
   "source": [
    "x5.isnull().sum()"
   ]
  },
  {
   "cell_type": "code",
   "execution_count": 65,
   "id": "42df24a6",
   "metadata": {},
   "outputs": [
    {
     "data": {
      "text/plain": [
       "dummy2_SECUNDARIA          0\n",
       "dummy2_SIN EDUCACION       0\n",
       "dummy2_TECNICA             0\n",
       "dummy2_UNIVERSITARIA       0\n",
       "dummy1_ALQUILADA           0\n",
       "dummy1_FAMILIAR            0\n",
       "dummy1_PROPIA              0\n",
       "mora                       0\n",
       "atraso                     0\n",
       "vivienda                   0\n",
       "edad                       0\n",
       "dias_lab                   0\n",
       "exp_sf                  1830\n",
       "nivel_ahorro               0\n",
       "ingreso                    0\n",
       "linea_sf                1127\n",
       "deuda_sf                 461\n",
       "score                      0\n",
       "zona                       0\n",
       "clasif_sbs                 0\n",
       "nivel_educ                 0\n",
       "mediana_linea_sf           0\n",
       "mediana_deuda_sf           0\n",
       "mediana_exp_sf             0\n",
       "dtype: int64"
      ]
     },
     "execution_count": 65,
     "metadata": {},
     "output_type": "execute_result"
    }
   ],
   "source": [
    "df4.isnull().sum()"
   ]
  },
  {
   "cell_type": "markdown",
   "id": "60b2536f",
   "metadata": {},
   "source": [
    "<a id=\"section42\"></a>\n",
    "## <font color=\"#004D7F\">4.2  Variable target</font>"
   ]
  },
  {
   "cell_type": "code",
   "execution_count": 66,
   "id": "494697b8",
   "metadata": {},
   "outputs": [],
   "source": [
    "y5=df5['mora']"
   ]
  },
  {
   "cell_type": "code",
   "execution_count": 67,
   "id": "f7ecde26",
   "metadata": {},
   "outputs": [
    {
     "data": {
      "text/plain": [
       "0    0\n",
       "1    0\n",
       "2    0\n",
       "3    0\n",
       "4    0\n",
       "Name: mora, dtype: int64"
      ]
     },
     "execution_count": 67,
     "metadata": {},
     "output_type": "execute_result"
    }
   ],
   "source": [
    "y5.head(5)"
   ]
  },
  {
   "cell_type": "code",
   "execution_count": 68,
   "id": "854eb885",
   "metadata": {},
   "outputs": [
    {
     "data": {
      "text/plain": [
       "1    5915\n",
       "0    2484\n",
       "Name: mora, dtype: int64"
      ]
     },
     "execution_count": 68,
     "metadata": {},
     "output_type": "execute_result"
    }
   ],
   "source": [
    "y5.value_counts()"
   ]
  },
  {
   "cell_type": "markdown",
   "id": "3f661b6d",
   "metadata": {},
   "source": [
    "<a id=\"section421\"></a>\n",
    "## <font color=\"#004D7F\">4.2.1  Cambiar de formato a la variable target 'mora'</font>"
   ]
  },
  {
   "cell_type": "markdown",
   "id": "4c4126cb",
   "metadata": {},
   "source": [
    "#### Cambiar de formato a la variable target 'mora'   <br> antes --> int <br> ahora -->object"
   ]
  },
  {
   "cell_type": "code",
   "execution_count": 69,
   "id": "dc436ba0",
   "metadata": {},
   "outputs": [],
   "source": [
    "df5['mora']=df5['mora'].astype(str)"
   ]
  },
  {
   "cell_type": "code",
   "execution_count": 70,
   "id": "98189ed2",
   "metadata": {},
   "outputs": [
    {
     "name": "stdout",
     "output_type": "stream",
     "text": [
      "<class 'pandas.core.frame.DataFrame'>\n",
      "RangeIndex: 8399 entries, 0 to 8398\n",
      "Data columns (total 21 columns):\n",
      " #   Column                Non-Null Count  Dtype  \n",
      "---  ------                --------------  -----  \n",
      " 0   dummy2_SECUNDARIA     8399 non-null   uint8  \n",
      " 1   dummy2_SIN EDUCACION  8399 non-null   uint8  \n",
      " 2   dummy2_TECNICA        8399 non-null   uint8  \n",
      " 3   dummy2_UNIVERSITARIA  8399 non-null   uint8  \n",
      " 4   dummy1_ALQUILADA      8399 non-null   uint8  \n",
      " 5   dummy1_FAMILIAR       8399 non-null   uint8  \n",
      " 6   dummy1_PROPIA         8399 non-null   uint8  \n",
      " 7   mora                  8399 non-null   object \n",
      " 8   atraso                8399 non-null   int64  \n",
      " 9   edad                  8399 non-null   int64  \n",
      " 10  dias_lab              8399 non-null   int64  \n",
      " 11  exp_sf                6569 non-null   float64\n",
      " 12  nivel_ahorro          8399 non-null   int64  \n",
      " 13  ingreso               8399 non-null   float64\n",
      " 14  linea_sf              7272 non-null   float64\n",
      " 15  deuda_sf              7938 non-null   float64\n",
      " 16  score                 8399 non-null   int64  \n",
      " 17  clasif_sbs            8399 non-null   int64  \n",
      " 18  mediana_linea_sf      8399 non-null   float64\n",
      " 19  mediana_deuda_sf      8399 non-null   float64\n",
      " 20  mediana_exp_sf        8399 non-null   float64\n",
      "dtypes: float64(7), int64(6), object(1), uint8(7)\n",
      "memory usage: 976.2+ KB\n"
     ]
    }
   ],
   "source": [
    "df5.info()"
   ]
  },
  {
   "cell_type": "code",
   "execution_count": 71,
   "id": "74779118",
   "metadata": {},
   "outputs": [],
   "source": [
    "y5=df5['mora']"
   ]
  },
  {
   "cell_type": "code",
   "execution_count": 72,
   "id": "b82ebd39",
   "metadata": {},
   "outputs": [
    {
     "data": {
      "text/plain": [
       "0    0\n",
       "1    0\n",
       "2    0\n",
       "3    0\n",
       "4    0\n",
       "Name: mora, dtype: object"
      ]
     },
     "execution_count": 72,
     "metadata": {},
     "output_type": "execute_result"
    }
   ],
   "source": [
    "y5.head(5)"
   ]
  },
  {
   "cell_type": "markdown",
   "id": "e659fc1a",
   "metadata": {},
   "source": [
    "<a id=\"section5\"></a>\n",
    "## <font color=\"#004D7F\">5. Particion en train y test</font>"
   ]
  },
  {
   "cell_type": "code",
   "execution_count": 73,
   "id": "b4324127",
   "metadata": {},
   "outputs": [],
   "source": [
    "from sklearn.model_selection import train_test_split\n",
    "xtrain,xtest,ytrain,ytest=train_test_split(x5,y5,test_size=0.2,random_state=4)"
   ]
  },
  {
   "cell_type": "markdown",
   "id": "d2171d9b",
   "metadata": {},
   "source": [
    "#### paso 1 : modelito"
   ]
  },
  {
   "cell_type": "code",
   "execution_count": 74,
   "id": "fb2648eb",
   "metadata": {},
   "outputs": [],
   "source": [
    "from sklearn import linear_model\n",
    "modelito=linear_model.LogisticRegression()"
   ]
  },
  {
   "cell_type": "markdown",
   "id": "db00714e",
   "metadata": {},
   "source": [
    "#### paso 2: ajustar"
   ]
  },
  {
   "cell_type": "code",
   "execution_count": 75,
   "id": "aad7d1f1",
   "metadata": {},
   "outputs": [
    {
     "name": "stderr",
     "output_type": "stream",
     "text": [
      "C:\\ProgramData\\Anaconda3\\lib\\site-packages\\sklearn\\linear_model\\_logistic.py:763: ConvergenceWarning: lbfgs failed to converge (status=1):\n",
      "STOP: TOTAL NO. of ITERATIONS REACHED LIMIT.\n",
      "\n",
      "Increase the number of iterations (max_iter) or scale the data as shown in:\n",
      "    https://scikit-learn.org/stable/modules/preprocessing.html\n",
      "Please also refer to the documentation for alternative solver options:\n",
      "    https://scikit-learn.org/stable/modules/linear_model.html#logistic-regression\n",
      "  n_iter_i = _check_optimize_result(\n"
     ]
    },
    {
     "data": {
      "text/plain": [
       "LogisticRegression()"
      ]
     },
     "execution_count": 75,
     "metadata": {},
     "output_type": "execute_result"
    }
   ],
   "source": [
    "modelito.fit(xtrain,ytrain)"
   ]
  },
  {
   "cell_type": "code",
   "execution_count": 76,
   "id": "fc633486",
   "metadata": {},
   "outputs": [
    {
     "data": {
      "text/plain": [
       "(8399, 17)"
      ]
     },
     "execution_count": 76,
     "metadata": {},
     "output_type": "execute_result"
    }
   ],
   "source": [
    "x5.shape"
   ]
  },
  {
   "cell_type": "code",
   "execution_count": 77,
   "id": "e5eef6c2",
   "metadata": {},
   "outputs": [
    {
     "data": {
      "text/plain": [
       "(6719, 17)"
      ]
     },
     "execution_count": 77,
     "metadata": {},
     "output_type": "execute_result"
    }
   ],
   "source": [
    "xtrain.shape"
   ]
  },
  {
   "cell_type": "code",
   "execution_count": 78,
   "id": "05152944",
   "metadata": {},
   "outputs": [
    {
     "data": {
      "text/plain": [
       "(1680, 17)"
      ]
     },
     "execution_count": 78,
     "metadata": {},
     "output_type": "execute_result"
    }
   ],
   "source": [
    "xtest.shape"
   ]
  },
  {
   "cell_type": "code",
   "execution_count": 79,
   "id": "5bf9a921",
   "metadata": {},
   "outputs": [
    {
     "data": {
      "text/plain": [
       "Index(['dummy2_SECUNDARIA', 'dummy2_SIN EDUCACION', 'dummy2_TECNICA',\n",
       "       'dummy2_UNIVERSITARIA', 'dummy1_ALQUILADA', 'dummy1_FAMILIAR',\n",
       "       'dummy1_PROPIA', 'atraso', 'edad', 'dias_lab', 'nivel_ahorro',\n",
       "       'ingreso', 'score', 'clasif_sbs', 'mediana_linea_sf',\n",
       "       'mediana_deuda_sf', 'mediana_exp_sf'],\n",
       "      dtype='object')"
      ]
     },
     "execution_count": 79,
     "metadata": {},
     "output_type": "execute_result"
    }
   ],
   "source": [
    "xtrain.columns"
   ]
  },
  {
   "cell_type": "markdown",
   "id": "7143ebd5",
   "metadata": {},
   "source": [
    "### Coeficiente de Determinacion ! R2"
   ]
  },
  {
   "cell_type": "code",
   "execution_count": 80,
   "id": "0a31636a",
   "metadata": {},
   "outputs": [
    {
     "data": {
      "text/plain": [
       "0.7242149129334723"
      ]
     },
     "execution_count": 80,
     "metadata": {},
     "output_type": "execute_result"
    }
   ],
   "source": [
    "modelito.score(xtrain,ytrain)"
   ]
  },
  {
   "cell_type": "markdown",
   "id": "3998a555",
   "metadata": {},
   "source": [
    "#### Comentario:<br>Es mayor al 50% es decir que relatiuvamente es bueno"
   ]
  },
  {
   "cell_type": "markdown",
   "id": "df9cfda2",
   "metadata": {},
   "source": [
    "### Coeficientes del modelo de regresion logistica binomial"
   ]
  },
  {
   "cell_type": "code",
   "execution_count": 81,
   "id": "6a044fb5",
   "metadata": {},
   "outputs": [
    {
     "data": {
      "text/plain": [
       "array([[ 1.18757387e-04,  4.87123903e-05,  1.77191790e-03,\n",
       "        -1.34587227e-03,  1.33261533e-04,  9.81214152e-04,\n",
       "        -5.20960281e-04,  2.76425739e-02,  8.91654431e-03,\n",
       "        -3.49935281e-05, -6.58487533e-03, -2.51150491e-05,\n",
       "         6.00141071e-03,  2.98522421e-03, -1.00655857e-05,\n",
       "         3.99505286e-05, -1.37803194e-02]])"
      ]
     },
     "execution_count": 81,
     "metadata": {},
     "output_type": "execute_result"
    }
   ],
   "source": [
    "modelito.coef_"
   ]
  },
  {
   "cell_type": "code",
   "execution_count": 82,
   "id": "bfb19dc0",
   "metadata": {},
   "outputs": [
    {
     "data": {
      "text/plain": [
       "(1, 17)"
      ]
     },
     "execution_count": 82,
     "metadata": {},
     "output_type": "execute_result"
    }
   ],
   "source": [
    "modelito.coef_.shape"
   ]
  },
  {
   "cell_type": "code",
   "execution_count": 83,
   "id": "2954b7a0",
   "metadata": {},
   "outputs": [
    {
     "data": {
      "text/html": [
       "<div>\n",
       "<style scoped>\n",
       "    .dataframe tbody tr th:only-of-type {\n",
       "        vertical-align: middle;\n",
       "    }\n",
       "\n",
       "    .dataframe tbody tr th {\n",
       "        vertical-align: top;\n",
       "    }\n",
       "\n",
       "    .dataframe thead th {\n",
       "        text-align: right;\n",
       "    }\n",
       "</style>\n",
       "<table border=\"1\" class=\"dataframe\">\n",
       "  <thead>\n",
       "    <tr style=\"text-align: right;\">\n",
       "      <th></th>\n",
       "      <th>0</th>\n",
       "      <th>1</th>\n",
       "    </tr>\n",
       "  </thead>\n",
       "  <tbody>\n",
       "    <tr>\n",
       "      <th>0</th>\n",
       "      <td>dummy2_SECUNDARIA</td>\n",
       "      <td>[0.00011875738664283403]</td>\n",
       "    </tr>\n",
       "    <tr>\n",
       "      <th>1</th>\n",
       "      <td>dummy2_SIN EDUCACION</td>\n",
       "      <td>[4.871239033356936e-05]</td>\n",
       "    </tr>\n",
       "    <tr>\n",
       "      <th>2</th>\n",
       "      <td>dummy2_TECNICA</td>\n",
       "      <td>[0.001771917901651177]</td>\n",
       "    </tr>\n",
       "    <tr>\n",
       "      <th>3</th>\n",
       "      <td>dummy2_UNIVERSITARIA</td>\n",
       "      <td>[-0.0013458722746239658]</td>\n",
       "    </tr>\n",
       "    <tr>\n",
       "      <th>4</th>\n",
       "      <td>dummy1_ALQUILADA</td>\n",
       "      <td>[0.0001332615331196549]</td>\n",
       "    </tr>\n",
       "    <tr>\n",
       "      <th>5</th>\n",
       "      <td>dummy1_FAMILIAR</td>\n",
       "      <td>[0.0009812141521323614]</td>\n",
       "    </tr>\n",
       "    <tr>\n",
       "      <th>6</th>\n",
       "      <td>dummy1_PROPIA</td>\n",
       "      <td>[-0.0005209602812518622]</td>\n",
       "    </tr>\n",
       "    <tr>\n",
       "      <th>7</th>\n",
       "      <td>atraso</td>\n",
       "      <td>[0.027642573939559337]</td>\n",
       "    </tr>\n",
       "    <tr>\n",
       "      <th>8</th>\n",
       "      <td>edad</td>\n",
       "      <td>[0.008916544309271359]</td>\n",
       "    </tr>\n",
       "    <tr>\n",
       "      <th>9</th>\n",
       "      <td>dias_lab</td>\n",
       "      <td>[-3.499352806999731e-05]</td>\n",
       "    </tr>\n",
       "    <tr>\n",
       "      <th>10</th>\n",
       "      <td>nivel_ahorro</td>\n",
       "      <td>[-0.006584875332729371]</td>\n",
       "    </tr>\n",
       "    <tr>\n",
       "      <th>11</th>\n",
       "      <td>ingreso</td>\n",
       "      <td>[-2.5115049081480754e-05]</td>\n",
       "    </tr>\n",
       "    <tr>\n",
       "      <th>12</th>\n",
       "      <td>score</td>\n",
       "      <td>[0.006001410712711703]</td>\n",
       "    </tr>\n",
       "    <tr>\n",
       "      <th>13</th>\n",
       "      <td>clasif_sbs</td>\n",
       "      <td>[0.002985224213268582]</td>\n",
       "    </tr>\n",
       "    <tr>\n",
       "      <th>14</th>\n",
       "      <td>mediana_linea_sf</td>\n",
       "      <td>[-1.0065585711151398e-05]</td>\n",
       "    </tr>\n",
       "    <tr>\n",
       "      <th>15</th>\n",
       "      <td>mediana_deuda_sf</td>\n",
       "      <td>[3.99505285812937e-05]</td>\n",
       "    </tr>\n",
       "    <tr>\n",
       "      <th>16</th>\n",
       "      <td>mediana_exp_sf</td>\n",
       "      <td>[-0.013780319444893916]</td>\n",
       "    </tr>\n",
       "  </tbody>\n",
       "</table>\n",
       "</div>"
      ],
      "text/plain": [
       "                       0                          1\n",
       "0      dummy2_SECUNDARIA   [0.00011875738664283403]\n",
       "1   dummy2_SIN EDUCACION    [4.871239033356936e-05]\n",
       "2         dummy2_TECNICA     [0.001771917901651177]\n",
       "3   dummy2_UNIVERSITARIA   [-0.0013458722746239658]\n",
       "4       dummy1_ALQUILADA    [0.0001332615331196549]\n",
       "5        dummy1_FAMILIAR    [0.0009812141521323614]\n",
       "6          dummy1_PROPIA   [-0.0005209602812518622]\n",
       "7                 atraso     [0.027642573939559337]\n",
       "8                   edad     [0.008916544309271359]\n",
       "9               dias_lab   [-3.499352806999731e-05]\n",
       "10          nivel_ahorro    [-0.006584875332729371]\n",
       "11               ingreso  [-2.5115049081480754e-05]\n",
       "12                 score     [0.006001410712711703]\n",
       "13            clasif_sbs     [0.002985224213268582]\n",
       "14      mediana_linea_sf  [-1.0065585711151398e-05]\n",
       "15      mediana_deuda_sf     [3.99505285812937e-05]\n",
       "16        mediana_exp_sf    [-0.013780319444893916]"
      ]
     },
     "execution_count": 83,
     "metadata": {},
     "output_type": "execute_result"
    }
   ],
   "source": [
    "pd.DataFrame(list(zip(x5.columns, np.transpose(modelito.coef_))))"
   ]
  },
  {
   "cell_type": "markdown",
   "id": "4593558e",
   "metadata": {},
   "source": [
    "<a id=\"section6\"></a>\n",
    "## <font color=\"#004D7F\">6. Metricas</font>"
   ]
  },
  {
   "cell_type": "markdown",
   "id": "6a18ed4d",
   "metadata": {},
   "source": [
    "<a id=\"section61\"></a>\n",
    "## <font color=\"#004D7F\">6.1 Gini</font>\n",
    "\n",
    "- **NOTA**<BR>\n",
    "    - Estandares: Gini>0.5 Bueno | 0.4<=Gini<=0.5 Aceptable | Gini<0.4 No es tan bueno"
   ]
  },
  {
   "cell_type": "markdown",
   "id": "1a495b92",
   "metadata": {},
   "source": [
    "<a id=\"section611\"></a>\n",
    "## <font color=\"#004D7F\">6.1.1 Forma_1</font>"
   ]
  },
  {
   "cell_type": "markdown",
   "id": "7689ad42",
   "metadata": {},
   "source": [
    "### Creando una Funcion"
   ]
  },
  {
   "cell_type": "code",
   "execution_count": 84,
   "id": "2e7035b1",
   "metadata": {},
   "outputs": [],
   "source": [
    "def Gini(y_real_clase,y_predicho_probalidad,signo='+'):\n",
    "    from sklearn.metrics import roc_auc_score    \n",
    "    return 2*roc_auc_score(y_real_clase,y_predicho_probalidad)-1\n",
    "\n",
    "#score (esto es un valor numerico)\n",
    "#Gini = 2*AUC-1  -->gini por encima de 60 son modelos muy buenos!!\n",
    "#y_true  y_pred  -->estos son del entrenamiento"
   ]
  },
  {
   "cell_type": "markdown",
   "id": "77ce7d81",
   "metadata": {},
   "source": [
    "### Probalidad"
   ]
  },
  {
   "cell_type": "code",
   "execution_count": 85,
   "id": "52709c50",
   "metadata": {},
   "outputs": [],
   "source": [
    "y_train_predicho_prob=modelito.predict_proba(xtrain)"
   ]
  },
  {
   "cell_type": "code",
   "execution_count": 86,
   "id": "90456516",
   "metadata": {},
   "outputs": [
    {
     "data": {
      "text/plain": [
       "array([[0.11028806, 0.88971194],\n",
       "       [0.26945827, 0.73054173],\n",
       "       [0.28403744, 0.71596256],\n",
       "       ...,\n",
       "       [0.22586817, 0.77413183],\n",
       "       [0.19338547, 0.80661453],\n",
       "       [0.27349715, 0.72650285]])"
      ]
     },
     "execution_count": 86,
     "metadata": {},
     "output_type": "execute_result"
    }
   ],
   "source": [
    "y_train_predicho_prob"
   ]
  },
  {
   "cell_type": "code",
   "execution_count": 87,
   "id": "c6bd656c",
   "metadata": {},
   "outputs": [],
   "source": [
    "y_train_predicho_prob=y_train_predicho_prob[:,1:]"
   ]
  },
  {
   "cell_type": "code",
   "execution_count": 88,
   "id": "0c4e9bcd",
   "metadata": {},
   "outputs": [
    {
     "data": {
      "text/plain": [
       "array([[0.88971194],\n",
       "       [0.73054173],\n",
       "       [0.71596256],\n",
       "       ...,\n",
       "       [0.77413183],\n",
       "       [0.80661453],\n",
       "       [0.72650285]])"
      ]
     },
     "execution_count": 88,
     "metadata": {},
     "output_type": "execute_result"
    }
   ],
   "source": [
    "y_train_predicho_prob"
   ]
  },
  {
   "cell_type": "markdown",
   "id": "4a118180",
   "metadata": {},
   "source": [
    "### Clase"
   ]
  },
  {
   "cell_type": "code",
   "execution_count": 89,
   "id": "cbce886a",
   "metadata": {},
   "outputs": [],
   "source": [
    "y_info=pd.DataFrame(ytrain)"
   ]
  },
  {
   "cell_type": "code",
   "execution_count": 90,
   "id": "d27b2512",
   "metadata": {},
   "outputs": [
    {
     "data": {
      "text/html": [
       "<div>\n",
       "<style scoped>\n",
       "    .dataframe tbody tr th:only-of-type {\n",
       "        vertical-align: middle;\n",
       "    }\n",
       "\n",
       "    .dataframe tbody tr th {\n",
       "        vertical-align: top;\n",
       "    }\n",
       "\n",
       "    .dataframe thead th {\n",
       "        text-align: right;\n",
       "    }\n",
       "</style>\n",
       "<table border=\"1\" class=\"dataframe\">\n",
       "  <thead>\n",
       "    <tr style=\"text-align: right;\">\n",
       "      <th></th>\n",
       "      <th>mora</th>\n",
       "    </tr>\n",
       "  </thead>\n",
       "  <tbody>\n",
       "    <tr>\n",
       "      <th>5719</th>\n",
       "      <td>1</td>\n",
       "    </tr>\n",
       "    <tr>\n",
       "      <th>2404</th>\n",
       "      <td>1</td>\n",
       "    </tr>\n",
       "    <tr>\n",
       "      <th>4625</th>\n",
       "      <td>1</td>\n",
       "    </tr>\n",
       "    <tr>\n",
       "      <th>6015</th>\n",
       "      <td>0</td>\n",
       "    </tr>\n",
       "    <tr>\n",
       "      <th>5346</th>\n",
       "      <td>0</td>\n",
       "    </tr>\n",
       "    <tr>\n",
       "      <th>...</th>\n",
       "      <td>...</td>\n",
       "    </tr>\n",
       "    <tr>\n",
       "      <th>456</th>\n",
       "      <td>0</td>\n",
       "    </tr>\n",
       "    <tr>\n",
       "      <th>6017</th>\n",
       "      <td>1</td>\n",
       "    </tr>\n",
       "    <tr>\n",
       "      <th>709</th>\n",
       "      <td>0</td>\n",
       "    </tr>\n",
       "    <tr>\n",
       "      <th>8366</th>\n",
       "      <td>1</td>\n",
       "    </tr>\n",
       "    <tr>\n",
       "      <th>1146</th>\n",
       "      <td>0</td>\n",
       "    </tr>\n",
       "  </tbody>\n",
       "</table>\n",
       "<p>6719 rows × 1 columns</p>\n",
       "</div>"
      ],
      "text/plain": [
       "     mora\n",
       "5719    1\n",
       "2404    1\n",
       "4625    1\n",
       "6015    0\n",
       "5346    0\n",
       "...   ...\n",
       "456     0\n",
       "6017    1\n",
       "709     0\n",
       "8366    1\n",
       "1146    0\n",
       "\n",
       "[6719 rows x 1 columns]"
      ]
     },
     "execution_count": 90,
     "metadata": {},
     "output_type": "execute_result"
    }
   ],
   "source": [
    "y_info"
   ]
  },
  {
   "cell_type": "code",
   "execution_count": 91,
   "id": "584cdf57",
   "metadata": {},
   "outputs": [
    {
     "data": {
      "text/html": [
       "<div>\n",
       "<style scoped>\n",
       "    .dataframe tbody tr th:only-of-type {\n",
       "        vertical-align: middle;\n",
       "    }\n",
       "\n",
       "    .dataframe tbody tr th {\n",
       "        vertical-align: top;\n",
       "    }\n",
       "\n",
       "    .dataframe thead th {\n",
       "        text-align: right;\n",
       "    }\n",
       "</style>\n",
       "<table border=\"1\" class=\"dataframe\">\n",
       "  <thead>\n",
       "    <tr style=\"text-align: right;\">\n",
       "      <th></th>\n",
       "      <th>index</th>\n",
       "      <th>mora</th>\n",
       "    </tr>\n",
       "  </thead>\n",
       "  <tbody>\n",
       "    <tr>\n",
       "      <th>0</th>\n",
       "      <td>5719</td>\n",
       "      <td>1</td>\n",
       "    </tr>\n",
       "    <tr>\n",
       "      <th>1</th>\n",
       "      <td>2404</td>\n",
       "      <td>1</td>\n",
       "    </tr>\n",
       "    <tr>\n",
       "      <th>2</th>\n",
       "      <td>4625</td>\n",
       "      <td>1</td>\n",
       "    </tr>\n",
       "    <tr>\n",
       "      <th>3</th>\n",
       "      <td>6015</td>\n",
       "      <td>0</td>\n",
       "    </tr>\n",
       "    <tr>\n",
       "      <th>4</th>\n",
       "      <td>5346</td>\n",
       "      <td>0</td>\n",
       "    </tr>\n",
       "    <tr>\n",
       "      <th>...</th>\n",
       "      <td>...</td>\n",
       "      <td>...</td>\n",
       "    </tr>\n",
       "    <tr>\n",
       "      <th>6714</th>\n",
       "      <td>456</td>\n",
       "      <td>0</td>\n",
       "    </tr>\n",
       "    <tr>\n",
       "      <th>6715</th>\n",
       "      <td>6017</td>\n",
       "      <td>1</td>\n",
       "    </tr>\n",
       "    <tr>\n",
       "      <th>6716</th>\n",
       "      <td>709</td>\n",
       "      <td>0</td>\n",
       "    </tr>\n",
       "    <tr>\n",
       "      <th>6717</th>\n",
       "      <td>8366</td>\n",
       "      <td>1</td>\n",
       "    </tr>\n",
       "    <tr>\n",
       "      <th>6718</th>\n",
       "      <td>1146</td>\n",
       "      <td>0</td>\n",
       "    </tr>\n",
       "  </tbody>\n",
       "</table>\n",
       "<p>6719 rows × 2 columns</p>\n",
       "</div>"
      ],
      "text/plain": [
       "      index mora\n",
       "0      5719    1\n",
       "1      2404    1\n",
       "2      4625    1\n",
       "3      6015    0\n",
       "4      5346    0\n",
       "...     ...  ...\n",
       "6714    456    0\n",
       "6715   6017    1\n",
       "6716    709    0\n",
       "6717   8366    1\n",
       "6718   1146    0\n",
       "\n",
       "[6719 rows x 2 columns]"
      ]
     },
     "execution_count": 91,
     "metadata": {},
     "output_type": "execute_result"
    }
   ],
   "source": [
    "y_info=ytrain.reset_index();y_info#indice"
   ]
  },
  {
   "cell_type": "code",
   "execution_count": 92,
   "id": "07ba21a4",
   "metadata": {},
   "outputs": [
    {
     "data": {
      "text/html": [
       "<div>\n",
       "<style scoped>\n",
       "    .dataframe tbody tr th:only-of-type {\n",
       "        vertical-align: middle;\n",
       "    }\n",
       "\n",
       "    .dataframe tbody tr th {\n",
       "        vertical-align: top;\n",
       "    }\n",
       "\n",
       "    .dataframe thead th {\n",
       "        text-align: right;\n",
       "    }\n",
       "</style>\n",
       "<table border=\"1\" class=\"dataframe\">\n",
       "  <thead>\n",
       "    <tr style=\"text-align: right;\">\n",
       "      <th></th>\n",
       "      <th>index</th>\n",
       "      <th>mora</th>\n",
       "    </tr>\n",
       "  </thead>\n",
       "  <tbody>\n",
       "    <tr>\n",
       "      <th>0</th>\n",
       "      <td>5719</td>\n",
       "      <td>1</td>\n",
       "    </tr>\n",
       "    <tr>\n",
       "      <th>1</th>\n",
       "      <td>2404</td>\n",
       "      <td>1</td>\n",
       "    </tr>\n",
       "    <tr>\n",
       "      <th>2</th>\n",
       "      <td>4625</td>\n",
       "      <td>1</td>\n",
       "    </tr>\n",
       "    <tr>\n",
       "      <th>3</th>\n",
       "      <td>6015</td>\n",
       "      <td>0</td>\n",
       "    </tr>\n",
       "    <tr>\n",
       "      <th>4</th>\n",
       "      <td>5346</td>\n",
       "      <td>0</td>\n",
       "    </tr>\n",
       "    <tr>\n",
       "      <th>...</th>\n",
       "      <td>...</td>\n",
       "      <td>...</td>\n",
       "    </tr>\n",
       "    <tr>\n",
       "      <th>6714</th>\n",
       "      <td>456</td>\n",
       "      <td>0</td>\n",
       "    </tr>\n",
       "    <tr>\n",
       "      <th>6715</th>\n",
       "      <td>6017</td>\n",
       "      <td>1</td>\n",
       "    </tr>\n",
       "    <tr>\n",
       "      <th>6716</th>\n",
       "      <td>709</td>\n",
       "      <td>0</td>\n",
       "    </tr>\n",
       "    <tr>\n",
       "      <th>6717</th>\n",
       "      <td>8366</td>\n",
       "      <td>1</td>\n",
       "    </tr>\n",
       "    <tr>\n",
       "      <th>6718</th>\n",
       "      <td>1146</td>\n",
       "      <td>0</td>\n",
       "    </tr>\n",
       "  </tbody>\n",
       "</table>\n",
       "<p>6719 rows × 2 columns</p>\n",
       "</div>"
      ],
      "text/plain": [
       "      index mora\n",
       "0      5719    1\n",
       "1      2404    1\n",
       "2      4625    1\n",
       "3      6015    0\n",
       "4      5346    0\n",
       "...     ...  ...\n",
       "6714    456    0\n",
       "6715   6017    1\n",
       "6716    709    0\n",
       "6717   8366    1\n",
       "6718   1146    0\n",
       "\n",
       "[6719 rows x 2 columns]"
      ]
     },
     "execution_count": 92,
     "metadata": {},
     "output_type": "execute_result"
    }
   ],
   "source": [
    "y_info"
   ]
  },
  {
   "cell_type": "code",
   "execution_count": 93,
   "id": "506aa4a1",
   "metadata": {},
   "outputs": [],
   "source": [
    "y_info['y_train_predicho_prob']=y_train_predicho_prob"
   ]
  },
  {
   "cell_type": "code",
   "execution_count": 94,
   "id": "f7d76c2e",
   "metadata": {},
   "outputs": [
    {
     "data": {
      "text/html": [
       "<div>\n",
       "<style scoped>\n",
       "    .dataframe tbody tr th:only-of-type {\n",
       "        vertical-align: middle;\n",
       "    }\n",
       "\n",
       "    .dataframe tbody tr th {\n",
       "        vertical-align: top;\n",
       "    }\n",
       "\n",
       "    .dataframe thead th {\n",
       "        text-align: right;\n",
       "    }\n",
       "</style>\n",
       "<table border=\"1\" class=\"dataframe\">\n",
       "  <thead>\n",
       "    <tr style=\"text-align: right;\">\n",
       "      <th></th>\n",
       "      <th>index</th>\n",
       "      <th>mora</th>\n",
       "      <th>y_train_predicho_prob</th>\n",
       "    </tr>\n",
       "  </thead>\n",
       "  <tbody>\n",
       "    <tr>\n",
       "      <th>0</th>\n",
       "      <td>5719</td>\n",
       "      <td>1</td>\n",
       "      <td>0.889712</td>\n",
       "    </tr>\n",
       "    <tr>\n",
       "      <th>1</th>\n",
       "      <td>2404</td>\n",
       "      <td>1</td>\n",
       "      <td>0.730542</td>\n",
       "    </tr>\n",
       "    <tr>\n",
       "      <th>2</th>\n",
       "      <td>4625</td>\n",
       "      <td>1</td>\n",
       "      <td>0.715963</td>\n",
       "    </tr>\n",
       "    <tr>\n",
       "      <th>3</th>\n",
       "      <td>6015</td>\n",
       "      <td>0</td>\n",
       "      <td>0.812668</td>\n",
       "    </tr>\n",
       "    <tr>\n",
       "      <th>4</th>\n",
       "      <td>5346</td>\n",
       "      <td>0</td>\n",
       "      <td>0.683459</td>\n",
       "    </tr>\n",
       "    <tr>\n",
       "      <th>...</th>\n",
       "      <td>...</td>\n",
       "      <td>...</td>\n",
       "      <td>...</td>\n",
       "    </tr>\n",
       "    <tr>\n",
       "      <th>6714</th>\n",
       "      <td>456</td>\n",
       "      <td>0</td>\n",
       "      <td>0.847159</td>\n",
       "    </tr>\n",
       "    <tr>\n",
       "      <th>6715</th>\n",
       "      <td>6017</td>\n",
       "      <td>1</td>\n",
       "      <td>0.798402</td>\n",
       "    </tr>\n",
       "    <tr>\n",
       "      <th>6716</th>\n",
       "      <td>709</td>\n",
       "      <td>0</td>\n",
       "      <td>0.774132</td>\n",
       "    </tr>\n",
       "    <tr>\n",
       "      <th>6717</th>\n",
       "      <td>8366</td>\n",
       "      <td>1</td>\n",
       "      <td>0.806615</td>\n",
       "    </tr>\n",
       "    <tr>\n",
       "      <th>6718</th>\n",
       "      <td>1146</td>\n",
       "      <td>0</td>\n",
       "      <td>0.726503</td>\n",
       "    </tr>\n",
       "  </tbody>\n",
       "</table>\n",
       "<p>6719 rows × 3 columns</p>\n",
       "</div>"
      ],
      "text/plain": [
       "      index mora  y_train_predicho_prob\n",
       "0      5719    1               0.889712\n",
       "1      2404    1               0.730542\n",
       "2      4625    1               0.715963\n",
       "3      6015    0               0.812668\n",
       "4      5346    0               0.683459\n",
       "...     ...  ...                    ...\n",
       "6714    456    0               0.847159\n",
       "6715   6017    1               0.798402\n",
       "6716    709    0               0.774132\n",
       "6717   8366    1               0.806615\n",
       "6718   1146    0               0.726503\n",
       "\n",
       "[6719 rows x 3 columns]"
      ]
     },
     "execution_count": 94,
     "metadata": {},
     "output_type": "execute_result"
    }
   ],
   "source": [
    "y_info"
   ]
  },
  {
   "cell_type": "markdown",
   "id": "b9ecca41",
   "metadata": {},
   "source": [
    "### Gini(y_real_clase,y_predicho_probalidad,signo='+')"
   ]
  },
  {
   "cell_type": "code",
   "execution_count": 95,
   "id": "b0f2bf46",
   "metadata": {},
   "outputs": [
    {
     "data": {
      "text/plain": [
       "0.308371306456122"
      ]
     },
     "execution_count": 95,
     "metadata": {},
     "output_type": "execute_result"
    }
   ],
   "source": [
    "Gini(y_info['mora'],y_info['y_train_predicho_prob'])"
   ]
  },
  {
   "cell_type": "code",
   "execution_count": 96,
   "id": "aad093ea",
   "metadata": {},
   "outputs": [
    {
     "name": "stdout",
     "output_type": "stream",
     "text": [
      "<class 'pandas.core.frame.DataFrame'>\n",
      "RangeIndex: 6719 entries, 0 to 6718\n",
      "Data columns (total 3 columns):\n",
      " #   Column                 Non-Null Count  Dtype  \n",
      "---  ------                 --------------  -----  \n",
      " 0   index                  6719 non-null   int64  \n",
      " 1   mora                   6719 non-null   object \n",
      " 2   y_train_predicho_prob  6719 non-null   float64\n",
      "dtypes: float64(1), int64(1), object(1)\n",
      "memory usage: 157.6+ KB\n"
     ]
    }
   ],
   "source": [
    "y_info.info()"
   ]
  },
  {
   "cell_type": "markdown",
   "id": "88933f20",
   "metadata": {},
   "source": [
    "<a id=\"section612\"></a>\n",
    "## <font color=\"#004D7F\">6.1.2 Forma_2</font>"
   ]
  },
  {
   "cell_type": "code",
   "execution_count": 97,
   "id": "71a7471a",
   "metadata": {},
   "outputs": [],
   "source": [
    "from sklearn import metrics"
   ]
  },
  {
   "cell_type": "markdown",
   "id": "41ae44fb",
   "metadata": {},
   "source": [
    "### Para hallar el GINI NECESITAMOS LA VARIABLE TARGET EN formato NUMERICO"
   ]
  },
  {
   "cell_type": "markdown",
   "id": "dc26d511",
   "metadata": {},
   "source": [
    "### paso 1"
   ]
  },
  {
   "cell_type": "code",
   "execution_count": 98,
   "id": "045a93e3",
   "metadata": {},
   "outputs": [],
   "source": [
    "y_info['mora_numerico']=y_info.mora.astype(int)"
   ]
  },
  {
   "cell_type": "code",
   "execution_count": 99,
   "id": "ed254d04",
   "metadata": {},
   "outputs": [
    {
     "data": {
      "text/plain": [
       "Index(['index', 'mora', 'y_train_predicho_prob', 'mora_numerico'], dtype='object')"
      ]
     },
     "execution_count": 99,
     "metadata": {},
     "output_type": "execute_result"
    }
   ],
   "source": [
    "y_info.columns"
   ]
  },
  {
   "cell_type": "code",
   "execution_count": 100,
   "id": "83855b4c",
   "metadata": {},
   "outputs": [
    {
     "name": "stdout",
     "output_type": "stream",
     "text": [
      "<class 'pandas.core.frame.DataFrame'>\n",
      "RangeIndex: 6719 entries, 0 to 6718\n",
      "Data columns (total 4 columns):\n",
      " #   Column                 Non-Null Count  Dtype  \n",
      "---  ------                 --------------  -----  \n",
      " 0   index                  6719 non-null   int64  \n",
      " 1   mora                   6719 non-null   object \n",
      " 2   y_train_predicho_prob  6719 non-null   float64\n",
      " 3   mora_numerico          6719 non-null   int32  \n",
      "dtypes: float64(1), int32(1), int64(1), object(1)\n",
      "memory usage: 183.8+ KB\n"
     ]
    }
   ],
   "source": [
    "y_info.info()"
   ]
  },
  {
   "cell_type": "markdown",
   "id": "17af6b01",
   "metadata": {},
   "source": [
    "### paso 2"
   ]
  },
  {
   "cell_type": "code",
   "execution_count": 101,
   "id": "d88246fd",
   "metadata": {},
   "outputs": [
    {
     "data": {
      "text/plain": [
       "array([[0.11028806, 0.88971194],\n",
       "       [0.26945827, 0.73054173],\n",
       "       [0.28403744, 0.71596256],\n",
       "       ...,\n",
       "       [0.22586817, 0.77413183],\n",
       "       [0.19338547, 0.80661453],\n",
       "       [0.27349715, 0.72650285]])"
      ]
     },
     "execution_count": 101,
     "metadata": {},
     "output_type": "execute_result"
    }
   ],
   "source": [
    "prob_final=modelito.predict_proba(xtrain);prob_final# probalidad de la clase 1 y la clase 0"
   ]
  },
  {
   "cell_type": "code",
   "execution_count": 102,
   "id": "98e3f964",
   "metadata": {},
   "outputs": [
    {
     "data": {
      "text/plain": [
       "array([0.88971194, 0.73054173, 0.71596256, ..., 0.77413183, 0.80661453,\n",
       "       0.72650285])"
      ]
     },
     "execution_count": 102,
     "metadata": {},
     "output_type": "execute_result"
    }
   ],
   "source": [
    "prob_f2 = prob_final[:,1];prob_f2# probalidad de la clase 1"
   ]
  },
  {
   "cell_type": "markdown",
   "id": "557f4397",
   "metadata": {},
   "source": [
    "### paso 3"
   ]
  },
  {
   "cell_type": "code",
   "execution_count": 103,
   "id": "e9de6c00",
   "metadata": {},
   "outputs": [],
   "source": [
    "punto_de_corte=0.5"
   ]
  },
  {
   "cell_type": "markdown",
   "id": "560840bc",
   "metadata": {},
   "source": [
    "tpr= tasa de verdaderos positivos //  fpr = tasa de falsos positivos"
   ]
  },
  {
   "cell_type": "code",
   "execution_count": 104,
   "id": "50ea6b87",
   "metadata": {},
   "outputs": [],
   "source": [
    "fpr, tpr, punto_de_corte = metrics.roc_curve(y_info[\"mora_numerico\"], prob_f2)"
   ]
  },
  {
   "cell_type": "code",
   "execution_count": 105,
   "id": "590107f9",
   "metadata": {},
   "outputs": [
    {
     "data": {
      "text/plain": [
       "0.654185653228061"
      ]
     },
     "execution_count": 105,
     "metadata": {},
     "output_type": "execute_result"
    }
   ],
   "source": [
    "roc_auc = metrics.auc(fpr, tpr)\n",
    "roc_auc"
   ]
  },
  {
   "cell_type": "markdown",
   "id": "117fefbc",
   "metadata": {},
   "source": [
    "### paso 4"
   ]
  },
  {
   "cell_type": "code",
   "execution_count": 106,
   "id": "0b3465b3",
   "metadata": {},
   "outputs": [
    {
     "data": {
      "text/plain": [
       "0.308371306456122"
      ]
     },
     "execution_count": 106,
     "metadata": {},
     "output_type": "execute_result"
    }
   ],
   "source": [
    "Gini=2*roc_auc -1\n",
    "Gini"
   ]
  },
  {
   "cell_type": "markdown",
   "id": "5cf0b459",
   "metadata": {},
   "source": [
    "### paso 5 -> kolmogorov "
   ]
  },
  {
   "cell_type": "code",
   "execution_count": 107,
   "id": "f4797b5b",
   "metadata": {},
   "outputs": [
    {
     "data": {
      "image/png": "[encoded data removed]",
      "text/plain": [
       "<Figure size 432x288 with 1 Axes>"
      ]
     },
     "metadata": {
      "needs_background": "light"
     },
     "output_type": "display_data"
    }
   ],
   "source": [
    "import matplotlib.pyplot as plt\n",
    "plt.title('Receiver Operating Characteristic')\n",
    "plt.plot(fpr, tpr, 'b', label = 'AUC = %0.2f' % roc_auc)\n",
    "plt.legend(loc = 'lower right')\n",
    "plt.plot([0, 1], [0, 1],'r--')\n",
    "plt.xlim([0, 1])\n",
    "plt.ylim([0, 1])\n",
    "plt.ylabel('True Positive Rate')\n",
    "plt.xlabel('False Positive Rate')\n",
    "plt.show()"
   ]
  },
  {
   "cell_type": "code",
   "execution_count": 108,
   "id": "da2b63ab",
   "metadata": {},
   "outputs": [
    {
     "name": "stdout",
     "output_type": "stream",
     "text": [
      "el ratio ks es 0.24:\n"
     ]
    }
   ],
   "source": [
    "ks=max(tpr-fpr)\n",
    "print(\"el ratio ks es %0.2f:\" % ks)"
   ]
  },
  {
   "cell_type": "code",
   "execution_count": 109,
   "id": "a4cdac44",
   "metadata": {},
   "outputs": [
    {
     "data": {
      "text/plain": [
       "<matplotlib.legend.Legend at 0x2d31d3ba760>"
      ]
     },
     "execution_count": 109,
     "metadata": {},
     "output_type": "execute_result"
    },
    {
     "data": {
      "image/png": "[encoded data removed]",
      "text/plain": [
       "<Figure size 432x288 with 1 Axes>"
      ]
     },
     "metadata": {
      "needs_background": "light"
     },
     "output_type": "display_data"
    }
   ],
   "source": [
    "import matplotlib.pyplot as plt\n",
    "import numpy as np\n",
    "#non defaults\n",
    "# sort the data:\n",
    "data_sorted = np.sort(fpr)\n",
    "\n",
    "# calculate the proportional values of samples\n",
    "p = 1. * np.arange(len(fpr)) / (len(fpr) - 1)\n",
    "\n",
    "#defaults\n",
    "data_sorted2= np.sort(tpr)\n",
    "\n",
    "# calculate the proportional values of samples\n",
    "p2 = 1. * np.arange(len(tpr)) / (len(tpr) - 1)\n",
    "# plot the sorted data:\n",
    "fig = plt.figure()\n",
    "#ax1 = fig.add_subplot(121)\n",
    "#ax1.plot(p, data_sorted)\n",
    "#ax1.set_xlabel('$p$')\n",
    "#ax1.set_ylabel('$x$')\n",
    "\n",
    "ax1 = fig.add_subplot(122)\n",
    "#def\n",
    "ax1.plot(data_sorted2, p2,'r',label = 'True positive rate')\n",
    "ax1.set_xlabel('$x$')\n",
    "ax1.set_ylabel('$p$')\n",
    "#nodef\n",
    "ax1.plot(data_sorted, p,'b', label = 'False positive rate')\n",
    "plt.legend(loc = 'lower right')"
   ]
  },
  {
   "cell_type": "markdown",
   "id": "fab8e93a",
   "metadata": {},
   "source": [
    "<a id=\"section62\"></a>\n",
    "## <font color=\"#004D7F\">6.2 Matrix de Confusion</font>"
   ]
  },
  {
   "cell_type": "code",
   "execution_count": 110,
   "id": "f1f1a56f",
   "metadata": {},
   "outputs": [
    {
     "data": {
      "text/html": [
       "<div>\n",
       "<style scoped>\n",
       "    .dataframe tbody tr th:only-of-type {\n",
       "        vertical-align: middle;\n",
       "    }\n",
       "\n",
       "    .dataframe tbody tr th {\n",
       "        vertical-align: top;\n",
       "    }\n",
       "\n",
       "    .dataframe thead th {\n",
       "        text-align: right;\n",
       "    }\n",
       "</style>\n",
       "<table border=\"1\" class=\"dataframe\">\n",
       "  <thead>\n",
       "    <tr style=\"text-align: right;\">\n",
       "      <th></th>\n",
       "      <th>index</th>\n",
       "      <th>mora</th>\n",
       "      <th>y_train_predicho_prob</th>\n",
       "      <th>mora_numerico</th>\n",
       "      <th>y_train_predicho_clase</th>\n",
       "    </tr>\n",
       "  </thead>\n",
       "  <tbody>\n",
       "    <tr>\n",
       "      <th>0</th>\n",
       "      <td>5719</td>\n",
       "      <td>1</td>\n",
       "      <td>0.889712</td>\n",
       "      <td>1</td>\n",
       "      <td>1</td>\n",
       "    </tr>\n",
       "    <tr>\n",
       "      <th>1</th>\n",
       "      <td>2404</td>\n",
       "      <td>1</td>\n",
       "      <td>0.730542</td>\n",
       "      <td>1</td>\n",
       "      <td>1</td>\n",
       "    </tr>\n",
       "    <tr>\n",
       "      <th>2</th>\n",
       "      <td>4625</td>\n",
       "      <td>1</td>\n",
       "      <td>0.715963</td>\n",
       "      <td>1</td>\n",
       "      <td>1</td>\n",
       "    </tr>\n",
       "    <tr>\n",
       "      <th>3</th>\n",
       "      <td>6015</td>\n",
       "      <td>0</td>\n",
       "      <td>0.812668</td>\n",
       "      <td>0</td>\n",
       "      <td>1</td>\n",
       "    </tr>\n",
       "    <tr>\n",
       "      <th>4</th>\n",
       "      <td>5346</td>\n",
       "      <td>0</td>\n",
       "      <td>0.683459</td>\n",
       "      <td>0</td>\n",
       "      <td>1</td>\n",
       "    </tr>\n",
       "    <tr>\n",
       "      <th>...</th>\n",
       "      <td>...</td>\n",
       "      <td>...</td>\n",
       "      <td>...</td>\n",
       "      <td>...</td>\n",
       "      <td>...</td>\n",
       "    </tr>\n",
       "    <tr>\n",
       "      <th>6714</th>\n",
       "      <td>456</td>\n",
       "      <td>0</td>\n",
       "      <td>0.847159</td>\n",
       "      <td>0</td>\n",
       "      <td>1</td>\n",
       "    </tr>\n",
       "    <tr>\n",
       "      <th>6715</th>\n",
       "      <td>6017</td>\n",
       "      <td>1</td>\n",
       "      <td>0.798402</td>\n",
       "      <td>1</td>\n",
       "      <td>1</td>\n",
       "    </tr>\n",
       "    <tr>\n",
       "      <th>6716</th>\n",
       "      <td>709</td>\n",
       "      <td>0</td>\n",
       "      <td>0.774132</td>\n",
       "      <td>0</td>\n",
       "      <td>1</td>\n",
       "    </tr>\n",
       "    <tr>\n",
       "      <th>6717</th>\n",
       "      <td>8366</td>\n",
       "      <td>1</td>\n",
       "      <td>0.806615</td>\n",
       "      <td>1</td>\n",
       "      <td>1</td>\n",
       "    </tr>\n",
       "    <tr>\n",
       "      <th>6718</th>\n",
       "      <td>1146</td>\n",
       "      <td>0</td>\n",
       "      <td>0.726503</td>\n",
       "      <td>0</td>\n",
       "      <td>1</td>\n",
       "    </tr>\n",
       "  </tbody>\n",
       "</table>\n",
       "<p>6719 rows × 5 columns</p>\n",
       "</div>"
      ],
      "text/plain": [
       "      index mora  y_train_predicho_prob  mora_numerico  y_train_predicho_clase\n",
       "0      5719    1               0.889712              1                       1\n",
       "1      2404    1               0.730542              1                       1\n",
       "2      4625    1               0.715963              1                       1\n",
       "3      6015    0               0.812668              0                       1\n",
       "4      5346    0               0.683459              0                       1\n",
       "...     ...  ...                    ...            ...                     ...\n",
       "6714    456    0               0.847159              0                       1\n",
       "6715   6017    1               0.798402              1                       1\n",
       "6716    709    0               0.774132              0                       1\n",
       "6717   8366    1               0.806615              1                       1\n",
       "6718   1146    0               0.726503              0                       1\n",
       "\n",
       "[6719 rows x 5 columns]"
      ]
     },
     "execution_count": 110,
     "metadata": {},
     "output_type": "execute_result"
    }
   ],
   "source": [
    "punto_de_corte = 0.5\n",
    "\n",
    "y_info[\"y_train_predicho_clase\"]=np.where(y_train_predicho_prob>punto_de_corte, 1, 0)\n",
    "y_info"
   ]
  },
  {
   "cell_type": "markdown",
   "id": "a0a5c09f",
   "metadata": {},
   "source": [
    "<a id=\"section621\"></a>\n",
    "## <font color=\"#004D7F\">6.2.1 Creando tablita</font>"
   ]
  },
  {
   "cell_type": "markdown",
   "id": "69577b05",
   "metadata": {},
   "source": [
    "<a id=\"section6211\"></a>\n",
    "## <font color=\"#004D7F\">6.2.1.1 Caculando</font>"
   ]
  },
  {
   "cell_type": "code",
   "execution_count": 111,
   "id": "c99469f4",
   "metadata": {},
   "outputs": [
    {
     "data": {
      "text/plain": [
       "1    6085\n",
       "0     634\n",
       "Name: y_train_predicho_clase, dtype: int64"
      ]
     },
     "execution_count": 111,
     "metadata": {},
     "output_type": "execute_result"
    }
   ],
   "source": [
    "y_info.y_train_predicho_clase.value_counts()"
   ]
  },
  {
   "cell_type": "code",
   "execution_count": 112,
   "id": "97f64b28",
   "metadata": {},
   "outputs": [
    {
     "data": {
      "text/plain": [
       "1    4730\n",
       "0    1989\n",
       "Name: mora, dtype: int64"
      ]
     },
     "execution_count": 112,
     "metadata": {},
     "output_type": "execute_result"
    }
   ],
   "source": [
    "y_info.mora.value_counts()"
   ]
  },
  {
   "cell_type": "code",
   "execution_count": 113,
   "id": "ba5c7148",
   "metadata": {},
   "outputs": [
    {
     "data": {
      "text/html": [
       "<div>\n",
       "<style scoped>\n",
       "    .dataframe tbody tr th:only-of-type {\n",
       "        vertical-align: middle;\n",
       "    }\n",
       "\n",
       "    .dataframe tbody tr th {\n",
       "        vertical-align: top;\n",
       "    }\n",
       "\n",
       "    .dataframe thead th {\n",
       "        text-align: right;\n",
       "    }\n",
       "</style>\n",
       "<table border=\"1\" class=\"dataframe\">\n",
       "  <thead>\n",
       "    <tr style=\"text-align: right;\">\n",
       "      <th>y_train_predicho_clase</th>\n",
       "      <th>0</th>\n",
       "      <th>1</th>\n",
       "    </tr>\n",
       "    <tr>\n",
       "      <th>mora</th>\n",
       "      <th></th>\n",
       "      <th></th>\n",
       "    </tr>\n",
       "  </thead>\n",
       "  <tbody>\n",
       "    <tr>\n",
       "      <th>0</th>\n",
       "      <td>385</td>\n",
       "      <td>1604</td>\n",
       "    </tr>\n",
       "    <tr>\n",
       "      <th>1</th>\n",
       "      <td>249</td>\n",
       "      <td>4481</td>\n",
       "    </tr>\n",
       "  </tbody>\n",
       "</table>\n",
       "</div>"
      ],
      "text/plain": [
       "y_train_predicho_clase    0     1\n",
       "mora                             \n",
       "0                       385  1604\n",
       "1                       249  4481"
      ]
     },
     "execution_count": 113,
     "metadata": {},
     "output_type": "execute_result"
    }
   ],
   "source": [
    "pd.crosstab(y_info.mora,y_info.y_train_predicho_clase)"
   ]
  },
  {
   "cell_type": "code",
   "execution_count": 114,
   "id": "b44a0aef",
   "metadata": {},
   "outputs": [
    {
     "data": {
      "text/plain": [
       "array([[ 385, 1604],\n",
       "       [ 249, 4481]])"
      ]
     },
     "execution_count": 114,
     "metadata": {},
     "output_type": "execute_result"
    }
   ],
   "source": [
    "tabla=np.array([[385,1604],[249,4481]]);tabla"
   ]
  },
  {
   "cell_type": "code",
   "execution_count": 115,
   "id": "5448035d",
   "metadata": {},
   "outputs": [
    {
     "data": {
      "text/plain": [
       "385"
      ]
     },
     "execution_count": 115,
     "metadata": {},
     "output_type": "execute_result"
    }
   ],
   "source": [
    "vn=tabla[0,0];vn"
   ]
  },
  {
   "cell_type": "code",
   "execution_count": 116,
   "id": "8f2be865",
   "metadata": {},
   "outputs": [
    {
     "data": {
      "text/plain": [
       "4481"
      ]
     },
     "execution_count": 116,
     "metadata": {},
     "output_type": "execute_result"
    }
   ],
   "source": [
    "vp=tabla[1,1];vp"
   ]
  },
  {
   "cell_type": "code",
   "execution_count": 117,
   "id": "5ba3602a",
   "metadata": {},
   "outputs": [
    {
     "data": {
      "text/plain": [
       "1604"
      ]
     },
     "execution_count": 117,
     "metadata": {},
     "output_type": "execute_result"
    }
   ],
   "source": [
    "fp=tabla[0,1];fp"
   ]
  },
  {
   "cell_type": "code",
   "execution_count": 118,
   "id": "40c72244",
   "metadata": {},
   "outputs": [
    {
     "data": {
      "text/plain": [
       "249"
      ]
     },
     "execution_count": 118,
     "metadata": {},
     "output_type": "execute_result"
    }
   ],
   "source": [
    "fn=tabla[1,0];fn"
   ]
  },
  {
   "cell_type": "code",
   "execution_count": 119,
   "id": "b8b7c7f6",
   "metadata": {},
   "outputs": [
    {
     "data": {
      "text/plain": [
       "6719"
      ]
     },
     "execution_count": 119,
     "metadata": {},
     "output_type": "execute_result"
    }
   ],
   "source": [
    "total=vp+vn+fp+fn;total"
   ]
  },
  {
   "cell_type": "code",
   "execution_count": 120,
   "id": "4c79db7a",
   "metadata": {},
   "outputs": [
    {
     "data": {
      "text/plain": [
       "0.9473572938689218"
      ]
     },
     "execution_count": 120,
     "metadata": {},
     "output_type": "execute_result"
    }
   ],
   "source": [
    "sensibilidad=vp/(vp+fn);sensibilidad"
   ]
  },
  {
   "cell_type": "code",
   "execution_count": 121,
   "id": "9e82e5a6",
   "metadata": {},
   "outputs": [
    {
     "data": {
      "text/plain": [
       "0.19356460532931122"
      ]
     },
     "execution_count": 121,
     "metadata": {},
     "output_type": "execute_result"
    }
   ],
   "source": [
    "especificidad=vn/(vn+fp);especificidad"
   ]
  },
  {
   "cell_type": "code",
   "execution_count": 122,
   "id": "bbf8bc13",
   "metadata": {},
   "outputs": [
    {
     "data": {
      "text/plain": [
       "0.7364009860312243"
      ]
     },
     "execution_count": 122,
     "metadata": {},
     "output_type": "execute_result"
    }
   ],
   "source": [
    "precision=vp/(fp+vp);precision"
   ]
  },
  {
   "cell_type": "code",
   "execution_count": 123,
   "id": "e452231f",
   "metadata": {},
   "outputs": [
    {
     "data": {
      "text/plain": [
       "0.6072555205047319"
      ]
     },
     "execution_count": 123,
     "metadata": {},
     "output_type": "execute_result"
    }
   ],
   "source": [
    "valor_predictivo_negativo=vn/(vn+fn);valor_predictivo_negativo"
   ]
  },
  {
   "cell_type": "markdown",
   "id": "069cba6d",
   "metadata": {},
   "source": [
    "<a id=\"section6212\"></a>\n",
    "## <font color=\"#004D7F\">6.2.1.2 Codigo</font>"
   ]
  },
  {
   "cell_type": "code",
   "execution_count": 124,
   "id": "4da3a770",
   "metadata": {},
   "outputs": [],
   "source": [
    "from sklearn.metrics import confusion_matrix\n",
    "from sklearn.metrics import classification_report\n",
    "from sklearn import metrics"
   ]
  },
  {
   "cell_type": "code",
   "execution_count": 125,
   "id": "2cad72d9",
   "metadata": {},
   "outputs": [
    {
     "data": {
      "text/html": [
       "<div>\n",
       "<style scoped>\n",
       "    .dataframe tbody tr th:only-of-type {\n",
       "        vertical-align: middle;\n",
       "    }\n",
       "\n",
       "    .dataframe tbody tr th {\n",
       "        vertical-align: top;\n",
       "    }\n",
       "\n",
       "    .dataframe thead th {\n",
       "        text-align: right;\n",
       "    }\n",
       "</style>\n",
       "<table border=\"1\" class=\"dataframe\">\n",
       "  <thead>\n",
       "    <tr style=\"text-align: right;\">\n",
       "      <th></th>\n",
       "      <th>index</th>\n",
       "      <th>mora</th>\n",
       "      <th>y_train_predicho_prob</th>\n",
       "      <th>mora_numerico</th>\n",
       "      <th>y_train_predicho_clase</th>\n",
       "    </tr>\n",
       "  </thead>\n",
       "  <tbody>\n",
       "    <tr>\n",
       "      <th>0</th>\n",
       "      <td>5719</td>\n",
       "      <td>1</td>\n",
       "      <td>0.889712</td>\n",
       "      <td>1</td>\n",
       "      <td>1</td>\n",
       "    </tr>\n",
       "    <tr>\n",
       "      <th>1</th>\n",
       "      <td>2404</td>\n",
       "      <td>1</td>\n",
       "      <td>0.730542</td>\n",
       "      <td>1</td>\n",
       "      <td>1</td>\n",
       "    </tr>\n",
       "    <tr>\n",
       "      <th>2</th>\n",
       "      <td>4625</td>\n",
       "      <td>1</td>\n",
       "      <td>0.715963</td>\n",
       "      <td>1</td>\n",
       "      <td>1</td>\n",
       "    </tr>\n",
       "    <tr>\n",
       "      <th>3</th>\n",
       "      <td>6015</td>\n",
       "      <td>0</td>\n",
       "      <td>0.812668</td>\n",
       "      <td>0</td>\n",
       "      <td>1</td>\n",
       "    </tr>\n",
       "    <tr>\n",
       "      <th>4</th>\n",
       "      <td>5346</td>\n",
       "      <td>0</td>\n",
       "      <td>0.683459</td>\n",
       "      <td>0</td>\n",
       "      <td>1</td>\n",
       "    </tr>\n",
       "    <tr>\n",
       "      <th>...</th>\n",
       "      <td>...</td>\n",
       "      <td>...</td>\n",
       "      <td>...</td>\n",
       "      <td>...</td>\n",
       "      <td>...</td>\n",
       "    </tr>\n",
       "    <tr>\n",
       "      <th>6714</th>\n",
       "      <td>456</td>\n",
       "      <td>0</td>\n",
       "      <td>0.847159</td>\n",
       "      <td>0</td>\n",
       "      <td>1</td>\n",
       "    </tr>\n",
       "    <tr>\n",
       "      <th>6715</th>\n",
       "      <td>6017</td>\n",
       "      <td>1</td>\n",
       "      <td>0.798402</td>\n",
       "      <td>1</td>\n",
       "      <td>1</td>\n",
       "    </tr>\n",
       "    <tr>\n",
       "      <th>6716</th>\n",
       "      <td>709</td>\n",
       "      <td>0</td>\n",
       "      <td>0.774132</td>\n",
       "      <td>0</td>\n",
       "      <td>1</td>\n",
       "    </tr>\n",
       "    <tr>\n",
       "      <th>6717</th>\n",
       "      <td>8366</td>\n",
       "      <td>1</td>\n",
       "      <td>0.806615</td>\n",
       "      <td>1</td>\n",
       "      <td>1</td>\n",
       "    </tr>\n",
       "    <tr>\n",
       "      <th>6718</th>\n",
       "      <td>1146</td>\n",
       "      <td>0</td>\n",
       "      <td>0.726503</td>\n",
       "      <td>0</td>\n",
       "      <td>1</td>\n",
       "    </tr>\n",
       "  </tbody>\n",
       "</table>\n",
       "<p>6719 rows × 5 columns</p>\n",
       "</div>"
      ],
      "text/plain": [
       "      index mora  y_train_predicho_prob  mora_numerico  y_train_predicho_clase\n",
       "0      5719    1               0.889712              1                       1\n",
       "1      2404    1               0.730542              1                       1\n",
       "2      4625    1               0.715963              1                       1\n",
       "3      6015    0               0.812668              0                       1\n",
       "4      5346    0               0.683459              0                       1\n",
       "...     ...  ...                    ...            ...                     ...\n",
       "6714    456    0               0.847159              0                       1\n",
       "6715   6017    1               0.798402              1                       1\n",
       "6716    709    0               0.774132              0                       1\n",
       "6717   8366    1               0.806615              1                       1\n",
       "6718   1146    0               0.726503              0                       1\n",
       "\n",
       "[6719 rows x 5 columns]"
      ]
     },
     "execution_count": 125,
     "metadata": {},
     "output_type": "execute_result"
    }
   ],
   "source": [
    "y_info"
   ]
  },
  {
   "cell_type": "code",
   "execution_count": 126,
   "id": "e6710a8e",
   "metadata": {},
   "outputs": [
    {
     "name": "stdout",
     "output_type": "stream",
     "text": [
      "<class 'pandas.core.frame.DataFrame'>\n",
      "RangeIndex: 6719 entries, 0 to 6718\n",
      "Data columns (total 5 columns):\n",
      " #   Column                  Non-Null Count  Dtype  \n",
      "---  ------                  --------------  -----  \n",
      " 0   index                   6719 non-null   int64  \n",
      " 1   mora                    6719 non-null   object \n",
      " 2   y_train_predicho_prob   6719 non-null   float64\n",
      " 3   mora_numerico           6719 non-null   int32  \n",
      " 4   y_train_predicho_clase  6719 non-null   int32  \n",
      "dtypes: float64(1), int32(2), int64(1), object(1)\n",
      "memory usage: 210.1+ KB\n"
     ]
    }
   ],
   "source": [
    "y_info.info()"
   ]
  },
  {
   "cell_type": "code",
   "execution_count": 127,
   "id": "1c73b283",
   "metadata": {},
   "outputs": [],
   "source": [
    "y_info['y_train_predicho_clase']=y_info['y_train_predicho_clase'].astype(str)"
   ]
  },
  {
   "cell_type": "code",
   "execution_count": 128,
   "id": "e777e44a",
   "metadata": {},
   "outputs": [
    {
     "name": "stdout",
     "output_type": "stream",
     "text": [
      "<class 'pandas.core.frame.DataFrame'>\n",
      "RangeIndex: 6719 entries, 0 to 6718\n",
      "Data columns (total 5 columns):\n",
      " #   Column                  Non-Null Count  Dtype  \n",
      "---  ------                  --------------  -----  \n",
      " 0   index                   6719 non-null   int64  \n",
      " 1   mora                    6719 non-null   object \n",
      " 2   y_train_predicho_prob   6719 non-null   float64\n",
      " 3   mora_numerico           6719 non-null   int32  \n",
      " 4   y_train_predicho_clase  6719 non-null   object \n",
      "dtypes: float64(1), int32(1), int64(1), object(2)\n",
      "memory usage: 236.3+ KB\n"
     ]
    }
   ],
   "source": [
    "y_info.info()"
   ]
  },
  {
   "cell_type": "code",
   "execution_count": 129,
   "id": "40c0eaeb",
   "metadata": {},
   "outputs": [
    {
     "name": "stdout",
     "output_type": "stream",
     "text": [
      "[[ 385 1604]\n",
      " [ 249 4481]]\n"
     ]
    }
   ],
   "source": [
    "print(confusion_matrix(y_info.mora,y_info.y_train_predicho_clase)) # real , predicho ambos deben estar formatop object"
   ]
  },
  {
   "cell_type": "code",
   "execution_count": 130,
   "id": "5772df45",
   "metadata": {},
   "outputs": [
    {
     "name": "stdout",
     "output_type": "stream",
     "text": [
      "              precision    recall  f1-score   support\n",
      "\n",
      "           0       0.61      0.19      0.29      1989\n",
      "           1       0.74      0.95      0.83      4730\n",
      "\n",
      "    accuracy                           0.72      6719\n",
      "   macro avg       0.67      0.57      0.56      6719\n",
      "weighted avg       0.70      0.72      0.67      6719\n",
      "\n"
     ]
    }
   ],
   "source": [
    "print(classification_report(y_info.mora,y_info.y_train_predicho_clase))"
   ]
  }
 ],
 "metadata": {
  "kernelspec": {
   "display_name": "Python 3 (ipykernel)",
   "language": "python",
   "name": "python3"
  },
  "language_info": {
   "codemirror_mode": {
    "name": "ipython",
    "version": 3
   },
   "file_extension": ".py",
   "mimetype": "text/x-python",
   "name": "python",
   "nbconvert_exporter": "python",
   "pygments_lexer": "ipython3",
   "version": "3.9.7"
  }
 },
 "nbformat": 4,
 "nbformat_minor": 5
}
